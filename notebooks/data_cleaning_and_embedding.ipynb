{
 "cells": [
  {
   "cell_type": "code",
   "execution_count": 1,
   "metadata": {},
   "outputs": [],
   "source": [
    "import os\n",
    "import re"
   ]
  },
  {
   "attachments": {},
   "cell_type": "markdown",
   "metadata": {},
   "source": [
    "## Data Cleaning"
   ]
  },
  {
   "cell_type": "code",
   "execution_count": 2,
   "metadata": {},
   "outputs": [],
   "source": [
    "NO_TIMESTAMP_FILES = ['episode1', 'episode2', 'episode3']"
   ]
  },
  {
   "cell_type": "code",
   "execution_count": 3,
   "metadata": {},
   "outputs": [],
   "source": [
    "# Read a file from the data/transcripts directory which is one level up from the current directory and return a list of lines\n",
    "def read_file_lines(filename):\n",
    "    with open(os.path.join('..', 'data', 'transcripts', filename), 'r') as f:\n",
    "        return f.readlines()"
   ]
  },
  {
   "cell_type": "code",
   "execution_count": 4,
   "metadata": {},
   "outputs": [],
   "source": [
    "def extract_episode_info(lines):\n",
    "    # Extract the episode number and title from the 13th line of the transcript\n",
    "    lines[12] = lines[12].replace(' – ', ' - ')\n",
    "    episode_info = lines[12].split(' - ')\n",
    "    episode_number = episode_info[0].split(' | ')[-1].strip()\n",
    "    episode_title = episode_info[1].strip()\n",
    "\n",
    "    return episode_number, episode_title"
   ]
  },
  {
   "cell_type": "code",
   "execution_count": 5,
   "metadata": {},
   "outputs": [],
   "source": [
    "def extract_line_metadata(line):\n",
    "    # Extract the speaker and timestamp from the line\n",
    "    # Check if the timestamp is present like [00:00:00]\n",
    "    if not re.search(r'\\[\\d{2}:\\d{2}:\\d{2}\\]', line):\n",
    "        line_metadata = line.split(':')\n",
    "        speaker = line_metadata[0].strip()\n",
    "        timestamp = None\n",
    "        text = line_metadata[1].strip()\n",
    "    else:\n",
    "        # Check if line starts with a timestamp like [timestamp] speaker text\n",
    "        if re.search(r'^\\[\\d{2}:\\d{2}:\\d{2}\\]', line):\n",
    "            line_metadata = line.split(']')\n",
    "            timestamp = line_metadata[0].strip().replace('[', '')\n",
    "            # First word of the line is the speaker\n",
    "            speaker = line_metadata[1].strip().split(' ')[0]\n",
    "            # Rest of the line is the text\n",
    "            text = ' '.join(line_metadata[1].strip().split(' ')[1:])\n",
    "        else:\n",
    "            # Example line: speaker [timestamp] text\n",
    "            line_metadata = line.split('[')\n",
    "            speaker = line_metadata[0].strip()\n",
    "            timestamp = line_metadata[1].split(']')[0].strip()\n",
    "            text = line_metadata[1].split(']')[1].strip()\n",
    "\n",
    "    return speaker, timestamp, text"
   ]
  },
  {
   "cell_type": "code",
   "execution_count": 6,
   "metadata": {},
   "outputs": [],
   "source": [
    "def clean_and_extract_data(filename):\n",
    "    lines = read_file_lines(filename)\n",
    "\n",
    "    # Extract the episode number and title \n",
    "    episode_number, episode_title = extract_episode_info(lines)\n",
    "\n",
    "    # Remove the first 12 lines which are not part of the transcript\n",
    "    lines = lines[12:]\n",
    "\n",
    "    # Remove the new line character from each line and remove empty lines\n",
    "    lines = [line.strip() for line in lines if line.strip()]\n",
    "\n",
    "    # Remove lines that are \"COMMERCIAL BREAK\" or \"BREAK\" or \"-\"\n",
    "    lines = [line for line in lines if line != 'COMMERCIAL BREAK' and line != 'BREAK' and line != '-']\n",
    "    \n",
    "    # Find the index of the first line that contains the phrase \"We're the Office Ladies\" as a substring\n",
    "    for i, line in enumerate(lines):\n",
    "        if \"we're the office ladies\" in line.replace('\"', '').lower():\n",
    "            index = i\n",
    "            break\n",
    "\n",
    "    # Remove all lines before and including the line that contains the phrase \"We're the Office Ladies\"\n",
    "    lines = lines[index + 1:]\n",
    "\n",
    "    # Find the index of the last line that contains the phrase \"Thank you for listening to Office Ladies\" as a substring and remove all lines after that line (including the line that contains the phrase)\n",
    "    for i, line in enumerate(lines):\n",
    "        if \"thank you for listening to office ladies\" in line.replace('\"', '').lower():\n",
    "            index = i\n",
    "\n",
    "    lines = lines[:index]\n",
    "\n",
    "    # Extract the speaker, timestamp, and text from each line and store the data in a list of disctionaries\n",
    "    lines_data = []\n",
    "    for line in lines:\n",
    "        speaker, timestamp, text = extract_line_metadata(line)\n",
    "        lines_data.append({\n",
    "            'speaker': speaker,\n",
    "            'timestamp': timestamp,\n",
    "            'text': text\n",
    "        })\n",
    "\n",
    "    # Create a dictionary with the episode number, title, and lines data\n",
    "    episode_data = {\n",
    "        'episode_number': episode_number,\n",
    "        'episode_title': episode_title,\n",
    "        'lines': lines_data\n",
    "    }\n",
    "\n",
    "    return episode_data"
   ]
  },
  {
   "cell_type": "code",
   "execution_count": 7,
   "metadata": {},
   "outputs": [
    {
     "name": "stdout",
     "output_type": "stream",
     "text": [
      "episode1\n",
      "episode2\n",
      "episode3\n",
      "episode4\n",
      "episode5\n",
      "episode6\n",
      "episode7\n",
      "episode8\n",
      "episode9\n",
      "episode10\n",
      "episode11\n",
      "episode12\n",
      "episode13\n",
      "episode14\n",
      "episode15\n",
      "episode16\n",
      "episode17\n",
      "episode18\n",
      "episode19\n",
      "episode20\n",
      "episode21\n",
      "episode22\n",
      "episode23\n",
      "episode24\n",
      "episode25\n",
      "episode26\n",
      "episode27\n",
      "episode28\n",
      "episode29\n",
      "episode30\n",
      "episode31\n",
      "episode32\n",
      "episode33\n",
      "episode34\n",
      "episode35\n",
      "episode36\n",
      "episode37\n",
      "episode38\n",
      "episode39\n",
      "episode40\n",
      "episode41\n",
      "episode42\n",
      "episode43\n",
      "episode44\n",
      "episode45\n",
      "episode46\n",
      "episode47\n",
      "episode48\n",
      "episode49\n",
      "episode50\n",
      "episode51\n",
      "episode52\n",
      "episode53\n",
      "episode54\n",
      "episode55\n",
      "episode56\n",
      "episode57\n",
      "episode58\n",
      "episode59\n",
      "episode60\n",
      "episode61\n",
      "episode62\n",
      "episode63\n",
      "episode64\n",
      "episode65\n",
      "episode66\n",
      "episode67\n",
      "episode68\n",
      "episode69\n",
      "episode70\n",
      "episode71\n",
      "episode72\n",
      "episode73\n",
      "episode74\n",
      "episode75\n",
      "episode76\n",
      "episode77\n",
      "episode78\n",
      "episode79\n",
      "episode80\n",
      "episode81\n",
      "episode82\n",
      "episode83\n",
      "episode84\n",
      "episode85\n",
      "episode86\n",
      "episode87\n",
      "episode88\n",
      "episode89\n",
      "episode90\n",
      "episode91\n",
      "episode92\n",
      "episode93\n",
      "episode94\n",
      "episode95\n",
      "episode96\n",
      "episode97\n",
      "episode98\n",
      "episode99\n",
      "episode100\n",
      "episode101\n",
      "episode102\n",
      "episode103\n",
      "episode104\n",
      "episode105\n",
      "episode106\n",
      "episode107\n",
      "episode108\n",
      "episode109\n",
      "episode110\n",
      "episode111\n",
      "episode112\n",
      "episode113\n",
      "episode114\n",
      "episode115\n",
      "episode116\n",
      "episode117\n",
      "episode118\n",
      "episode119\n",
      "episode120\n",
      "episode121\n",
      "episode122\n",
      "episode123\n",
      "episode124\n",
      "episode125\n",
      "episode126\n",
      "episode127\n",
      "episode128\n",
      "episode129\n",
      "episode130\n",
      "episode131\n",
      "episode132\n",
      "episode133\n",
      "episode134\n",
      "episode135\n",
      "episode136\n",
      "episode137\n",
      "episode138\n",
      "episode139\n",
      "episode140\n",
      "episode141\n",
      "episode142\n",
      "episode143\n",
      "episode144\n",
      "episode145\n",
      "episode146\n",
      "episode147\n",
      "episode148\n",
      "episode149\n",
      "episode150\n",
      "episode151\n",
      "episode152\n",
      "episode153\n",
      "episode154\n",
      "episode155\n",
      "episode156\n",
      "episode157\n",
      "episode158\n",
      "episode159\n",
      "episode160\n"
     ]
    }
   ],
   "source": [
    "all_episodes_data = []\n",
    "for i in range(1, 161):\n",
    "    filename = f'episode{i}'\n",
    "    print(filename)\n",
    "    episode_data = clean_and_extract_data(filename)\n",
    "    all_episodes_data.append(episode_data)"
   ]
  },
  {
   "cell_type": "code",
   "execution_count": 8,
   "metadata": {},
   "outputs": [
    {
     "data": {
      "text/plain": [
       "{'episode_number': 'EPISODE 66',\n",
       " 'episode_title': 'BRANCH WARS',\n",
       " 'lines': [{'speaker': 'Angela',\n",
       "   'timestamp': '00:00:30',\n",
       "   'text': 'Fakey Stache Day on Office Ladies.'},\n",
       "  {'speaker': 'Jenna',\n",
       "   'timestamp': '00:00:33',\n",
       "   'text': \"It's Season four, Episode 10, written by Mindy Kaling and directed by Joss Whedon. There's so much good fake stache. Stache is lingo for Mustache.\"},\n",
       "  {'speaker': 'Angela',\n",
       "   'timestamp': '00:00:46',\n",
       "   'text': 'Oh Jenna, thank you. Thank you for breaking that down for us.'},\n",
       "  {'speaker': 'Jenna',\n",
       "   'timestamp': '00:00:48',\n",
       "   'text': \"I wanted to break it down. I break down everything on Office Ladies. It's what we do. I'm going to hit you with a summary. Guys, Karen is back. She is now the regional manager of the Utica branch and she offers Stanley a higher paying job to leave Scranton. Ooh.\"},\n",
       "  {'speaker': 'Angela', 'timestamp': '00:01:06', 'text': 'Oof.'},\n",
       "  {'speaker': 'Jenna',\n",
       "   'timestamp': '00:01:07',\n",
       "   'text': \"Guess what Michael's reaction is to that?\"},\n",
       "  {'speaker': 'Angela', 'timestamp': '00:01:11', 'text': 'He flips out?'},\n",
       "  {'speaker': 'Jenna',\n",
       "   'timestamp': '00:01:12',\n",
       "   'text': \"Yes, very much so. Meanwhile, Pam, Oscar, and Toby have created a Finer Things Club. Ooh it's Finer Things Club.\"},\n",
       "  {'speaker': 'Angela', 'timestamp': '00:01:22', 'text': \"You're so excited.\"},\n",
       "  {'speaker': 'Jenna',\n",
       "   'timestamp': '00:01:23',\n",
       "   'text': \"Andy tries to join, but he's rejected. And Michael and Dwight trick Jim into going on a sales call, but they actually take him to Utica to prank Karen as a revenge for trying to poach Stanley. That's a lot.\"},\n",
       "  {'speaker': 'Angela',\n",
       "   'timestamp': '00:01:37',\n",
       "   'text': \"It's a lot. This was a big episode for us. I mean, any time we traveled, you know, it was a big deal. This is something I have to say to you. I have to get this off my chest, Jenna. There's been a few times that you say I'm going to hit you with a summary.\"},\n",
       "  {'speaker': 'Jenna', 'timestamp': '00:01:51', 'text': 'OK?'},\n",
       "  {'speaker': 'Angela',\n",
       "   'timestamp': '00:01:52',\n",
       "   'text': \"And every time the only thing going through my brain is (singing) hit me with the summary. I'm gonna hit you with a summary.\"},\n",
       "  {'speaker': 'Jenna',\n",
       "   'timestamp': '00:01:58',\n",
       "   'text': 'What song are you singing?'},\n",
       "  {'speaker': 'Angela',\n",
       "   'timestamp': '00:02:02',\n",
       "   'text': \"I'm trying to sing Hit Me With Your Best Shot.\"},\n",
       "  {'speaker': 'Jenna',\n",
       "   'timestamp': '00:02:05',\n",
       "   'text': 'Oh, I thought you were singing, hit me with your summary. Did you hear that? That was Britney.'},\n",
       "  {'speaker': 'Angela',\n",
       "   'timestamp': '00:02:12',\n",
       "   'text': 'Oh, Hit Me, Baby One More Time?'},\n",
       "  {'speaker': 'Jenna', 'timestamp': '00:02:14', 'text': 'Yeah.'},\n",
       "  {'speaker': 'Angela', 'timestamp': '00:02:15', 'text': 'Oh baby baby...'},\n",
       "  {'speaker': 'Jenna', 'timestamp': '00:02:18', 'text': 'Yeah.'},\n",
       "  {'speaker': 'Angela',\n",
       "   'timestamp': '00:02:18',\n",
       "   'text': 'Well, anyway, I hear Joan Jett.'},\n",
       "  {'speaker': 'Jenna',\n",
       "   'timestamp': '00:02:22',\n",
       "   'text': \"Well, I'm glad you got that off your chest because God forbid you would have had to carry that through this whole podcast.\"},\n",
       "  {'speaker': 'Angela',\n",
       "   'timestamp': '00:02:27',\n",
       "   'text': 'You know what? It was weighing on me and I feel lighter.'},\n",
       "  {'speaker': 'Jenna',\n",
       "   'timestamp': '00:02:31',\n",
       "   'text': 'Good. Fast fact number one. Like I said earlier, this episode was written by Mindy Kaling. This was the seventh episode she had written and she was nominated for outstanding writing in a comedy series in the 2008 NAACP Image Awards for this episode.'},\n",
       "  {'speaker': 'Angela',\n",
       "   'timestamp': '00:02:50',\n",
       "   'text': 'Yay, Mindy. Applause.'},\n",
       "  {'speaker': 'Jenna',\n",
       "   'timestamp': '00:02:53',\n",
       "   'text': \"Yay Mindy. When I was looking at Mindy's award history...\"},\n",
       "  {'speaker': 'Angela', 'timestamp': '00:02:54', 'text': 'Mm hmm.'},\n",
       "  {'speaker': 'Jenna', 'timestamp': '00:02:56', 'text': 'I found this.'},\n",
       "  {'speaker': 'Angela', 'timestamp': '00:02:57', 'text': 'What?'},\n",
       "  {'speaker': 'Jenna',\n",
       "   'timestamp': '00:02:57',\n",
       "   'text': \"I mean, Mindy has been nominated up and down. Emmys and things, and she's winning things. She's celebrated.\"},\n",
       "  {'speaker': 'Angela',\n",
       "   'timestamp': '00:03:04',\n",
       "   'text': 'Deservedly so. The lady is very talented.'},\n",
       "  {'speaker': 'Jenna',\n",
       "   'timestamp': '00:03:08',\n",
       "   'text': 'In 2013, Time magazine listed Mindy as one of the 100 most influential people in the world.'},\n",
       "  {'speaker': 'Angela', 'timestamp': '00:03:16', 'text': 'Dang, Mindy.'},\n",
       "  {'speaker': 'Jenna',\n",
       "   'timestamp': '00:03:18',\n",
       "   'text': 'The world. Mindy Kaling.'},\n",
       "  {'speaker': 'Angela', 'timestamp': '00:03:20', 'text': 'Dang.'},\n",
       "  {'speaker': 'Jenna',\n",
       "   'timestamp': '00:03:21',\n",
       "   'text': \"You guys have to understand, like Mindy was on The Office with us and we're all like, just getting our hair and makeup done. And she's in her twenties and we're just being girlfriends and now she is just a force, just a powerhouse. And we always knew that she was super smart and talented and just this is awesome. I love that all her dreams have come true.\"},\n",
       "  {'speaker': 'Angela',\n",
       "   'timestamp': '00:03:46',\n",
       "   'text': \"Yes. And she's a mom. And I know that was a big dream.\"},\n",
       "  {'speaker': 'Jenna', 'timestamp': '00:03:50', 'text': 'I know.'},\n",
       "  {'speaker': 'Angela',\n",
       "   'timestamp': '00:03:50',\n",
       "   'text': \"I'm just so happy for her.\"},\n",
       "  {'speaker': 'Jenna', 'timestamp': '00:03:52', 'text': 'Mindy, we love you.'},\n",
       "  {'speaker': 'Angela',\n",
       "   'timestamp': '00:03:53',\n",
       "   'text': \"We love you, Mindy. We're here for it. Mindy. We're here for it.\"},\n",
       "  {'speaker': 'Jenna',\n",
       "   'timestamp': '00:03:57',\n",
       "   'text': 'Yes, we will be your girl gang cheering you on. Super proud of you.'},\n",
       "  {'speaker': 'Angela', 'timestamp': '00:04:01', 'text': 'Super proud.'},\n",
       "  {'speaker': 'Jenna',\n",
       "   'timestamp': '00:04:02',\n",
       "   'text': 'All right. Fast fact number two.'},\n",
       "  {'speaker': 'Angela', 'timestamp': '00:04:04', 'text': 'OK.'},\n",
       "  {'speaker': 'Jenna',\n",
       "   'timestamp': '00:04:04',\n",
       "   'text': 'Fan question from Ryan, Anika and Vivien Fruitman. Where did you film the Utica office?'},\n",
       "  {'speaker': 'Angela',\n",
       "   'timestamp': '00:04:10',\n",
       "   'text': 'Oh, some Kent-o-pedia comin. I feel it.'},\n",
       "  {'speaker': 'Jenna',\n",
       "   'timestamp': '00:04:13',\n",
       "   'text': \"You know, it. It's a location breakdown. So Ange, you know, we've talked a lot about how oftentimes we would build a temporary set for another office like we built corporate over on our warehouse stages.\"},\n",
       "  {'speaker': 'Angela', 'timestamp': '00:04:25', 'text': 'Mm hmm.'},\n",
       "  {'speaker': 'Jenna',\n",
       "   'timestamp': '00:04:26',\n",
       "   'text': 'Well, Kent told me that the size of the Utica Dunder Mifflin branch was just way too big and way too costly. So they took it on location. They found a business park in Canoga Park. And this building had a very large, empty office suite. So our set decorators just went in and decorated it to be Dunder Mifflin Utica. And then they also filmed all the parking lot scenes in that same Canoga Park business lot.'},\n",
       "  {'speaker': 'Angela',\n",
       "   'timestamp': '00:04:54',\n",
       "   'text': 'Yes, I remember we were on the road for this episode because it also meant I had a few days off in the middle of the week.'},\n",
       "  {'speaker': 'Jenna',\n",
       "   'timestamp': '00:05:00',\n",
       "   'text': \"I remember that. That was always very exciting when you would read a script and there were a bunch of characters who went somewhere and you didn't go, you were like, oh my gosh, doctor's appointments. What else can I do that I can normally never do?\"},\n",
       "  {'speaker': 'Angela', 'timestamp': '00:05:12', 'text': 'Exactly.'},\n",
       "  {'speaker': 'Jenna',\n",
       "   'timestamp': '00:05:14',\n",
       "   'text': \"Well we did not go to this business park for this episode, but I end up going back in Lecture Circuit because we go back to Utica. That was an episode that was also written by Mindy Kaling. It was crazy because the set decorators, you know, after they build a set somewhere, we have to leave, they have to break it all down. But before they do, they take detailed pictures, like just extensive photos of every nook, every desk, every placement of every item on the off chance that we have to go back and recreate it. And that's what they had to do with the Utica branch.\"},\n",
       "  {'speaker': 'Angela',\n",
       "   'timestamp': '00:05:46',\n",
       "   'text': \"Yeah, it's pretty fascinating. They have these binders, the different departments, and hair and makeup do this as well so they, you know, if there were people that were guest actors in the Utica branch, they match their looks. But also our set designers would do this. And I looked through one of these binders one time, Jenna, and it is so thorough. I was so impressed.\"},\n",
       "  {'speaker': 'Jenna', 'timestamp': '00:06:06', 'text': 'Yeah.'},\n",
       "  {'speaker': 'Angela',\n",
       "   'timestamp': '00:06:06',\n",
       "   'text': 'Just photo after photo after photo.'},\n",
       "  {'speaker': 'Jenna',\n",
       "   'timestamp': '00:06:10',\n",
       "   'text': \"And they take all the stuff and they store it in that big warehouse that we've talked about and they label it all. It's really crazy.\"},\n",
       "  {'speaker': 'Angela',\n",
       "   'timestamp': '00:06:17',\n",
       "   'text': 'It was very organized and I liked it.'},\n",
       "  {'speaker': 'Jenna',\n",
       "   'timestamp': '00:06:20',\n",
       "   'text': 'I liked it too. You know, I love good organization.'},\n",
       "  {'speaker': 'Angela',\n",
       "   'timestamp': '00:06:22',\n",
       "   'text': 'I know. I know you do, lady.'},\n",
       "  {'speaker': 'Jenna',\n",
       "   'timestamp': '00:06:22',\n",
       "   'text': 'And I know you liked it, Angela, because it involved a lot of bins.'},\n",
       "  {'speaker': 'Angela',\n",
       "   'timestamp': '00:06:26',\n",
       "   'text': \"Bins and I love photos. I will look through any photo album. This is a little Kinsey tidbit about myself. I love looking at pictures and I don't need to know the people in them. I remember one time when we were getting married, we were looking at wedding photographers and they would send us their other albums so we could see their style.\"},\n",
       "  {'speaker': 'Jenna', 'timestamp': '00:06:45', 'text': 'Yeah.'},\n",
       "  {'speaker': 'Angela',\n",
       "   'timestamp': '00:06:45',\n",
       "   'text': \"Fascinating. I particularly love photo albums of people's weddings, total strangers. I love it.\"},\n",
       "  {'speaker': 'Jenna',\n",
       "   'timestamp': '00:06:52',\n",
       "   'text': 'Well, I have some good follows for you on Instagram.'},\n",
       "  {'speaker': 'Angela',\n",
       "   'timestamp': '00:06:55',\n",
       "   'text': 'Oh yeah. Of just random photo albums?'},\n",
       "  {'speaker': 'Jenna',\n",
       "   'timestamp': '00:06:58',\n",
       "   'text': \"No, it's of wedding photos. I also, by the way, love looking at wedding photos. People are so happy on their wedding day. It's so joyous.\"},\n",
       "  {'speaker': 'Angela',\n",
       "   'timestamp': '00:07:06',\n",
       "   'text': \"It's joyous Jenna. But then there's also a story. Like every wedding has, like, you know, the drunk uncle. Or the aunt who's alone on the dance floor. It's so good.\"},\n",
       "  {'speaker': 'Jenna',\n",
       "   'timestamp': '00:07:17',\n",
       "   'text': \"And then the way they decorate their table, you know, you'll see, oh, look, they've got a pair of bicycle's on top of their wedding cake. They must love cycling.\"},\n",
       "  {'speaker': 'Angela',\n",
       "   'timestamp': '00:07:26',\n",
       "   'text': \"Yes, they're the bicycle couple.\"},\n",
       "  {'speaker': 'Jenna', 'timestamp': '00:07:28', 'text': 'Yeah.'},\n",
       "  {'speaker': 'Angela',\n",
       "   'timestamp': '00:07:29',\n",
       "   'text': 'OK, well, hit me up with some Instagrams.'},\n",
       "  {'speaker': 'Jenna',\n",
       "   'timestamp': '00:07:31',\n",
       "   'text': \"I will. You know what, guys, if you are interested, we'll link to it on our stories. I'll link my favorite bridal Instagram follows on Office Ladies Pod. Guys, that was quite a tangent and also an example of what a phone call might be between Angela and I. Next up is fast fact number three. Since we're talking about the Utica branch, I actually thought this might be a good time to break down the various branches of Dunder Mifflin because lady I realize we've never done this.\"},\n",
       "  {'speaker': 'Angela',\n",
       "   'timestamp': '00:08:00',\n",
       "   'text': 'Oh, we need to do it. And oh, OK. I have something to piggyback off this, but you go first.'},\n",
       "  {'speaker': 'Jenna',\n",
       "   'timestamp': '00:08:06',\n",
       "   'text': 'Oh, OK. Well, we all know that the headquarters of Dunder Mifflin is in New York.'},\n",
       "  {'speaker': 'Angela', 'timestamp': '00:08:11', 'text': 'Yes.'},\n",
       "  {'speaker': 'Jenna',\n",
       "   'timestamp': '00:08:12',\n",
       "   'text': 'But there are currently six active regional branches located across the United States. They are in Akron, Ohio, Nashua, New Hampshire, Rochester, Syracuse and Utica, which are all in New York State and Scranton, Pennsylvania. Now, the company used to be much larger. You might remember, in the Boys and Girls episode, Jan mentioned there used to be a branch in Pittsfield, but it was closed because they tried to unionize. And then in future episodes, we will learn about branches in Camden and Yonkers, which got closed due to the economy, and Buffalo, which was also closed.'},\n",
       "  {'speaker': 'Angela',\n",
       "   'timestamp': '00:08:49',\n",
       "   'text': \"Buffalo, which was the home of Denise Stims, Angela's party planning committee rival.\"},\n",
       "  {'speaker': 'Jenna', 'timestamp': '00:08:55', 'text': 'Closes down.'},\n",
       "  {'speaker': 'Angela', 'timestamp': '00:08:57', 'text': 'Bye bye, Denise.'},\n",
       "  {'speaker': 'Jenna',\n",
       "   'timestamp': '00:08:59',\n",
       "   'text': 'Oh, Angela Martin is so happy. And in our final season, we learned that there was also a branch in Binghamton. So there you go.'},\n",
       "  {'speaker': 'Angela',\n",
       "   'timestamp': '00:09:09',\n",
       "   'text': \"There's a great deleted scene. It's a talking head where Michael goes through the other branches and sort of like gives you a little insight on how he remembers them. It's really funny. And Sam, I actually I would love for you to play it right now.\"},\n",
       "  {'speaker': 'Jenna', 'timestamp': '00:09:23', 'text': 'That is amazing.'},\n",
       "  {'speaker': 'Angela',\n",
       "   'timestamp': '00:09:25',\n",
       "   'text': \"Yeah. Yeah. He is sort of talking about the fact that, like, why would Stanley want to leave here? We're the cool guys. And then he lists all the other branches and it just cracks me up. I love that Nashua no parking. That made me laugh.\"},\n",
       "  {'speaker': 'Jenna',\n",
       "   'timestamp': '00:09:38',\n",
       "   'text': \"I loved no parking too, that was my favorite. Lady, that's all I got.\"},\n",
       "  {'speaker': 'Angela',\n",
       "   'timestamp': '00:09:44',\n",
       "   'text': \"Well those are great fast facts. I can't wait to get in this episode. I have some mini dive on the Finer Things Club.\"},\n",
       "  {'speaker': 'Jenna',\n",
       "   'timestamp': '00:09:52',\n",
       "   'text': 'Oh, I love that you mini dived on The Finer Things Club. We will be back right after a break.'},\n",
       "  {'speaker': 'Angela',\n",
       "   'timestamp': '00:10:04',\n",
       "   'text': \"All right. Well, we are back and there is an establishing shot of the Utica branch office. We see that it is in the Mohawk Valley Center. It's the 2400 address. But at twenty four eighty, there's Wendell Florists of Utica.\"},\n",
       "  {'speaker': 'Jenna', 'timestamp': '00:10:20', 'text': 'Oh.'},\n",
       "  {'speaker': 'Angela', 'timestamp': '00:10:21', 'text': 'Yeah.'},\n",
       "  {'speaker': 'Jenna',\n",
       "   'timestamp': '00:10:21',\n",
       "   'text': 'If you need flowers...'},\n",
       "  {'speaker': 'Angela',\n",
       "   'timestamp': '00:10:22',\n",
       "   'text': 'We share an office with Bob Vance. They have the florist shop next door.'},\n",
       "  {'speaker': 'Jenna', 'timestamp': '00:10:28', 'text': \"That's nice.\"},\n",
       "  {'speaker': 'Angela',\n",
       "   'timestamp': '00:10:29',\n",
       "   'text': 'That is nice. And then at point zero six seconds, everybody, there is a plant at reception.'},\n",
       "  {'speaker': 'Jenna',\n",
       "   'timestamp': '00:10:38',\n",
       "   'text': 'Utica plant at reception alert.'},\n",
       "  {'speaker': 'Angela',\n",
       "   'timestamp': '00:10:42',\n",
       "   'text': \"Green leafy plant. It's over Rolando's shoulder, but sitting right in front of him for everyone to enjoy is a big box of donuts.\"},\n",
       "  {'speaker': 'Jenna', 'timestamp': '00:10:52', 'text': 'Yeah.'},\n",
       "  {'speaker': 'Angela', 'timestamp': '00:10:52', 'text': 'What the heck.'},\n",
       "  {'speaker': 'Jenna',\n",
       "   'timestamp': '00:10:54',\n",
       "   'text': 'Pam has a candy dish on her desk. Rolando has some donuts and we got a lot of mail about these donuts, Angela.'},\n",
       "  {'speaker': 'Angela', 'timestamp': '00:11:00', 'text': 'Did we?'},\n",
       "  {'speaker': 'Jenna',\n",
       "   'timestamp': '00:11:01',\n",
       "   'text': \"Yes, we did. Clay LeFrenze, Kaley Gassner, Zach Mutolo, Amber Lee, Danny Hamilton and many others said those donuts are from Holland Farms, which is an awesome regional bakery in the Utica area. They're famous for their jelly balls and half-moon or black and white cookies. Everyone was very impressed. They said we just loved whoever did research for this episode, that they would dive this deep into Utica and have this amazing prop.\"},\n",
       "  {'speaker': 'Angela', 'timestamp': '00:11:35', 'text': 'That is Phil Shea.'},\n",
       "  {'speaker': 'Jenna',\n",
       "   'timestamp': '00:11:36',\n",
       "   'text': 'Phil Shea, regional prop alert.'},\n",
       "  {'speaker': 'Angela',\n",
       "   'timestamp': '00:11:41',\n",
       "   'text': 'I want a jelly ball.'},\n",
       "  {'speaker': 'Jenna',\n",
       "   'timestamp': '00:11:43',\n",
       "   'text': \"That's what she said.\"},\n",
       "  {'speaker': 'Angela',\n",
       "   'timestamp': '00:11:46',\n",
       "   'text': \"Maybe she doesn't want a jelly ball. So far, Rolando's front reception is kind of kickin Pam's ass.\"},\n",
       "  {'speaker': 'Jenna',\n",
       "   'timestamp': '00:11:54',\n",
       "   'text': \"You know what? I've seen donuts in our breakroom.\"},\n",
       "  {'speaker': 'Angela',\n",
       "   'timestamp': '00:11:57',\n",
       "   'text': \"I'm talking about front reception right now.\"},\n",
       "  {'speaker': 'Jenna', 'timestamp': '00:12:00', 'text': 'Wow. OK.'},\n",
       "  {'speaker': 'Angela',\n",
       "   'timestamp': '00:12:03',\n",
       "   'text': \"I'm talking a tiny, tiny container of jelly beans versus a whole amazing box of donuts.\"},\n",
       "  {'speaker': 'Jenna',\n",
       "   'timestamp': '00:12:10',\n",
       "   'text': \"We don't know that Rolando put those donuts there. Anyone could have brought those in.\"},\n",
       "  {'speaker': 'Angela', 'timestamp': '00:12:15', 'text': 'Yes, he did.'},\n",
       "  {'speaker': 'Jenna',\n",
       "   'timestamp': '00:12:16',\n",
       "   'text': 'Rolando was played by Adam Jamal Craig. You guys might recognize him because he went on to play Dominic on NCIS Los Angeles. I reached out to him to see if he remembered doing this episode and if he had any memories he could share. And he sent in this awesome audio clip. Sam, will you play the clip?'},\n",
       "  {'speaker': 'Adam Jamal Craig',\n",
       "   'timestamp': '00:12:37',\n",
       "   'text': \"Yes, I totally remember, you know, spending a little bit of time shooting that with you guys. And it was at the time, it was my big break because I you know, I had done a few costars and that was like that was a big deal. And I just remember when I met the cast, one of the striking things was just how tall everyone was, like, you know, just a just a generally a tall cast that doesn't really translate on screen. But I also remember how kind everyone was. Like, it was just it was a really warm set, you know, because a lot of people who don't work in show business don't realize that not every set is a warm set. But that set was a very warm set, like everyone was was really kind. But, man, it was a good time. And what's funny is, like, I've done things since then, not long after that, I was on a a series regular on a show. But still no one cared about that. They all were like, I heard you were on The Office. Like when I get recognized, ninety nine percent of the time it's from The Office, not anything else. And so it was definitely a privilege and a joy to be like a part of that production.\"},\n",
       "  {'speaker': 'Angela',\n",
       "   'timestamp': '00:13:38',\n",
       "   'text': 'Aw, that is so sweet.'},\n",
       "  {'speaker': 'Jenna',\n",
       "   'timestamp': '00:13:40',\n",
       "   'text': 'You know, we did have a tall cast.'},\n",
       "  {'speaker': 'Angela', 'timestamp': '00:13:43', 'text': 'We did.'},\n",
       "  {'speaker': 'Jenna',\n",
       "   'timestamp': '00:13:44',\n",
       "   'text': \"We've talked a little bit about it. All these guys were really tall.\"},\n",
       "  {'speaker': 'Angela',\n",
       "   'timestamp': '00:13:48',\n",
       "   'text': 'Yeah, we had a lot of tall fellas.'},\n",
       "  {'speaker': 'Jenna',\n",
       "   'timestamp': '00:13:50',\n",
       "   'text': 'We really did. Adam also told me that he had not watched the whole Office series until this last year.'},\n",
       "  {'speaker': 'Angela', 'timestamp': '00:13:58', 'text': 'Oh, yeah?'},\n",
       "  {'speaker': 'Jenna',\n",
       "   'timestamp': '00:13:59',\n",
       "   'text': \"And he was like, it is so good. And I said, I know, we're re watching it and I feel the same way.\"},\n",
       "  {'speaker': 'Angela', 'timestamp': '00:14:07', 'text': 'I know.'},\n",
       "  {'speaker': 'Jenna',\n",
       "   'timestamp': '00:14:08',\n",
       "   'text': \"It was so crazy. Well, guys, Adam has a couple of cool projects he's working on now. One is called the Zouk Line, and it's a show about this obscure dance you do with a partner called the Brazilian Zouk.\"},\n",
       "  {'speaker': 'Angela', 'timestamp': '00:14:20', 'text': 'Oh, my gosh.'},\n",
       "  {'speaker': 'Jenna',\n",
       "   'timestamp': '00:14:22',\n",
       "   'text': 'Yes. Angela, if you go to his Instagram, he has all of these amazing dance videos. He also has another show called The Grown Ups, which is a roundtable discussion about current events. But through the lens that everyone is trying to get along as they talk about current events. I was intrigued.'},\n",
       "  {'speaker': 'Angela', 'timestamp': '00:14:38', 'text': 'Yeah.'},\n",
       "  {'speaker': 'Jenna',\n",
       "   'timestamp': '00:14:39',\n",
       "   'text': 'You can find both projects on his Instagram @AdamJCraig. So check it out. And thank you, Adam.'},\n",
       "  {'speaker': 'Angela',\n",
       "   'timestamp': '00:14:45',\n",
       "   'text': \"Thank you, Adam. Well, now we're into Karen's office. I mean, she looks fantastic in this whole episode. I thought, Rashida, you looked gorgeous. And her office is so professional and it cuts back between Karen and Michael's offices. And I mean, come on, Michael was setting up a Ferris Bueller's Prank. His desk is covered with, like toys. Karen's desk looks like a badass boss lady.\"},\n",
       "  {'speaker': 'Jenna',\n",
       "   'timestamp': '00:15:10',\n",
       "   'text': \"Yes, an adult works in Karen's office.\"},\n",
       "  {'speaker': 'Angela',\n",
       "   'timestamp': '00:15:13',\n",
       "   'text': 'An adult workspace.'},\n",
       "  {'speaker': 'Jenna',\n",
       "   'timestamp': '00:15:15',\n",
       "   'text': \"It's true. Well we find out in this phone call that Karen is trying to hire someone from the Scranton branch.\"},\n",
       "  {'speaker': 'Angela',\n",
       "   'timestamp': '00:15:24',\n",
       "   'text': \"Yeah, she's like, hey, I'm glad we finally connected. We'd love to have you. And, who's she talking to?\"},\n",
       "  {'speaker': 'Jenna',\n",
       "   'timestamp': '00:15:30',\n",
       "   'text': \"Well, then we cut to Michael's office and like you said, he's got a dummy on his desk with this elaborate pulley system.\"},\n",
       "  {'speaker': 'Angela',\n",
       "   'timestamp': '00:15:38',\n",
       "   'text': 'Yeah, this whole pulley with the dummy hand and it hits the snoring sound. This is what Ferris did so his parents thought he was home when he went and played hooky.'},\n",
       "  {'speaker': 'Jenna', 'timestamp': '00:15:46', 'text': 'Yeah.'},\n",
       "  {'speaker': 'Angela',\n",
       "   'timestamp': '00:15:46',\n",
       "   'text': \"And Michael is so elated by this. Dwight's excited. Stanley walks in and they're like, oh, Stanley, yes. We're going to test this out on you. And Stanley just no nonsense is like, Karen offered me more money. I'm going to Utica. And he walks out.\"},\n",
       "  {'speaker': 'Jenna',\n",
       "   'timestamp': '00:16:00',\n",
       "   'text': 'I know. He also has that great line where he says, why is you being asleep at your desk better than not being here? We had a fan question from Eric Wilson. I was wondering if you actually had a pulley system or if someone off camera was moving the arm? No, it was a real pulley system.'},\n",
       "  {'speaker': 'Angela',\n",
       "   'timestamp': '00:16:21',\n",
       "   'text': 'They really built that.'},\n",
       "  {'speaker': 'Jenna',\n",
       "   'timestamp': '00:16:22',\n",
       "   'text': 'Yeah, it really worked. And it was really funny.'},\n",
       "  {'speaker': 'Angela',\n",
       "   'timestamp': '00:16:26',\n",
       "   'text': 'And when the hand goes up at the end when Stanley leaves, that really happened.'},\n",
       "  {'speaker': 'Jenna',\n",
       "   'timestamp': '00:16:31',\n",
       "   'text': \"That's my favorite part. It's such a good button to the scene.\"},\n",
       "  {'speaker': 'Angela', 'timestamp': '00:16:34', 'text': 'I know.'},\n",
       "  {'speaker': 'Jenna',\n",
       "   'timestamp': '00:16:35',\n",
       "   'text': \"Well, Michael goes out into the bullpen and he breaks the news that Stanley is leaving Scranton for Utica. He's been offered more money and everybody applauds. Everyone's like, congratulations, Stanley. And Michael's like, no, no.\"},\n",
       "  {'speaker': 'Angela',\n",
       "   'timestamp': '00:16:49',\n",
       "   'text': \"Yeah, Michael's totally upset. Well, at two minutes, twelve seconds, you'll see how they got all of us in the shot. If you look over, the camera whips over to accounting. And we did that thing where we all kind of come out from our desks. And at two minutes, twelve seconds, you guys can see my insane outfit, which is like a very floofy blouse with the vest, with the cat buttons. And right behind me is the baby jazz poster.\"},\n",
       "  {'speaker': 'Jenna', 'timestamp': '00:17:14', 'text': \"It's back up?\"},\n",
       "  {'speaker': 'Angela', 'timestamp': '00:17:15', 'text': \"It's back up.\"},\n",
       "  {'speaker': 'Jenna',\n",
       "   'timestamp': '00:17:17',\n",
       "   'text': 'Ooh, is there a deleted scene that explains this?'},\n",
       "  {'speaker': 'Angela',\n",
       "   'timestamp': '00:17:20',\n",
       "   'text': 'No. Two minutes, twelve seconds. The baby poster is there.'},\n",
       "  {'speaker': 'Jenna', 'timestamp': '00:17:24', 'text': 'Jazz is back.'},\n",
       "  {'speaker': 'Angela',\n",
       "   'timestamp': '00:17:26',\n",
       "   'text': \"Jazz is back. And I want the folks that love the background to also catch this moment. Two minutes, 17 seconds. When Michael announces that Stanley's leaving, Phyllis' face, she looks at him. It's so honest. And I'm telling you, in my opinion, Phyllis didn't know. You would think Phyllis and Stanley would have chatted about this. But the way Phyllis chose to play it was like, Stanley!\"},\n",
       "  {'speaker': 'Jenna', 'timestamp': '00:17:50', 'text': 'Yes. Betrayed.'},\n",
       "  {'speaker': 'Angela',\n",
       "   'timestamp': '00:17:52',\n",
       "   'text': 'Well, just more like in awe, like look at you go.'},\n",
       "  {'speaker': 'Jenna',\n",
       "   'timestamp': '00:17:55',\n",
       "   'text': 'Oh, I got to go back and look at that.'},\n",
       "  {'speaker': 'Angela',\n",
       "   'timestamp': '00:17:59',\n",
       "   'text': 'Ooh, now we get into the Finer Things Club. Oh, my God.'},\n",
       "  {'speaker': 'Jenna',\n",
       "   'timestamp': '00:18:02',\n",
       "   'text': 'I love how you are so excited about it.'},\n",
       "  {'speaker': 'Angela',\n",
       "   'timestamp': '00:18:05',\n",
       "   'text': \"But did you hear that this was my struggle? You guys, there's a series of talking heads that were deleted where everyone like in the office is reacting to the Finer Things Club. And like Meredith is annoyed. Angela is annoyed. I could not say and I still can't. Finers things. Finer Things Club.\"},\n",
       "  {'speaker': 'Jenna',\n",
       "   'timestamp': '00:18:25',\n",
       "   'text': 'You keep wanting to make it plural. You say finers. Finers things club.'},\n",
       "  {'speaker': 'Angela',\n",
       "   'timestamp': '00:18:31',\n",
       "   'text': \"I think this is a southern thing. My mom does this too. We make things plural when they're not meant to be and then we make things singular when they're not meant to be. Like my mom always says, have you seen Office? My daughter's on Office.\"},\n",
       "  {'speaker': 'Jenna',\n",
       "   'timestamp': '00:18:43',\n",
       "   'text': 'Instead of The Office?'},\n",
       "  {'speaker': 'Angela',\n",
       "   'timestamp': '00:18:44',\n",
       "   'text': \"Yeah, and then I say Finers Things club. Anyway, I'm going to put it in our stories because I found it. I could not say finers things, finer, Finer Things Club, dang it. And also, you learn that Angela Martin has been squashing other clubs and she's really annoyed because The Finer Things Club was not sanctioned by the party planning committee.\"},\n",
       "  {'speaker': 'Jenna',\n",
       "   'timestamp': '00:19:08',\n",
       "   'text': 'Wow. You have to get your club sanctioned?'},\n",
       "  {'speaker': 'Angela',\n",
       "   'timestamp': '00:19:11',\n",
       "   'text': \"Apparently you have to get them sanctioned by the party planning committee. And she has squashed other renegade groups. Meredith is so mad that she's not asked to be in the Finer Things Club. She has her Big Gulp from 7-Eleven that I'm sure is full of adult beverage, throws it on the ground.\"},\n",
       "  {'speaker': 'Jenna', 'timestamp': '00:19:28', 'text': 'Really.'},\n",
       "  {'speaker': 'Angela',\n",
       "   'timestamp': '00:19:29',\n",
       "   'text': \"People are hot and bothered that they haven't been invited.\"},\n",
       "  {'speaker': 'Jenna',\n",
       "   'timestamp': '00:19:32',\n",
       "   'text': \"Well, here's who's in the club: Pam. Oscar. And Toby. And here's what they do in The Finer Things Club. They celebrate books, art and culture, but there is no paper, no plastic and no work talk allowed. Pam says in her talking head, it's very exclusive.\"},\n",
       "  {'speaker': 'Angela',\n",
       "   'timestamp': '00:19:51',\n",
       "   'text': \"I also love, Jenna, that we learn that Oscar does not care for Jim's comedy, doesn't care for his bits because he doesn't want Jim in the club  because Jim does comedy bits. That really made me laugh. This is the thing I love about our show. There is an assumed history. We don't go into it, but just know that Oscar has had it with Jim's little bits that he does.\"},\n",
       "  {'speaker': 'Jenna',\n",
       "   'timestamp': '00:20:12',\n",
       "   'text': 'Yeah. I love everything about the Finer Things Club. I was in a book club and we would have themed dinners based on the books, very similar to what we see the club doing.'},\n",
       "  {'speaker': 'Angela',\n",
       "   'timestamp': '00:20:22',\n",
       "   'text': 'Oh my gosh. Amazing.'},\n",
       "  {'speaker': 'Jenna',\n",
       "   'timestamp': '00:20:24',\n",
       "   'text': \"And by the way, we had a fan question from Jennifer Goode. She said, Can you talk about how you film a montage like the one with the Finer Things Club? Do you film it all at once and just change your clothes in between to make it look like different days? How does that work? Well, yes, Jennifer, that's exactly what we did. We took a whole morning and we would dress up in our little outfit and they would set up the break room for one bit and then we would film it and we'd go back to our trailers and while we changed clothes, they would change the set. And we just did that until we had all of the different montage pieces.\"},\n",
       "  {'speaker': 'Angela',\n",
       "   'timestamp': '00:20:57',\n",
       "   'text': \"Yes. And the rest of us got a late start that day. We had late couple times. Well, Jenna, here's the Finer Things Club reading list and a little bit about their art and music selection. They are currently reading A Room with a View, which is a novel by E.M. Forster. In flashbacks, we see them reading The House of Spirits, also known by its original title as La Casa de los Espiritos. It's by Isabel Allende. Then they are reading Memoirs of a Geisha by Arthur Golden. Jenna, I did a little bit of a deep dive of the painting they're analyzing at four minutes and four seconds.\"},\n",
       "  {'speaker': 'Jenna', 'timestamp': '00:21:33', 'text': 'Oh, what is it?'},\n",
       "  {'speaker': 'Angela',\n",
       "   'timestamp': '00:21:34',\n",
       "   'text': \"It's also one of my favorite screen grabs of you I have ever taken.\"},\n",
       "  {'speaker': 'Jenna', 'timestamp': '00:21:38', 'text': 'OK.'},\n",
       "  {'speaker': 'Angela',\n",
       "   'timestamp': '00:21:39',\n",
       "   'text': 'I might use it as my contact photo for you.'},\n",
       "  {'speaker': 'Jenna', 'timestamp': '00:21:42', 'text': 'Oh boy.'},\n",
       "  {'speaker': 'Angela',\n",
       "   'timestamp': '00:21:43',\n",
       "   'text': \"Oscar is pointing at this painting. There's a debate, you're wearing berets, you're eating crepes and you are throwing your hand in the air. It's just wonderful. OK, so I saw on a few sites that people were like, does anyone have any information about the painting at The Finer Things Club? I'm going to tell you. This painting is called Monet Painting in his Studio Boat 1874 by Edouard Manet.\"},\n",
       "  {'speaker': 'Jenna',\n",
       "   'timestamp': '00:22:08',\n",
       "   'text': \"It's a Manet of Monet.\"},\n",
       "  {'speaker': 'Angela',\n",
       "   'timestamp': '00:22:10',\n",
       "   'text': 'Manet painted Monet. So Claude Monet and Edouard Manet were friends. They were artist friends. And Claude Monet had this boat that he would go out in and he would paint. And Manet painted his friend in his boat painting a picture. And I have seen it online, mislabeled. For example, at Wayfair they sell a print of this. They have it titled Monet Painting in his studio by Claude Monet. So I wrote Wayfair. I wrote them. So.'},\n",
       "  {'speaker': 'Jenna', 'timestamp': '00:22:41', 'text': 'You wrote them?'},\n",
       "  {'speaker': 'Angela',\n",
       "   'timestamp': '00:22:42',\n",
       "   'text': 'I did. I went into their comments and question section and I said, you have this mislabeled. This is Monet Painting in his Studio Boat by Edouard Manet.'},\n",
       "  {'speaker': 'Jenna',\n",
       "   'timestamp': '00:22:52',\n",
       "   'text': 'I look forward to seeing if that gets changed.'},\n",
       "  {'speaker': 'Angela',\n",
       "   'timestamp': '00:22:54',\n",
       "   'text': 'I hope it does. But you can go to www.manet.org to learn more about Edouard Manet.'},\n",
       "  {'speaker': 'Jenna',\n",
       "   'timestamp': '00:23:02',\n",
       "   'text': 'This is a fan question from Lauren Harris, Devani T., Maria H and Nicole P wanting to know if I have read any of the books that were featured in the different clips from The Finer Things Club. I have read none of them.'},\n",
       "  {'speaker': 'Angela', 'timestamp': '00:23:17', 'text': 'What?'},\n",
       "  {'speaker': 'Jenna', 'timestamp': '00:23:18', 'text': 'No.'},\n",
       "  {'speaker': 'Angela',\n",
       "   'timestamp': '00:23:19',\n",
       "   'text': \"Lady, I have read A Room With a View, Memoirs of a Geisha and Angela's Ashes.\"},\n",
       "  {'speaker': 'Jenna', 'timestamp': '00:23:25', 'text': 'Wow. How are they?'},\n",
       "  {'speaker': 'Angela',\n",
       "   'timestamp': '00:23:28',\n",
       "   'text': 'I should be in The Finer Things Club.'},\n",
       "  {'speaker': 'Jenna',\n",
       "   'timestamp': '00:23:30',\n",
       "   'text': 'Wow. I have to say, watching this episode, I thought this is a good reading list.'},\n",
       "  {'speaker': 'Angela', 'timestamp': '00:23:36', 'text': 'It is.'},\n",
       "  {'speaker': 'Jenna',\n",
       "   'timestamp': '00:23:37',\n",
       "   'text': 'This would make a good book club.'},\n",
       "  {'speaker': 'Angela',\n",
       "   'timestamp': '00:23:39',\n",
       "   'text': \"Yeah, the only one I haven't read is The House of the Spirits, but I want to because I read a little bit about what it's about and I think it's really interesting.\"},\n",
       "  {'speaker': 'Jenna',\n",
       "   'timestamp': '00:23:46',\n",
       "   'text': 'Should we read it together?'},\n",
       "  {'speaker': 'Angela',\n",
       "   'timestamp': '00:23:48',\n",
       "   'text': 'Oh, my gosh. Should we do a book club of the House of the Spirits?'},\n",
       "  {'speaker': 'Jenna',\n",
       "   'timestamp': '00:23:52',\n",
       "   'text': \"Well, I've really been reading a lot of nonfiction this past year, and I am on the lookout for a great couple of fiction books. So maybe this is where I should start.\"},\n",
       "  {'speaker': 'Angela', 'timestamp': '00:24:02', 'text': 'OK.'},\n",
       "  {'speaker': 'Jenna', 'timestamp': '00:24:03', 'text': \"I'm inspired.\"},\n",
       "  {'speaker': 'Angela',\n",
       "   'timestamp': '00:24:04',\n",
       "   'text': \"Well, maybe the House of the Spirits. Jenna, let's start a little book club.\"},\n",
       "  {'speaker': 'Jenna',\n",
       "   'timestamp': '00:24:09',\n",
       "   'text': \"Let's do it. Who wants to read it with us?\"},\n",
       "  {'speaker': 'Angela',\n",
       "   'timestamp': '00:24:12',\n",
       "   'text': 'Read it with us. Can we be called the Finers Things Club?'},\n",
       "  {'speaker': 'Jenna',\n",
       "   'timestamp': '00:24:16',\n",
       "   'text': 'Yes, ours is called The Finers Things Club in honor of Angela.'},\n",
       "  {'speaker': 'Angela',\n",
       "   'timestamp': '00:24:21',\n",
       "   'text': \"Because I won't ever get it right otherwise.\"},\n",
       "  {'speaker': 'Jenna', 'timestamp': '00:24:24', 'text': 'I like it.'},\n",
       "  {'speaker': 'Angela',\n",
       "   'timestamp': '00:24:25',\n",
       "   'text': 'Well, now Michael has called Karen. He starts the call with, Filipellers, how they hanging?'},\n",
       "  {'speaker': 'Jenna', 'timestamp': '00:24:32', 'text': 'Yeah.'},\n",
       "  {'speaker': 'Angela',\n",
       "   'timestamp': '00:24:32',\n",
       "   'text': \"Way to go, Michael. And he tells her, look, I'll give you Toby. You can't take Stanley, take Toby. And then he can't even get through it. He's trying to upsell Toby. He's like he's smart. He's like, oh, forget it, Toby is the worst.\"},\n",
       "  {'speaker': 'Jenna',\n",
       "   'timestamp': '00:24:46',\n",
       "   'text': \"And then he says, you know what? If you take Stanley, I'm going to take your best salesperson. She's like, Goodbye, Michael. And he's like, wait, before you go, can you just transfer me to your best salesperson?\"},\n",
       "  {'speaker': 'Angela',\n",
       "   'timestamp': '00:25:00',\n",
       "   'text': 'I know. And she hangs up on him.'},\n",
       "  {'speaker': 'Jenna',\n",
       "   'timestamp': '00:25:02',\n",
       "   'text': \"So Pam connects Michael with Utica's top salesperson and Michael pitches him a job in Scranton.\"},\n",
       "  {'speaker': 'Angela',\n",
       "   'timestamp': '00:25:08',\n",
       "   'text': 'Ben Nugent, top salesperson in Utica.'},\n",
       "  {'speaker': 'Jenna',\n",
       "   'timestamp': '00:25:12',\n",
       "   'text': 'We had a fan question about Ben Nugent, Angela from Amanda Massa, Jennifer Neal and Casey Kraft, who is the voice of Ben Nugent from Utica? Well, guys, it was our writer, Lester Lewis.'},\n",
       "  {'speaker': 'Angela',\n",
       "   'timestamp': '00:25:25',\n",
       "   'text': \"Oh. Oh, I didn't know that. I love hearing that.\"},\n",
       "  {'speaker': 'Jenna',\n",
       "   'timestamp': '00:25:29',\n",
       "   'text': \"Yeah. And Ben Nugent, the character, was named after Mindy Kaling's real life boyfriend at the time, writer Benjamin Nugent.\"},\n",
       "  {'speaker': 'Angela',\n",
       "   'timestamp': '00:25:39',\n",
       "   'text': \"I remember them dating. That didn't even register when I was watching this.\"},\n",
       "  {'speaker': 'Jenna', 'timestamp': '00:25:43', 'text': 'Yeah.'},\n",
       "  {'speaker': 'Angela',\n",
       "   'timestamp': '00:25:44',\n",
       "   'text': \"Oh, my gosh. Wow. That's some good little tidbits there, Jenna. Well, I love how Michael starts this call with him. He said, hey, do you like magic because I'm a genie in a bottle and I'm going to grant you three wishes to move to Scranton to have a great job and to be my best friend. Cuckoo pants.\"},\n",
       "  {'speaker': 'Jenna',\n",
       "   'timestamp': '00:26:04',\n",
       "   'text': 'I know. Could you imagine getting a call like that?'},\n",
       "  {'speaker': 'Angela',\n",
       "   'timestamp': '00:26:10',\n",
       "   'text': \"No. And of course, Ben just shuts him down. He's like, yeah, I heard you're the guy that hit a woman with a car. Like, he's just not into it. And this is when Michael has this talking head where he says Scranton isn't lame. It's cool. We're like the fun branch. And that's where that extended talking head would have come, where he breaks down all the branches.\"},\n",
       "  {'speaker': 'Jenna',\n",
       "   'timestamp': '00:26:29',\n",
       "   'text': 'Oh, amazing. Michael and Dwight Storm into the break room where the Finer Things Club is setting up. They have some Vivaldi playing in the background.'},\n",
       "  {'speaker': 'Angela',\n",
       "   'timestamp': '00:26:39',\n",
       "   'text': \"This scene is so funny. I don't know how you guys got through it, but you couldn't. I saw the bloopers. You guys were losing it.\"},\n",
       "  {'speaker': 'Jenna',\n",
       "   'timestamp': '00:26:46',\n",
       "   'text': \"Listen, every time Toby walks in and he's wearing his bow tie and Michael reacts to him, Paul could not get through that moment. He laughed every time Steve looked at him. It took us so long to get through that. It was so funny. You guys have to watch these bloopers.\"},\n",
       "  {'speaker': 'Angela',\n",
       "   'timestamp': '00:27:05',\n",
       "   'text': \"He's walking in with, like, stacked China teacups. And there is a time that Steve broke, which you guys know was rare, but Steve completely broke in one of the bloopers. Paul as Toby just says, bow tie.\"},\n",
       "  {'speaker': 'Jenna', 'timestamp': '00:27:19', 'text': 'It was so amazing.'},\n",
       "  {'speaker': 'Angela',\n",
       "   'timestamp': '00:27:21',\n",
       "   'text': \"It's so good. Well, anyway, the purpose of the scene was that Dwight and Michael full on lie to Jim. So Michael and Dwight have this whole ruse to get Jim to go to Utica with them. They tell them that this company has lost the Staples account and they're going to go and they're going to get it and Jim has to come with them. So off they go.\"},\n",
       "  {'speaker': 'Jenna', 'timestamp': '00:27:42', 'text': 'Yeah.'},\n",
       "  {'speaker': 'Angela', 'timestamp': '00:27:43', 'text': 'Yeah.'},\n",
       "  {'speaker': 'Jenna',\n",
       "   'timestamp': '00:27:44',\n",
       "   'text': \"So they're in the car. Jim notices, oh, no, wait, you missed the exit, and that's when Dwight and Michael are like, we have a surprise for you. Jim is immediately, immediately terrified.\"},\n",
       "  {'speaker': 'Angela',\n",
       "   'timestamp': '00:28:00',\n",
       "   'text': \"The look on Rainn's face in the back seat as Dwight, he could barely contain like how giddy he was that they roped Jim into this. And Michael's like, we're going on a panty raid to Utica.\"},\n",
       "  {'speaker': 'Jenna', 'timestamp': '00:28:12', 'text': 'My God.'},\n",
       "  {'speaker': 'Angela', 'timestamp': '00:28:13', 'text': 'Oh, my gosh.'},\n",
       "  {'speaker': 'Jenna',\n",
       "   'timestamp': '00:28:14',\n",
       "   'text': \"And Jim's like, no, no. He gets out his cell phone. He's going to make a phone call, but Dwight grabs it and throws his phone out the window.\"},\n",
       "  {'speaker': 'Angela',\n",
       "   'timestamp': '00:28:23',\n",
       "   'text': 'Yeah. Throws his phone out the window. And also, Michael says, had to be done. Had to be done, like what?'},\n",
       "  {'speaker': 'Jenna',\n",
       "   'timestamp': '00:28:31',\n",
       "   'text': \"We had a bad question from I.C. Lee and Emily Jones: when they threw Jim's phone out the window did someone have to go pick it up behind the car? Was that a real phone? OK, it was a real phone. And yes, we had a follow car, which is a car that follows the actors, and they would have to stop and pick up that phone.\"},\n",
       "  {'speaker': 'Angela', 'timestamp': '00:28:52', 'text': 'Yeah.'},\n",
       "  {'speaker': 'Jenna',\n",
       "   'timestamp': '00:28:53',\n",
       "   'text': \"We had a fan catch from Doug Schmidt who says, not a question, but when Dwight throws Jim's phone out the window, they are clearly on a four lane road. But when they stop to find it, it's only a two lane road.\"},\n",
       "  {'speaker': 'Angela',\n",
       "   'timestamp': '00:29:06',\n",
       "   'text': 'Ooh, look at you with your catch, Doug. You go.'},\n",
       "  {'speaker': 'Jenna',\n",
       "   'timestamp': '00:29:09',\n",
       "   'text': \"And another catch from Emily Ambriz, at eight minutes forty five seconds when they've stopped to retrieve the phone, you can see a road sign that says San Fernando in a fourth of a mile.\"},\n",
       "  {'speaker': 'Angela',\n",
       "   'timestamp': '00:29:20',\n",
       "   'text': \"Oh, that's a really good catch.\"},\n",
       "  {'speaker': 'Jenna',\n",
       "   'timestamp': '00:29:23',\n",
       "   'text': 'So yeah, clearly in California.'},\n",
       "  {'speaker': 'Angela',\n",
       "   'timestamp': '00:29:24',\n",
       "   'text': \"Clearly. So they're looking for Jim's phone. Jim finds it and he's like, you know what? I'm going to call a cab. And they're like, OK, well, you'll miss out on the pranks. And he's like, hold up. What are you guys doing? What do you have planned? And then Michael lists off they have the warehouse uniforms, silly string, Dwight also has some gasoline and chunks of rubber to make stink bombs or real bombs. They don't know.\"},\n",
       "  {'speaker': 'Jenna', 'timestamp': '00:29:49', 'text': 'Yeah.'},\n",
       "  {'speaker': 'Angela',\n",
       "   'timestamp': '00:29:49',\n",
       "   'text': \"Could be bad ass. They don't know.\"},\n",
       "  {'speaker': 'Jenna',\n",
       "   'timestamp': '00:29:51',\n",
       "   'text': 'It could be either one.'},\n",
       "  {'speaker': 'Angela',\n",
       "   'timestamp': '00:29:52',\n",
       "   'text': \"Could be either one. And Jim's like, yeah, no, that's not happening. So he makes a deal with them that he'll dress up in the warehouse uniform. By the way, the one he got was Madge's.\"},\n",
       "  {'speaker': 'Jenna', 'timestamp': '00:30:00', 'text': 'Yes.'},\n",
       "  {'speaker': 'Angela',\n",
       "   'timestamp': '00:30:01',\n",
       "   'text': 'And that he will go with them. But no stink bombs or shenanigans.'},\n",
       "  {'speaker': 'Jenna',\n",
       "   'timestamp': '00:30:05',\n",
       "   'text': 'Yeah. This is the compromise that he makes.'},\n",
       "  {'speaker': 'Angela',\n",
       "   'timestamp': '00:30:08',\n",
       "   'text': 'And from this talking head, it cuts to this silent moment in the car. Nine minutes forty five seconds. The three of them in the uniforms with these ridiculous mustaches. It is such a funny cut to. It cracked me up.'},\n",
       "  {'speaker': 'Jenna',\n",
       "   'timestamp': '00:30:23',\n",
       "   'text': 'I have so much to say about these car scenes, but I think we should take a break and come back and really get into it.'},\n",
       "  {'speaker': 'Angela',\n",
       "   'timestamp': '00:30:31',\n",
       "   'text': 'Have you ever peed in a bottle in the backseat of a car?'},\n",
       "  {'speaker': 'Jenna',\n",
       "   'timestamp': '00:30:34',\n",
       "   'text': 'I have not. Have you?'},\n",
       "  {'speaker': 'Angela',\n",
       "   'timestamp': '00:30:35',\n",
       "   'text': 'I thought about it real serious.'},\n",
       "  {'speaker': 'Jenna',\n",
       "   'timestamp': '00:30:37',\n",
       "   'text': \"I've peed on the side of a lot of roads.\"},\n",
       "  {'speaker': 'Angela',\n",
       "   'timestamp': '00:30:40',\n",
       "   'text': 'Same. OK, well, more to discuss when we come back.'},\n",
       "  {'speaker': 'Jenna',\n",
       "   'timestamp': '00:30:48',\n",
       "   'text': \"We are back and the boys are in the car, they've got their outfits on, they've got their mustaches on. They're driving to Utica. Michael is asking Jim a lot of questions about his breakup with Karen.\"},\n",
       "  {'speaker': 'Angela',\n",
       "   'timestamp': '00:31:00',\n",
       "   'text': \"And Jim doesn't want to talk about it. So Jim is like, let's play that Alphabet game that you want to play.\"},\n",
       "  {'speaker': 'Jenna', 'timestamp': '00:31:05', 'text': 'Yes.'},\n",
       "  {'speaker': 'Angela',\n",
       "   'timestamp': '00:31:06',\n",
       "   'text': \"And Michael is like, OK, a is for Alan. And he's married to Alice and they live in Alaska and they sell. What do they sell? What do they sell? And then he's like, wait, what is that noise I hear? Is that water like in the engine. Like what? Is that air conditioner leaking? What's that sound?\"},\n",
       "  {'speaker': 'Jenna',\n",
       "   'timestamp': '00:31:24',\n",
       "   'text': 'Oh, that sound is Dwight peeing in a can in the back seat.'},\n",
       "  {'speaker': 'Angela',\n",
       "   'timestamp': '00:31:29',\n",
       "   'text': \"And they freak out. They're like, oh, gross. And then Michael starts swerving and Dwight's like, you're making me spray. This scene is like so fun to watch. I was laughing so hard.\"},\n",
       "  {'speaker': 'Jenna',\n",
       "   'timestamp': '00:31:42',\n",
       "   'text': 'We got a lot of mail about this scene, one from Sadie K. who says, when the guys were in the car, did they break a lot?'},\n",
       "  {'speaker': 'Angela',\n",
       "   'timestamp': '00:31:52',\n",
       "   'text': \"Oh Sadie, the bloopers from the scene are so worth it, you've got to watch it. They were cracking up. I mean, it's one of the rare times where Steve could not keep it together. Steve.\"},\n",
       "  {'speaker': 'Jenna', 'timestamp': '00:32:04', 'text': 'Yeah.'},\n",
       "  {'speaker': 'Angela',\n",
       "   'timestamp': '00:32:04',\n",
       "   'text': \"Every time too Rainn would have to say, I think I cut my penis on the lid, and then this is in the deleted scenes, but it's also in the bloopers, at the very end, Dwight goes, I cut a chunk out of my penis for nothing. Those guys could not get through it. They were like melting into laughter.\"},\n",
       "  {'speaker': 'Jenna',\n",
       "   'timestamp': '00:32:26',\n",
       "   'text': \"I mean, just imagine being in a car together, these three comedic actors at the top of their game. I mean, brilliant. We had another fan question from Evan Derrickson. This is a technical question. Evan wants to know who got to decide who wears which mustache because they're really perfect for each character and so funny. Is that a wardrobe thing? Does it need Greg's approval? Is it props? Well, Evan, I like your question because you've clearly been listening to Office Ladies. The mustaches are made by hair and makeup, so it's not a prop. And hair and makeup work together because it's hair because it's a mustache, right?\"},\n",
       "  {'speaker': 'Angela', 'timestamp': '00:33:08', 'text': 'Yeah.'},\n",
       "  {'speaker': 'Jenna',\n",
       "   'timestamp': '00:33:08',\n",
       "   'text': \"But then it goes on the face and has to be applied to the face so it becomes a makeup thing. So they just had a tray of a bunch of different mustaches and yes, they got Greg's approval. They talked to Joss Whedon, the director, they talked to Mindy Kaling, and they picked the mustaches for each of these guys to wear.\"},\n",
       "  {'speaker': 'Angela',\n",
       "   'timestamp': '00:33:27',\n",
       "   'text': \"Yes, hair and makeup would take photos of the guys with the different mustaches and then walk them over to the writers room and the writers and directors would look at it. I can't imagine those photos are out there somewhere. That is so funny to me.\"},\n",
       "  {'speaker': 'Jenna',\n",
       "   'timestamp': '00:33:43',\n",
       "   'text': 'Well, next up, the Finer Things Club meeting is underway.'},\n",
       "  {'speaker': 'Angela',\n",
       "   'timestamp': '00:33:46',\n",
       "   'text': \"Yes, in at ten minutes, 50 seconds, we have a Pam's teapot catch.\"},\n",
       "  {'speaker': 'Jenna',\n",
       "   'timestamp': '00:33:52',\n",
       "   'text': \"Yes, that's right. They are using Pam's teapot that Jim gave her in that very first Christmas episode.\"},\n",
       "  {'speaker': 'Angela',\n",
       "   'timestamp': '00:34:00',\n",
       "   'text': 'I have a question for The Finer Things Club.'},\n",
       "  {'speaker': 'Jenna', 'timestamp': '00:34:03', 'text': 'Yes.'},\n",
       "  {'speaker': 'Angela',\n",
       "   'timestamp': '00:34:04',\n",
       "   'text': \"How much stuff do you have to bring to work on the day that you guys meet? There is a three tiered tray of sandwiches, a table cloth, flatware, the teapot, the cups, how- you're like bringing a crate of stuff.\"},\n",
       "  {'speaker': 'Jenna',\n",
       "   'timestamp': '00:34:22',\n",
       "   'text': \"Yeah. Don't worry about it. It doesn't involve you. We got it covered.\"},\n",
       "  {'speaker': 'Angela',\n",
       "   'timestamp': '00:34:26',\n",
       "   'text': \"They're discussing a room with a view and who walks in but Andy.\"},\n",
       "  {'speaker': 'Jenna',\n",
       "   'timestamp': '00:34:31',\n",
       "   'text': 'He wants to be in the club.'},\n",
       "  {'speaker': 'Angela',\n",
       "   'timestamp': '00:34:33',\n",
       "   'text': \"And Pam tells them it's a closed club.\"},\n",
       "  {'speaker': 'Jenna',\n",
       "   'timestamp': '00:34:37',\n",
       "   'text': \"She's very direct and unapologetic. I'm sorry, this is a closed club. And Andy has a talking head where he says The Finer Things Club is the most exclusive club in the office so it's naturally where he needs to be. Party planning committee is his backup. Kevin's band is his safety.\"},\n",
       "  {'speaker': 'Angela',\n",
       "   'timestamp': '00:34:59',\n",
       "   'text': \"Everything is like he's rushing a fraternity.\"},\n",
       "  {'speaker': 'Jenna',\n",
       "   'timestamp': '00:35:02',\n",
       "   'text': \"It's so true. It's so true. Well, I'll have you know, we loved shooting these scenes. Me, Oscar, Paul. We were delighted by the storyline. We had the best time because this was a group of people that did not normally get to hang out. I did not have a lot of scenes with Oscar or Paul, so this was really cool. And I'll have you know that before the pandemic we had a Finer Things Club reunion lunch.\"},\n",
       "  {'speaker': 'Angela',\n",
       "   'timestamp': '00:35:27',\n",
       "   'text': 'You did. I thought this was so, so sweet. When you told me you guys were all going to meet, I was like, that is adorable.'},\n",
       "  {'speaker': 'Jenna',\n",
       "   'timestamp': '00:35:34',\n",
       "   'text': 'Yeah, we met, we had lunch and we invited Ed.'},\n",
       "  {'speaker': 'Angela', 'timestamp': '00:35:38', 'text': 'Oh.'},\n",
       "  {'speaker': 'Jenna',\n",
       "   'timestamp': '00:35:39',\n",
       "   'text': \"We let Ed come. So the four of us had this amazing lunch. I took a picture, so I'll post it in the pod.\"},\n",
       "  {'speaker': 'Angela',\n",
       "   'timestamp': '00:35:45',\n",
       "   'text': \"That is so sweet. I'm very sad I wasn't invited on the show or in real life.\"},\n",
       "  {'speaker': 'Jenna',\n",
       "   'timestamp': '00:35:50',\n",
       "   'text': \"Well, I'll say we did not discuss any literature or art at our reunion lunch. We just chatted about our lives and our kids.\"},\n",
       "  {'speaker': 'Angela',\n",
       "   'timestamp': '00:35:58',\n",
       "   'text': 'Oh, well, now the guys have rolled up to the Utica branch. But Jenna, first, I want to talk to you about a deleted scene. You will not believe this scene. I had Sam pull this clip. Jim has called Pam from the road with Michael and Dwight, and Pam is kind of passive aggressively giving Jim a little shade for seeing Karen.'},\n",
       "  {'speaker': 'Jenna',\n",
       "   'timestamp': '00:36:24',\n",
       "   'text': \"Oh, I don't even remember doing this scene.\"},\n",
       "  {'speaker': 'Angela',\n",
       "   'timestamp': '00:36:28',\n",
       "   'text': \"I couldn't believe it. It just doesn't even sound like Pam to me. And I think there's a reason it was deleted. But it's pretty delicious to listen to. Sam, can you play it\"},\n",
       "  {'speaker': 'PAM',\n",
       "   'timestamp': '00:36:27',\n",
       "   'text': \"Wait, you're going along with this now?\"},\n",
       "  {'speaker': 'JIM',\n",
       "   'timestamp': '00:36:29',\n",
       "   'text': \"I have to. Pam if I'm not there, someone's going to go to jail or die.\"},\n",
       "  {'speaker': 'PAM',\n",
       "   'timestamp': '00:36:33',\n",
       "   'text': \"Right. And you wouldn't be able to talk to Karen.\"},\n",
       "  {'speaker': 'JIM',\n",
       "   'timestamp': '00:36:37',\n",
       "   'text': 'Well, I promise you, that has nothing to do with it.'},\n",
       "  {'speaker': 'PAM', 'timestamp': '00:36:39', 'text': 'A little bit.'},\n",
       "  {'speaker': 'JIM',\n",
       "   'timestamp': '00:36:40',\n",
       "   'text': \"Well, yeah, I don't want to see her get physically harmed, that's for sure.\"},\n",
       "  {'speaker': 'PAM',\n",
       "   'timestamp': '00:36:43',\n",
       "   'text': 'Because you love her. Because you love her very much.'},\n",
       "  {'speaker': 'JIM',\n",
       "   'timestamp': '00:36:45',\n",
       "   'text': \"All right. I'm going to go now.\"},\n",
       "  {'speaker': 'PAM',\n",
       "   'timestamp': '00:36:46',\n",
       "   'text': 'OK, have fun with your girlfriend.'},\n",
       "  {'speaker': 'JIM', 'timestamp': '00:36:48', 'text': 'OK, I will.'},\n",
       "  {'speaker': 'ANGELA',\n",
       "   'timestamp': '00:36:51',\n",
       "   'text': 'I mean, Jenna. \"You\\'re gonna have fun with your new girlfriend\". Oh my gosh, Pam is totally jealous.'},\n",
       "  {'speaker': 'JENNA',\n",
       "   'timestamp': '00:36:58',\n",
       "   'text': \"I don't know. Do you think she's really jealous?\"},\n",
       "  {'speaker': 'ANGELA',\n",
       "   'timestamp': '00:37:01',\n",
       "   'text': 'Yes. Pam also has a talking head where she\\'s like, \"I was just kidding. We kid like that\". And then she\\'s like, \"OK, maybe I\\'m a little jealous\".'},\n",
       "  {'speaker': 'JENNA',\n",
       "   'timestamp': '00:37:07',\n",
       "   'text': \"Wow. I don't even remember shooting that.\"},\n",
       "  {'speaker': 'ANGELA', 'timestamp': '00:37:10', 'text': 'Yeah.'},\n",
       "  {'speaker': 'JENNA', 'timestamp': '00:37:10', 'text': \"That's so crazy.\"},\n",
       "  {'speaker': 'ANGELA',\n",
       "   'timestamp': '00:37:11',\n",
       "   'text': 'You have to watch the deleted scenes.'},\n",
       "  {'speaker': 'JENNA',\n",
       "   'timestamp': '00:37:13',\n",
       "   'text': \"That does sound a little bit like me when I'm being passive aggressive.\"},\n",
       "  {'speaker': 'ANGELA',\n",
       "   'timestamp': '00:37:19',\n",
       "   'text': 'That was more Jenna than Pam.'},\n",
       "  {'speaker': 'JENNA', 'timestamp': '00:37:20', 'text': 'Maybe a little bit.'},\n",
       "  {'speaker': 'ANGELA',\n",
       "   'timestamp': '00:37:22',\n",
       "   'text': \"I think it's good that they deleted it because I think, I like instead, you know, that he comes back at the end of the day and, you know, I don't know. I don't want to see that side of Pam.\"},\n",
       "  {'speaker': 'JENNA',\n",
       "   'timestamp': '00:37:31',\n",
       "   'text': \"Yeah. I just don't think we need that tension in the relationship. It doesn't need to be about that, you know.\"},\n",
       "  {'speaker': 'ANGELA', 'timestamp': '00:37:37', 'text': 'Yeah.'},\n",
       "  {'speaker': 'JENNA',\n",
       "   'timestamp': '00:37:38',\n",
       "   'text': \"I like it. And we'll get to it that Jim and Karen are going to have a moment where they have to deal with their stuff. But I like that Pam is left out of it.\"},\n",
       "  {'speaker': 'ANGELA', 'timestamp': '00:37:46', 'text': 'Yeah, me too.'},\n",
       "  {'speaker': 'JENNA',\n",
       "   'timestamp': '00:37:47',\n",
       "   'text': \"So now the guys roll up to the Utica branch and Michael reveals their plan. They're going to pretend to be warehouse workers and they're going to silly string the whole place. Dwight adds that he might stab the security guy in the eye with a piece of jumbo chalk. And Jim is like, you're not stabbing anyone in the eye. Dwight's like, OK, fine, maybe I'll just grind it up and blow it in his eyes.\"},\n",
       "  {'speaker': 'ANGELA',\n",
       "   'timestamp': '00:38:11',\n",
       "   'text': 'Yeah, he is a talking head that he says, the eyes are the groin of the head.'},\n",
       "  {'speaker': 'JENNA', 'timestamp': '00:38:17', 'text': 'Yeah.'},\n",
       "  {'speaker': 'ANGELA',\n",
       "   'timestamp': '00:38:17',\n",
       "   'text': \"So look out, eyeballs, if Dwight's around.\"},\n",
       "  {'speaker': 'JENNA',\n",
       "   'timestamp': '00:38:20',\n",
       "   'text': 'I really love that line.'},\n",
       "  {'speaker': 'ANGELA', 'timestamp': '00:38:23', 'text': 'I do too.'},\n",
       "  {'speaker': 'JENNA',\n",
       "   'timestamp': '00:38:23',\n",
       "   'text': 'Dwight and Michael leave and Jim is now on a walkie talkie in the car.'},\n",
       "  {'speaker': 'ANGELA',\n",
       "   'timestamp': '00:38:28',\n",
       "   'text': \"Well and he sees Karen, he's like, oh my God, she's here. Go, go, go. And he leans the seat back trying to hide from Karen.\"},\n",
       "  {'speaker': 'JENNA',\n",
       "   'timestamp': '00:38:35',\n",
       "   'text': \"Yeah. But in the meantime, through the walkie talkie, we only hear it, which I personally think is so freaking funny. Michael and Dwight decide to steal the industrial copier. Then you hear a very loud crashing noise and then you start to hear Michael talking about his hip. He's saying, Jim save us.\"},\n",
       "  {'speaker': 'ANGELA',\n",
       "   'timestamp': '00:38:57',\n",
       "   'text': \"He's saying,Jim, if this is my last moment. Please tell me you'll take over The Dundees.\"},\n",
       "  {'speaker': 'JENNA',\n",
       "   'timestamp': '00:39:02',\n",
       "   'text': \"It's so, so amazing.\"},\n",
       "  {'speaker': 'ANGELA',\n",
       "   'timestamp': '00:39:06',\n",
       "   'text': \"And Jenna you're so right. It was better over the walkie talkie. There is a deleted scene in the stairwell where Michael is pinned by the copier and there's silly string everywhere. And the security guards have come and it just plays funnier over the walkie talkie. It really does. So I was really glad that they made that choice.\"},\n",
       "  {'speaker': 'JENNA',\n",
       "   'timestamp': '00:39:24',\n",
       "   'text': 'I have a fan catch for this moment.'},\n",
       "  {'speaker': 'ANGELA', 'timestamp': '00:39:26', 'text': 'OK'},\n",
       "  {'speaker': 'JENNA',\n",
       "   'timestamp': '00:39:27',\n",
       "   'text': 'When the guys were driving in the car, it was very clear that there was just Michael, Jim and then Dwight in the back seat. But now all of a sudden we have a camera operator in the car with Jim.'},\n",
       "  {'speaker': 'ANGELA',\n",
       "   'timestamp': '00:39:39',\n",
       "   'text': 'Yeah. And Jim is like, get down. What are you doing? You know, where did this guy come from?'},\n",
       "  {'speaker': 'JENNA',\n",
       "   'timestamp': '00:39:44',\n",
       "   'text': \"And also when they're on the side of the road, there was clearly a camera operator on the side of the road with them. So I have made up a story in my head that the camera operators followed them in another vehicle to document this moment.\"},\n",
       "  {'speaker': 'ANGELA',\n",
       "   'timestamp': '00:39:57',\n",
       "   'text': 'They had a huge budget. They put lipstick cameras in the car, rigged the car, then followed the car with a second set of handheld cameras. This PBS went all out.'},\n",
       "  {'speaker': 'JENNA',\n",
       "   'timestamp': '00:40:09',\n",
       "   'text': 'They really did well. They knew that this was going to be a good moment.'},\n",
       "  {'speaker': 'ANGELA', 'timestamp': '00:40:13', 'text': 'Yeah.'},\n",
       "  {'speaker': 'JENNA',\n",
       "   'timestamp': '00:40:13',\n",
       "   'text': 'We had a fan question from Eris Beth Kruse, Zaphod Girod, Kolby Shannon and Carro B., \"Were Jim, Michael and Dwight actually talking through walkie talkies\"? Yes, they were. And I don\\'t know if this was in the bloopers, Angela, but John was laughing so hard at what he was listening to. I remember him telling me stories, wait until you see this scene. These guys were so funny over the walkie talkie.'},\n",
       "  {'speaker': 'ANGELA',\n",
       "   'timestamp': '00:40:42',\n",
       "   'text': 'I loved when Jim kept saying, stop saying my name.'},\n",
       "  {'speaker': 'JENNA',\n",
       "   'timestamp': '00:40:46',\n",
       "   'text': 'Yes, yes. Well, Karen spots Jim in the car and she walks over.'},\n",
       "  {'speaker': 'ANGELA', 'timestamp': '00:40:55', 'text': 'So embarrassing.'},\n",
       "  {'speaker': 'JENNA',\n",
       "   'timestamp': '00:40:57',\n",
       "   'text': \"But then it leads into this amazing scene. She's got the three of them on a couch in her office. It one hundred percent. Looks like three kids who've been called to the principal's office.\"},\n",
       "  {'speaker': 'ANGELA',\n",
       "   'timestamp': '00:41:11',\n",
       "   'text': \"Mmhmm. Well, Karen is loving this. I mean, there's a whole talking head where she says, I cried for weeks over that guy. So, yeah, it felt pretty good seeing him in this situation.\"},\n",
       "  {'speaker': 'JENNA',\n",
       "   'timestamp': '00:41:21',\n",
       "   'text': 'Yeah. The only person still wearing his mustache now is Dwight. Michael is defending his behavior. He is saying that he cares enough to fight for his employees and if Stanley comes to Utica and she hurts one hair on his head, he will burn Utica to the ground.'},\n",
       "  {'speaker': 'ANGELA',\n",
       "   'timestamp': '00:41:38',\n",
       "   'text': 'Yeah, Dwight and Michael both say they will burn Utica to the ground.'},\n",
       "  {'speaker': 'JENNA',\n",
       "   'timestamp': '00:41:44',\n",
       "   'text': 'Insane. So Karen sends Michael and Dwight away. She says, Jim, will you stay a moment?'},\n",
       "  {'speaker': 'ANGELA', 'timestamp': '00:41:50', 'text': 'Oh.'},\n",
       "  {'speaker': 'JENNA', 'timestamp': '00:41:52', 'text': 'Oh.'},\n",
       "  {'speaker': 'ANGELA',\n",
       "   'timestamp': '00:41:52',\n",
       "   'text': 'The principal kept one. Let the other two go.'},\n",
       "  {'speaker': 'JENNA',\n",
       "   'timestamp': '00:41:55',\n",
       "   'text': \"Well, now it's going to get personal.\"},\n",
       "  {'speaker': 'ANGELA',\n",
       "   'timestamp': '00:41:57',\n",
       "   'text': 'Oh, this is so cringey.'},\n",
       "  {'speaker': 'JENNA',\n",
       "   'timestamp': '00:41:59',\n",
       "   'text': \"She says, Jim, if you wanted to see me, you could have just called. And Jim's like, Oh, no, I didn't want to see you. Oh.\"},\n",
       "  {'speaker': 'ANGELA',\n",
       "   'timestamp': '00:42:07',\n",
       "   'text': \"Oh. And it's like not that I'm not happy that to see you, but no, I was, I was basically just here for the copier. Because I'm, you know, with Pam and things are going well and we're good. And she's like, oh, I'm so glad to hear that things are going so well for you. Oh.\"},\n",
       "  {'speaker': 'JENNA',\n",
       "   'timestamp': '00:42:25',\n",
       "   'text': 'Yeah. Angela, we had a fan catch for this scene from Rachel Watkins, \"At 17 minutes, 27 seconds, as Karen and Jim are having their one on one, Karen has a photo of Hillary Clinton on her bookshelf\". Rachel is wondering if this is a nod to Leslie Knope having framed photos of Hillary Clinton in her office for \"Parks and Recreation\". You know what, Rachel? I don\\'t know. But what a great catch.'},\n",
       "  {'speaker': 'ANGELA',\n",
       "   'timestamp': '00:42:55',\n",
       "   'text': \"Yeah, I didn't catch that.\"},\n",
       "  {'speaker': 'JENNA',\n",
       "   'timestamp': '00:42:58',\n",
       "   'text': 'I zoomed in on it. But speaking of \"Parks and Recreation\", Angela, we had another fan question. A bunch of people wrote in. They said, \"How did you get Rashida Jones back for this? Wasn\\'t she on \\'Parks and Recreation\\' at the time\"? She was. But you might remember that Parks and Rec was created by Mike Schur, who was one of \"The Office\" writers. And so our production office just called over to their production office and they were able to clear her for one day of work. So she came and did this one shooting day at these offices for Utica. But we didn\\'t get to see her. We did not get to have a reunion with her at all because she was on location.'},\n",
       "  {'speaker': 'ANGELA',\n",
       "   'timestamp': '00:43:38',\n",
       "   'text': \"I know. I just thought she crushed these scenes. She was so perfect in them. Well, Jenna there's a whole lot happening back at Dunder Mifflin because the Finer Things Club is trying to have their meeting. You know, they had to hang a sign. You have to think someone hangs a sign because events have happened, right?\"},\n",
       "  {'speaker': 'JENNA',\n",
       "   'timestamp': '00:43:56',\n",
       "   'text': 'Yes. And the solution is a sign.'},\n",
       "  {'speaker': 'ANGELA',\n",
       "   'timestamp': '00:43:59',\n",
       "   'text': 'So they have made a sign at 12 minutes, 49 seconds. You can catch it. It says, \"Finer Things Club in Progress. Please be respectful\". And Kevin comes in. He\\'s trying to get something out of the vending machine. He\\'s banging it back and forth. His butt is like right up against your chair. And my absolute favorite moment of all of the Finer Things Club meetings is Phyllis and that dang microwave. How many buttons is she hitting?'},\n",
       "  {'speaker': 'JENNA', 'timestamp': '00:44:30', 'text': 'So many buttons.'},\n",
       "  {'speaker': 'ANGELA',\n",
       "   'timestamp': '00:44:31',\n",
       "   'text': \"So many buttons, and Oscar, he is so fantastic the way he lets it amp up and start to bug him as he's trying to form his thought about his book sharing. Right? He wants to tell you guys about this book. Beep, beep, beep, beep, beep. And then finally he just snaps and he's like, what are you microwaving?\"},\n",
       "  {'speaker': 'JENNA',\n",
       "   'timestamp': '00:44:52',\n",
       "   'text': 'And Phyllis says \"Popcorn\" with her St. Louis accent, We had a lot of people write in and catch that.'},\n",
       "  {'speaker': 'ANGELA',\n",
       "   'timestamp': '00:45:00',\n",
       "   'text': '13:49, you hear a solid popcorn. This is me though, Jenna, I am Oscar. If you want to drive me crazy, have some beeping somewhere. Something beeping makes me nuts.'},\n",
       "  {'speaker': 'JENNA',\n",
       "   'timestamp': '00:45:13',\n",
       "   'text': 'You know, I have to turn off the beeping on my washer dryer.'},\n",
       "  {'speaker': 'ANGELA', 'timestamp': '00:45:18', 'text': 'Mmhmm.'},\n",
       "  {'speaker': 'JENNA',\n",
       "   'timestamp': '00:45:19',\n",
       "   'text': \"I don't need that to keep going off. I know I put the laundry in.\"},\n",
       "  {'speaker': 'ANGELA', 'timestamp': '00:45:23', 'text': 'Yeah.'},\n",
       "  {'speaker': 'JENNA',\n",
       "   'timestamp': '00:45:24',\n",
       "   'text': \"I know. I'll take the laundry out eventually. I'll get to it. I don't need you alarming me to my dry laundry for the next 15 minutes. Off and on.\"},\n",
       "  {'speaker': 'ANGELA',\n",
       "   'timestamp': '00:45:34',\n",
       "   'text': \"I don't get why everything has to beep so much. The refrigerator beeps, the dishwasher beeps, the microwave beats.\"},\n",
       "  {'speaker': 'JENNA',\n",
       "   'timestamp': '00:45:41',\n",
       "   'text': \"My coffeemaker beeps. It beeps when it's done and then it beeps when it turns itself off.\"},\n",
       "  {'speaker': 'ANGELA',\n",
       "   'timestamp': '00:45:47',\n",
       "   'text': 'So much beeping. Can we tone it down on the beeping, appliance people?'},\n",
       "  {'speaker': 'JENNA',\n",
       "   'timestamp': '00:45:52',\n",
       "   'text': 'Not everything needs an alarm. You know? This is, we feel strongly about this.'},\n",
       "  {'speaker': 'ANGELA',\n",
       "   'timestamp': '00:46:00',\n",
       "   'text': 'We clearly feels strongly about all the beeping, unnecessary beeping.'},\n",
       "  {'speaker': 'JENNA',\n",
       "   'timestamp': '00:46:04',\n",
       "   'text': \"Who knew? Well, the guys get back from Utica. Michael gives Stanley his blessing. He says, you know what? It's OK. And then he gets him a box from the mail cart, Angela. The seldomly used mail car is getting used. And then he says, Pam, come in my office. I need to write a want ad. And here is Michael's ad that he's going to place for a new employee to take Stanley's place, are you ready?\"},\n",
       "  {'speaker': 'ANGELA',\n",
       "   'timestamp': '00:46:32',\n",
       "   'text': \"Well, he's laying on the ground as he dictates this to you.\"},\n",
       "  {'speaker': 'JENNA', 'timestamp': '00:46:37', 'text': 'I know.'},\n",
       "  {'speaker': 'ANGELA',\n",
       "   'timestamp': '00:46:37',\n",
       "   'text': 'I mean, he has given up all hope. He has failed. And, yes, what does he tell you?'},\n",
       "  {'speaker': 'JENNA',\n",
       "   'timestamp': '00:46:43',\n",
       "   'text': '\"Wanted: Middle aged black man with sass, big butt, bigger heart\".'},\n",
       "  {'speaker': 'ANGELA',\n",
       "   'timestamp': '00:46:49',\n",
       "   'text': 'I love that Michael used \"sass\".'},\n",
       "  {'speaker': 'JENNA',\n",
       "   'timestamp': '00:46:52',\n",
       "   'text': 'I thought the same thing.'},\n",
       "  {'speaker': 'ANGELA',\n",
       "   'timestamp': '00:46:54',\n",
       "   'text': \"And then Stanley's like, I never planned on leaving, I say crazy things sometimes. I was just bluffing and Michael called my bluff.\"},\n",
       "  {'speaker': 'JENNA',\n",
       "   'timestamp': '00:47:01',\n",
       "   'text': \"Yeah, he just wanted a raise. He was hoping to leverage this job offer to get more money. And earlier, when Michael has a meeting with him, he's like, what can I do to get you to stay? And he's like, money, money. But Michael doesn't have the budget. But as it turns out, Stanley's not really going to uproot his family. He's going to stay.\"},\n",
       "  {'speaker': 'ANGELA',\n",
       "   'timestamp': '00:47:23',\n",
       "   'text': 'Yeah. And him, you know, putting this out there to Michael to see if Michael would, like, meet his demands almost cost Utica getting burned to the ground.'},\n",
       "  {'speaker': 'JENNA',\n",
       "   'timestamp': '00:47:33',\n",
       "   'text': \"I know. Pam tells Jim, I'm really sorry, Rolondo told me everything. I love it that the receptionists talk to one another.\"},\n",
       "  {'speaker': 'ANGELA',\n",
       "   'timestamp': '00:47:42',\n",
       "   'text': \"I love this so much that you and Rolando have this whole friendship that we don't even know about. I also thought it was pretty great that you said to Jim, how embarrassing.\"},\n",
       "  {'speaker': 'JENNA',\n",
       "   'timestamp': '00:47:52',\n",
       "   'text': 'Yeah, I know. Well, when I was chatting with Adam about his time on \"The Office\", one of the things he mentioned was that while he was shooting this episode, Rainn and Mindy both came up to him and said, we think you could come back. We like this Utica branch idea. We want to have you back. And that he was so excited. And then, of course, you know, I go back for \"Lecture Circuit\" and we had a little film catch about that. Caitlin Donahue, Sidney Matthews and Courtney Sage said, \"In this episode, Pam mentions that she and Rolondo talk, but in lecture circuit, Michael introduces Pam to Rolondo when they arrive. Is this a continuity error\"? You know, guys, I just think Michael doesn\\'t know. Michael doesn\\'t know that Pam has these relationships. Just like, remember earlier, it\\'s clear that Pam and Michael\\'s mother talked to one another as well.'},\n",
       "  {'speaker': 'ANGELA',\n",
       "   'timestamp': '00:48:47',\n",
       "   'text': \"Oh, I think there's so much that Michael doesn't know about even what Pam's job does. You know? Like how about the fact that, like, he's like, Pam, will you hold all my calls today? And Pam's like, sure. Beep, boop, beep, boop, beep, beep, beep. I mean, like, Michael doesn't know what Pam does.\"},\n",
       "  {'speaker': 'JENNA',\n",
       "   'timestamp': '00:49:03',\n",
       "   'text': 'It\\'s true. To make Jim feel better. Pam invites him to be in The Finer Things Club. And the end of this episode is a flash forward to their next meeting where they are discussing \"Angela\\'s Ashes\".'},\n",
       "  {'speaker': 'ANGELA',\n",
       "   'timestamp': '00:49:16',\n",
       "   'text': 'And true to Jim form, he has to do a bit.'},\n",
       "  {'speaker': 'JENNA', 'timestamp': '00:49:19', 'text': 'Yeah.'},\n",
       "  {'speaker': 'ANGELA',\n",
       "   'timestamp': '00:49:19',\n",
       "   'text': \"He's doing his Irish accent. Oscar just kind of looks at him and is like, did you get it all out? And then he hasn't read the book.\"},\n",
       "  {'speaker': 'JENNA',\n",
       "   'timestamp': '00:49:27',\n",
       "   'text': \"Oh, Paul is so amazing in this scene. He's like, who's the main character? Jim is like, Angela. No.\"},\n",
       "  {'speaker': 'ANGELA', 'timestamp': '00:49:36', 'text': 'No. The Ashes. No.'},\n",
       "  {'speaker': 'JENNA',\n",
       "   'timestamp': '00:49:40',\n",
       "   'text': 'And Pam just mouths, sorry.'},\n",
       "  {'speaker': 'ANGELA',\n",
       "   'timestamp': '00:49:43',\n",
       "   'text': \"Well, there are two deleted Andy scenes that I want to discuss before we wrap up. They're about the Finer Things Club and about how desperately he was trying to get in. Because, you know, when Pam let Jim and you saw Andy go, are you kidding me? Right.\"},\n",
       "  {'speaker': 'JENNA', 'timestamp': '00:50:00', 'text': 'Yeah.'},\n",
       "  {'speaker': 'ANGELA',\n",
       "   'timestamp': '00:50:01',\n",
       "   'text': 'So here are these two things that Andy does. There is a scene where Andy comes in to the break room to you guys and offers you an envelope full of cash, a donation, if you will.'},\n",
       "  {'speaker': 'JENNA', 'timestamp': '00:50:15', 'text': 'Ah.'},\n",
       "  {'speaker': 'ANGELA',\n",
       "   'timestamp': '00:50:15',\n",
       "   'text': \"There is a scene, Jenna, in the deleted scenes, and I think it would have come towards the end of the episode. You guys, The Finer Things Club walk up to Andy. You give him a sealed envelope, he opens it up. It's a letter telling him he has been put on the wait list and he is thrilled. He shared that he was waitlisted at Cornell and then his dad donated a whole building to the college.\"},\n",
       "  {'speaker': 'JENNA',\n",
       "   'timestamp': '00:50:38',\n",
       "   'text': 'Ah, I see. Oh, my gosh.'},\n",
       "  {'speaker': 'ANGELA',\n",
       "   'timestamp': '00:50:41',\n",
       "   'text': 'Andy, we learn and deleted scenes was in fact on the wait list.'},\n",
       "  {'speaker': 'JENNA',\n",
       "   'timestamp': '00:50:46',\n",
       "   'text': 'Delicious. Guys, that was \"Branch Wars\". Thank you to Adam Jamal Craig for sending in those audio clips. And thank you guys for your questions. Next week, \"Survivorman\".'},\n",
       "  {'speaker': 'ANGELA',\n",
       "   'timestamp': '00:50:57',\n",
       "   'text': 'Oh, and in the meantime, we will start the Finers Things Club.'},\n",
       "  {'speaker': 'JENNA',\n",
       "   'timestamp': '00:51:02',\n",
       "   'text': 'And what are we reading?'},\n",
       "  {'speaker': 'ANGELA',\n",
       "   'timestamp': '00:51:04',\n",
       "   'text': 'Our first book will be \"The House of the Spirits\".'},\n",
       "  {'speaker': 'JENNA', 'timestamp': '00:51:07', 'text': 'Ordering now.'},\n",
       "  {'speaker': 'ANGELA',\n",
       "   'timestamp': '00:51:08',\n",
       "   'text': \"We'll see you guys next week.\"},\n",
       "  {'speaker': 'JENNA',\n",
       "   'timestamp': '00:51:09',\n",
       "   'text': \"Thanks, guys. We'll see you next week.\"},\n",
       "  {'speaker': 'ANGELA',\n",
       "   'timestamp': '00:51:11',\n",
       "   'text': 'Hope you have a good one.'}]}"
      ]
     },
     "execution_count": 8,
     "metadata": {},
     "output_type": "execute_result"
    }
   ],
   "source": [
    "all_episodes_data[65]"
   ]
  },
  {
   "cell_type": "code",
   "execution_count": 9,
   "metadata": {},
   "outputs": [
    {
     "data": {
      "text/plain": [
       "{'episode_number': 'EPISODE 1',\n",
       " 'episode_title': 'THE PILOT',\n",
       " 'lines': [{'speaker': 'ANGELA',\n",
       "   'timestamp': None,\n",
       "   'text': 'Hi, this is Angela Kinsey.'},\n",
       "  {'speaker': 'JENNA',\n",
       "   'timestamp': None,\n",
       "   'text': 'And this is our very first Office Ladies podcast.'},\n",
       "  {'speaker': 'ANGELA', 'timestamp': None, 'text': 'I am so excited, Jenna!'},\n",
       "  {'speaker': 'JENNA',\n",
       "   'timestamp': None,\n",
       "   'text': \"I am so excited. I'm a little bit freaking out.\"},\n",
       "  {'speaker': 'ANGELA',\n",
       "   'timestamp': None,\n",
       "   'text': \"I'm freaking out. We hope you guys like it.\"},\n",
       "  {'speaker': 'JENNA',\n",
       "   'timestamp': None,\n",
       "   'text': \"We have been working really hard. This is a dream we've had for years of getting to work together again.\"},\n",
       "  {'speaker': 'ANGELA', 'timestamp': None, 'text': 'Yes.'},\n",
       "  {'speaker': 'JENNA',\n",
       "   'timestamp': None,\n",
       "   'text': 'Because we became best friends while working on The Office together.'},\n",
       "  {'speaker': 'ANGELA',\n",
       "   'timestamp': None,\n",
       "   'text': 'We did. We ate lunch together every single day.'},\n",
       "  {'speaker': 'JENNA',\n",
       "   'timestamp': None,\n",
       "   'text': 'Every single day. And I think the hardest part for me about the show ending was not getting to see you everyday, Angela.'},\n",
       "  {'speaker': 'ANGELA', 'timestamp': None, 'text': 'Me too'},\n",
       "  {'speaker': 'JENNA',\n",
       "   'timestamp': None,\n",
       "   'text': 'It is so special to get to work with your best friend everyday.'},\n",
       "  {'speaker': 'ANGELA', 'timestamp': None, 'text': 'Yes.'},\n",
       "  {'speaker': 'JENNA', 'timestamp': None, 'text': 'What a gift.'},\n",
       "  {'speaker': 'ANGELA',\n",
       "   'timestamp': None,\n",
       "   'text': 'That was the thing, you know, Steve Carrell told us and I just love this moment so much. He said to Jenna and I, no matter what happens with the show, this is what you two will take from it. And he pointed at the two of us. And he was so right.'},\n",
       "  {'speaker': 'JENNA',\n",
       "   'timestamp': None,\n",
       "   'text': \"It's true. And we've been trying to figure out someway we could work together again, ever since. So here it is!\"},\n",
       "  {'speaker': 'ANGELA', 'timestamp': None, 'text': 'Here it is!'},\n",
       "  {'speaker': 'JENNA', 'timestamp': None, 'text': \"It's a dream realized.\"},\n",
       "  {'speaker': 'ANGELA',\n",
       "   'timestamp': None,\n",
       "   'text': 'It\\'s a dream realized. We thought, what better time? The fifteenth year anniversary is coming out and I had like three Rubbermaid bins of photos in my shed and I was going through them and I was getting really nostalgic and I was telling Jenna about it. And I was like, \"Jenna, we had such an amazing time on that show.\" I mean, it was one of the joys of my life.'},\n",
       "  {'speaker': 'JENNA',\n",
       "   'timestamp': None,\n",
       "   'text': \"And you know, I hadn't watched most of the episodes since they aired. So this has been a real treat for me. To go back and finally rewatch them.\"},\n",
       "  {'speaker': 'ANGELA',\n",
       "   'timestamp': None,\n",
       "   'text': \"Me too. And it's so good. You guys, I mean, we really--\"},\n",
       "  {'speaker': 'JENNA',\n",
       "   'timestamp': None,\n",
       "   'text': 'We became kind of nerdy fans of our own show.'},\n",
       "  {'speaker': 'ANGELA',\n",
       "   'timestamp': None,\n",
       "   'text': \"We've become nerdy fans and here's the thing\"},\n",
       "  {'speaker': 'JENNA',\n",
       "   'timestamp': None,\n",
       "   'text': \"It's been so much fun. And I feel like here it is, it's The Office bringing us back together again.\"},\n",
       "  {'speaker': 'ANGELA', 'timestamp': None, 'text': 'Yes!'},\n",
       "  {'speaker': 'JENNA', 'timestamp': None, 'text': \"It's so special.\"},\n",
       "  {'speaker': 'ANGELA', 'timestamp': None, 'text': \"It's so special\"},\n",
       "  {'speaker': 'JENNA', 'timestamp': None, 'text': \"Okay, we're geeking out.\"},\n",
       "  {'speaker': 'ANGELA',\n",
       "   'timestamp': None,\n",
       "   'text': \"So, we're geeking out. And listen, you guys, we just want you to know we're so excited that you're gonna like join us on this journey. And rewatch every week with us. Listen to us chitty chat about being best friends. And there's gonna be times that maybe we forget something, right?\"},\n",
       "  {'speaker': 'JENNA',\n",
       "   'timestamp': None,\n",
       "   'text': \"Or we miss something. Because we're not experts. We just were on the show.\"},\n",
       "  {'speaker': 'ANGELA', 'timestamp': None, 'text': \"We're on the show.\"},\n",
       "  {'speaker': 'JENNA',\n",
       "   'timestamp': None,\n",
       "   'text': 'You are actually probably the expert.'},\n",
       "  {'speaker': 'ANGELA',\n",
       "   'timestamp': None,\n",
       "   'text': 'You guys are the experts, so please watch along with us, send in questions, and lets just rewatch it together.'},\n",
       "  {'speaker': 'JENNA',\n",
       "   'timestamp': None,\n",
       "   'text': \"And we're gonna start from the beginning. We're gonna start with the pilot and watch it in order.\"},\n",
       "  {'speaker': 'ANGELA',\n",
       "   'timestamp': None,\n",
       "   'text': 'Oh my gosh. That brings us to the pilot.'},\n",
       "  {'speaker': 'JENNA', 'timestamp': None, 'text': 'This is it.'},\n",
       "  {'speaker': 'ANGELA', 'timestamp': None, 'text': 'This is it.'},\n",
       "  {'speaker': 'JENNA',\n",
       "   'timestamp': None,\n",
       "   'text': \"That's what we're gonna talk about today.\"},\n",
       "  {'speaker': 'ANGELA',\n",
       "   'timestamp': None,\n",
       "   'text': 'Okay, just so you know how Jenna works, you guys. She has like her list she prints out. She has her laptop. She has two notepads. And then I just bring a whole bunch of colored note cards with a Sharpie. That sorta paints a picture of how we process information.'},\n",
       "  {'speaker': 'JENNA',\n",
       "   'timestamp': None,\n",
       "   'text': \"It is. I'm a little bit more, I don't know.\"},\n",
       "  {'speaker': 'ANGELA',\n",
       "   'timestamp': None,\n",
       "   'text': \"I don't know, Jenna. You're more organized. It's okay, you can say it.\"},\n",
       "  {'speaker': 'JENNA', 'timestamp': None, 'text': \"And you're more colorful.\"},\n",
       "  {'speaker': 'ANGELA',\n",
       "   'timestamp': None,\n",
       "   'text': 'Oh, well, okay. Well, I guess I am going to take that as a compliment.'},\n",
       "  {'speaker': 'JENNA',\n",
       "   'timestamp': None,\n",
       "   'text': \"Alright, well let's get started!\"},\n",
       "  {'speaker': 'ANGELA',\n",
       "   'timestamp': None,\n",
       "   'text': \"Let's get started! The pilot!\"},\n",
       "  {'speaker': 'JENNA',\n",
       "   'timestamp': None,\n",
       "   'text': \"We're gonna talk about the pilot. This is season one episode one. this episode is written by Ricky Gervais, Stephen Merchant, and Greg Daniels. And directed by Ken Kwapis. Let's start with a synopsis.\"},\n",
       "  {'speaker': 'ANGELA',\n",
       "   'timestamp': None,\n",
       "   'text': \"I think that's a good place to start.\"},\n",
       "  {'speaker': 'JENNA',\n",
       "   'timestamp': None,\n",
       "   'text': \"Great. Alright so, in this episode, we're gonna meet the employees of Dunder Mifflin paper company as introduced by their manager, Michael Scott.\"},\n",
       "  {'speaker': 'ANGELA',\n",
       "   'timestamp': None,\n",
       "   'text': \"That's right. This is just a normal day at an ordinary workplace. Just people living their lives.\"},\n",
       "  {'speaker': 'JENNA',\n",
       "   'timestamp': None,\n",
       "   'text': \"Yeah. A pilot episode is usually just introducing each of the characters and also the convention of the show. And in this case, the convention of this show is that it's a documentary. Right.\"},\n",
       "  {'speaker': 'ANGELA',\n",
       "   'timestamp': None,\n",
       "   'text': \"This is the world you're going to see everyday is this paper company.\"},\n",
       "  {'speaker': 'JENNA', 'timestamp': None, 'text': 'Yes. Now, I had an idea.'},\n",
       "  {'speaker': 'ANGELA', 'timestamp': None, 'text': 'What?'},\n",
       "  {'speaker': 'JENNA',\n",
       "   'timestamp': None,\n",
       "   'text': 'I think for each episode we should have something called Fast Facts.'},\n",
       "  {'speaker': 'ANGELA',\n",
       "   'timestamp': None,\n",
       "   'text': 'What are you even talking about? This sounds crazy.'},\n",
       "  {'speaker': 'JENNA', 'timestamp': None, 'text': 'A Fast Fact.'},\n",
       "  {'speaker': 'ANGELA', 'timestamp': None, 'text': 'What is a Fast Fact?'},\n",
       "  {'speaker': 'JENNA',\n",
       "   'timestamp': None,\n",
       "   'text': 'A Fast Fact. Okay, stay with me here. A Fast Fact is a fact about that episode and then we talk about it. Not necessarily fast.'},\n",
       "  {'speaker': 'ANGELA',\n",
       "   'timestamp': None,\n",
       "   'text': 'Wait, do I have to talk quickly?'},\n",
       "  {'speaker': 'JENNA',\n",
       "   'timestamp': None,\n",
       "   'text': \"No. Here's an example of a fast fact.\"},\n",
       "  {'speaker': 'ANGELA', 'timestamp': None, 'text': 'Okay.'},\n",
       "  {'speaker': 'JENNA',\n",
       "   'timestamp': None,\n",
       "   'text': 'The show The Office is actually an adaptation of a British show of the same name. The Office.'},\n",
       "  {'speaker': 'ANGELA',\n",
       "   'timestamp': None,\n",
       "   'text': \"That's right. It was called The Office. It was written by Ricky Gervais and Stephen Merchant. It's fantastic.\"},\n",
       "  {'speaker': 'JENNA', 'timestamp': None, 'text': 'It is amazing.'},\n",
       "  {'speaker': 'ANGELA',\n",
       "   'timestamp': None,\n",
       "   'text': 'I was a huge fan of it before I even went to the audition for the American version of The Office.'},\n",
       "  {'speaker': 'JENNA',\n",
       "   'timestamp': None,\n",
       "   'text': 'Same. I had watched the entire series and then I got a phone call that they were doing an American version and asking me to audition for the receptionist. And I about pooped myself.'},\n",
       "  {'speaker': 'ANGELA',\n",
       "   'timestamp': None,\n",
       "   'text': 'Yeah. Yes. I was excited and nervous because I loved the British version so much. And I was like, \"Oh I hope they do it justice.\" And I mean, come on, years later. I think we did it.'},\n",
       "  {'speaker': 'JENNA',\n",
       "   'timestamp': None,\n",
       "   'text': 'Well, we got a lot of critical attention when we were making the pilot. And not a lot of love because people really thought we were gonna mess it up.'},\n",
       "  {'speaker': 'ANGELA', 'timestamp': None, 'text': \"That's right.\"},\n",
       "  {'speaker': 'JENNA',\n",
       "   'timestamp': None,\n",
       "   'text': \"People were worried because the British show was award winning, critically acclaimed. It's considered still, to this day, one of the greatest television comedies ever made.\"},\n",
       "  {'speaker': 'ANGELA',\n",
       "   'timestamp': None,\n",
       "   'text': 'And it deserves all of that.'},\n",
       "  {'speaker': 'JENNA', 'timestamp': None, 'text': 'And it is.'},\n",
       "  {'speaker': 'ANGELA', 'timestamp': None, 'text': 'Because it is amazing.'},\n",
       "  {'speaker': 'JENNA',\n",
       "   'timestamp': None,\n",
       "   'text': 'Yes and so there was a lot of pressure on us when we were going in to make this. And something that I think is often said that we did a shot for shot remake of the British pilot. Which is not true.'},\n",
       "  {'speaker': 'ANGELA', 'timestamp': None, 'text': 'That is not true.'},\n",
       "  {'speaker': 'JENNA',\n",
       "   'timestamp': None,\n",
       "   'text': 'It is not a shot for shot remake. But we did use their script as a template. And there are some adjustments.Â'},\n",
       "  {'speaker': 'ANGELA',\n",
       "   'timestamp': None,\n",
       "   'text': 'There are elements though. There are elements that are the same that if you watch it and watch this one.'},\n",
       "  {'speaker': 'JENNA',\n",
       "   'timestamp': None,\n",
       "   'text': \"Yes. For example, in general, each of the characters and the fact that there's this buffoonish, silly boss in their version named David Brent and in our version Michael Scott. But if you look at the talking heads, there are some differences.\"},\n",
       "  {'speaker': 'ANGELA',\n",
       "   'timestamp': None,\n",
       "   'text': 'Yes. And also the way the story is told is a little different. I mean, some of the points are the same that happened, but told differently.'},\n",
       "  {'speaker': 'JENNA',\n",
       "   'timestamp': None,\n",
       "   'text': 'But Greg Daniels was the person who was tasked with Americanizing the British show.'},\n",
       "  {'speaker': 'ANGELA', 'timestamp': None, 'text': 'Yes.'},\n",
       "  {'speaker': 'JENNA',\n",
       "   'timestamp': None,\n",
       "   'text': 'And Ricky Gervais and Stephen Merchant kind of oversaw that process but they, for example, were not on set when we were shooting the pilot.'},\n",
       "  {'speaker': 'ANGELA', 'timestamp': None, 'text': 'Nope.'},\n",
       "  {'speaker': 'JENNA',\n",
       "   'timestamp': None,\n",
       "   'text': 'No, they came and they visited with us. I remember sitting and getting to have lunch with Ricky Gervais.'},\n",
       "  {'speaker': 'ANGELA', 'timestamp': None, 'text': 'Yeah?'},\n",
       "  {'speaker': 'JENNA',\n",
       "   'timestamp': None,\n",
       "   'text': 'Oh my God. Because I such--'},\n",
       "  {'speaker': 'ANGELA', 'timestamp': None, 'text': 'Were you nervous?'},\n",
       "  {'speaker': 'JENNA',\n",
       "   'timestamp': None,\n",
       "   'text': 'Oh yes. I was a superfan of the British version.'},\n",
       "  {'speaker': 'ANGELA', 'timestamp': None, 'text': 'Me too.'},\n",
       "  {'speaker': 'JENNA',\n",
       "   'timestamp': None,\n",
       "   'text': 'And I had been cast in the pilot and they came and they listened to us do a table read. And afterwards, they asked me, John, Rainn, Steve, and BJ and Greg to join them for lunch to discuss the show. And I remember thinking if I get fired tomorrow, at least I got the have lunch with Ricky Gervais and Stephen Merchant. At least that happened. That was to me just huge.'},\n",
       "  {'speaker': 'ANGELA',\n",
       "   'timestamp': None,\n",
       "   'text': 'Was it a fun lunch? I was not at that lunch. I was not invited.'},\n",
       "  {'speaker': 'JENNA',\n",
       "   'timestamp': None,\n",
       "   'text': \"It was so much fun, Angela. And I remember Ricky saying something in that lunch that was really important. He said, you know, in England, you can be really, really bad at your job for a long time and you never get fired. He was like, in America that's going to frustrate people. So my one piece of advice is that Michael can be a buffoon, he can be silly, he can be irritating. But you should, I suggest, he said, that you show glimpses of him actually being a good salesperson. And we do that throughout the show. You see in future episodes that he is actually good at sales. And he said that's going to be an important piece of the puzzle. And Stephen Merchant said, my piece of advice would be to learn a little bit more into the Jim and Pam relationship. He said--\"},\n",
       "  {'speaker': 'ANGELA', 'timestamp': None, 'text': 'He knew the heart of it.'},\n",
       "  {'speaker': 'JENNA',\n",
       "   'timestamp': None,\n",
       "   'text': \"He said, that's really gonna be the heart of your show. Because the British version, they did six episodes for their first season. Six episodes for their second season. And one big Christmas special. And they knew for American television, we were looking to do--\"},\n",
       "  {'speaker': 'ANGELA', 'timestamp': None, 'text': 'Years.'},\n",
       "  {'speaker': 'JENNA',\n",
       "   'timestamp': None,\n",
       "   'text': \"Years. And ended up doing two hundred. So he said, you need to keep the heart beating on the show. And so, that's the heart of the show.\"},\n",
       "  {'speaker': 'ANGELA', 'timestamp': None, 'text': \"That's Jim and Pam.\"},\n",
       "  {'speaker': 'JENNA',\n",
       "   'timestamp': None,\n",
       "   'text': 'Okay, I have another Fast Fact. We filmed the pilot six months before the rest of season one. And we shot it on the second floor of a real office building in Culver City.'},\n",
       "  {'speaker': 'ANGELA',\n",
       "   'timestamp': None,\n",
       "   'text': 'So it was an actual office building. And a lot of times on sets, they actually build the office so if they wanna film and get a certain camera angle, they can move a wall. They can move a window. They can move a door. Because they built it.'},\n",
       "  {'speaker': 'JENNA',\n",
       "   'timestamp': None,\n",
       "   'text': 'They actually say \"wall flying out\" and they move a whole wall.'},\n",
       "  {'speaker': 'ANGELA', 'timestamp': None, 'text': 'They move a whole wall.'},\n",
       "  {'speaker': 'JENNA', 'timestamp': None, 'text': \"It's insane.\"},\n",
       "  {'speaker': 'ANGELA',\n",
       "   'timestamp': None,\n",
       "   'text': \"On our show because it was in an actual office building, you just had to work with it. And it sort of really lended itself to the documentary style that all the shots weren't going to look pretty. They weren't going to be lined up just right because they had to work around actual wall and windows. They couldn't just pop them out.\"},\n",
       "  {'speaker': 'JENNA',\n",
       "   'timestamp': None,\n",
       "   'text': 'I remember speaking to Ken Kwapis, our director, about setting certain rules for the documentary style of filming. And he said it was very important to him that for all of the actors and crew that the set felt like a real working office and a real documentary was happening. And so one of the rules that he came up with was that he cleared the entire set of all crew members except a camera operator, a boom operator, and himself.'},\n",
       "  {'speaker': 'ANGELA', 'timestamp': None, 'text': 'Yes.'},\n",
       "  {'speaker': 'JENNA', 'timestamp': None, 'text': 'And that was it.'},\n",
       "  {'speaker': 'ANGELA', 'timestamp': None, 'text': 'That was it.'},\n",
       "  {'speaker': 'JENNA',\n",
       "   'timestamp': None,\n",
       "   'text': 'He also made all of the actors come in every morning, go through hair and makeup, and then sit at our desk starting at seven thirty AM. And we had to pretend to work. And he walked around with the documentary crew and filmed us for thirty minutes.'},\n",
       "  {'speaker': 'ANGELA',\n",
       "   'timestamp': None,\n",
       "   'text': 'Yeah. Just us quietly working.'},\n",
       "  {'speaker': 'JENNA',\n",
       "   'timestamp': None,\n",
       "   'text': 'And little shots that you see, for example, of Pam doing White Out. That is a piece of B roll from one of those working mornings that we did. And we did that every day on the pilot. Something else about this episode that I noticed is that there is a random exterior shot of the building.'},\n",
       "  {'speaker': 'ANGELA',\n",
       "   'timestamp': None,\n",
       "   'text': 'Yes! Oh Jenna, let me tell you. Wait, let me grab one of my colorful note cards as you called them. Exterior shot at nine twenty nine, nine minutes and twenty nine seconds. Not our building!'},\n",
       "  {'speaker': 'JENNA',\n",
       "   'timestamp': None,\n",
       "   'text': 'With a huge exclamation point.'},\n",
       "  {'speaker': 'ANGELA', 'timestamp': None, 'text': 'See?'},\n",
       "  {'speaker': 'JENNA', 'timestamp': None, 'text': 'This is a big discovery.'},\n",
       "  {'speaker': 'ANGELA',\n",
       "   'timestamp': None,\n",
       "   'text': 'This is a big discovery for me.'},\n",
       "  {'speaker': 'JENNA',\n",
       "   'timestamp': None,\n",
       "   'text': \"Not only not our building. It wasn't even the building we were filming in. I don't know where they got that shot.\"},\n",
       "  {'speaker': 'ANGELA',\n",
       "   'timestamp': None,\n",
       "   'text': 'It was like stock footage from something.'},\n",
       "  {'speaker': 'JENNA',\n",
       "   'timestamp': None,\n",
       "   'text': 'I think it was stock footage. And then we never use it again. That was it.'},\n",
       "  {'speaker': 'ANGELA', 'timestamp': None, 'text': 'That was it.'},\n",
       "  {'speaker': 'JENNA',\n",
       "   'timestamp': None,\n",
       "   'text': 'They should go back and take that out.'},\n",
       "  {'speaker': 'ANGELA', 'timestamp': None, 'text': 'See you later.'},\n",
       "  {'speaker': 'JENNA',\n",
       "   'timestamp': None,\n",
       "   'text': 'And put a shot of the real Dunder Mifflin exterior.'},\n",
       "  {'speaker': 'ANGELA',\n",
       "   'timestamp': None,\n",
       "   'text': \"You guys. Jenna's getting sassy on you.\"},\n",
       "  {'speaker': 'JENNA',\n",
       "   'timestamp': None,\n",
       "   'text': \"Yeah, I'm gonna call someone.\"},\n",
       "  {'speaker': 'ANGELA', 'timestamp': None, 'text': 'Someone get it right.'},\n",
       "  {'speaker': 'JENNA',\n",
       "   'timestamp': None,\n",
       "   'text': 'Alright, here is my last Fast Fact of this episode. Meredith is not Meredith.'},\n",
       "  {'speaker': 'ANGELA',\n",
       "   'timestamp': None,\n",
       "   'text': 'She is not. She is Henriette.'},\n",
       "  {'speaker': 'JENNA',\n",
       "   'timestamp': None,\n",
       "   'text': 'Yes. Meredith is played by Henriette Mantel in the pilot episode. Not Kate Flannery.'},\n",
       "  {'speaker': 'ANGELA', 'timestamp': None, 'text': 'This is true.'},\n",
       "  {'speaker': 'JENNA',\n",
       "   'timestamp': None,\n",
       "   'text': 'Henriette Mantel was comedy actress who just broken out because she had played Alice in the Brady Bunch films. And she was there for the pilot and then it was six months later that we got picked up and then we started filming the rest of the episodes. And I guess the rumor was she was not available.'},\n",
       "  {'speaker': 'ANGELA', 'timestamp': None, 'text': 'She was busy.'},\n",
       "  {'speaker': 'JENNA', 'timestamp': None, 'text': 'And we had to recast her.'},\n",
       "  {'speaker': 'ANGELA',\n",
       "   'timestamp': None,\n",
       "   'text': \"So Kate Flannery came in. Here's my Fast Fact. Kate Flannery and I met years before The Office. We were in an all female improv group called Bitch Planet. Woo hoo! Sunday nights, ten PM. That's when you wanna--\"},\n",
       "  {'speaker': 'JENNA',\n",
       "   'timestamp': None,\n",
       "   'text': \"It's exactly when you want your comedy.\"},\n",
       "  {'speaker': 'ANGELA',\n",
       "   'timestamp': None,\n",
       "   'text': \"That's when you wanna watch improv. Kate and I had known each other for a really long time. And also, Oscar Nunez and I did a sketch comedy show together called Hot Towel.Â\"},\n",
       "  {'speaker': 'JENNA',\n",
       "   'timestamp': None,\n",
       "   'text': 'Where do you get these names, Angela?'},\n",
       "  {'speaker': 'ANGELA',\n",
       "   'timestamp': None,\n",
       "   'text': \"So it was really fun for me because here I am, like, I was so nervous the first day. I didn't know Oscar had been cast. He didn't know I had been cast. You guys, this was sort of before smartphones. It's not like you texted someone you got a role or put it on your social media. There was none of that.\"},\n",
       "  {'speaker': 'JENNA',\n",
       "   'timestamp': None,\n",
       "   'text': 'So you walked in and were completely surprised?'},\n",
       "  {'speaker': 'ANGELA',\n",
       "   'timestamp': None,\n",
       "   'text': \"I was completely surprised when I saw Oscar. And not only did I see Oscar but Ken Kwapis sat us next to each other. So I was like, oh my God, I'm going to be okay.\"},\n",
       "  {'speaker': 'JENNA', 'timestamp': None, 'text': \"That's amazing.\"},\n",
       "  {'speaker': 'ANGELA',\n",
       "   'timestamp': None,\n",
       "   'text': \"My buddy's here. And then Brian walked in as Kevin and I was like, here we go. We're off to the races.\"},\n",
       "  {'speaker': 'JENNA',\n",
       "   'timestamp': None,\n",
       "   'text': 'You guys were amazing in accounting.'},\n",
       "  {'speaker': 'ANGELA',\n",
       "   'timestamp': None,\n",
       "   'text': 'Thank you. Thank you so much.'},\n",
       "  {'speaker': 'JENNA',\n",
       "   'timestamp': None,\n",
       "   'text': \"I'm giving you a compliment.\"},\n",
       "  {'speaker': 'ANGELA',\n",
       "   'timestamp': None,\n",
       "   'text': 'So yeah, I was so excited to have these friends that I had performed with for years before The Office sitting in my little corner back there.'},\n",
       "  {'speaker': 'JENNA',\n",
       "   'timestamp': None,\n",
       "   'text': 'I remember meeting everybody for the first time. Do you remember your first impressions of people. I remember my first impression of Rainn Wilson.'},\n",
       "  {'speaker': 'ANGELA', 'timestamp': None, 'text': 'Tell me.'},\n",
       "  {'speaker': 'JENNA',\n",
       "   'timestamp': None,\n",
       "   'text': \"Well, I met Rainn Wilson at a live test audition. So for all the leads of the show, they brought us in to screen test and they mixed and matched us. There were four Pams and four Dwights and four Jims and four Michaels. And we spent a whole day being mixed and matched with each other. And I remember meeting Rainn Wilson and he was in character but I couldn't really know that because I didn't know Rainn yet. And I thought he was the weirdest person I ever met in my life.\"},\n",
       "  {'speaker': 'ANGELA',\n",
       "   'timestamp': None,\n",
       "   'text': 'Wait, he was in character the whole time?'},\n",
       "  {'speaker': 'JENNA', 'timestamp': None, 'text': 'Yeah. He just was Dwight.'},\n",
       "  {'speaker': 'ANGELA', 'timestamp': None, 'text': 'So method, Rainn.'},\n",
       "  {'speaker': 'JENNA',\n",
       "   'timestamp': None,\n",
       "   'text': 'He had his hair like that.'},\n",
       "  {'speaker': 'ANGELA', 'timestamp': None, 'text': 'So method.'},\n",
       "  {'speaker': 'JENNA',\n",
       "   'timestamp': None,\n",
       "   'text': \"But you know what? I kinda did the same thing. I did my Pam hairstyle. The hairstyle that I wore on the show, I sorta invented through the audition process. That sort of half up, half down scrunchie air dried curl. So I was very quiet. I didn't talk to people in the waiting room because I thought Pam was sort of not a chatter. And I didn't wanna get out of character.\"},\n",
       "  {'speaker': 'ANGELA',\n",
       "   'timestamp': None,\n",
       "   'text': \"I remember one of the first things, this is so random but it's true. That first week of filming, Rainn's wife came to have lunch and this is the main interaction I remember from Rainn during the pilot.\"},\n",
       "  {'speaker': 'JENNA', 'timestamp': None, 'text': 'Okay.'},\n",
       "  {'speaker': 'ANGELA',\n",
       "   'timestamp': None,\n",
       "   'text': 'Rainn introduces me to his wife, she was pregnant at the time with their son. And he says, this is my wife, Holly, bearer of my seed. And I was like, what?! And she started laughing. But that was just Rainn being Rainn.'},\n",
       "  {'speaker': 'JENNA', 'timestamp': None, 'text': \"That's Rainn.\"},\n",
       "  {'speaker': 'ANGELA',\n",
       "   'timestamp': None,\n",
       "   'text': \"That is Rainn. But wouldn't Dwight say that?\"},\n",
       "  {'speaker': 'JENNA', 'timestamp': None, 'text': 'He would also say that.'},\n",
       "  {'speaker': 'ANGELA',\n",
       "   'timestamp': None,\n",
       "   'text': 'This is Angela, bearer of my seed.Â'},\n",
       "  {'speaker': 'JENNA', 'timestamp': None, 'text': \"Yes. It's amazing how--\"},\n",
       "  {'speaker': 'ANGELA',\n",
       "   'timestamp': None,\n",
       "   'text': \"She's carrying my seed. I'm like, oh my God.Â\"},\n",
       "  {'speaker': 'JENNA',\n",
       "   'timestamp': None,\n",
       "   'text': \"I feel like we all had little parts of our characters in us. But I don't know if that's true of you because you are so not Angela Martin.\"},\n",
       "  {'speaker': 'ANGELA',\n",
       "   'timestamp': None,\n",
       "   'text': \"I am. I was thinking about how you were saying that you stayed in character and so did Rainn in between your auditions in the lobby. I would not have. I would've been like chitty chat chat. And then I would've turned into a bitch when I entered the room.\"},\n",
       "  {'speaker': 'JENNA',\n",
       "   'timestamp': None,\n",
       "   'text': \"Well you know, I didn't have any scenes with Rainn in the pilot of substance. I didn't have any one on one scenes. So for me, when we were shooting the pilot, the people that I really bonded with were Steve, John, and you because you were over the little partition. You were my closest seatmate in the office. So you and I bonded. And I remember after we finished the pilot and we all left and we didn't know if we were gonna be picked up or make anymore. Shortly after that, I turned thirty years old. It was a big milestone birthday for me. And I really wondered if I should invite any of you guys. And I didn't. I didn't invite you guys because I thought well I'm probably never gonna see them again.\"},\n",
       "  {'speaker': 'ANGELA',\n",
       "   'timestamp': None,\n",
       "   'text': 'Should I throw you another thirtieth birthday party and invite everyone?'},\n",
       "  {'speaker': 'JENNA', 'timestamp': None, 'text': 'Would you?'},\n",
       "  {'speaker': 'ANGELA',\n",
       "   'timestamp': None,\n",
       "   'text': 'And then we could all just say Happy Thirtieth?'},\n",
       "  {'speaker': 'JENNA', 'timestamp': None, 'text': 'Will you?'},\n",
       "  {'speaker': 'ANGELA', 'timestamp': None, 'text': 'Okay!Â'},\n",
       "  {'speaker': 'JENNA',\n",
       "   'timestamp': None,\n",
       "   'text': \"Cus now you guys are some of my closest friends and you weren't at my milestone birthday.\"},\n",
       "  {'speaker': 'ANGELA',\n",
       "   'timestamp': None,\n",
       "   'text': \"Aw. Okay, we'll have to throw you a thirtieth birthday party. It won't be weird.\"},\n",
       "  {'speaker': 'JENNA',\n",
       "   'timestamp': None,\n",
       "   'text': \"Alright guys. Next up, we're gonna break down this episode. We're gonna really get into the nitty gritty. We're gonna talk about scenes and memories and stories so stick with us.\"},\n",
       "  {'speaker': 'ANGELA',\n",
       "   'timestamp': None,\n",
       "   'text': \"Alright and we're back. We're talking about the pilot episode of The Office and I think we should talk about some of our favorite moments, Jenna.\"},\n",
       "  {'speaker': 'JENNA',\n",
       "   'timestamp': None,\n",
       "   'text': \"Yes. Well, one of my favorite moments is the dynamic between Pam and Michael. I mean selfishly, I guess I'm in that moment.\"},\n",
       "  {'speaker': 'ANGELA', 'timestamp': None, 'text': 'Yeah.'},\n",
       "  {'speaker': 'JENNA',\n",
       "   'timestamp': None,\n",
       "   'text': 'But I really loved working with Steve Carrell. I really loved how much he let me be silent and just look at him.'},\n",
       "  {'speaker': 'ANGELA', 'timestamp': None, 'text': 'And just react.'},\n",
       "  {'speaker': 'JENNA',\n",
       "   'timestamp': None,\n",
       "   'text': 'Yes. I loved that. But I especially loved that whenever Melora Hardin who plays Jan Levinson Goul got in the mix.'},\n",
       "  {'speaker': 'ANGELA',\n",
       "   'timestamp': None,\n",
       "   'text': \"She's so commanding. Just like, Melora's presence, is like I'm scared of her.\"},\n",
       "  {'speaker': 'JENNA', 'timestamp': None, 'text': 'Yes.'},\n",
       "  {'speaker': 'ANGELA',\n",
       "   'timestamp': None,\n",
       "   'text': 'I get it. I get why he was a little scared of her.Â'},\n",
       "  {'speaker': 'JENNA',\n",
       "   'timestamp': None,\n",
       "   'text': 'And I love the scene where Michael tries to throw Pam under the bus about why he doesn\\'t have the agenda that he\\'s supposed to have. And it\\'s because he told her to throw it in the receptacle, the trash can that is the filing cabinet for corporate memos. And I remember shooting that scene and I just remember every time that Pam said \"You told me to put it in a special filing cabinet that is the trash can\" that we would giggle. And so I remember the matter of factness of that moment. And how fun that was.'},\n",
       "  {'speaker': 'ANGELA',\n",
       "   'timestamp': None,\n",
       "   'text': \"Well, Pam totally stood up for herself in her own little way in that moment. Here's the thing about Steve Carrell. He's one of the nicest people you will ever meet. He is so nice. I know it's become almost like a joke. Like, Steve Carrell's the nicest person ever, but he is.Â\"},\n",
       "  {'speaker': 'JENNA',\n",
       "   'timestamp': None,\n",
       "   'text': \"I know and people ask me a lot, what's it like to work with Steve Carrell? Are you just laughing all the time? And no, you're not laughing all the time because Steve isn't on all the time.Â\"},\n",
       "  {'speaker': 'ANGELA', 'timestamp': None, 'text': \"He's a real person.\"},\n",
       "  {'speaker': 'JENNA',\n",
       "   'timestamp': None,\n",
       "   'text': \"He's a real person and he's... I've worked with comedians who are on all the time. Who walk around and they can't turn off their joke making brain.\"},\n",
       "  {'speaker': 'ANGELA', 'timestamp': None, 'text': 'They drive me crazy.'},\n",
       "  {'speaker': 'JENNA',\n",
       "   'timestamp': None,\n",
       "   'text': \"It's a little insane. Steve is not like that. You and Steve and I would sit and have long conversations about the best frozen yogurt in the San Fernando Valley.\"},\n",
       "  {'speaker': 'ANGELA',\n",
       "   'timestamp': None,\n",
       "   'text': \"Oh, I will never forget the morning. On Monday mornings, Steve would come out of his office, out of Michael Scott's office between scenes, he would walk over to Jenna and I and we would talk about our weekends. And one Monday morning, he walked over and he was like, ladies, guess what I did this weekend. And we're like what? And he's like I went to Target.\"},\n",
       "  {'speaker': 'JENNA',\n",
       "   'timestamp': None,\n",
       "   'text': 'He would talk to use about Target.'},\n",
       "  {'speaker': 'ANGELA',\n",
       "   'timestamp': None,\n",
       "   'text': 'And he told us about his Target run.'},\n",
       "  {'speaker': 'JENNA',\n",
       "   'timestamp': None,\n",
       "   'text': 'It was really, really sweet. You know recently, I was in a Michaels purchasing some supplies for a crafting job. And the checkout guy said, oh myÂ  gosh, now this is getting crazy. This morning, Oscar Nunez came in here. Then Steve Carrell and now you? What do you all live here?'},\n",
       "  {'speaker': 'ANGELA', 'timestamp': None, 'text': 'We love crafting.'},\n",
       "  {'speaker': 'JENNA', 'timestamp': None, 'text': 'We love crafting.'},\n",
       "  {'speaker': 'ANGELA', 'timestamp': None, 'text': \"And we're all here.\"},\n",
       "  {'speaker': 'JENNA',\n",
       "   'timestamp': None,\n",
       "   'text': \"I guess we all live around this one Michaels crafting store. I texted Steve and I said, Steve, the checkout guy at Michael's said you were buying some crafting supplies today. And he said, oh yes, I needed some glue sticks. And he told me what he needed. And he was like, what were you there for?Â\"},\n",
       "  {'speaker': 'ANGELA', 'timestamp': None, 'text': 'That is Steve.'},\n",
       "  {'speaker': 'JENNA',\n",
       "   'timestamp': None,\n",
       "   'text': \"That is Steve. That's the kind of stuff we would talk to him about. And so to then have that man shift into this scene where he's just being awful to my character.\"},\n",
       "  {'speaker': 'ANGELA',\n",
       "   'timestamp': None,\n",
       "   'text': 'Like throwing you under the boss in front of the big boss lady.'},\n",
       "  {'speaker': 'JENNA',\n",
       "   'timestamp': None,\n",
       "   'text': \"Yes. When our real dynamic was just like so different. Like so much love. So in this scene, Jan tells Michael there's gonna be downsizing. This is big news. This is important. Michael should be paying attention. We've already established that he's thrown away the agenda for the meeting.\"},\n",
       "  {'speaker': 'ANGELA',\n",
       "   'timestamp': None,\n",
       "   'text': 'Yeah, he should take this seriously.'},\n",
       "  {'speaker': 'JENNA',\n",
       "   'timestamp': None,\n",
       "   'text': 'But instead he takes a phone call from his friend Todd Packer.'},\n",
       "  {'speaker': 'ANGELA',\n",
       "   'timestamp': None,\n",
       "   'text': 'Todd Packer, his party buddy who he clearly covets. He thinks this guy is amazing.'},\n",
       "  {'speaker': 'JENNA',\n",
       "   'timestamp': None,\n",
       "   'text': 'Another interesting fact about this scene is that the voice of Todd Packer that comes on the phone is not the voice of the real Todd Packer.'},\n",
       "  {'speaker': 'ANGELA',\n",
       "   'timestamp': None,\n",
       "   'text': 'What are you talking about?'},\n",
       "  {'speaker': 'JENNA',\n",
       "   'timestamp': None,\n",
       "   'text': 'Dave Koechner ends up playing Todd Packer. When we meet him in season two, this role is played by Dave Koechner. But Dave was not hired when we shot the pilot.'},\n",
       "  {'speaker': 'ANGELA', 'timestamp': None, 'text': \"What? He's not, wait?\"},\n",
       "  {'speaker': 'JENNA',\n",
       "   'timestamp': None,\n",
       "   'text': 'So it sounds like Dave Koechner.'},\n",
       "  {'speaker': 'ANGELA', 'timestamp': None, 'text': 'Who is it?'},\n",
       "  {'speaker': 'JENNA',\n",
       "   'timestamp': None,\n",
       "   'text': \"But I'm thinking it can't be Dave Koechner, right?\"},\n",
       "  {'speaker': 'ANGELA',\n",
       "   'timestamp': None,\n",
       "   'text': 'All this time I thought it was Dave Koechner.'},\n",
       "  {'speaker': 'JENNA', 'timestamp': None, 'text': \"It's not Dave.\"},\n",
       "  {'speaker': 'ANGELA', 'timestamp': None, 'text': 'Who is it?'},\n",
       "  {'speaker': 'JENNA',\n",
       "   'timestamp': None,\n",
       "   'text': 'I texted Dave Rogers our editor, knower of all things.'},\n",
       "  {'speaker': 'ANGELA',\n",
       "   'timestamp': None,\n",
       "   'text': 'I mean he is knower of all Office facts.'},\n",
       "  {'speaker': 'JENNA', 'timestamp': None, 'text': 'He is.'},\n",
       "  {'speaker': 'ANGELA', 'timestamp': None, 'text': 'OK, what did Dave say?'},\n",
       "  {'speaker': 'JENNA',\n",
       "   'timestamp': None,\n",
       "   'text': 'Dave said that the voice was played by Toby Huss.'},\n",
       "  {'speaker': 'ANGELA', 'timestamp': None, 'text': 'Toby Huss.'},\n",
       "  {'speaker': 'JENNA',\n",
       "   'timestamp': None,\n",
       "   'text': 'Very famous voice actor. He was on King of the Hill for years.'},\n",
       "  {'speaker': 'ANGELA',\n",
       "   'timestamp': None,\n",
       "   'text': \"And friends of Greg Daniels'.\"},\n",
       "  {'speaker': 'JENNA', 'timestamp': None, 'text': 'Yes.'},\n",
       "  {'speaker': 'ANGELA',\n",
       "   'timestamp': None,\n",
       "   'text': 'Toby Huss is so talented.'},\n",
       "  {'speaker': 'JENNA', 'timestamp': None, 'text': 'I know.'},\n",
       "  {'speaker': 'ANGELA', 'timestamp': None, 'text': 'How about that?'},\n",
       "  {'speaker': 'JENNA',\n",
       "   'timestamp': None,\n",
       "   'text': \"That is Todd Packer's voice.\"},\n",
       "  {'speaker': 'ANGELA', 'timestamp': None, 'text': 'In the pilot episode.'},\n",
       "  {'speaker': 'JENNA', 'timestamp': None, 'text': 'Yes.'},\n",
       "  {'speaker': 'ANGELA',\n",
       "   'timestamp': None,\n",
       "   'text': \"Well, I loved, here's one of the things I loved about the pilot. And just sort of the brilliance that was Ricky Gervais and Stephen Merchant and Greg Daniels and their collaboration in building this world out is that so many truths about the characters was established in all these subtle ways. And one of the things I loved was Michael is clearly thrilled that the camera people are there. He is so excited.\"},\n",
       "  {'speaker': 'JENNA',\n",
       "   'timestamp': None,\n",
       "   'text': 'He could not have signed up for this faster.Â'},\n",
       "  {'speaker': 'ANGELA',\n",
       "   'timestamp': None,\n",
       "   'text': \"I mean, he jumped at the chance for this. And he thinks he's one of the world's best comedians in the world. He thinks he is one of the funniest people in the world.\"},\n",
       "  {'speaker': 'JENNA',\n",
       "   'timestamp': None,\n",
       "   'text': 'He has that amazing talking head where he talks about who his heroes are. And they are Bob Hope.'},\n",
       "  {'speaker': 'ANGELA', 'timestamp': None, 'text': 'Abraham Lincoln.'},\n",
       "  {'speaker': 'JENNA', 'timestamp': None, 'text': 'Bono.'},\n",
       "  {'speaker': 'ANGELA',\n",
       "   'timestamp': None,\n",
       "   'text': 'And God. Probably. He said probably.'},\n",
       "  {'speaker': 'JENNA',\n",
       "   'timestamp': None,\n",
       "   'text': \"Probably God. And here's a little tidbit. Steve wrote that.\"},\n",
       "  {'speaker': 'ANGELA', 'timestamp': None, 'text': 'He did?'},\n",
       "  {'speaker': 'JENNA', 'timestamp': None, 'text': 'Yes.'},\n",
       "  {'speaker': 'ANGELA',\n",
       "   'timestamp': None,\n",
       "   'text': \"Oh my God, I love that! I didn't know that.\"},\n",
       "  {'speaker': 'JENNA',\n",
       "   'timestamp': None,\n",
       "   'text': \"Yeah, Greg asked him, would you mind writing a list of who you believe are Michael Scott's heroes.\"},\n",
       "  {'speaker': 'ANGELA',\n",
       "   'timestamp': None,\n",
       "   'text': 'Wow, so brilliant. Bob Hope.'},\n",
       "  {'speaker': 'JENNA', 'timestamp': None, 'text': 'And it made it in.'},\n",
       "  {'speaker': 'ANGELA',\n",
       "   'timestamp': None,\n",
       "   'text': \"Yes. Well and every chance he gets, he's looking into the camera and doing his comedy bits. And this sort of sets up Michael's love of being liked and being appreciated. And he wants everyone to think he's like the fun boss and he thinks he's legitimately talented.\"},\n",
       "  {'speaker': 'JENNA',\n",
       "   'timestamp': None,\n",
       "   'text': \"Well there's that scene where he's doing the Six Million Dollar man where he's walking away from Pam's desk.\"},\n",
       "  {'speaker': 'ANGELA', 'timestamp': None, 'text': 'Yes!'},\n",
       "  {'speaker': 'JENNA',\n",
       "   'timestamp': None,\n",
       "   'text': \"I could not get through that scene and in fact, in order to get my reaction shot they had to make Steve leave the set because I couldn't get through it. So that reaction of me was not while Steve was actually doing anything because everytime he did it, I started laughing.\"},\n",
       "  {'speaker': 'ANGELA',\n",
       "   'timestamp': None,\n",
       "   'text': \"Well he's so giddy to do his Six Million Dollar Man. I timed it because as I watched it I went, wow, this is a long time to commit to this bit. Because he's like *Six Million Dollar Man SFX* He did it and it started at nine minutes forty seconds and it doesn't end until ten minutes two seconds. That is twenty two seconds of the slow mo bit. That's a ton when you think about the scope of an episode. For twenty two seconds, he went *Six Million Dollar Man SFX*Â\"},\n",
       "  {'speaker': 'JENNA',\n",
       "   'timestamp': None,\n",
       "   'text': \"I mean that's probably why I couldn't get through it. That's why they couldn't get a reaction of me because I couldn't hold it for twenty seconds. I couldn't hold a straight face that long.\"},\n",
       "  {'speaker': 'ANGELA',\n",
       "   'timestamp': None,\n",
       "   'text': 'And he was so desperate for you to look at him and have some kind of reaction. Oh man. OK, what else?'},\n",
       "  {'speaker': 'JENNA',\n",
       "   'timestamp': None,\n",
       "   'text': \"There's the conference room scene where Michael officially announces that there's going to be downsizing at Dunder Mifflin. This is a big theme of the pilot. This is the news that Jan gives him when she comes into the office that Dunder Mifflin can no longer support both a Scranton branch and a Stanford branch and that there gonna have to prove who is the branch that should stay. But even if Scranton gets to stay, there might be downsizing of employees.\"},\n",
       "  {'speaker': 'ANGELA',\n",
       "   'timestamp': None,\n",
       "   'text': \"Yeah, the company's hurting and they have to make some cutbacks and they have to fire some people.\"},\n",
       "  {'speaker': 'JENNA',\n",
       "   'timestamp': None,\n",
       "   'text': \"Yes so Michael goes into the conference room and this is the first time we see Michael in the conference room and of course Dwight won't give him the space to do that.\"},\n",
       "  {'speaker': 'ANGELA',\n",
       "   'timestamp': None,\n",
       "   'text': \"It's their first power struggle which you will see for years to come.\"},\n",
       "  {'speaker': 'JENNA',\n",
       "   'timestamp': None,\n",
       "   'text': \"It's the first time he refers to himself as the assistant regional manager. Which is great. And I noticed something about this conference room scene.\"},\n",
       "  {'speaker': 'ANGELA',\n",
       "   'timestamp': None,\n",
       "   'text': 'What? I bet I have it on my note cards.'},\n",
       "  {'speaker': 'JENNA',\n",
       "   'timestamp': None,\n",
       "   'text': 'I bet you have it. That there are some extras in this scene that are never to be seen again. There are two women.'},\n",
       "  {'speaker': 'ANGELA',\n",
       "   'timestamp': None,\n",
       "   'text': 'Do you want me to refer to it? Let me just tell you what I wrote on my note card. Conference room faces, semicolon.Â'},\n",
       "  {'speaker': 'JENNA',\n",
       "   'timestamp': None,\n",
       "   'text': 'So in the background there are two women and they are the real production company accountants for our show.Â'},\n",
       "  {'speaker': 'ANGELA',\n",
       "   'timestamp': None,\n",
       "   'text': 'Yes, we needed more people to fill out the space and they pulled in our actual accountants from our production office.'},\n",
       "  {'speaker': 'JENNA',\n",
       "   'timestamp': None,\n",
       "   'text': 'Yes, Ken Kwapis the director walked into the production office and asked if anyone would like to be in the background of a scene. And those two women came and sat there for that couple of hours. They were so giddy.Â'},\n",
       "  {'speaker': 'ANGELA',\n",
       "   'timestamp': None,\n",
       "   'text': \"They loved it. And then also in the conference room, some faces that you might see sprinkled through the first season but they don't go past that season are Luann Kelly who worked in the annex. She is someone that you see a lot. I get asked a lot who is that lady in the annex?Â\"},\n",
       "  {'speaker': 'JENNA',\n",
       "   'timestamp': None,\n",
       "   'text': \"She was sort of over where Mindy ends up sitting by Kelly's desk.\"},\n",
       "  {'speaker': 'ANGELA',\n",
       "   'timestamp': None,\n",
       "   'text': 'And then of course, Devon and Creed who do end up having a storyline.'},\n",
       "  {'speaker': 'JENNA',\n",
       "   'timestamp': None,\n",
       "   'text': 'That will not come until season two.'},\n",
       "  {'speaker': 'ANGELA', 'timestamp': None, 'text': \"That's right.\"},\n",
       "  {'speaker': 'JENNA',\n",
       "   'timestamp': None,\n",
       "   'text': \"So for an entire season you just see Devon and Creed in the background of scenes. They don't get any lines until the second season.\"},\n",
       "  {'speaker': 'ANGELA',\n",
       "   'timestamp': None,\n",
       "   'text': 'But that is the only scene our actual accountants are in. Because they had to go back to work.'},\n",
       "  {'speaker': 'JENNA', 'timestamp': None, 'text': 'They did.'},\n",
       "  {'speaker': 'ANGELA',\n",
       "   'timestamp': None,\n",
       "   'text': 'They had to actually go back to being accountants for the show.'},\n",
       "  {'speaker': 'JENNA',\n",
       "   'timestamp': None,\n",
       "   'text': 'I think this is an interesting tidbit. Phyllis Smith who plays Phyllis on the show, she was the casting associate for The Office. So when I auditioned for The Office, she read my audition scenes with me.'},\n",
       "  {'speaker': 'ANGELA',\n",
       "   'timestamp': None,\n",
       "   'text': \"Everyone. I read my scenes with Phyllis. That's who I read my scene with.\"},\n",
       "  {'speaker': 'JENNA',\n",
       "   'timestamp': None,\n",
       "   'text': 'Yes and Ken Kwapis the director was so taken with how she did her readings with the actors.'},\n",
       "  {'speaker': 'ANGELA',\n",
       "   'timestamp': None,\n",
       "   'text': \"She's so earnest, you guys. She is so earnest.\"},\n",
       "  {'speaker': 'JENNA',\n",
       "   'timestamp': None,\n",
       "   'text': 'And so real that he said to Greg Daniels, I want her on the show. Can I give her a part on the show? And so Phyllis went from being a casting associate, which she had done for years with Allison Jones the casting director to having a part in this pilot. And I think because we all thought the show was going nowhere, it was fine. And after the pilot was over, she went back to being a casting associate.'},\n",
       "  {'speaker': 'ANGELA',\n",
       "   'timestamp': None,\n",
       "   'text': 'She went right back to work. Phyllis has a great story that she tells that the way she found out she got Phyllis is that she got sides and they said Phyllis.'},\n",
       "  {'speaker': 'JENNA',\n",
       "   'timestamp': None,\n",
       "   'text': 'So there was a character and they named it Phyllis.'},\n",
       "  {'speaker': 'ANGELA',\n",
       "   'timestamp': None,\n",
       "   'text': \"And Ken was like, that's you. You're Phyllis. And she was like what?\"},\n",
       "  {'speaker': 'JENNA',\n",
       "   'timestamp': None,\n",
       "   'text': 'We wrote a part for you. Based on the numerous readings with actors.'},\n",
       "  {'speaker': 'ANGELA',\n",
       "   'timestamp': None,\n",
       "   'text': \"You're now in the show, Phyllis.\"},\n",
       "  {'speaker': 'JENNA',\n",
       "   'timestamp': None,\n",
       "   'text': 'Which is just so cool because Phyllis had wanted to be an actress. She had been an actress, she had been a burlesque dancer.Â'},\n",
       "  {'speaker': 'ANGELA',\n",
       "   'timestamp': None,\n",
       "   'text': 'No one can shimmy like Phyllis. And she has a great shimmy. She has an amazing photo on her desk because Ken Kwapis wanted us to personalize our desk for the pilot episode and moving forward. So we all brought something from home. I had a photo of myself and my grandmother and a frame that said I heart grandma and my eyes are closed in the photo but my grandmother framed it anyway. And so I had that on my desk and it just kinda tickled me and made me think of my grandmother.'},\n",
       "  {'speaker': 'JENNA',\n",
       "   'timestamp': None,\n",
       "   'text': 'I had a picture of me and my sister swimming in the lake at the Ozarks.'},\n",
       "  {'speaker': 'ANGELA',\n",
       "   'timestamp': None,\n",
       "   'text': 'Yes and Phyllis had a picture of herself in her full burlesque outfit with a red feather boa draped over her shoulders.Â'},\n",
       "  {'speaker': 'JENNA',\n",
       "   'timestamp': None,\n",
       "   'text': \"Angela, let's take a quick break.\"},\n",
       "  {'speaker': 'ANGELA', 'timestamp': None, 'text': 'OK, Jenna.'},\n",
       "  {'speaker': 'JENNA',\n",
       "   'timestamp': None,\n",
       "   'text': 'You gonna get a snack? Why? Because you always get a snack during the breaks.'},\n",
       "  {'speaker': 'ANGELA', 'timestamp': None, 'text': 'I do.'},\n",
       "  {'speaker': 'JENNA',\n",
       "   'timestamp': None,\n",
       "   'text': \"So then we get to that crazy scene where Michael is walking Ryan the temp around. So he's just been told that we need downsizing and then he hires a temp. It's the opposite of downsizing.\"},\n",
       "  {'speaker': 'ANGELA',\n",
       "   'timestamp': None,\n",
       "   'text': \"Can I just say one thing I loved too? When Dwight has his talking head and he said, I've been talking about downsizing for years. I brought it up in my interview. Like, who does that? Who's interviewing for a job and says you should downsize?\"},\n",
       "  {'speaker': 'JENNA',\n",
       "   'timestamp': None,\n",
       "   'text': \"I would like this job. I suggest you get rid of three people. Um, so here's a little fun fact. It's not a Fast Fact. A fun fact is that BJ Novak was the first person cast on this show.\"},\n",
       "  {'speaker': 'ANGELA', 'timestamp': None, 'text': 'He was?'},\n",
       "  {'speaker': 'JENNA',\n",
       "   'timestamp': None,\n",
       "   'text': 'He was. Greg Daniels saw him doing standup comedy. And he thought this guy, I want this guy. So he offered BJ a role as both a writer and the role of Ryan the temp on the show. So when I came in for my audition, BJ was already cast. He was the very first person. And he was also the first example of that synergy of having people who were both performers and writers for the show.'},\n",
       "  {'speaker': 'ANGELA',\n",
       "   'timestamp': None,\n",
       "   'text': \"Which was so great. Something that we haven't talked about but will talk many times as the show goes is what a wonderful creative collaboration we had between the writers and actors. And that's because of Greg Daniels. He sort of set the tone that he wanted this creative collaboration, that he wanted to hear our ideas and wanted writers on the set. And I think we were so much better for it. I've been on other shows now where the writers and actors are separate and there's not a lot of collaboration.\"},\n",
       "  {'speaker': 'JENNA',\n",
       "   'timestamp': None,\n",
       "   'text': \"It feels weird after having experienced something else. No, Greg really trusted us to be the experts of our characters. So whenever he was trying to mull something over or justify something he would come to us and ask us. Just in the way that he went to Steve and said, hey, do you have any thoughts on who Michael Scott's heroes would be? He trusted us to have done our homework and know our characters so well that we could contribute.\"},\n",
       "  {'speaker': 'ANGELA',\n",
       "   'timestamp': None,\n",
       "   'text': 'Yeah it was really special.'},\n",
       "  {'speaker': 'JENNA',\n",
       "   'timestamp': None,\n",
       "   'text': \"So also in that scene. That is the famous stapler in jello. The staples goes in jello. I've seen so many people recreate this. How?\"},\n",
       "  {'speaker': 'ANGELA',\n",
       "   'timestamp': None,\n",
       "   'text': 'I am blown away everytime I see a fan tag me in a photo where they put something in jello, I am very impressed. Way to go.'},\n",
       "  {'speaker': 'JENNA',\n",
       "   'timestamp': None,\n",
       "   'text': \"Something we haven't mentioned in the flirtation between Jim and Pam in this episode. And it goes on through the whole first two thirds of this episode or three quarters of this episode. Little things.\"},\n",
       "  {'speaker': 'ANGELA',\n",
       "   'timestamp': None,\n",
       "   'text': 'What did I write on my pink notecard, Jenna?'},\n",
       "  {'speaker': 'JENNA', 'timestamp': None, 'text': 'Mixed berries.'},\n",
       "  {'speaker': 'ANGELA',\n",
       "   'timestamp': None,\n",
       "   'text': 'In quotes. \"He\\'s on to me.\" That is one of the cutest things. It\\'s so pure.Â'},\n",
       "  {'speaker': 'JENNA', 'timestamp': None, 'text': 'It is.'},\n",
       "  {'speaker': 'ANGELA',\n",
       "   'timestamp': None,\n",
       "   'text': \"That's like flirting for them. That he knows your favorite yogurt.Â\"},\n",
       "  {'speaker': 'JENNA',\n",
       "   'timestamp': None,\n",
       "   'text': 'But up until the end, you are just sort of following this flirtation between the two characters and then all of a sudden, Roy walks in the door.'},\n",
       "  {'speaker': 'ANGELA', 'timestamp': None, 'text': 'David Denman.'},\n",
       "  {'speaker': 'JENNA',\n",
       "   'timestamp': None,\n",
       "   'text': \"Carrying that weird trash bag. We never know what's in that trash bag. What is he carrying?\"},\n",
       "  {'speaker': 'ANGELA',\n",
       "   'timestamp': None,\n",
       "   'text': \"I loved it so much when John and Jim is like, what's in the bag? And Roy's like, just tell her I'll meet her in the car.\"},\n",
       "  {'speaker': 'JENNA',\n",
       "   'timestamp': None,\n",
       "   'text': 'But I think it is such a... I remember watching the pilot with people and having them be like shocked. Like, oh wait.'},\n",
       "  {'speaker': 'ANGELA',\n",
       "   'timestamp': None,\n",
       "   'text': \"Oh crap, she's been engaged for three years. Holy moly.\"},\n",
       "  {'speaker': 'JENNA',\n",
       "   'timestamp': None,\n",
       "   'text': \"And then Jim has that heartbreaking talking head. Do I think I'll be invited to the wedding? Oh Jim. Breaking hearts. John Krasinski breaking hearts.\"},\n",
       "  {'speaker': 'ANGELA',\n",
       "   'timestamp': None,\n",
       "   'text': \"Right out of the gate he's breaking hearts.\"},\n",
       "  {'speaker': 'JENNA',\n",
       "   'timestamp': None,\n",
       "   'text': \"He really is. So another really cute flirty moment between Jim and Pam. After the conference room scene where we find out there's gonna be downsizing. The camera cuts to different groups of people talking about downsizing. But when it cuts to Jim and Pam, we are not talking about downsizing.\"},\n",
       "  {'speaker': 'ANGELA',\n",
       "   'timestamp': None,\n",
       "   'text': 'What are you guys talking about?'},\n",
       "  {'speaker': 'JENNA',\n",
       "   'timestamp': None,\n",
       "   'text': 'We are talking about your cat party. Do you remember this?'},\n",
       "  {'speaker': 'ANGELA', 'timestamp': None, 'text': 'I do.'},\n",
       "  {'speaker': 'JENNA',\n",
       "   'timestamp': None,\n",
       "   'text': \"So this is I feel like this is really significant and kinda goes on the heels of what we were talking about with Greg wanting to collaborate with actors. So, they set up the camera and the idea there is that everybody is talking about downsizing but they wanted me and Jim to just be talking flirty or whatever. But whatever I guess they had written wasn't working. We weren't making it work.\"},\n",
       "  {'speaker': 'ANGELA', 'timestamp': None, 'text': 'It was a little stilted.'},\n",
       "  {'speaker': 'JENNA',\n",
       "   'timestamp': None,\n",
       "   'text': \"A little forced. So Ken said, listen, I'm just gonna roll the camera. You two just talk to each other. Don't push it. Just talk. Make each other laugh.\"},\n",
       "  {'speaker': 'ANGELA',\n",
       "   'timestamp': None,\n",
       "   'text': \"And so here's something you should know. Earlier in the scene, Ken had asked me if I would pass out papers in the background. I only had three lines in that episode. Otherwise, I was just background basically for that pilot. So he asked me if I would pass out papers and I had just doodled out a little drawing of a cat and I said you're invited to Sprinkle's birthday party. I just sorta made up that my character had found a cat in the parking lot. I was just sort of bored and--\"},\n",
       "  {'speaker': 'JENNA',\n",
       "   'timestamp': None,\n",
       "   'text': 'We all made up backstories for ourselves.'},\n",
       "  {'speaker': 'ANGELA',\n",
       "   'timestamp': None,\n",
       "   'text': 'I had just made up a backstory that my character had found this cat in the parking lot.'},\n",
       "  {'speaker': 'JENNA',\n",
       "   'timestamp': None,\n",
       "   'text': \"But I think that's really significant because you in your character actory prep work decided that your character was a crazy cat lady.Â\"},\n",
       "  {'speaker': 'ANGELA', 'timestamp': None, 'text': 'I guess I did.'},\n",
       "  {'speaker': 'JENNA',\n",
       "   'timestamp': None,\n",
       "   'text': 'Because you kinda decorated your desk with some cat stuff.'},\n",
       "  {'speaker': 'ANGELA',\n",
       "   'timestamp': None,\n",
       "   'text': \"Now the prop department that set my desk had a paperclip holder that was a cat laying on its side and it holds paper clips. I took it from my desk. I still have it. I might've stolen it as a memento. And so I think I was just looking at that and I was doodling and truth be told, there's only about three things I can draw in real life that look like the actual thing. And one of them is a cat.\"},\n",
       "  {'speaker': 'JENNA',\n",
       "   'timestamp': None,\n",
       "   'text': \"That's kind true for me too.\"},\n",
       "  {'speaker': 'ANGELA',\n",
       "   'timestamp': None,\n",
       "   'text': 'I can draw a palm tree. I can draw a cat. And I can draw Snoopy.'},\n",
       "  {'speaker': 'JENNA', 'timestamp': None, 'text': 'Hey!'},\n",
       "  {'speaker': 'ANGELA',\n",
       "   'timestamp': None,\n",
       "   'text': \"There you go. And I guess I had just doodled a cat. So maybe my poor skills at drawing is what also gave birth to this moment. But I drew this cat and I wrote you are invited to Sprinkle's birthday party in the parking lot.\"},\n",
       "  {'speaker': 'JENNA', 'timestamp': None, 'text': 'And you gave it to me.'},\n",
       "  {'speaker': 'ANGELA',\n",
       "   'timestamp': None,\n",
       "   'text': 'I handed it to you earlier.'},\n",
       "  {'speaker': 'JENNA',\n",
       "   'timestamp': None,\n",
       "   'text': \"It was weird. I remember getting it in the background of the scene thinking, I don't know what this is. But I stuck it to my computer monitor.\"},\n",
       "  {'speaker': 'ANGELA',\n",
       "   'timestamp': None,\n",
       "   'text': 'Yeah it was on a Post It and you stuck it to your computer.'},\n",
       "  {'speaker': 'JENNA',\n",
       "   'timestamp': None,\n",
       "   'text': \"So when Ken Kwapis asked me to talk to John about anything to do this scene. Just talk to each other. I noticed this Post It note and I said, are you gonna go to Angela's cat party on Sunday? And he's like no, definitely not. And then we giggle. And that is the bit that they left in the episode.\"},\n",
       "  {'speaker': 'ANGELA',\n",
       "   'timestamp': None,\n",
       "   'text': \"And that's the birth of sprinkles.Â\"},\n",
       "  {'speaker': 'JENNA',\n",
       "   'timestamp': None,\n",
       "   'text': 'That was the birth of Sprinkles. That turned into this cat birthday party. Greg honed in on that. He was like, what is the cat birthday party? And I said, well Angela gave me this Post It note about her birthday party for her cat or something. And he loved it. And then for four seasons we discussed Sprinkles until his untimely death in the freezer.'},\n",
       "  {'speaker': 'ANGELA',\n",
       "   'timestamp': None,\n",
       "   'text': \"Yes, but that's another episode. Because it's one of my favorite Michael moments too. Yeah, so that was really fun how just these little elements of us in the background sorta being bored and improvising made it into the show.\"},\n",
       "  {'speaker': 'JENNA', 'timestamp': None, 'text': 'Yeah.'},\n",
       "  {'speaker': 'ANGELA',\n",
       "   'timestamp': None,\n",
       "   'text': \"It's so special to me. Alright so I have something that I am so curious about. And Jenna, I don't even know if you know this. Fans out there, I don't know if you know it. Or if we need to text Dave Rogers our editor extraordinaire. So my Dwangela fans, did you notice that in the pilot episode that Dwight is singing Little Drummer Boy as he unpacks his desk?\"},\n",
       "  {'speaker': 'JENNA', 'timestamp': None, 'text': 'Angela!'},\n",
       "  {'speaker': 'ANGELA',\n",
       "   'timestamp': None,\n",
       "   'text': 'He\\'s singing like \"Come they told me, parump pa pa pum.\"'},\n",
       "  {'speaker': 'JENNA', 'timestamp': None, 'text': 'Yes.'},\n",
       "  {'speaker': 'ANGELA',\n",
       "   'timestamp': None,\n",
       "   'text': \"But then he goes *drum noise* and then in season three, I karaoke Little Drummer Boy and Dwight joins in and sings with me. Now that story is that I was very nervous to sing. I don't like singing in front of people. And Rainn as Dwight just kinda jumped in and supported me so I wasn't up there alone. And he kneeled down and he held the microphone for me. And I'm just like, oh my God. I mean, what?\"},\n",
       "  {'speaker': 'JENNA', 'timestamp': None, 'text': \"That's weird.\"},\n",
       "  {'speaker': 'ANGELA', 'timestamp': None, 'text': \"That's crazy.\"},\n",
       "  {'speaker': 'JENNA',\n",
       "   'timestamp': None,\n",
       "   'text': 'I feel like that has to be a coincidence.'},\n",
       "  {'speaker': 'ANGELA',\n",
       "   'timestamp': None,\n",
       "   'text': \"I think it's a coincidence but so many fans say to me what amazing synergy it is that Dwight is singing Little Drummer Boy in the pilot. And then in season three, I sing it to him. Now, did a writer remember that? Was that something that or was that in the subconscious of the show? I don't know.\"},\n",
       "  {'speaker': 'JENNA',\n",
       "   'timestamp': None,\n",
       "   'text': \"I dunno. You know what I found? I found this article and I can't remember where. I apologize. I found an article that was all about secret messages in the pilot episode. And one of the secret messages that somebody points out is that in the scene where Roy comes in the door for the first time, the boom mic dips into frame. And someone wondered was that a nod to the boom operator Brian that we will meet in season nine.\"},\n",
       "  {'speaker': 'ANGELA',\n",
       "   'timestamp': None,\n",
       "   'text': 'No, that was just an accident!'},\n",
       "  {'speaker': 'JENNA',\n",
       "   'timestamp': None,\n",
       "   'text': \"Was it? Was it foreshadowing to let us know that there are three men in Pam's life. Jim, Roy, and Brian.\"},\n",
       "  {'speaker': 'ANGELA',\n",
       "   'timestamp': None,\n",
       "   'text': \"No no, that was just a boom operator accident and they left it in because it's a documentary.\"},\n",
       "  {'speaker': 'JENNA',\n",
       "   'timestamp': None,\n",
       "   'text': \"Yes, we left that stuff in all the time. That was a thing that we... we coveted that. We loved it if the cameraperson fumbled or if the boom accidentally was in shot, we still used it. And we could and that was actually great. Because sometimes you're on a set and your best take is ruined because of some technical accident on set. But we were able to use all of it. We didn't have to put it on the cutting room floor.Â\"},\n",
       "  {'speaker': 'ANGELA',\n",
       "   'timestamp': None,\n",
       "   'text': \"Okay, so yeah, so no conspiracy. But yeah, I don't know if Dwight singing Little Drummer Boy in the pilot and Angela singing it in Benihana Christmas in season three is just a crazy coincidence, but it's cool right?\"},\n",
       "  {'speaker': 'JENNA',\n",
       "   'timestamp': None,\n",
       "   'text': \"It's a pretty cool observation.\"},\n",
       "  {'speaker': 'ANGELA', 'timestamp': None, 'text': \"It's pretty cool.\"},\n",
       "  {'speaker': 'JENNA',\n",
       "   'timestamp': None,\n",
       "   'text': 'I actually love these fan theories because I like to think that these accidents or coincidences, if they are accidents, are part of a fun collective conscious thing that kinda lent itself to the magic of the show.Â'},\n",
       "  {'speaker': 'ANGELA',\n",
       "   'timestamp': None,\n",
       "   'text': 'Wow, Jenna. That was really deep.'},\n",
       "  {'speaker': 'JENNA',\n",
       "   'timestamp': None,\n",
       "   'text': 'It kinda was. I got really philosophical there.Â'},\n",
       "  {'speaker': 'ANGELA',\n",
       "   'timestamp': None,\n",
       "   'text': 'Oh my Gosh, I felt like I just got a vision of what you were like in college. Like you sat around, you wore black turtlenecks.'},\n",
       "  {'speaker': 'JENNA',\n",
       "   'timestamp': None,\n",
       "   'text': 'I was kinda like art show Pam.'},\n",
       "  {'speaker': 'ANGELA', 'timestamp': None, 'text': 'Art show pam.'},\n",
       "  {'speaker': 'JENNA',\n",
       "   'timestamp': None,\n",
       "   'text': 'With my turtleneck. My jumper. Spilling philosophy.'},\n",
       "  {'speaker': 'ANGELA', 'timestamp': None, 'text': 'Well I like it.'},\n",
       "  {'speaker': 'JENNA',\n",
       "   'timestamp': None,\n",
       "   'text': 'Alright, Angela. What do you got for us?'},\n",
       "  {'speaker': 'ANGELA',\n",
       "   'timestamp': None,\n",
       "   'text': \"I only had one speaking scene in the pilot and so did Brian. It was back in accounting when Angela and Kevin are trying to figure out who's gonna be fired for downsizing. We were really nervous about shooting the scene. It's the only time we speak. And it was at the end of the day. Ken Kwapis, who's the nicest guy, said, go ahead. And I said, somebody's gonna be fired. I bet it'll be me. And Brian as Kevin says, yeah it'll probably be you. And Ken came up to me and said, hey Angela, do it again and give it like half. Give it half. So I guess I was too big? Was I like, somebody's gonna get fired. I bet it's me! And then I was like, somebody's gonna get fired. It'll probably be me. Then he came up to me and was like, half of that. And I said, okay. So I said, somebody's gonna get fired. I bet it'll be me. And he goes, half of that. And I go, oh my God! I'm gonna get fired because I'm like a sketch and improv comedy actor and clearly I'm too broad. And so ultimately, the take they used, by the end of it I was literally like, somebody's gonna get fired. It'll probably be me. And then Brian's like, yeah it'll probably be you. And Ken was like, we got it!\"},\n",
       "  {'speaker': 'JENNA',\n",
       "   'timestamp': None,\n",
       "   'text': 'Do you wanna point out what you noticed about this scene as well? About Kevin?'},\n",
       "  {'speaker': 'ANGELA',\n",
       "   'timestamp': None,\n",
       "   'text': \"So here's my tidbit, guys. When I watched this, and Brian I wanna call you about it, you just sound like Brian to me. You don't sound like the Kevin voice. Can we play it?\"},\n",
       "  {'speaker': 'ANGELA',\n",
       "   'timestamp': None,\n",
       "   'text': \"I bet it's gonna be me. Probably. It's gonna be me.\"},\n",
       "  {'speaker': 'KEVIN', 'timestamp': None, 'text': \"Yeah, it'll be you.\"},\n",
       "  {'speaker': 'ANGELA', 'timestamp': None, 'text': \"That's Brian!\"},\n",
       "  {'speaker': 'JENNA', 'timestamp': None, 'text': 'Oh my gosh.'},\n",
       "  {'speaker': 'ANGELA', 'timestamp': None, 'text': \"That's Brian.\"},\n",
       "  {'speaker': 'JENNA',\n",
       "   'timestamp': None,\n",
       "   'text': \"That is Brian's voice. That is not-- because Kevin would've been like, yeah it'll probably be me.\"},\n",
       "  {'speaker': 'ANGELA', 'timestamp': None, 'text': \"That's a horrible Kevin.\"},\n",
       "  {'speaker': 'JENNA',\n",
       "   'timestamp': None,\n",
       "   'text': 'We just did not do that well.'},\n",
       "  {'speaker': 'ANGELA',\n",
       "   'timestamp': None,\n",
       "   'text': \"Oh my gosh, I wanna call Brian about it. But when I watched it I was like, wait a second. That's Brian. But I think in the pilot we were still figuring out our characters and who they were.\"},\n",
       "  {'speaker': 'JENNA',\n",
       "   'timestamp': None,\n",
       "   'text': 'However, I have to say, Angela, I went into the deleted scenes of the DVD season one and there is, this is something we did on the pilot. Some of it was an acting exercise where they called us each into the conference separately and they just asked us unscripted lines about our characters and about our relationship to other characters.Â'},\n",
       "  {'speaker': 'ANGELA', 'timestamp': None, 'text': \"It wasn't written.\"},\n",
       "  {'speaker': 'JENNA', 'timestamp': None, 'text': 'It was not written.'},\n",
       "  {'speaker': 'ANGELA', 'timestamp': None, 'text': 'We just improvised.'},\n",
       "  {'speaker': 'JENNA',\n",
       "   'timestamp': None,\n",
       "   'text': \"So this was sort of an exercise that Ken wanted to do. That Greg and Ken came up with, in addition to that thing where they filmed us just working. They also filmed us being interviewed in character. And I think Greg thought this would be great, maybe I can use some of these tidbits here and there. Well, there's this series of interviews with each of the members of accounting.\"},\n",
       "  {'speaker': 'ANGELA', 'timestamp': None, 'text': 'Oh my God.'},\n",
       "  {'speaker': 'JENNA',\n",
       "   'timestamp': None,\n",
       "   'text': 'Where you guys are all trash talking each other very subtly and Angela, you have this incredible deleted scene talking head where they ask you about Oscar.Â'},\n",
       "  {'speaker': 'ANGELA',\n",
       "   'timestamp': None,\n",
       "   'text': 'Is this where I compare him to a stapler.'},\n",
       "  {'speaker': 'JENNA',\n",
       "   'timestamp': None,\n",
       "   'text': 'Yes. Sam, can you pull that up so we can listen to that?'},\n",
       "  {'speaker': 'ANGELA',\n",
       "   'timestamp': None,\n",
       "   'text': \"Oscar, how do I describe him? He's like a stapler. Do I need a stapler? Yes. But I am still the one who has to push it down. I did, I improvised that because I was trying to think about how does Angela see Oscar? And he's just like necessary, but he ends up being more work for her.\"},\n",
       "  {'speaker': 'JENNA', 'timestamp': None, 'text': 'Yes.'},\n",
       "  {'speaker': 'ANGELA', 'timestamp': None, 'text': \"He's annoying.Â\"},\n",
       "  {'speaker': 'JENNA',\n",
       "   'timestamp': None,\n",
       "   'text': 'What was so clear to me while I was watching them was this accounting dynamic had already started.'},\n",
       "  {'speaker': 'ANGELA', 'timestamp': None, 'text': 'Yeah.'},\n",
       "  {'speaker': 'JENNA',\n",
       "   'timestamp': None,\n",
       "   'text': \"This little pod that guys formed. This little trio. It was there from the very beginning. Also, I do have to point fans, all of the deleted scenes are fantastic. Rainn Wilson has some talking heads. There is a long extended deleted scene talking head of him talking to Ken Kwapis who played the documentarian for us. He would ask us the questions, our director. All about where the boom microphone was. Rainn as Dwight was very distracted by the boom. And he was saying I really need you to move that. And Ken says we can put it in your blind spot. And he says I don't have a blind spot, I've been trained, so that's especially distracting for me. You need to understand that I'm highly trained. And it's just this little non-presentational conversation between Dwight and the documentarian about how to be micâ€™d.\"},\n",
       "  {'speaker': 'ANGELA',\n",
       "   'timestamp': None,\n",
       "   'text': \"I just wanna say one thing. So many great things were established in the pilot that you go to see for years to come. Of course, one of the big ones is the Jim vs Dwight. Their battle and the pranks that Jim is gonna do on Dwight. And I love that it started out so simply with Dwight pushing all of Jim's papers back to his desk and then Jim making his pencil wall. It's just ridiculous.\"},\n",
       "  {'speaker': 'JENNA',\n",
       "   'timestamp': None,\n",
       "   'text': \"Well that was borrowed from the British show. In the British show they have the same desk war but instead the Jim character piles up a bunch of boxes. He makes a box wall between the desks. And we did that when we filmed the pilot. We had Jim make a box wall and in fact, you can see it in the background of conference room scenes. You can see a bunch of boxes piled up on Jim's desk.\"},\n",
       "  {'speaker': 'ANGELA',\n",
       "   'timestamp': None,\n",
       "   'text': \"M'lady. I'm gonna go back and look.\"},\n",
       "  {'speaker': 'JENNA',\n",
       "   'timestamp': None,\n",
       "   'text': \"Later when we got picked up, we reshot that scene and turned it into a little pencil thing. And you can also see that Rainn's hair is a little bit different in the pencil scene compared to the rest of the pilot.\"},\n",
       "  {'speaker': 'ANGELA', 'timestamp': None, 'text': \"It's not as poofy.\"},\n",
       "  {'speaker': 'JENNA', 'timestamp': None, 'text': \"That's right. Exactly.\"},\n",
       "  {'speaker': 'ANGELA',\n",
       "   'timestamp': None,\n",
       "   'text': 'Rainn as Dwight went through poofy hair phase which looks like they used a miniature rolling hair brush to blow dry his hair. And then he went through flat parted down the middle phase.'},\n",
       "  {'speaker': 'JENNA',\n",
       "   'timestamp': None,\n",
       "   'text': 'Well, Rainn created the hairstyle for Dwight and he said before that it is based on the hairstyle he wore when he was a sixteen year old boy. So he did his own hair for the pilot.'},\n",
       "  {'speaker': 'ANGELA',\n",
       "   'timestamp': None,\n",
       "   'text': \"That makes me laugh. I've seen those photos of Rainn. They're crazy.\"},\n",
       "  {'speaker': 'JENNA',\n",
       "   'timestamp': None,\n",
       "   'text': 'You wore your own clothes in the pilot.'},\n",
       "  {'speaker': 'ANGELA',\n",
       "   'timestamp': None,\n",
       "   'text': 'I wore my own clothes in the pilot.'},\n",
       "  {'speaker': 'JENNA',\n",
       "   'timestamp': None,\n",
       "   'text': 'Alright so the last sorta thing we need to talk about is this big prank on Pam quote unquote. This scene where Michael fake fires her.'},\n",
       "  {'speaker': 'ANGELA',\n",
       "   'timestamp': None,\n",
       "   'text': \"Well he's so excited because Jim has just had a very successful prank and Michael just wants to be in the spotlight. He wants to be the funny guy.Â\"},\n",
       "  {'speaker': 'JENNA',\n",
       "   'timestamp': None,\n",
       "   'text': \"So he's gonna show off for Ryan the temp. He's gonna fake fire Pam. And of course it goes horribly wrong and she ends up in tears. And we shot that scene probably thirty times.\"},\n",
       "  {'speaker': 'ANGELA', 'timestamp': None, 'text': 'Wow.'},\n",
       "  {'speaker': 'JENNA',\n",
       "   'timestamp': None,\n",
       "   'text': 'And at the beginning of the scene, you can see everyone in the background getting ready to leave for the day. And all those people had to wait for hours. They would have to start in the background and we would do this whole scene.'},\n",
       "  {'speaker': 'ANGELA',\n",
       "   'timestamp': None,\n",
       "   'text': 'Oh I know, Jenna. You know. I was there. I had to grab my jacket, my coat, my purse. Put them down. My coat and my purse.'},\n",
       "  {'speaker': 'JENNA',\n",
       "   'timestamp': None,\n",
       "   'text': \"I think of any scene in the entire history of The Office, this is the one that I've done the most because we did about thirty takes of it that day but it was also my audition scene. This was one of my audition scenes so I auditioned for months for this role.Â\"},\n",
       "  {'speaker': 'ANGELA',\n",
       "   'timestamp': None,\n",
       "   'text': \"I did that scene one time when I auditioned for the role of Pam and I didn't get it!\"},\n",
       "  {'speaker': 'JENNA',\n",
       "   'timestamp': None,\n",
       "   'text': 'This is such a crazy bit of trivia. Your first audition for The Office was for the role of Pam.'},\n",
       "  {'speaker': 'ANGELA',\n",
       "   'timestamp': None,\n",
       "   'text': 'Was for the role of Pam and I wore a pink sweater.'},\n",
       "  {'speaker': 'JENNA',\n",
       "   'timestamp': None,\n",
       "   'text': 'What? We both had the same instinct.'},\n",
       "  {'speaker': 'ANGELA',\n",
       "   'timestamp': None,\n",
       "   'text': \"I wore a pink sweater and my hair down and I was told to look not too fancy, so I didn't do too much with my hair and makeup and I went in and I did the scene and it was for a room full of people. The producers. And when we got to the point where Michael fake fires you and you start to cry and you call him a jerk.Â\"},\n",
       "  {'speaker': 'JENNA', 'timestamp': None, 'text': 'Yeah.'},\n",
       "  {'speaker': 'ANGELA',\n",
       "   'timestamp': None,\n",
       "   'text': \"When I called him a jerk, everybody started to laugh. And I thought, I did something wrong. I don't think they're supposed to laugh at this moment. And of course Jenna, you were so brilliant that you brought such a vulnerability to Pam that even though this job sucked and she hates it, she needs it. She needs this crappy job.\"},\n",
       "  {'speaker': 'JENNA', 'timestamp': None, 'text': 'Yeah.Â'},\n",
       "  {'speaker': 'ANGELA',\n",
       "   'timestamp': None,\n",
       "   'text': \"And you really felt her in that moment. My heart broke for her. And when you call him a jerk, it's just like you're really wounded and it checked Michael in his place. Like this wasn't cool.\"},\n",
       "  {'speaker': 'JENNA',\n",
       "   'timestamp': None,\n",
       "   'text': \"Well it's funny because this was somewhat of a controversial scene about whether or not it be included. When Ricky and Stephen were counseling Greg, I understand that they told him that he should consider cutting the scene. Because they said that it's in their pilot and they felt like they always had to fight to come back from it. That it made the boss a little too mean and so later they really leaned into his buffoonery. But Greg fought to keep it in. He thought, no we're gonna try it. We're gonna let her cry. We're gonna let Michael be mean to her. Now there was an alt line where I think that sometimes instead of saying that you're a jerk, I said that you're a sad little man. And they said that's too harsh.\"},\n",
       "  {'speaker': 'ANGELA',\n",
       "   'timestamp': None,\n",
       "   'text': \"You can't come back from that. That is harsh. So, here's a little fun tidbit, Jenna.\"},\n",
       "  {'speaker': 'JENNA',\n",
       "   'timestamp': None,\n",
       "   'text': 'Another tidbit, not a Fast Fact.'},\n",
       "  {'speaker': 'ANGELA',\n",
       "   'timestamp': None,\n",
       "   'text': \"A tidbit from Angela Kinsey. When Michael wants to prank Pam in front of Ryan the temp, Michael as Steve turns to Ryan, BJ, and says, have you ever seen prank shows? Have you ever seen Punk'd? BJ was on Punk'd.\"},\n",
       "  {'speaker': 'JENNA', 'timestamp': None, 'text': \"He was on Punk'd.\"},\n",
       "  {'speaker': 'ANGELA',\n",
       "   'timestamp': None,\n",
       "   'text': \"He was on season two of Punk'd. So I thought that was a nice little nod that he was looking at someone who was on Punk'd and said do you like Punk'd? And BJ's like, yeah, as Ryan. Anyway. That's a Kinsey tidbit for ya.\"},\n",
       "  {'speaker': 'JENNA',\n",
       "   'timestamp': None,\n",
       "   'text': \"So the end of this episode, Pam has been crying and Jim wants to cheer her up so he puts Michael's World's Best Boss mug in Jello. Now this was exclusive to our show.\"},\n",
       "  {'speaker': 'ANGELA',\n",
       "   'timestamp': None,\n",
       "   'text': \"Yes. It's not in the BBC version.\"},\n",
       "  {'speaker': 'JENNA',\n",
       "   'timestamp': None,\n",
       "   'text': \"Right the mug itself is a setup in an early talking head and then this convention of ending the episode with Jim doing something sweet for Pam by putting the mug in Jello. That was all Greg Daniels' idea. And I think it's such a sweet way to end the show.\"},\n",
       "  {'speaker': 'ANGELA', 'timestamp': None, 'text': 'Yeah.'},\n",
       "  {'speaker': 'JENNA',\n",
       "   'timestamp': None,\n",
       "   'text': \"Yeah. And of course the iconic World's Best Boss mug. And that was the last shot.\"},\n",
       "  {'speaker': 'ANGELA', 'timestamp': None, 'text': 'Oh my God, Jenna!'},\n",
       "  {'speaker': 'JENNA', 'timestamp': None, 'text': \"That's it.Â\"},\n",
       "  {'speaker': 'ANGELA', 'timestamp': None, 'text': 'We just did it.'},\n",
       "  {'speaker': 'JENNA', 'timestamp': None, 'text': 'We did it.'},\n",
       "  {'speaker': 'ANGELA',\n",
       "   'timestamp': None,\n",
       "   'text': \"We did it. We're really nervous.\"},\n",
       "  {'speaker': 'JENNA',\n",
       "   'timestamp': None,\n",
       "   'text': 'You guys. We were really nervous. Actually in the middle of doing this, I was getting so nervous that Angela made us turn off the microphones and have a dance party to loosen me up.'},\n",
       "  {'speaker': 'ANGELA',\n",
       "   'timestamp': None,\n",
       "   'text': \"I did. I put on Taylor Swift's Paper Rings and I made her dance around and get out of her head.\"},\n",
       "  {'speaker': 'JENNA', 'timestamp': None, 'text': 'I was spiraling.Â'},\n",
       "  {'speaker': 'ANGELA',\n",
       "   'timestamp': None,\n",
       "   'text': \"You were. But here's the thing. This is why we're nervous because the show means so much to us and we are new obviously to the podcast scene and your support has been overwhelming. I literally teared up when we let you know we were doing a podcast and the immediate support from all of you out there, I got a little emotional.\"},\n",
       "  {'speaker': 'JENNA', 'timestamp': None, 'text': 'Me too.'},\n",
       "  {'speaker': 'ANGELA',\n",
       "   'timestamp': None,\n",
       "   'text': 'So I just thank you guys so much and just know how much it means to us that this show that is so special to us keeps finding an audience. It just really means the world to us.'},\n",
       "  {'speaker': 'JENNA', 'timestamp': None, 'text': \"It's changed our lives.\"},\n",
       "  {'speaker': 'ANGELA', 'timestamp': None, 'text': 'Forever.'},\n",
       "  {'speaker': 'JENNA', 'timestamp': None, 'text': 'Yes. So thank you.'},\n",
       "  {'speaker': 'ANGELA', 'timestamp': None, 'text': 'Thank you guys!'},\n",
       "  {'speaker': 'JENNA', 'timestamp': None, 'text': 'Alright, first one.'},\n",
       "  {'speaker': 'ANGELA',\n",
       "   'timestamp': None,\n",
       "   'text': 'First one. Send in questions.'},\n",
       "  {'speaker': 'JENNA',\n",
       "   'timestamp': None,\n",
       "   'text': 'Yeah you can send us questions at officeladies@earwolf.com If you have any questions about an episode put that episode title in the subject line and we will read them all.'},\n",
       "  {'speaker': 'ANGELA',\n",
       "   'timestamp': None,\n",
       "   'text': 'And then they also said that if you want to leave us a voice memo, we can actually play you asking your question in the podcast.'},\n",
       "  {'speaker': 'JENNA',\n",
       "   'timestamp': None,\n",
       "   'text': 'Which would be kinda cool. You can also find us at @officeladiespod on Instagram or twitter.'},\n",
       "  {'speaker': 'ANGELA',\n",
       "   'timestamp': None,\n",
       "   'text': \"We're setting those up. And we're gonna have a website called Officeladies.com and you can find out everything we're doing about the podcast.\"},\n",
       "  {'speaker': 'JENNA',\n",
       "   'timestamp': None,\n",
       "   'text': \"That's a lot of ways to find us.\"},\n",
       "  {'speaker': 'ANGELA', 'timestamp': None, 'text': 'That is. Is it too many?'},\n",
       "  {'speaker': 'JENNA', 'timestamp': None, 'text': 'Maybe. I dunno.'},\n",
       "  {'speaker': 'ANGELA',\n",
       "   'timestamp': None,\n",
       "   'text': \"They're gonna be like, we get it, we get it.\"},\n",
       "  {'speaker': 'JENNA',\n",
       "   'timestamp': None,\n",
       "   'text': \"Next week, since we're going in order, we'll be talking about Diversity Day.Â\"},\n",
       "  {'speaker': 'ANGELA', 'timestamp': None, 'text': 'So much fun.'},\n",
       "  {'speaker': 'JENNA',\n",
       "   'timestamp': None,\n",
       "   'text': \"So if you wanna watch it with us, watch Diversity Day by next Wednesday and then we'll talk about it.\"},\n",
       "  {'speaker': 'ANGELA',\n",
       "   'timestamp': None,\n",
       "   'text': \"Yes. And you hear that? That's our theme music by my neighbor, Creed Bratton. It's his song Rubber Tree.\"}]}"
      ]
     },
     "execution_count": 9,
     "metadata": {},
     "output_type": "execute_result"
    }
   ],
   "source": [
    "all_episodes_data[0]"
   ]
  },
  {
   "attachments": {},
   "cell_type": "markdown",
   "metadata": {},
   "source": [
    "## Embedding Data"
   ]
  },
  {
   "cell_type": "code",
   "execution_count": 10,
   "metadata": {},
   "outputs": [],
   "source": [
    "from tqdm.auto import tqdm"
   ]
  },
  {
   "cell_type": "code",
   "execution_count": 11,
   "metadata": {},
   "outputs": [],
   "source": [
    "def create_segments(episode_data):\n",
    "    window = 6  # number of lines to combine\n",
    "    stride = 3  # number of lines to stride over, used to create overlap\n",
    "\n",
    "    lines = episode_data['lines']\n",
    "\n",
    "    transcript_segments = []\n",
    "    for i in tqdm(range(0, len(lines), stride)):\n",
    "        i_end = min(i + window, len(lines)-1)\n",
    "        text = ' '.join(line['text'] for line in lines[i:i_end+1])\n",
    "\n",
    "        start = lines[i]['timestamp']\n",
    "        end = lines[i_end]['timestamp']\n",
    "        \n",
    "        transcript_segments.append({\n",
    "            'start_time': start,\n",
    "            'end_time': end,\n",
    "            'episode_title': episode_data['episode_title'],\n",
    "            'episode_number': episode_data['episode_number'],\n",
    "            'text': text,\n",
    "            'id': f\"{episode_data['episode_number'].replace(' ', '_')}-{i}-{i_end}\"\n",
    "        })\n",
    "\n",
    "    return transcript_segments"
   ]
  },
  {
   "cell_type": "code",
   "execution_count": 12,
   "metadata": {},
   "outputs": [
    {
     "data": {
      "application/vnd.jupyter.widget-view+json": {
       "model_id": "bc0c107fecb94377bc6691d32add9fd8",
       "version_major": 2,
       "version_minor": 0
      },
      "text/plain": [
       "  0%|          | 0/154 [00:00<?, ?it/s]"
      ]
     },
     "metadata": {},
     "output_type": "display_data"
    },
    {
     "data": {
      "application/vnd.jupyter.widget-view+json": {
       "model_id": "74da4d819e8c4ec6b2260308e2c2cf03",
       "version_major": 2,
       "version_minor": 0
      },
      "text/plain": [
       "  0%|          | 0/131 [00:00<?, ?it/s]"
      ]
     },
     "metadata": {},
     "output_type": "display_data"
    },
    {
     "data": {
      "application/vnd.jupyter.widget-view+json": {
       "model_id": "505454dd4ebd4ab58ee0aef38ebc78de",
       "version_major": 2,
       "version_minor": 0
      },
      "text/plain": [
       "  0%|          | 0/183 [00:00<?, ?it/s]"
      ]
     },
     "metadata": {},
     "output_type": "display_data"
    },
    {
     "data": {
      "application/vnd.jupyter.widget-view+json": {
       "model_id": "50b3eda0d038489e80879001737fdae0",
       "version_major": 2,
       "version_minor": 0
      },
      "text/plain": [
       "  0%|          | 0/144 [00:00<?, ?it/s]"
      ]
     },
     "metadata": {},
     "output_type": "display_data"
    },
    {
     "data": {
      "application/vnd.jupyter.widget-view+json": {
       "model_id": "73aec151422a40fa9ed388590f4ffb21",
       "version_major": 2,
       "version_minor": 0
      },
      "text/plain": [
       "  0%|          | 0/128 [00:00<?, ?it/s]"
      ]
     },
     "metadata": {},
     "output_type": "display_data"
    },
    {
     "data": {
      "application/vnd.jupyter.widget-view+json": {
       "model_id": "ff654851b3294d5889b75df870ddc39b",
       "version_major": 2,
       "version_minor": 0
      },
      "text/plain": [
       "  0%|          | 0/126 [00:00<?, ?it/s]"
      ]
     },
     "metadata": {},
     "output_type": "display_data"
    },
    {
     "data": {
      "application/vnd.jupyter.widget-view+json": {
       "model_id": "b559e2711cb746e89c2cf79ba545d54e",
       "version_major": 2,
       "version_minor": 0
      },
      "text/plain": [
       "  0%|          | 0/137 [00:00<?, ?it/s]"
      ]
     },
     "metadata": {},
     "output_type": "display_data"
    },
    {
     "data": {
      "application/vnd.jupyter.widget-view+json": {
       "model_id": "f38374368954481e928fab0386e878f3",
       "version_major": 2,
       "version_minor": 0
      },
      "text/plain": [
       "  0%|          | 0/224 [00:00<?, ?it/s]"
      ]
     },
     "metadata": {},
     "output_type": "display_data"
    },
    {
     "data": {
      "application/vnd.jupyter.widget-view+json": {
       "model_id": "732c55c3cb6148feb9b6ad153672b688",
       "version_major": 2,
       "version_minor": 0
      },
      "text/plain": [
       "  0%|          | 0/179 [00:00<?, ?it/s]"
      ]
     },
     "metadata": {},
     "output_type": "display_data"
    },
    {
     "data": {
      "application/vnd.jupyter.widget-view+json": {
       "model_id": "db8e3bedf2a64c59b25f4669f05827f3",
       "version_major": 2,
       "version_minor": 0
      },
      "text/plain": [
       "  0%|          | 0/238 [00:00<?, ?it/s]"
      ]
     },
     "metadata": {},
     "output_type": "display_data"
    },
    {
     "data": {
      "application/vnd.jupyter.widget-view+json": {
       "model_id": "95df1484b5d648ca831d7e2688d484d1",
       "version_major": 2,
       "version_minor": 0
      },
      "text/plain": [
       "  0%|          | 0/287 [00:00<?, ?it/s]"
      ]
     },
     "metadata": {},
     "output_type": "display_data"
    },
    {
     "data": {
      "application/vnd.jupyter.widget-view+json": {
       "model_id": "7015e7397aa8406d9ca0f41e9cb50dcb",
       "version_major": 2,
       "version_minor": 0
      },
      "text/plain": [
       "  0%|          | 0/207 [00:00<?, ?it/s]"
      ]
     },
     "metadata": {},
     "output_type": "display_data"
    },
    {
     "data": {
      "application/vnd.jupyter.widget-view+json": {
       "model_id": "bc3885c00e174cc0886719ea0afcf01d",
       "version_major": 2,
       "version_minor": 0
      },
      "text/plain": [
       "  0%|          | 0/220 [00:00<?, ?it/s]"
      ]
     },
     "metadata": {},
     "output_type": "display_data"
    },
    {
     "data": {
      "application/vnd.jupyter.widget-view+json": {
       "model_id": "2a38e8fd68374e6aaa71605d2000795d",
       "version_major": 2,
       "version_minor": 0
      },
      "text/plain": [
       "  0%|          | 0/227 [00:00<?, ?it/s]"
      ]
     },
     "metadata": {},
     "output_type": "display_data"
    },
    {
     "data": {
      "application/vnd.jupyter.widget-view+json": {
       "model_id": "c7d4d701a49d4fed915b97645421aad0",
       "version_major": 2,
       "version_minor": 0
      },
      "text/plain": [
       "  0%|          | 0/298 [00:00<?, ?it/s]"
      ]
     },
     "metadata": {},
     "output_type": "display_data"
    },
    {
     "data": {
      "application/vnd.jupyter.widget-view+json": {
       "model_id": "677e2dd994a44cfd917d2d83e0456722",
       "version_major": 2,
       "version_minor": 0
      },
      "text/plain": [
       "  0%|          | 0/317 [00:00<?, ?it/s]"
      ]
     },
     "metadata": {},
     "output_type": "display_data"
    },
    {
     "data": {
      "application/vnd.jupyter.widget-view+json": {
       "model_id": "770f1336293a4d7ebba6ad15176cfe30",
       "version_major": 2,
       "version_minor": 0
      },
      "text/plain": [
       "  0%|          | 0/268 [00:00<?, ?it/s]"
      ]
     },
     "metadata": {},
     "output_type": "display_data"
    },
    {
     "data": {
      "application/vnd.jupyter.widget-view+json": {
       "model_id": "bcac3a4c659d4258831ba00f05560b1b",
       "version_major": 2,
       "version_minor": 0
      },
      "text/plain": [
       "  0%|          | 0/252 [00:00<?, ?it/s]"
      ]
     },
     "metadata": {},
     "output_type": "display_data"
    },
    {
     "data": {
      "application/vnd.jupyter.widget-view+json": {
       "model_id": "4a085f3f4820400aa5af8ed9f41835f1",
       "version_major": 2,
       "version_minor": 0
      },
      "text/plain": [
       "  0%|          | 0/196 [00:00<?, ?it/s]"
      ]
     },
     "metadata": {},
     "output_type": "display_data"
    },
    {
     "data": {
      "application/vnd.jupyter.widget-view+json": {
       "model_id": "cb8169b020d54adfb70e6073bb30bba9",
       "version_major": 2,
       "version_minor": 0
      },
      "text/plain": [
       "  0%|          | 0/445 [00:00<?, ?it/s]"
      ]
     },
     "metadata": {},
     "output_type": "display_data"
    },
    {
     "data": {
      "application/vnd.jupyter.widget-view+json": {
       "model_id": "3fd60dffee934623802c03854fefa46a",
       "version_major": 2,
       "version_minor": 0
      },
      "text/plain": [
       "  0%|          | 0/228 [00:00<?, ?it/s]"
      ]
     },
     "metadata": {},
     "output_type": "display_data"
    },
    {
     "data": {
      "application/vnd.jupyter.widget-view+json": {
       "model_id": "7ac118cf4b5d4b8ba5e8ba6f1d5842f0",
       "version_major": 2,
       "version_minor": 0
      },
      "text/plain": [
       "  0%|          | 0/309 [00:00<?, ?it/s]"
      ]
     },
     "metadata": {},
     "output_type": "display_data"
    },
    {
     "data": {
      "application/vnd.jupyter.widget-view+json": {
       "model_id": "21fc05790ec649329504a676761bf289",
       "version_major": 2,
       "version_minor": 0
      },
      "text/plain": [
       "  0%|          | 0/287 [00:00<?, ?it/s]"
      ]
     },
     "metadata": {},
     "output_type": "display_data"
    },
    {
     "data": {
      "application/vnd.jupyter.widget-view+json": {
       "model_id": "8c7833237d0b4cb8a0b63b4473c03f9f",
       "version_major": 2,
       "version_minor": 0
      },
      "text/plain": [
       "  0%|          | 0/365 [00:00<?, ?it/s]"
      ]
     },
     "metadata": {},
     "output_type": "display_data"
    },
    {
     "data": {
      "application/vnd.jupyter.widget-view+json": {
       "model_id": "f4064c445c0b46caa7cee85a21e83d1c",
       "version_major": 2,
       "version_minor": 0
      },
      "text/plain": [
       "  0%|          | 0/203 [00:00<?, ?it/s]"
      ]
     },
     "metadata": {},
     "output_type": "display_data"
    },
    {
     "data": {
      "application/vnd.jupyter.widget-view+json": {
       "model_id": "2485582324004b49ac81d5d0d1e19209",
       "version_major": 2,
       "version_minor": 0
      },
      "text/plain": [
       "  0%|          | 0/354 [00:00<?, ?it/s]"
      ]
     },
     "metadata": {},
     "output_type": "display_data"
    },
    {
     "data": {
      "application/vnd.jupyter.widget-view+json": {
       "model_id": "babd43095820485399bde2e5dfaccc63",
       "version_major": 2,
       "version_minor": 0
      },
      "text/plain": [
       "  0%|          | 0/174 [00:00<?, ?it/s]"
      ]
     },
     "metadata": {},
     "output_type": "display_data"
    },
    {
     "data": {
      "application/vnd.jupyter.widget-view+json": {
       "model_id": "5a59e704eb104676aef1b82140ffb49f",
       "version_major": 2,
       "version_minor": 0
      },
      "text/plain": [
       "  0%|          | 0/256 [00:00<?, ?it/s]"
      ]
     },
     "metadata": {},
     "output_type": "display_data"
    },
    {
     "data": {
      "application/vnd.jupyter.widget-view+json": {
       "model_id": "00d530be0ec944c0b175180890bab85b",
       "version_major": 2,
       "version_minor": 0
      },
      "text/plain": [
       "  0%|          | 0/228 [00:00<?, ?it/s]"
      ]
     },
     "metadata": {},
     "output_type": "display_data"
    },
    {
     "data": {
      "application/vnd.jupyter.widget-view+json": {
       "model_id": "09ac7e7e07b44ed1a79864b37f20cb2d",
       "version_major": 2,
       "version_minor": 0
      },
      "text/plain": [
       "  0%|          | 0/210 [00:00<?, ?it/s]"
      ]
     },
     "metadata": {},
     "output_type": "display_data"
    },
    {
     "data": {
      "application/vnd.jupyter.widget-view+json": {
       "model_id": "0e834853c0434fa3ad0289fd11bac1ca",
       "version_major": 2,
       "version_minor": 0
      },
      "text/plain": [
       "  0%|          | 0/170 [00:00<?, ?it/s]"
      ]
     },
     "metadata": {},
     "output_type": "display_data"
    },
    {
     "data": {
      "application/vnd.jupyter.widget-view+json": {
       "model_id": "380de0dfd82a4102bab14e8ccfd040e7",
       "version_major": 2,
       "version_minor": 0
      },
      "text/plain": [
       "  0%|          | 0/216 [00:00<?, ?it/s]"
      ]
     },
     "metadata": {},
     "output_type": "display_data"
    },
    {
     "data": {
      "application/vnd.jupyter.widget-view+json": {
       "model_id": "1fdd0e027d78403c84ce319972edf7d8",
       "version_major": 2,
       "version_minor": 0
      },
      "text/plain": [
       "  0%|          | 0/190 [00:00<?, ?it/s]"
      ]
     },
     "metadata": {},
     "output_type": "display_data"
    },
    {
     "data": {
      "application/vnd.jupyter.widget-view+json": {
       "model_id": "716064cb47614802b69a71c50dba19ed",
       "version_major": 2,
       "version_minor": 0
      },
      "text/plain": [
       "  0%|          | 0/188 [00:00<?, ?it/s]"
      ]
     },
     "metadata": {},
     "output_type": "display_data"
    },
    {
     "data": {
      "application/vnd.jupyter.widget-view+json": {
       "model_id": "ec987e428d3449d6b324e49aca900491",
       "version_major": 2,
       "version_minor": 0
      },
      "text/plain": [
       "  0%|          | 0/169 [00:00<?, ?it/s]"
      ]
     },
     "metadata": {},
     "output_type": "display_data"
    },
    {
     "data": {
      "application/vnd.jupyter.widget-view+json": {
       "model_id": "d59924b1740644ab8ddc3e8aae6cd93f",
       "version_major": 2,
       "version_minor": 0
      },
      "text/plain": [
       "  0%|          | 0/138 [00:00<?, ?it/s]"
      ]
     },
     "metadata": {},
     "output_type": "display_data"
    },
    {
     "data": {
      "application/vnd.jupyter.widget-view+json": {
       "model_id": "411d25e6161a415081bfc90640bba940",
       "version_major": 2,
       "version_minor": 0
      },
      "text/plain": [
       "  0%|          | 0/248 [00:00<?, ?it/s]"
      ]
     },
     "metadata": {},
     "output_type": "display_data"
    },
    {
     "data": {
      "application/vnd.jupyter.widget-view+json": {
       "model_id": "33426bb02e844e9f9f53ccab79dd7d8f",
       "version_major": 2,
       "version_minor": 0
      },
      "text/plain": [
       "  0%|          | 0/199 [00:00<?, ?it/s]"
      ]
     },
     "metadata": {},
     "output_type": "display_data"
    },
    {
     "data": {
      "application/vnd.jupyter.widget-view+json": {
       "model_id": "098abbb3bbfa46a19b40af699aee220d",
       "version_major": 2,
       "version_minor": 0
      },
      "text/plain": [
       "  0%|          | 0/272 [00:00<?, ?it/s]"
      ]
     },
     "metadata": {},
     "output_type": "display_data"
    },
    {
     "data": {
      "application/vnd.jupyter.widget-view+json": {
       "model_id": "bcf3c454a41d455d9bcba9d7c9fea5ca",
       "version_major": 2,
       "version_minor": 0
      },
      "text/plain": [
       "  0%|          | 0/120 [00:00<?, ?it/s]"
      ]
     },
     "metadata": {},
     "output_type": "display_data"
    },
    {
     "data": {
      "application/vnd.jupyter.widget-view+json": {
       "model_id": "a966e9ce393a48269941d4a8f69ce774",
       "version_major": 2,
       "version_minor": 0
      },
      "text/plain": [
       "  0%|          | 0/166 [00:00<?, ?it/s]"
      ]
     },
     "metadata": {},
     "output_type": "display_data"
    },
    {
     "data": {
      "application/vnd.jupyter.widget-view+json": {
       "model_id": "e541e682d57d4732b0c26c4689bc3660",
       "version_major": 2,
       "version_minor": 0
      },
      "text/plain": [
       "  0%|          | 0/3 [00:00<?, ?it/s]"
      ]
     },
     "metadata": {},
     "output_type": "display_data"
    },
    {
     "data": {
      "application/vnd.jupyter.widget-view+json": {
       "model_id": "1d04e3ffe0f34fe898c90cbe996cf5ae",
       "version_major": 2,
       "version_minor": 0
      },
      "text/plain": [
       "  0%|          | 0/193 [00:00<?, ?it/s]"
      ]
     },
     "metadata": {},
     "output_type": "display_data"
    },
    {
     "data": {
      "application/vnd.jupyter.widget-view+json": {
       "model_id": "963e2c6fdcfe416abc3d5f269c8971f5",
       "version_major": 2,
       "version_minor": 0
      },
      "text/plain": [
       "  0%|          | 0/3 [00:00<?, ?it/s]"
      ]
     },
     "metadata": {},
     "output_type": "display_data"
    },
    {
     "data": {
      "application/vnd.jupyter.widget-view+json": {
       "model_id": "d3242479c6dc4997a4c4a725680b9a95",
       "version_major": 2,
       "version_minor": 0
      },
      "text/plain": [
       "  0%|          | 0/153 [00:00<?, ?it/s]"
      ]
     },
     "metadata": {},
     "output_type": "display_data"
    },
    {
     "data": {
      "application/vnd.jupyter.widget-view+json": {
       "model_id": "b18e0ee7a97340fbb21c2851e06e4d9c",
       "version_major": 2,
       "version_minor": 0
      },
      "text/plain": [
       "  0%|          | 0/3 [00:00<?, ?it/s]"
      ]
     },
     "metadata": {},
     "output_type": "display_data"
    },
    {
     "data": {
      "application/vnd.jupyter.widget-view+json": {
       "model_id": "69a5695f168947dd801a313646cec11b",
       "version_major": 2,
       "version_minor": 0
      },
      "text/plain": [
       "  0%|          | 0/249 [00:00<?, ?it/s]"
      ]
     },
     "metadata": {},
     "output_type": "display_data"
    },
    {
     "data": {
      "application/vnd.jupyter.widget-view+json": {
       "model_id": "9840b22bd0cb4bdeb06e933d6a83de54",
       "version_major": 2,
       "version_minor": 0
      },
      "text/plain": [
       "  0%|          | 0/218 [00:00<?, ?it/s]"
      ]
     },
     "metadata": {},
     "output_type": "display_data"
    },
    {
     "data": {
      "application/vnd.jupyter.widget-view+json": {
       "model_id": "bd2745ce691e4966a18a8fbf56129ec2",
       "version_major": 2,
       "version_minor": 0
      },
      "text/plain": [
       "  0%|          | 0/253 [00:00<?, ?it/s]"
      ]
     },
     "metadata": {},
     "output_type": "display_data"
    },
    {
     "data": {
      "application/vnd.jupyter.widget-view+json": {
       "model_id": "8484ec4317a34653a9bc25325ab89f91",
       "version_major": 2,
       "version_minor": 0
      },
      "text/plain": [
       "  0%|          | 0/200 [00:00<?, ?it/s]"
      ]
     },
     "metadata": {},
     "output_type": "display_data"
    },
    {
     "data": {
      "application/vnd.jupyter.widget-view+json": {
       "model_id": "c1bef2401a404579b533ae25d4e41b97",
       "version_major": 2,
       "version_minor": 0
      },
      "text/plain": [
       "  0%|          | 0/233 [00:00<?, ?it/s]"
      ]
     },
     "metadata": {},
     "output_type": "display_data"
    },
    {
     "data": {
      "application/vnd.jupyter.widget-view+json": {
       "model_id": "dcd1c379f36c43b7870c3aa10a9cf9ac",
       "version_major": 2,
       "version_minor": 0
      },
      "text/plain": [
       "  0%|          | 0/217 [00:00<?, ?it/s]"
      ]
     },
     "metadata": {},
     "output_type": "display_data"
    },
    {
     "data": {
      "application/vnd.jupyter.widget-view+json": {
       "model_id": "54b291a2b7544d418ea5f6f067f1b6dd",
       "version_major": 2,
       "version_minor": 0
      },
      "text/plain": [
       "  0%|          | 0/168 [00:00<?, ?it/s]"
      ]
     },
     "metadata": {},
     "output_type": "display_data"
    },
    {
     "data": {
      "application/vnd.jupyter.widget-view+json": {
       "model_id": "2fb90bcf3e9d491caa88f493da9961d7",
       "version_major": 2,
       "version_minor": 0
      },
      "text/plain": [
       "  0%|          | 0/169 [00:00<?, ?it/s]"
      ]
     },
     "metadata": {},
     "output_type": "display_data"
    },
    {
     "data": {
      "application/vnd.jupyter.widget-view+json": {
       "model_id": "b0760305dd6c447cb07a9cc2d8ed0f7b",
       "version_major": 2,
       "version_minor": 0
      },
      "text/plain": [
       "  0%|          | 0/163 [00:00<?, ?it/s]"
      ]
     },
     "metadata": {},
     "output_type": "display_data"
    },
    {
     "data": {
      "application/vnd.jupyter.widget-view+json": {
       "model_id": "2f2b44493d7741adb36e04c661941c7c",
       "version_major": 2,
       "version_minor": 0
      },
      "text/plain": [
       "  0%|          | 0/261 [00:00<?, ?it/s]"
      ]
     },
     "metadata": {},
     "output_type": "display_data"
    },
    {
     "data": {
      "application/vnd.jupyter.widget-view+json": {
       "model_id": "5b4b2df9418d45cfa3e2f39284babdfe",
       "version_major": 2,
       "version_minor": 0
      },
      "text/plain": [
       "  0%|          | 0/179 [00:00<?, ?it/s]"
      ]
     },
     "metadata": {},
     "output_type": "display_data"
    },
    {
     "data": {
      "application/vnd.jupyter.widget-view+json": {
       "model_id": "5f0dc2cb845f48b6a3144d0c7ce3ec0d",
       "version_major": 2,
       "version_minor": 0
      },
      "text/plain": [
       "  0%|          | 0/189 [00:00<?, ?it/s]"
      ]
     },
     "metadata": {},
     "output_type": "display_data"
    },
    {
     "data": {
      "application/vnd.jupyter.widget-view+json": {
       "model_id": "d8b6ce6b23314a2da4840fa3aeda7fc0",
       "version_major": 2,
       "version_minor": 0
      },
      "text/plain": [
       "  0%|          | 0/150 [00:00<?, ?it/s]"
      ]
     },
     "metadata": {},
     "output_type": "display_data"
    },
    {
     "data": {
      "application/vnd.jupyter.widget-view+json": {
       "model_id": "4e5a22793a6c4e7caa7fd56ca2c79027",
       "version_major": 2,
       "version_minor": 0
      },
      "text/plain": [
       "  0%|          | 0/146 [00:00<?, ?it/s]"
      ]
     },
     "metadata": {},
     "output_type": "display_data"
    },
    {
     "data": {
      "application/vnd.jupyter.widget-view+json": {
       "model_id": "4d61c6a2db2644c98fe07062e2d63baf",
       "version_major": 2,
       "version_minor": 0
      },
      "text/plain": [
       "  0%|          | 0/119 [00:00<?, ?it/s]"
      ]
     },
     "metadata": {},
     "output_type": "display_data"
    },
    {
     "data": {
      "application/vnd.jupyter.widget-view+json": {
       "model_id": "ebcc052e59924da6a329bcf3e8d4ed38",
       "version_major": 2,
       "version_minor": 0
      },
      "text/plain": [
       "  0%|          | 0/147 [00:00<?, ?it/s]"
      ]
     },
     "metadata": {},
     "output_type": "display_data"
    },
    {
     "data": {
      "application/vnd.jupyter.widget-view+json": {
       "model_id": "14a304f041734290b8cbbf8b5b90968d",
       "version_major": 2,
       "version_minor": 0
      },
      "text/plain": [
       "  0%|          | 0/197 [00:00<?, ?it/s]"
      ]
     },
     "metadata": {},
     "output_type": "display_data"
    },
    {
     "data": {
      "application/vnd.jupyter.widget-view+json": {
       "model_id": "a1afb631914b4b8696aba427cc503a38",
       "version_major": 2,
       "version_minor": 0
      },
      "text/plain": [
       "  0%|          | 0/162 [00:00<?, ?it/s]"
      ]
     },
     "metadata": {},
     "output_type": "display_data"
    },
    {
     "data": {
      "application/vnd.jupyter.widget-view+json": {
       "model_id": "0d448174f2ec434689fb2cac30b4e815",
       "version_major": 2,
       "version_minor": 0
      },
      "text/plain": [
       "  0%|          | 0/159 [00:00<?, ?it/s]"
      ]
     },
     "metadata": {},
     "output_type": "display_data"
    },
    {
     "data": {
      "application/vnd.jupyter.widget-view+json": {
       "model_id": "d7fd208407fd44b5b5178e1f06cb291d",
       "version_major": 2,
       "version_minor": 0
      },
      "text/plain": [
       "  0%|          | 0/137 [00:00<?, ?it/s]"
      ]
     },
     "metadata": {},
     "output_type": "display_data"
    },
    {
     "data": {
      "application/vnd.jupyter.widget-view+json": {
       "model_id": "add64230b6b844b0a3f3d5ac3b2cbb4b",
       "version_major": 2,
       "version_minor": 0
      },
      "text/plain": [
       "  0%|          | 0/177 [00:00<?, ?it/s]"
      ]
     },
     "metadata": {},
     "output_type": "display_data"
    },
    {
     "data": {
      "application/vnd.jupyter.widget-view+json": {
       "model_id": "8814d3ab51bd4be98ee5baaaf8a1528b",
       "version_major": 2,
       "version_minor": 0
      },
      "text/plain": [
       "  0%|          | 0/159 [00:00<?, ?it/s]"
      ]
     },
     "metadata": {},
     "output_type": "display_data"
    },
    {
     "data": {
      "application/vnd.jupyter.widget-view+json": {
       "model_id": "dad300f82cbd4632916daa763edac9fc",
       "version_major": 2,
       "version_minor": 0
      },
      "text/plain": [
       "  0%|          | 0/165 [00:00<?, ?it/s]"
      ]
     },
     "metadata": {},
     "output_type": "display_data"
    },
    {
     "data": {
      "application/vnd.jupyter.widget-view+json": {
       "model_id": "d0f50ee9f86242669b9bfaab56360c74",
       "version_major": 2,
       "version_minor": 0
      },
      "text/plain": [
       "  0%|          | 0/145 [00:00<?, ?it/s]"
      ]
     },
     "metadata": {},
     "output_type": "display_data"
    },
    {
     "data": {
      "application/vnd.jupyter.widget-view+json": {
       "model_id": "fe012115d85c426e8ffeb0b471a1266d",
       "version_major": 2,
       "version_minor": 0
      },
      "text/plain": [
       "  0%|          | 0/142 [00:00<?, ?it/s]"
      ]
     },
     "metadata": {},
     "output_type": "display_data"
    },
    {
     "data": {
      "application/vnd.jupyter.widget-view+json": {
       "model_id": "3da7e2972c914d43be3d134f03dcd2d8",
       "version_major": 2,
       "version_minor": 0
      },
      "text/plain": [
       "  0%|          | 0/121 [00:00<?, ?it/s]"
      ]
     },
     "metadata": {},
     "output_type": "display_data"
    },
    {
     "data": {
      "application/vnd.jupyter.widget-view+json": {
       "model_id": "c3ff16447fee4e449e524fa6d00d8e52",
       "version_major": 2,
       "version_minor": 0
      },
      "text/plain": [
       "  0%|          | 0/157 [00:00<?, ?it/s]"
      ]
     },
     "metadata": {},
     "output_type": "display_data"
    },
    {
     "data": {
      "application/vnd.jupyter.widget-view+json": {
       "model_id": "c18d4ee6868546faacfc9644dd0c5cf0",
       "version_major": 2,
       "version_minor": 0
      },
      "text/plain": [
       "  0%|          | 0/142 [00:00<?, ?it/s]"
      ]
     },
     "metadata": {},
     "output_type": "display_data"
    },
    {
     "data": {
      "application/vnd.jupyter.widget-view+json": {
       "model_id": "5e00c8b4cc4c4432908bbdf971261452",
       "version_major": 2,
       "version_minor": 0
      },
      "text/plain": [
       "  0%|          | 0/141 [00:00<?, ?it/s]"
      ]
     },
     "metadata": {},
     "output_type": "display_data"
    },
    {
     "data": {
      "application/vnd.jupyter.widget-view+json": {
       "model_id": "f19e0e41976e41718e42e5bcfe00f7d6",
       "version_major": 2,
       "version_minor": 0
      },
      "text/plain": [
       "  0%|          | 0/195 [00:00<?, ?it/s]"
      ]
     },
     "metadata": {},
     "output_type": "display_data"
    },
    {
     "data": {
      "application/vnd.jupyter.widget-view+json": {
       "model_id": "223de0c937d440c1a1f5ca2e98005160",
       "version_major": 2,
       "version_minor": 0
      },
      "text/plain": [
       "  0%|          | 0/123 [00:00<?, ?it/s]"
      ]
     },
     "metadata": {},
     "output_type": "display_data"
    },
    {
     "data": {
      "application/vnd.jupyter.widget-view+json": {
       "model_id": "ac088039d3d8485fa9f8185df6fb2230",
       "version_major": 2,
       "version_minor": 0
      },
      "text/plain": [
       "  0%|          | 0/198 [00:00<?, ?it/s]"
      ]
     },
     "metadata": {},
     "output_type": "display_data"
    },
    {
     "data": {
      "application/vnd.jupyter.widget-view+json": {
       "model_id": "da0f333b9451435c9e3ac687476aa18f",
       "version_major": 2,
       "version_minor": 0
      },
      "text/plain": [
       "  0%|          | 0/163 [00:00<?, ?it/s]"
      ]
     },
     "metadata": {},
     "output_type": "display_data"
    },
    {
     "data": {
      "application/vnd.jupyter.widget-view+json": {
       "model_id": "c25d931eab984e78a41d6220f41ce768",
       "version_major": 2,
       "version_minor": 0
      },
      "text/plain": [
       "  0%|          | 0/196 [00:00<?, ?it/s]"
      ]
     },
     "metadata": {},
     "output_type": "display_data"
    },
    {
     "data": {
      "application/vnd.jupyter.widget-view+json": {
       "model_id": "2b49e9a6e3ff486288c9b9af597c7c6b",
       "version_major": 2,
       "version_minor": 0
      },
      "text/plain": [
       "  0%|          | 0/164 [00:00<?, ?it/s]"
      ]
     },
     "metadata": {},
     "output_type": "display_data"
    },
    {
     "data": {
      "application/vnd.jupyter.widget-view+json": {
       "model_id": "2b2edec25e59486dacb64991cfe98b90",
       "version_major": 2,
       "version_minor": 0
      },
      "text/plain": [
       "  0%|          | 0/208 [00:00<?, ?it/s]"
      ]
     },
     "metadata": {},
     "output_type": "display_data"
    },
    {
     "data": {
      "application/vnd.jupyter.widget-view+json": {
       "model_id": "ede6deb3da3c4ce886b86c9980c27dc3",
       "version_major": 2,
       "version_minor": 0
      },
      "text/plain": [
       "  0%|          | 0/192 [00:00<?, ?it/s]"
      ]
     },
     "metadata": {},
     "output_type": "display_data"
    },
    {
     "data": {
      "application/vnd.jupyter.widget-view+json": {
       "model_id": "8f0b9c5bf21c4829a9f939ac11cdc7f0",
       "version_major": 2,
       "version_minor": 0
      },
      "text/plain": [
       "  0%|          | 0/203 [00:00<?, ?it/s]"
      ]
     },
     "metadata": {},
     "output_type": "display_data"
    },
    {
     "data": {
      "application/vnd.jupyter.widget-view+json": {
       "model_id": "f016089aaf2145b993f5a65264a22ad6",
       "version_major": 2,
       "version_minor": 0
      },
      "text/plain": [
       "  0%|          | 0/189 [00:00<?, ?it/s]"
      ]
     },
     "metadata": {},
     "output_type": "display_data"
    },
    {
     "data": {
      "application/vnd.jupyter.widget-view+json": {
       "model_id": "fa5747e3464f4170bbfe29e586970c4b",
       "version_major": 2,
       "version_minor": 0
      },
      "text/plain": [
       "  0%|          | 0/201 [00:00<?, ?it/s]"
      ]
     },
     "metadata": {},
     "output_type": "display_data"
    },
    {
     "data": {
      "application/vnd.jupyter.widget-view+json": {
       "model_id": "a2d85ddac03e46f6a0713a5ea82f5bb2",
       "version_major": 2,
       "version_minor": 0
      },
      "text/plain": [
       "  0%|          | 0/213 [00:00<?, ?it/s]"
      ]
     },
     "metadata": {},
     "output_type": "display_data"
    },
    {
     "data": {
      "application/vnd.jupyter.widget-view+json": {
       "model_id": "a63e6e31ac8e4628ba541e7521a85648",
       "version_major": 2,
       "version_minor": 0
      },
      "text/plain": [
       "  0%|          | 0/156 [00:00<?, ?it/s]"
      ]
     },
     "metadata": {},
     "output_type": "display_data"
    },
    {
     "data": {
      "application/vnd.jupyter.widget-view+json": {
       "model_id": "9fa78d21462946afa627ce01d959ae68",
       "version_major": 2,
       "version_minor": 0
      },
      "text/plain": [
       "  0%|          | 0/177 [00:00<?, ?it/s]"
      ]
     },
     "metadata": {},
     "output_type": "display_data"
    },
    {
     "data": {
      "application/vnd.jupyter.widget-view+json": {
       "model_id": "c5c94475e1584159a515196f2b1f465b",
       "version_major": 2,
       "version_minor": 0
      },
      "text/plain": [
       "  0%|          | 0/191 [00:00<?, ?it/s]"
      ]
     },
     "metadata": {},
     "output_type": "display_data"
    },
    {
     "data": {
      "application/vnd.jupyter.widget-view+json": {
       "model_id": "27975a89fb734d0f80861c854b3d50c3",
       "version_major": 2,
       "version_minor": 0
      },
      "text/plain": [
       "  0%|          | 0/158 [00:00<?, ?it/s]"
      ]
     },
     "metadata": {},
     "output_type": "display_data"
    },
    {
     "data": {
      "application/vnd.jupyter.widget-view+json": {
       "model_id": "c5a573fe1d994951a806b83f6efb20f4",
       "version_major": 2,
       "version_minor": 0
      },
      "text/plain": [
       "  0%|          | 0/234 [00:00<?, ?it/s]"
      ]
     },
     "metadata": {},
     "output_type": "display_data"
    },
    {
     "data": {
      "application/vnd.jupyter.widget-view+json": {
       "model_id": "df0b28b2a93447f0b6391cd00d942a05",
       "version_major": 2,
       "version_minor": 0
      },
      "text/plain": [
       "  0%|          | 0/182 [00:00<?, ?it/s]"
      ]
     },
     "metadata": {},
     "output_type": "display_data"
    },
    {
     "data": {
      "application/vnd.jupyter.widget-view+json": {
       "model_id": "c4f72619d4804e78b4720650a98b479c",
       "version_major": 2,
       "version_minor": 0
      },
      "text/plain": [
       "  0%|          | 0/224 [00:00<?, ?it/s]"
      ]
     },
     "metadata": {},
     "output_type": "display_data"
    },
    {
     "data": {
      "application/vnd.jupyter.widget-view+json": {
       "model_id": "52ef3c9dfd844bbca3d46ce67798bbf3",
       "version_major": 2,
       "version_minor": 0
      },
      "text/plain": [
       "  0%|          | 0/220 [00:00<?, ?it/s]"
      ]
     },
     "metadata": {},
     "output_type": "display_data"
    },
    {
     "data": {
      "application/vnd.jupyter.widget-view+json": {
       "model_id": "8ee0e457d70f45a78ea6f5d212e7a463",
       "version_major": 2,
       "version_minor": 0
      },
      "text/plain": [
       "  0%|          | 0/172 [00:00<?, ?it/s]"
      ]
     },
     "metadata": {},
     "output_type": "display_data"
    },
    {
     "data": {
      "application/vnd.jupyter.widget-view+json": {
       "model_id": "1a24d4c8ff154dd29f6b34723d67b316",
       "version_major": 2,
       "version_minor": 0
      },
      "text/plain": [
       "  0%|          | 0/178 [00:00<?, ?it/s]"
      ]
     },
     "metadata": {},
     "output_type": "display_data"
    },
    {
     "data": {
      "application/vnd.jupyter.widget-view+json": {
       "model_id": "c209315c628f499486eb88a7153d5b6b",
       "version_major": 2,
       "version_minor": 0
      },
      "text/plain": [
       "  0%|          | 0/172 [00:00<?, ?it/s]"
      ]
     },
     "metadata": {},
     "output_type": "display_data"
    },
    {
     "data": {
      "application/vnd.jupyter.widget-view+json": {
       "model_id": "0fae564265394d1d89b3f0cc8cbbdfed",
       "version_major": 2,
       "version_minor": 0
      },
      "text/plain": [
       "  0%|          | 0/232 [00:00<?, ?it/s]"
      ]
     },
     "metadata": {},
     "output_type": "display_data"
    },
    {
     "data": {
      "application/vnd.jupyter.widget-view+json": {
       "model_id": "4123c026ebf54b018d2625cf1319d256",
       "version_major": 2,
       "version_minor": 0
      },
      "text/plain": [
       "  0%|          | 0/279 [00:00<?, ?it/s]"
      ]
     },
     "metadata": {},
     "output_type": "display_data"
    },
    {
     "data": {
      "application/vnd.jupyter.widget-view+json": {
       "model_id": "ed6eaf6cb1bd432fbd0bf56fd3fa4e34",
       "version_major": 2,
       "version_minor": 0
      },
      "text/plain": [
       "  0%|          | 0/228 [00:00<?, ?it/s]"
      ]
     },
     "metadata": {},
     "output_type": "display_data"
    },
    {
     "data": {
      "application/vnd.jupyter.widget-view+json": {
       "model_id": "91807988f44e4a37bad945b91cac540c",
       "version_major": 2,
       "version_minor": 0
      },
      "text/plain": [
       "  0%|          | 0/201 [00:00<?, ?it/s]"
      ]
     },
     "metadata": {},
     "output_type": "display_data"
    },
    {
     "data": {
      "application/vnd.jupyter.widget-view+json": {
       "model_id": "fc45f75aaac144ea81db3bc05b22d072",
       "version_major": 2,
       "version_minor": 0
      },
      "text/plain": [
       "  0%|          | 0/224 [00:00<?, ?it/s]"
      ]
     },
     "metadata": {},
     "output_type": "display_data"
    },
    {
     "data": {
      "application/vnd.jupyter.widget-view+json": {
       "model_id": "81f27b1ff83949c992f763a48c380501",
       "version_major": 2,
       "version_minor": 0
      },
      "text/plain": [
       "  0%|          | 0/214 [00:00<?, ?it/s]"
      ]
     },
     "metadata": {},
     "output_type": "display_data"
    },
    {
     "data": {
      "application/vnd.jupyter.widget-view+json": {
       "model_id": "f5742fdc2787401589e3287bb79f7315",
       "version_major": 2,
       "version_minor": 0
      },
      "text/plain": [
       "  0%|          | 0/174 [00:00<?, ?it/s]"
      ]
     },
     "metadata": {},
     "output_type": "display_data"
    },
    {
     "data": {
      "application/vnd.jupyter.widget-view+json": {
       "model_id": "0d0aaf0802c44a4f9af0a091b7ca7510",
       "version_major": 2,
       "version_minor": 0
      },
      "text/plain": [
       "  0%|          | 0/195 [00:00<?, ?it/s]"
      ]
     },
     "metadata": {},
     "output_type": "display_data"
    },
    {
     "data": {
      "application/vnd.jupyter.widget-view+json": {
       "model_id": "93ddec65c0a143c1bf486e0546783f24",
       "version_major": 2,
       "version_minor": 0
      },
      "text/plain": [
       "  0%|          | 0/90 [00:00<?, ?it/s]"
      ]
     },
     "metadata": {},
     "output_type": "display_data"
    },
    {
     "data": {
      "application/vnd.jupyter.widget-view+json": {
       "model_id": "7341cd5257eb4570a22b3797c655f171",
       "version_major": 2,
       "version_minor": 0
      },
      "text/plain": [
       "  0%|          | 0/151 [00:00<?, ?it/s]"
      ]
     },
     "metadata": {},
     "output_type": "display_data"
    },
    {
     "data": {
      "application/vnd.jupyter.widget-view+json": {
       "model_id": "422371608e1344a1a6ebef56fb62fc9f",
       "version_major": 2,
       "version_minor": 0
      },
      "text/plain": [
       "  0%|          | 0/179 [00:00<?, ?it/s]"
      ]
     },
     "metadata": {},
     "output_type": "display_data"
    },
    {
     "data": {
      "application/vnd.jupyter.widget-view+json": {
       "model_id": "e2a61fb93b854c4e9bc628f7eab2e73a",
       "version_major": 2,
       "version_minor": 0
      },
      "text/plain": [
       "  0%|          | 0/131 [00:00<?, ?it/s]"
      ]
     },
     "metadata": {},
     "output_type": "display_data"
    },
    {
     "data": {
      "application/vnd.jupyter.widget-view+json": {
       "model_id": "2c5b5388507548169887e4399efceed4",
       "version_major": 2,
       "version_minor": 0
      },
      "text/plain": [
       "  0%|          | 0/148 [00:00<?, ?it/s]"
      ]
     },
     "metadata": {},
     "output_type": "display_data"
    },
    {
     "data": {
      "application/vnd.jupyter.widget-view+json": {
       "model_id": "ea81e62aea8b40ccbaf069c1de3c637f",
       "version_major": 2,
       "version_minor": 0
      },
      "text/plain": [
       "  0%|          | 0/162 [00:00<?, ?it/s]"
      ]
     },
     "metadata": {},
     "output_type": "display_data"
    },
    {
     "data": {
      "application/vnd.jupyter.widget-view+json": {
       "model_id": "773481db2bb74625ba37b756a5bfc9ce",
       "version_major": 2,
       "version_minor": 0
      },
      "text/plain": [
       "  0%|          | 0/131 [00:00<?, ?it/s]"
      ]
     },
     "metadata": {},
     "output_type": "display_data"
    },
    {
     "data": {
      "application/vnd.jupyter.widget-view+json": {
       "model_id": "c9bbf7797798406ab634899821618e01",
       "version_major": 2,
       "version_minor": 0
      },
      "text/plain": [
       "  0%|          | 0/203 [00:00<?, ?it/s]"
      ]
     },
     "metadata": {},
     "output_type": "display_data"
    },
    {
     "data": {
      "application/vnd.jupyter.widget-view+json": {
       "model_id": "0dbcba89a94449a0950712b0d21f4817",
       "version_major": 2,
       "version_minor": 0
      },
      "text/plain": [
       "  0%|          | 0/188 [00:00<?, ?it/s]"
      ]
     },
     "metadata": {},
     "output_type": "display_data"
    },
    {
     "data": {
      "application/vnd.jupyter.widget-view+json": {
       "model_id": "47131c6b448e49969cb46f7ac248440f",
       "version_major": 2,
       "version_minor": 0
      },
      "text/plain": [
       "  0%|          | 0/172 [00:00<?, ?it/s]"
      ]
     },
     "metadata": {},
     "output_type": "display_data"
    },
    {
     "data": {
      "application/vnd.jupyter.widget-view+json": {
       "model_id": "cf57f7f4305c4b529b2f317570d4578e",
       "version_major": 2,
       "version_minor": 0
      },
      "text/plain": [
       "  0%|          | 0/194 [00:00<?, ?it/s]"
      ]
     },
     "metadata": {},
     "output_type": "display_data"
    },
    {
     "data": {
      "application/vnd.jupyter.widget-view+json": {
       "model_id": "d62348c08fe64fbe9eac3ea875a27738",
       "version_major": 2,
       "version_minor": 0
      },
      "text/plain": [
       "  0%|          | 0/178 [00:00<?, ?it/s]"
      ]
     },
     "metadata": {},
     "output_type": "display_data"
    },
    {
     "data": {
      "application/vnd.jupyter.widget-view+json": {
       "model_id": "e88de1857f3243e08837886148eabe7f",
       "version_major": 2,
       "version_minor": 0
      },
      "text/plain": [
       "  0%|          | 0/165 [00:00<?, ?it/s]"
      ]
     },
     "metadata": {},
     "output_type": "display_data"
    },
    {
     "data": {
      "application/vnd.jupyter.widget-view+json": {
       "model_id": "46c831742dce4449b394eba4db0cf6d4",
       "version_major": 2,
       "version_minor": 0
      },
      "text/plain": [
       "  0%|          | 0/268 [00:00<?, ?it/s]"
      ]
     },
     "metadata": {},
     "output_type": "display_data"
    },
    {
     "data": {
      "application/vnd.jupyter.widget-view+json": {
       "model_id": "794ae83cd2dd433dacc06f29c5a4cb2d",
       "version_major": 2,
       "version_minor": 0
      },
      "text/plain": [
       "  0%|          | 0/200 [00:00<?, ?it/s]"
      ]
     },
     "metadata": {},
     "output_type": "display_data"
    },
    {
     "data": {
      "application/vnd.jupyter.widget-view+json": {
       "model_id": "4ffcc117bed04b00ade45e97cb86f9e7",
       "version_major": 2,
       "version_minor": 0
      },
      "text/plain": [
       "  0%|          | 0/124 [00:00<?, ?it/s]"
      ]
     },
     "metadata": {},
     "output_type": "display_data"
    },
    {
     "data": {
      "application/vnd.jupyter.widget-view+json": {
       "model_id": "8e3e05f7e17c4f5f80dda468f4e0501a",
       "version_major": 2,
       "version_minor": 0
      },
      "text/plain": [
       "  0%|          | 0/163 [00:00<?, ?it/s]"
      ]
     },
     "metadata": {},
     "output_type": "display_data"
    },
    {
     "data": {
      "application/vnd.jupyter.widget-view+json": {
       "model_id": "f17a545a71de481d80b77aa972c48adb",
       "version_major": 2,
       "version_minor": 0
      },
      "text/plain": [
       "  0%|          | 0/246 [00:00<?, ?it/s]"
      ]
     },
     "metadata": {},
     "output_type": "display_data"
    },
    {
     "data": {
      "application/vnd.jupyter.widget-view+json": {
       "model_id": "7d5a872b3cc34d26b0da097c2a2bd076",
       "version_major": 2,
       "version_minor": 0
      },
      "text/plain": [
       "  0%|          | 0/225 [00:00<?, ?it/s]"
      ]
     },
     "metadata": {},
     "output_type": "display_data"
    },
    {
     "data": {
      "application/vnd.jupyter.widget-view+json": {
       "model_id": "436ffee4af59409b8b8e1966e12e5acc",
       "version_major": 2,
       "version_minor": 0
      },
      "text/plain": [
       "  0%|          | 0/203 [00:00<?, ?it/s]"
      ]
     },
     "metadata": {},
     "output_type": "display_data"
    },
    {
     "data": {
      "application/vnd.jupyter.widget-view+json": {
       "model_id": "b2b81c2b15b44278806e17304ef3268b",
       "version_major": 2,
       "version_minor": 0
      },
      "text/plain": [
       "  0%|          | 0/242 [00:00<?, ?it/s]"
      ]
     },
     "metadata": {},
     "output_type": "display_data"
    },
    {
     "data": {
      "application/vnd.jupyter.widget-view+json": {
       "model_id": "17bd64303d7a474bbd4bf6b61a253cc7",
       "version_major": 2,
       "version_minor": 0
      },
      "text/plain": [
       "  0%|          | 0/202 [00:00<?, ?it/s]"
      ]
     },
     "metadata": {},
     "output_type": "display_data"
    },
    {
     "data": {
      "application/vnd.jupyter.widget-view+json": {
       "model_id": "c809fc67c31b4ccfa8231ffcd0c47f81",
       "version_major": 2,
       "version_minor": 0
      },
      "text/plain": [
       "  0%|          | 0/193 [00:00<?, ?it/s]"
      ]
     },
     "metadata": {},
     "output_type": "display_data"
    },
    {
     "data": {
      "application/vnd.jupyter.widget-view+json": {
       "model_id": "60c7cd4e2a914493a6030955198042ad",
       "version_major": 2,
       "version_minor": 0
      },
      "text/plain": [
       "  0%|          | 0/225 [00:00<?, ?it/s]"
      ]
     },
     "metadata": {},
     "output_type": "display_data"
    },
    {
     "data": {
      "application/vnd.jupyter.widget-view+json": {
       "model_id": "a083ff05de3e45dba9aa554f484c8a08",
       "version_major": 2,
       "version_minor": 0
      },
      "text/plain": [
       "  0%|          | 0/157 [00:00<?, ?it/s]"
      ]
     },
     "metadata": {},
     "output_type": "display_data"
    },
    {
     "data": {
      "application/vnd.jupyter.widget-view+json": {
       "model_id": "6e9b2cee6c27456d89106c668487def0",
       "version_major": 2,
       "version_minor": 0
      },
      "text/plain": [
       "  0%|          | 0/197 [00:00<?, ?it/s]"
      ]
     },
     "metadata": {},
     "output_type": "display_data"
    },
    {
     "data": {
      "application/vnd.jupyter.widget-view+json": {
       "model_id": "5cdadc2a21354cd083d41cba1151b29b",
       "version_major": 2,
       "version_minor": 0
      },
      "text/plain": [
       "  0%|          | 0/238 [00:00<?, ?it/s]"
      ]
     },
     "metadata": {},
     "output_type": "display_data"
    },
    {
     "data": {
      "application/vnd.jupyter.widget-view+json": {
       "model_id": "97453a19d9f64e81aa6253a577723c14",
       "version_major": 2,
       "version_minor": 0
      },
      "text/plain": [
       "  0%|          | 0/218 [00:00<?, ?it/s]"
      ]
     },
     "metadata": {},
     "output_type": "display_data"
    },
    {
     "data": {
      "application/vnd.jupyter.widget-view+json": {
       "model_id": "64770af57a624826b3c6472efbb58003",
       "version_major": 2,
       "version_minor": 0
      },
      "text/plain": [
       "  0%|          | 0/283 [00:00<?, ?it/s]"
      ]
     },
     "metadata": {},
     "output_type": "display_data"
    },
    {
     "data": {
      "application/vnd.jupyter.widget-view+json": {
       "model_id": "5d93e91b17b64e47bb186a3315c710fc",
       "version_major": 2,
       "version_minor": 0
      },
      "text/plain": [
       "  0%|          | 0/232 [00:00<?, ?it/s]"
      ]
     },
     "metadata": {},
     "output_type": "display_data"
    },
    {
     "data": {
      "application/vnd.jupyter.widget-view+json": {
       "model_id": "ff6496c4363a4a1ea1cae616317fdb10",
       "version_major": 2,
       "version_minor": 0
      },
      "text/plain": [
       "  0%|          | 0/238 [00:00<?, ?it/s]"
      ]
     },
     "metadata": {},
     "output_type": "display_data"
    },
    {
     "data": {
      "application/vnd.jupyter.widget-view+json": {
       "model_id": "f279e9ad374e4db6b89855914bbd3e10",
       "version_major": 2,
       "version_minor": 0
      },
      "text/plain": [
       "  0%|          | 0/228 [00:00<?, ?it/s]"
      ]
     },
     "metadata": {},
     "output_type": "display_data"
    },
    {
     "data": {
      "application/vnd.jupyter.widget-view+json": {
       "model_id": "87ffaf065e9c420484bf850ecb34de4a",
       "version_major": 2,
       "version_minor": 0
      },
      "text/plain": [
       "  0%|          | 0/189 [00:00<?, ?it/s]"
      ]
     },
     "metadata": {},
     "output_type": "display_data"
    },
    {
     "data": {
      "application/vnd.jupyter.widget-view+json": {
       "model_id": "4c55e41e274f42cb8fb28d44f8e5e884",
       "version_major": 2,
       "version_minor": 0
      },
      "text/plain": [
       "  0%|          | 0/179 [00:00<?, ?it/s]"
      ]
     },
     "metadata": {},
     "output_type": "display_data"
    },
    {
     "data": {
      "application/vnd.jupyter.widget-view+json": {
       "model_id": "ebbc31feff0c4dee89be4282b9c64136",
       "version_major": 2,
       "version_minor": 0
      },
      "text/plain": [
       "  0%|          | 0/193 [00:00<?, ?it/s]"
      ]
     },
     "metadata": {},
     "output_type": "display_data"
    },
    {
     "data": {
      "application/vnd.jupyter.widget-view+json": {
       "model_id": "bfed9324996c45f7a15e1403bdc829ae",
       "version_major": 2,
       "version_minor": 0
      },
      "text/plain": [
       "  0%|          | 0/236 [00:00<?, ?it/s]"
      ]
     },
     "metadata": {},
     "output_type": "display_data"
    },
    {
     "data": {
      "application/vnd.jupyter.widget-view+json": {
       "model_id": "f4c40182a0a74f3a95728ddb47cf00d9",
       "version_major": 2,
       "version_minor": 0
      },
      "text/plain": [
       "  0%|          | 0/251 [00:00<?, ?it/s]"
      ]
     },
     "metadata": {},
     "output_type": "display_data"
    },
    {
     "data": {
      "application/vnd.jupyter.widget-view+json": {
       "model_id": "ece9a666bed6488cb1f4a1f1d291dd7e",
       "version_major": 2,
       "version_minor": 0
      },
      "text/plain": [
       "  0%|          | 0/233 [00:00<?, ?it/s]"
      ]
     },
     "metadata": {},
     "output_type": "display_data"
    },
    {
     "data": {
      "application/vnd.jupyter.widget-view+json": {
       "model_id": "7ba91a01c6cb42abac8f50883c5a7a67",
       "version_major": 2,
       "version_minor": 0
      },
      "text/plain": [
       "  0%|          | 0/248 [00:00<?, ?it/s]"
      ]
     },
     "metadata": {},
     "output_type": "display_data"
    },
    {
     "data": {
      "application/vnd.jupyter.widget-view+json": {
       "model_id": "14b9db49484e47008883e61ffadc0dad",
       "version_major": 2,
       "version_minor": 0
      },
      "text/plain": [
       "  0%|          | 0/230 [00:00<?, ?it/s]"
      ]
     },
     "metadata": {},
     "output_type": "display_data"
    },
    {
     "data": {
      "application/vnd.jupyter.widget-view+json": {
       "model_id": "0879086df3c24b3da54ba57b16bdb3de",
       "version_major": 2,
       "version_minor": 0
      },
      "text/plain": [
       "  0%|          | 0/183 [00:00<?, ?it/s]"
      ]
     },
     "metadata": {},
     "output_type": "display_data"
    },
    {
     "data": {
      "application/vnd.jupyter.widget-view+json": {
       "model_id": "44d68dfd550943c3947b563970cb4972",
       "version_major": 2,
       "version_minor": 0
      },
      "text/plain": [
       "  0%|          | 0/196 [00:00<?, ?it/s]"
      ]
     },
     "metadata": {},
     "output_type": "display_data"
    },
    {
     "data": {
      "application/vnd.jupyter.widget-view+json": {
       "model_id": "237242fd37b94a53b11e51954c8aff65",
       "version_major": 2,
       "version_minor": 0
      },
      "text/plain": [
       "  0%|          | 0/217 [00:00<?, ?it/s]"
      ]
     },
     "metadata": {},
     "output_type": "display_data"
    },
    {
     "data": {
      "application/vnd.jupyter.widget-view+json": {
       "model_id": "3c4e1e3d66bb4951bd3718f1f7fb5bc8",
       "version_major": 2,
       "version_minor": 0
      },
      "text/plain": [
       "  0%|          | 0/305 [00:00<?, ?it/s]"
      ]
     },
     "metadata": {},
     "output_type": "display_data"
    },
    {
     "data": {
      "application/vnd.jupyter.widget-view+json": {
       "model_id": "cf7bbb17a6614796b81483fb4ea54aa6",
       "version_major": 2,
       "version_minor": 0
      },
      "text/plain": [
       "  0%|          | 0/211 [00:00<?, ?it/s]"
      ]
     },
     "metadata": {},
     "output_type": "display_data"
    },
    {
     "data": {
      "application/vnd.jupyter.widget-view+json": {
       "model_id": "aebffbc0fc9e4a1189d8656392585423",
       "version_major": 2,
       "version_minor": 0
      },
      "text/plain": [
       "  0%|          | 0/189 [00:00<?, ?it/s]"
      ]
     },
     "metadata": {},
     "output_type": "display_data"
    },
    {
     "data": {
      "application/vnd.jupyter.widget-view+json": {
       "model_id": "401d70ae7dec439b90907a17d2815e2c",
       "version_major": 2,
       "version_minor": 0
      },
      "text/plain": [
       "  0%|          | 0/198 [00:00<?, ?it/s]"
      ]
     },
     "metadata": {},
     "output_type": "display_data"
    },
    {
     "data": {
      "application/vnd.jupyter.widget-view+json": {
       "model_id": "915e2917d0d24e89b3cc9c96b4f19504",
       "version_major": 2,
       "version_minor": 0
      },
      "text/plain": [
       "  0%|          | 0/182 [00:00<?, ?it/s]"
      ]
     },
     "metadata": {},
     "output_type": "display_data"
    },
    {
     "data": {
      "application/vnd.jupyter.widget-view+json": {
       "model_id": "aa47f3a4bea64804a5a9f85ebf350ed4",
       "version_major": 2,
       "version_minor": 0
      },
      "text/plain": [
       "  0%|          | 0/214 [00:00<?, ?it/s]"
      ]
     },
     "metadata": {},
     "output_type": "display_data"
    },
    {
     "data": {
      "application/vnd.jupyter.widget-view+json": {
       "model_id": "f7de6c83a3bc4599834f2ea036fc4a61",
       "version_major": 2,
       "version_minor": 0
      },
      "text/plain": [
       "  0%|          | 0/186 [00:00<?, ?it/s]"
      ]
     },
     "metadata": {},
     "output_type": "display_data"
    },
    {
     "data": {
      "application/vnd.jupyter.widget-view+json": {
       "model_id": "9f2d3f97fff240bf9ca0d31183312421",
       "version_major": 2,
       "version_minor": 0
      },
      "text/plain": [
       "  0%|          | 0/176 [00:00<?, ?it/s]"
      ]
     },
     "metadata": {},
     "output_type": "display_data"
    },
    {
     "data": {
      "application/vnd.jupyter.widget-view+json": {
       "model_id": "145099a1d7054a5cae4d33f4f9354f21",
       "version_major": 2,
       "version_minor": 0
      },
      "text/plain": [
       "  0%|          | 0/204 [00:00<?, ?it/s]"
      ]
     },
     "metadata": {},
     "output_type": "display_data"
    },
    {
     "data": {
      "application/vnd.jupyter.widget-view+json": {
       "model_id": "873245c8f3b544b58e2684c2ebe4d4dc",
       "version_major": 2,
       "version_minor": 0
      },
      "text/plain": [
       "  0%|          | 0/192 [00:00<?, ?it/s]"
      ]
     },
     "metadata": {},
     "output_type": "display_data"
    },
    {
     "data": {
      "application/vnd.jupyter.widget-view+json": {
       "model_id": "2c68647890cb4b9b9695e69c5de3ba3f",
       "version_major": 2,
       "version_minor": 0
      },
      "text/plain": [
       "  0%|          | 0/236 [00:00<?, ?it/s]"
      ]
     },
     "metadata": {},
     "output_type": "display_data"
    }
   ],
   "source": [
    "all_episodes_segments = []\n",
    "for episode_data in all_episodes_data:\n",
    "    episode_segments = create_segments(episode_data)\n",
    "    all_episodes_segments.append(episode_segments)"
   ]
  },
  {
   "cell_type": "code",
   "execution_count": 13,
   "metadata": {},
   "outputs": [
    {
     "data": {
      "text/plain": [
       "[{'start_time': None,\n",
       "  'end_time': None,\n",
       "  'episode_title': 'THE PILOT',\n",
       "  'episode_number': 'EPISODE 1',\n",
       "  'text': \"Hi, this is Angela Kinsey. And this is our very first Office Ladies podcast. I am so excited, Jenna! I am so excited. I'm a little bit freaking out. I'm freaking out. We hope you guys like it. We have been working really hard. This is a dream we've had for years of getting to work together again. Yes.\",\n",
       "  'id': 'EPISODE_1-0-6'},\n",
       " {'start_time': None,\n",
       "  'end_time': None,\n",
       "  'episode_title': 'THE PILOT',\n",
       "  'episode_number': 'EPISODE 1',\n",
       "  'text': \"I am so excited. I'm a little bit freaking out. I'm freaking out. We hope you guys like it. We have been working really hard. This is a dream we've had for years of getting to work together again. Yes. Because we became best friends while working on The Office together. We did. We ate lunch together every single day. Every single day. And I think the hardest part for me about the show ending was not getting to see you everyday, Angela.\",\n",
       "  'id': 'EPISODE_1-3-9'},\n",
       " {'start_time': None,\n",
       "  'end_time': None,\n",
       "  'episode_title': 'THE PILOT',\n",
       "  'episode_number': 'EPISODE 1',\n",
       "  'text': 'Yes. Because we became best friends while working on The Office together. We did. We ate lunch together every single day. Every single day. And I think the hardest part for me about the show ending was not getting to see you everyday, Angela. Me too It is so special to get to work with your best friend everyday. Yes.',\n",
       "  'id': 'EPISODE_1-6-12'},\n",
       " {'start_time': None,\n",
       "  'end_time': None,\n",
       "  'episode_title': 'THE PILOT',\n",
       "  'episode_number': 'EPISODE 1',\n",
       "  'text': \"Every single day. And I think the hardest part for me about the show ending was not getting to see you everyday, Angela. Me too It is so special to get to work with your best friend everyday. Yes. What a gift. That was the thing, you know, Steve Carrell told us and I just love this moment so much. He said to Jenna and I, no matter what happens with the show, this is what you two will take from it. And he pointed at the two of us. And he was so right. It's true. And we've been trying to figure out someway we could work together again, ever since. So here it is!\",\n",
       "  'id': 'EPISODE_1-9-15'},\n",
       " {'start_time': None,\n",
       "  'end_time': None,\n",
       "  'episode_title': 'THE PILOT',\n",
       "  'episode_number': 'EPISODE 1',\n",
       "  'text': 'Yes. What a gift. That was the thing, you know, Steve Carrell told us and I just love this moment so much. He said to Jenna and I, no matter what happens with the show, this is what you two will take from it. And he pointed at the two of us. And he was so right. It\\'s true. And we\\'ve been trying to figure out someway we could work together again, ever since. So here it is! Here it is! It\\'s a dream realized. It\\'s a dream realized. We thought, what better time? The fifteenth year anniversary is coming out and I had like three Rubbermaid bins of photos in my shed and I was going through them and I was getting really nostalgic and I was telling Jenna about it. And I was like, \"Jenna, we had such an amazing time on that show.\" I mean, it was one of the joys of my life.',\n",
       "  'id': 'EPISODE_1-12-18'},\n",
       " {'start_time': None,\n",
       "  'end_time': None,\n",
       "  'episode_title': 'THE PILOT',\n",
       "  'episode_number': 'EPISODE 1',\n",
       "  'text': 'It\\'s true. And we\\'ve been trying to figure out someway we could work together again, ever since. So here it is! Here it is! It\\'s a dream realized. It\\'s a dream realized. We thought, what better time? The fifteenth year anniversary is coming out and I had like three Rubbermaid bins of photos in my shed and I was going through them and I was getting really nostalgic and I was telling Jenna about it. And I was like, \"Jenna, we had such an amazing time on that show.\" I mean, it was one of the joys of my life. And you know, I hadn\\'t watched most of the episodes since they aired. So this has been a real treat for me. To go back and finally rewatch them. Me too. And it\\'s so good. You guys, I mean, we really-- We became kind of nerdy fans of our own show.',\n",
       "  'id': 'EPISODE_1-15-21'},\n",
       " {'start_time': None,\n",
       "  'end_time': None,\n",
       "  'episode_title': 'THE PILOT',\n",
       "  'episode_number': 'EPISODE 1',\n",
       "  'text': 'It\\'s a dream realized. We thought, what better time? The fifteenth year anniversary is coming out and I had like three Rubbermaid bins of photos in my shed and I was going through them and I was getting really nostalgic and I was telling Jenna about it. And I was like, \"Jenna, we had such an amazing time on that show.\" I mean, it was one of the joys of my life. And you know, I hadn\\'t watched most of the episodes since they aired. So this has been a real treat for me. To go back and finally rewatch them. Me too. And it\\'s so good. You guys, I mean, we really-- We became kind of nerdy fans of our own show. We\\'ve become nerdy fans and here\\'s the thing It\\'s been so much fun. And I feel like here it is, it\\'s The Office bringing us back together again. Yes!',\n",
       "  'id': 'EPISODE_1-18-24'},\n",
       " {'start_time': None,\n",
       "  'end_time': None,\n",
       "  'episode_title': 'THE PILOT',\n",
       "  'episode_number': 'EPISODE 1',\n",
       "  'text': \"We became kind of nerdy fans of our own show. We've become nerdy fans and here's the thing It's been so much fun. And I feel like here it is, it's The Office bringing us back together again. Yes! It's so special. It's so special Okay, we're geeking out.\",\n",
       "  'id': 'EPISODE_1-21-27'},\n",
       " {'start_time': None,\n",
       "  'end_time': None,\n",
       "  'episode_title': 'THE PILOT',\n",
       "  'episode_number': 'EPISODE 1',\n",
       "  'text': \"Yes! It's so special. It's so special Okay, we're geeking out. So, we're geeking out. And listen, you guys, we just want you to know we're so excited that you're gonna like join us on this journey. And rewatch every week with us. Listen to us chitty chat about being best friends. And there's gonna be times that maybe we forget something, right? Or we miss something. Because we're not experts. We just were on the show. We're on the show.\",\n",
       "  'id': 'EPISODE_1-24-30'},\n",
       " {'start_time': None,\n",
       "  'end_time': None,\n",
       "  'episode_title': 'THE PILOT',\n",
       "  'episode_number': 'EPISODE 1',\n",
       "  'text': \"Okay, we're geeking out. So, we're geeking out. And listen, you guys, we just want you to know we're so excited that you're gonna like join us on this journey. And rewatch every week with us. Listen to us chitty chat about being best friends. And there's gonna be times that maybe we forget something, right? Or we miss something. Because we're not experts. We just were on the show. We're on the show. You are actually probably the expert. You guys are the experts, so please watch along with us, send in questions, and lets just rewatch it together. And we're gonna start from the beginning. We're gonna start with the pilot and watch it in order.\",\n",
       "  'id': 'EPISODE_1-27-33'},\n",
       " {'start_time': None,\n",
       "  'end_time': None,\n",
       "  'episode_title': 'THE PILOT',\n",
       "  'episode_number': 'EPISODE 1',\n",
       "  'text': \"We're on the show. You are actually probably the expert. You guys are the experts, so please watch along with us, send in questions, and lets just rewatch it together. And we're gonna start from the beginning. We're gonna start with the pilot and watch it in order. Oh my gosh. That brings us to the pilot. This is it. This is it.\",\n",
       "  'id': 'EPISODE_1-30-36'},\n",
       " {'start_time': None,\n",
       "  'end_time': None,\n",
       "  'episode_title': 'THE PILOT',\n",
       "  'episode_number': 'EPISODE 1',\n",
       "  'text': \"And we're gonna start from the beginning. We're gonna start with the pilot and watch it in order. Oh my gosh. That brings us to the pilot. This is it. This is it. That's what we're gonna talk about today. Okay, just so you know how Jenna works, you guys. She has like her list she prints out. She has her laptop. She has two notepads. And then I just bring a whole bunch of colored note cards with a Sharpie. That sorta paints a picture of how we process information. It is. I'm a little bit more, I don't know.\",\n",
       "  'id': 'EPISODE_1-33-39'},\n",
       " {'start_time': None,\n",
       "  'end_time': None,\n",
       "  'episode_title': 'THE PILOT',\n",
       "  'episode_number': 'EPISODE 1',\n",
       "  'text': \"This is it. That's what we're gonna talk about today. Okay, just so you know how Jenna works, you guys. She has like her list she prints out. She has her laptop. She has two notepads. And then I just bring a whole bunch of colored note cards with a Sharpie. That sorta paints a picture of how we process information. It is. I'm a little bit more, I don't know. I don't know, Jenna. You're more organized. It's okay, you can say it. And you're more colorful. Oh, well, okay. Well, I guess I am going to take that as a compliment.\",\n",
       "  'id': 'EPISODE_1-36-42'},\n",
       " {'start_time': None,\n",
       "  'end_time': None,\n",
       "  'episode_title': 'THE PILOT',\n",
       "  'episode_number': 'EPISODE 1',\n",
       "  'text': \"It is. I'm a little bit more, I don't know. I don't know, Jenna. You're more organized. It's okay, you can say it. And you're more colorful. Oh, well, okay. Well, I guess I am going to take that as a compliment. Alright, well let's get started! Let's get started! The pilot! We're gonna talk about the pilot. This is season one episode one. this episode is written by Ricky Gervais, Stephen Merchant, and Greg Daniels. And directed by Ken Kwapis. Let's start with a synopsis.\",\n",
       "  'id': 'EPISODE_1-39-45'},\n",
       " {'start_time': None,\n",
       "  'end_time': None,\n",
       "  'episode_title': 'THE PILOT',\n",
       "  'episode_number': 'EPISODE 1',\n",
       "  'text': \"Oh, well, okay. Well, I guess I am going to take that as a compliment. Alright, well let's get started! Let's get started! The pilot! We're gonna talk about the pilot. This is season one episode one. this episode is written by Ricky Gervais, Stephen Merchant, and Greg Daniels. And directed by Ken Kwapis. Let's start with a synopsis. I think that's a good place to start. Great. Alright so, in this episode, we're gonna meet the employees of Dunder Mifflin paper company as introduced by their manager, Michael Scott. That's right. This is just a normal day at an ordinary workplace. Just people living their lives.\",\n",
       "  'id': 'EPISODE_1-42-48'},\n",
       " {'start_time': None,\n",
       "  'end_time': None,\n",
       "  'episode_title': 'THE PILOT',\n",
       "  'episode_number': 'EPISODE 1',\n",
       "  'text': \"We're gonna talk about the pilot. This is season one episode one. this episode is written by Ricky Gervais, Stephen Merchant, and Greg Daniels. And directed by Ken Kwapis. Let's start with a synopsis. I think that's a good place to start. Great. Alright so, in this episode, we're gonna meet the employees of Dunder Mifflin paper company as introduced by their manager, Michael Scott. That's right. This is just a normal day at an ordinary workplace. Just people living their lives. Yeah. A pilot episode is usually just introducing each of the characters and also the convention of the show. And in this case, the convention of this show is that it's a documentary. Right. This is the world you're going to see everyday is this paper company. Yes. Now, I had an idea.\",\n",
       "  'id': 'EPISODE_1-45-51'},\n",
       " {'start_time': None,\n",
       "  'end_time': None,\n",
       "  'episode_title': 'THE PILOT',\n",
       "  'episode_number': 'EPISODE 1',\n",
       "  'text': \"That's right. This is just a normal day at an ordinary workplace. Just people living their lives. Yeah. A pilot episode is usually just introducing each of the characters and also the convention of the show. And in this case, the convention of this show is that it's a documentary. Right. This is the world you're going to see everyday is this paper company. Yes. Now, I had an idea. What? I think for each episode we should have something called Fast Facts. What are you even talking about? This sounds crazy.\",\n",
       "  'id': 'EPISODE_1-48-54'},\n",
       " {'start_time': None,\n",
       "  'end_time': None,\n",
       "  'episode_title': 'THE PILOT',\n",
       "  'episode_number': 'EPISODE 1',\n",
       "  'text': 'Yes. Now, I had an idea. What? I think for each episode we should have something called Fast Facts. What are you even talking about? This sounds crazy. A Fast Fact. What is a Fast Fact? A Fast Fact. Okay, stay with me here. A Fast Fact is a fact about that episode and then we talk about it. Not necessarily fast.',\n",
       "  'id': 'EPISODE_1-51-57'},\n",
       " {'start_time': None,\n",
       "  'end_time': None,\n",
       "  'episode_title': 'THE PILOT',\n",
       "  'episode_number': 'EPISODE 1',\n",
       "  'text': \"What are you even talking about? This sounds crazy. A Fast Fact. What is a Fast Fact? A Fast Fact. Okay, stay with me here. A Fast Fact is a fact about that episode and then we talk about it. Not necessarily fast. Wait, do I have to talk quickly? No. Here's an example of a fast fact. Okay.\",\n",
       "  'id': 'EPISODE_1-54-60'},\n",
       " {'start_time': None,\n",
       "  'end_time': None,\n",
       "  'episode_title': 'THE PILOT',\n",
       "  'episode_number': 'EPISODE 1',\n",
       "  'text': \"A Fast Fact. Okay, stay with me here. A Fast Fact is a fact about that episode and then we talk about it. Not necessarily fast. Wait, do I have to talk quickly? No. Here's an example of a fast fact. Okay. The show The Office is actually an adaptation of a British show of the same name. The Office. That's right. It was called The Office. It was written by Ricky Gervais and Stephen Merchant. It's fantastic. It is amazing.\",\n",
       "  'id': 'EPISODE_1-57-63'},\n",
       " {'start_time': None,\n",
       "  'end_time': None,\n",
       "  'episode_title': 'THE PILOT',\n",
       "  'episode_number': 'EPISODE 1',\n",
       "  'text': 'Okay. The show The Office is actually an adaptation of a British show of the same name. The Office. That\\'s right. It was called The Office. It was written by Ricky Gervais and Stephen Merchant. It\\'s fantastic. It is amazing. I was a huge fan of it before I even went to the audition for the American version of The Office. Same. I had watched the entire series and then I got a phone call that they were doing an American version and asking me to audition for the receptionist. And I about pooped myself. Yeah. Yes. I was excited and nervous because I loved the British version so much. And I was like, \"Oh I hope they do it justice.\" And I mean, come on, years later. I think we did it.',\n",
       "  'id': 'EPISODE_1-60-66'},\n",
       " {'start_time': None,\n",
       "  'end_time': None,\n",
       "  'episode_title': 'THE PILOT',\n",
       "  'episode_number': 'EPISODE 1',\n",
       "  'text': 'It is amazing. I was a huge fan of it before I even went to the audition for the American version of The Office. Same. I had watched the entire series and then I got a phone call that they were doing an American version and asking me to audition for the receptionist. And I about pooped myself. Yeah. Yes. I was excited and nervous because I loved the British version so much. And I was like, \"Oh I hope they do it justice.\" And I mean, come on, years later. I think we did it. Well, we got a lot of critical attention when we were making the pilot. And not a lot of love because people really thought we were gonna mess it up. That\\'s right. People were worried because the British show was award winning, critically acclaimed. It\\'s considered still, to this day, one of the greatest television comedies ever made.',\n",
       "  'id': 'EPISODE_1-63-69'},\n",
       " {'start_time': None,\n",
       "  'end_time': None,\n",
       "  'episode_title': 'THE PILOT',\n",
       "  'episode_number': 'EPISODE 1',\n",
       "  'text': 'Yeah. Yes. I was excited and nervous because I loved the British version so much. And I was like, \"Oh I hope they do it justice.\" And I mean, come on, years later. I think we did it. Well, we got a lot of critical attention when we were making the pilot. And not a lot of love because people really thought we were gonna mess it up. That\\'s right. People were worried because the British show was award winning, critically acclaimed. It\\'s considered still, to this day, one of the greatest television comedies ever made. And it deserves all of that. And it is. Because it is amazing.',\n",
       "  'id': 'EPISODE_1-66-72'},\n",
       " {'start_time': None,\n",
       "  'end_time': None,\n",
       "  'episode_title': 'THE PILOT',\n",
       "  'episode_number': 'EPISODE 1',\n",
       "  'text': \"People were worried because the British show was award winning, critically acclaimed. It's considered still, to this day, one of the greatest television comedies ever made. And it deserves all of that. And it is. Because it is amazing. Yes and so there was a lot of pressure on us when we were going in to make this. And something that I think is often said that we did a shot for shot remake of the British pilot. Which is not true. That is not true. It is not a shot for shot remake. But we did use their script as a template. And there are some adjustments.Â\",\n",
       "  'id': 'EPISODE_1-69-75'},\n",
       " {'start_time': None,\n",
       "  'end_time': None,\n",
       "  'episode_title': 'THE PILOT',\n",
       "  'episode_number': 'EPISODE 1',\n",
       "  'text': \"Because it is amazing. Yes and so there was a lot of pressure on us when we were going in to make this. And something that I think is often said that we did a shot for shot remake of the British pilot. Which is not true. That is not true. It is not a shot for shot remake. But we did use their script as a template. And there are some adjustments.Â There are elements though. There are elements that are the same that if you watch it and watch this one. Yes. For example, in general, each of the characters and the fact that there's this buffoonish, silly boss in their version named David Brent and in our version Michael Scott. But if you look at the talking heads, there are some differences. Yes. And also the way the story is told is a little different. I mean, some of the points are the same that happened, but told differently.\",\n",
       "  'id': 'EPISODE_1-72-78'},\n",
       " {'start_time': None,\n",
       "  'end_time': None,\n",
       "  'episode_title': 'THE PILOT',\n",
       "  'episode_number': 'EPISODE 1',\n",
       "  'text': \"It is not a shot for shot remake. But we did use their script as a template. And there are some adjustments.Â There are elements though. There are elements that are the same that if you watch it and watch this one. Yes. For example, in general, each of the characters and the fact that there's this buffoonish, silly boss in their version named David Brent and in our version Michael Scott. But if you look at the talking heads, there are some differences. Yes. And also the way the story is told is a little different. I mean, some of the points are the same that happened, but told differently. But Greg Daniels was the person who was tasked with Americanizing the British show. Yes. And Ricky Gervais and Stephen Merchant kind of oversaw that process but they, for example, were not on set when we were shooting the pilot.\",\n",
       "  'id': 'EPISODE_1-75-81'},\n",
       " {'start_time': None,\n",
       "  'end_time': None,\n",
       "  'episode_title': 'THE PILOT',\n",
       "  'episode_number': 'EPISODE 1',\n",
       "  'text': 'Yes. And also the way the story is told is a little different. I mean, some of the points are the same that happened, but told differently. But Greg Daniels was the person who was tasked with Americanizing the British show. Yes. And Ricky Gervais and Stephen Merchant kind of oversaw that process but they, for example, were not on set when we were shooting the pilot. Nope. No, they came and they visited with us. I remember sitting and getting to have lunch with Ricky Gervais. Yeah?',\n",
       "  'id': 'EPISODE_1-78-84'},\n",
       " {'start_time': None,\n",
       "  'end_time': None,\n",
       "  'episode_title': 'THE PILOT',\n",
       "  'episode_number': 'EPISODE 1',\n",
       "  'text': 'And Ricky Gervais and Stephen Merchant kind of oversaw that process but they, for example, were not on set when we were shooting the pilot. Nope. No, they came and they visited with us. I remember sitting and getting to have lunch with Ricky Gervais. Yeah? Oh my God. Because I such-- Were you nervous? Oh yes. I was a superfan of the British version.',\n",
       "  'id': 'EPISODE_1-81-87'},\n",
       " {'start_time': None,\n",
       "  'end_time': None,\n",
       "  'episode_title': 'THE PILOT',\n",
       "  'episode_number': 'EPISODE 1',\n",
       "  'text': 'Yeah? Oh my God. Because I such-- Were you nervous? Oh yes. I was a superfan of the British version. Me too. And I had been cast in the pilot and they came and they listened to us do a table read. And afterwards, they asked me, John, Rainn, Steve, and BJ and Greg to join them for lunch to discuss the show. And I remember thinking if I get fired tomorrow, at least I got the have lunch with Ricky Gervais and Stephen Merchant. At least that happened. That was to me just huge. Was it a fun lunch? I was not at that lunch. I was not invited.',\n",
       "  'id': 'EPISODE_1-84-90'},\n",
       " {'start_time': None,\n",
       "  'end_time': None,\n",
       "  'episode_title': 'THE PILOT',\n",
       "  'episode_number': 'EPISODE 1',\n",
       "  'text': \"Oh yes. I was a superfan of the British version. Me too. And I had been cast in the pilot and they came and they listened to us do a table read. And afterwards, they asked me, John, Rainn, Steve, and BJ and Greg to join them for lunch to discuss the show. And I remember thinking if I get fired tomorrow, at least I got the have lunch with Ricky Gervais and Stephen Merchant. At least that happened. That was to me just huge. Was it a fun lunch? I was not at that lunch. I was not invited. It was so much fun, Angela. And I remember Ricky saying something in that lunch that was really important. He said, you know, in England, you can be really, really bad at your job for a long time and you never get fired. He was like, in America that's going to frustrate people. So my one piece of advice is that Michael can be a buffoon, he can be silly, he can be irritating. But you should, I suggest, he said, that you show glimpses of him actually being a good salesperson. And we do that throughout the show. You see in future episodes that he is actually good at sales. And he said that's going to be an important piece of the puzzle. And Stephen Merchant said, my piece of advice would be to learn a little bit more into the Jim and Pam relationship. He said-- He knew the heart of it. He said, that's really gonna be the heart of your show. Because the British version, they did six episodes for their first season. Six episodes for their second season. And one big Christmas special. And they knew for American television, we were looking to do--\",\n",
       "  'id': 'EPISODE_1-87-93'},\n",
       " {'start_time': None,\n",
       "  'end_time': None,\n",
       "  'episode_title': 'THE PILOT',\n",
       "  'episode_number': 'EPISODE 1',\n",
       "  'text': \"Was it a fun lunch? I was not at that lunch. I was not invited. It was so much fun, Angela. And I remember Ricky saying something in that lunch that was really important. He said, you know, in England, you can be really, really bad at your job for a long time and you never get fired. He was like, in America that's going to frustrate people. So my one piece of advice is that Michael can be a buffoon, he can be silly, he can be irritating. But you should, I suggest, he said, that you show glimpses of him actually being a good salesperson. And we do that throughout the show. You see in future episodes that he is actually good at sales. And he said that's going to be an important piece of the puzzle. And Stephen Merchant said, my piece of advice would be to learn a little bit more into the Jim and Pam relationship. He said-- He knew the heart of it. He said, that's really gonna be the heart of your show. Because the British version, they did six episodes for their first season. Six episodes for their second season. And one big Christmas special. And they knew for American television, we were looking to do-- Years. Years. And ended up doing two hundred. So he said, you need to keep the heart beating on the show. And so, that's the heart of the show. That's Jim and Pam.\",\n",
       "  'id': 'EPISODE_1-90-96'},\n",
       " {'start_time': None,\n",
       "  'end_time': None,\n",
       "  'episode_title': 'THE PILOT',\n",
       "  'episode_number': 'EPISODE 1',\n",
       "  'text': 'He said, that\\'s really gonna be the heart of your show. Because the British version, they did six episodes for their first season. Six episodes for their second season. And one big Christmas special. And they knew for American television, we were looking to do-- Years. Years. And ended up doing two hundred. So he said, you need to keep the heart beating on the show. And so, that\\'s the heart of the show. That\\'s Jim and Pam. Okay, I have another Fast Fact. We filmed the pilot six months before the rest of season one. And we shot it on the second floor of a real office building in Culver City. So it was an actual office building. And a lot of times on sets, they actually build the office so if they wanna film and get a certain camera angle, they can move a wall. They can move a window. They can move a door. Because they built it. They actually say \"wall flying out\" and they move a whole wall.',\n",
       "  'id': 'EPISODE_1-93-99'},\n",
       " {'start_time': None,\n",
       "  'end_time': None,\n",
       "  'episode_title': 'THE PILOT',\n",
       "  'episode_number': 'EPISODE 1',\n",
       "  'text': 'That\\'s Jim and Pam. Okay, I have another Fast Fact. We filmed the pilot six months before the rest of season one. And we shot it on the second floor of a real office building in Culver City. So it was an actual office building. And a lot of times on sets, they actually build the office so if they wanna film and get a certain camera angle, they can move a wall. They can move a window. They can move a door. Because they built it. They actually say \"wall flying out\" and they move a whole wall. They move a whole wall. It\\'s insane. On our show because it was in an actual office building, you just had to work with it. And it sort of really lended itself to the documentary style that all the shots weren\\'t going to look pretty. They weren\\'t going to be lined up just right because they had to work around actual wall and windows. They couldn\\'t just pop them out.',\n",
       "  'id': 'EPISODE_1-96-102'},\n",
       " {'start_time': None,\n",
       "  'end_time': None,\n",
       "  'episode_title': 'THE PILOT',\n",
       "  'episode_number': 'EPISODE 1',\n",
       "  'text': 'They actually say \"wall flying out\" and they move a whole wall. They move a whole wall. It\\'s insane. On our show because it was in an actual office building, you just had to work with it. And it sort of really lended itself to the documentary style that all the shots weren\\'t going to look pretty. They weren\\'t going to be lined up just right because they had to work around actual wall and windows. They couldn\\'t just pop them out. I remember speaking to Ken Kwapis, our director, about setting certain rules for the documentary style of filming. And he said it was very important to him that for all of the actors and crew that the set felt like a real working office and a real documentary was happening. And so one of the rules that he came up with was that he cleared the entire set of all crew members except a camera operator, a boom operator, and himself. Yes. And that was it.',\n",
       "  'id': 'EPISODE_1-99-105'},\n",
       " {'start_time': None,\n",
       "  'end_time': None,\n",
       "  'episode_title': 'THE PILOT',\n",
       "  'episode_number': 'EPISODE 1',\n",
       "  'text': \"On our show because it was in an actual office building, you just had to work with it. And it sort of really lended itself to the documentary style that all the shots weren't going to look pretty. They weren't going to be lined up just right because they had to work around actual wall and windows. They couldn't just pop them out. I remember speaking to Ken Kwapis, our director, about setting certain rules for the documentary style of filming. And he said it was very important to him that for all of the actors and crew that the set felt like a real working office and a real documentary was happening. And so one of the rules that he came up with was that he cleared the entire set of all crew members except a camera operator, a boom operator, and himself. Yes. And that was it. That was it. He also made all of the actors come in every morning, go through hair and makeup, and then sit at our desk starting at seven thirty AM. And we had to pretend to work. And he walked around with the documentary crew and filmed us for thirty minutes. Yeah. Just us quietly working.\",\n",
       "  'id': 'EPISODE_1-102-108'},\n",
       " {'start_time': None,\n",
       "  'end_time': None,\n",
       "  'episode_title': 'THE PILOT',\n",
       "  'episode_number': 'EPISODE 1',\n",
       "  'text': 'And that was it. That was it. He also made all of the actors come in every morning, go through hair and makeup, and then sit at our desk starting at seven thirty AM. And we had to pretend to work. And he walked around with the documentary crew and filmed us for thirty minutes. Yeah. Just us quietly working. And little shots that you see, for example, of Pam doing White Out. That is a piece of B roll from one of those working mornings that we did. And we did that every day on the pilot. Something else about this episode that I noticed is that there is a random exterior shot of the building. Yes! Oh Jenna, let me tell you. Wait, let me grab one of my colorful note cards as you called them. Exterior shot at nine twenty nine, nine minutes and twenty nine seconds. Not our building! With a huge exclamation point.',\n",
       "  'id': 'EPISODE_1-105-111'},\n",
       " {'start_time': None,\n",
       "  'end_time': None,\n",
       "  'episode_title': 'THE PILOT',\n",
       "  'episode_number': 'EPISODE 1',\n",
       "  'text': 'Yeah. Just us quietly working. And little shots that you see, for example, of Pam doing White Out. That is a piece of B roll from one of those working mornings that we did. And we did that every day on the pilot. Something else about this episode that I noticed is that there is a random exterior shot of the building. Yes! Oh Jenna, let me tell you. Wait, let me grab one of my colorful note cards as you called them. Exterior shot at nine twenty nine, nine minutes and twenty nine seconds. Not our building! With a huge exclamation point. See? This is a big discovery. This is a big discovery for me.',\n",
       "  'id': 'EPISODE_1-108-114'},\n",
       " {'start_time': None,\n",
       "  'end_time': None,\n",
       "  'episode_title': 'THE PILOT',\n",
       "  'episode_number': 'EPISODE 1',\n",
       "  'text': \"With a huge exclamation point. See? This is a big discovery. This is a big discovery for me. Not only not our building. It wasn't even the building we were filming in. I don't know where they got that shot. It was like stock footage from something. I think it was stock footage. And then we never use it again. That was it.\",\n",
       "  'id': 'EPISODE_1-111-117'},\n",
       " {'start_time': None,\n",
       "  'end_time': None,\n",
       "  'episode_title': 'THE PILOT',\n",
       "  'episode_number': 'EPISODE 1',\n",
       "  'text': \"This is a big discovery for me. Not only not our building. It wasn't even the building we were filming in. I don't know where they got that shot. It was like stock footage from something. I think it was stock footage. And then we never use it again. That was it. That was it. They should go back and take that out. See you later.\",\n",
       "  'id': 'EPISODE_1-114-120'},\n",
       " {'start_time': None,\n",
       "  'end_time': None,\n",
       "  'episode_title': 'THE PILOT',\n",
       "  'episode_number': 'EPISODE 1',\n",
       "  'text': \"I think it was stock footage. And then we never use it again. That was it. That was it. They should go back and take that out. See you later. And put a shot of the real Dunder Mifflin exterior. You guys. Jenna's getting sassy on you. Yeah, I'm gonna call someone.\",\n",
       "  'id': 'EPISODE_1-117-123'},\n",
       " {'start_time': None,\n",
       "  'end_time': None,\n",
       "  'episode_title': 'THE PILOT',\n",
       "  'episode_number': 'EPISODE 1',\n",
       "  'text': \"See you later. And put a shot of the real Dunder Mifflin exterior. You guys. Jenna's getting sassy on you. Yeah, I'm gonna call someone. Someone get it right. Alright, here is my last Fast Fact of this episode. Meredith is not Meredith. She is not. She is Henriette.\",\n",
       "  'id': 'EPISODE_1-120-126'},\n",
       " {'start_time': None,\n",
       "  'end_time': None,\n",
       "  'episode_title': 'THE PILOT',\n",
       "  'episode_number': 'EPISODE 1',\n",
       "  'text': \"Yeah, I'm gonna call someone. Someone get it right. Alright, here is my last Fast Fact of this episode. Meredith is not Meredith. She is not. She is Henriette. Yes. Meredith is played by Henriette Mantel in the pilot episode. Not Kate Flannery. This is true. Henriette Mantel was comedy actress who just broken out because she had played Alice in the Brady Bunch films. And she was there for the pilot and then it was six months later that we got picked up and then we started filming the rest of the episodes. And I guess the rumor was she was not available.\",\n",
       "  'id': 'EPISODE_1-123-129'},\n",
       " {'start_time': None,\n",
       "  'end_time': None,\n",
       "  'episode_title': 'THE PILOT',\n",
       "  'episode_number': 'EPISODE 1',\n",
       "  'text': \"She is not. She is Henriette. Yes. Meredith is played by Henriette Mantel in the pilot episode. Not Kate Flannery. This is true. Henriette Mantel was comedy actress who just broken out because she had played Alice in the Brady Bunch films. And she was there for the pilot and then it was six months later that we got picked up and then we started filming the rest of the episodes. And I guess the rumor was she was not available. She was busy. And we had to recast her. So Kate Flannery came in. Here's my Fast Fact. Kate Flannery and I met years before The Office. We were in an all female improv group called Bitch Planet. Woo hoo! Sunday nights, ten PM. That's when you wanna--\",\n",
       "  'id': 'EPISODE_1-126-132'},\n",
       " {'start_time': None,\n",
       "  'end_time': None,\n",
       "  'episode_title': 'THE PILOT',\n",
       "  'episode_number': 'EPISODE 1',\n",
       "  'text': \"Henriette Mantel was comedy actress who just broken out because she had played Alice in the Brady Bunch films. And she was there for the pilot and then it was six months later that we got picked up and then we started filming the rest of the episodes. And I guess the rumor was she was not available. She was busy. And we had to recast her. So Kate Flannery came in. Here's my Fast Fact. Kate Flannery and I met years before The Office. We were in an all female improv group called Bitch Planet. Woo hoo! Sunday nights, ten PM. That's when you wanna-- It's exactly when you want your comedy. That's when you wanna watch improv. Kate and I had known each other for a really long time. And also, Oscar Nunez and I did a sketch comedy show together called Hot Towel.Â Where do you get these names, Angela?\",\n",
       "  'id': 'EPISODE_1-129-135'},\n",
       " {'start_time': None,\n",
       "  'end_time': None,\n",
       "  'episode_title': 'THE PILOT',\n",
       "  'episode_number': 'EPISODE 1',\n",
       "  'text': \"So Kate Flannery came in. Here's my Fast Fact. Kate Flannery and I met years before The Office. We were in an all female improv group called Bitch Planet. Woo hoo! Sunday nights, ten PM. That's when you wanna-- It's exactly when you want your comedy. That's when you wanna watch improv. Kate and I had known each other for a really long time. And also, Oscar Nunez and I did a sketch comedy show together called Hot Towel.Â Where do you get these names, Angela? So it was really fun for me because here I am, like, I was so nervous the first day. I didn't know Oscar had been cast. He didn't know I had been cast. You guys, this was sort of before smartphones. It's not like you texted someone you got a role or put it on your social media. There was none of that. So you walked in and were completely surprised? I was completely surprised when I saw Oscar. And not only did I see Oscar but Ken Kwapis sat us next to each other. So I was like, oh my God, I'm going to be okay.\",\n",
       "  'id': 'EPISODE_1-132-138'},\n",
       " {'start_time': None,\n",
       "  'end_time': None,\n",
       "  'episode_title': 'THE PILOT',\n",
       "  'episode_number': 'EPISODE 1',\n",
       "  'text': \"Where do you get these names, Angela? So it was really fun for me because here I am, like, I was so nervous the first day. I didn't know Oscar had been cast. He didn't know I had been cast. You guys, this was sort of before smartphones. It's not like you texted someone you got a role or put it on your social media. There was none of that. So you walked in and were completely surprised? I was completely surprised when I saw Oscar. And not only did I see Oscar but Ken Kwapis sat us next to each other. So I was like, oh my God, I'm going to be okay. That's amazing. My buddy's here. And then Brian walked in as Kevin and I was like, here we go. We're off to the races. You guys were amazing in accounting.\",\n",
       "  'id': 'EPISODE_1-135-141'},\n",
       " {'start_time': None,\n",
       "  'end_time': None,\n",
       "  'episode_title': 'THE PILOT',\n",
       "  'episode_number': 'EPISODE 1',\n",
       "  'text': \"I was completely surprised when I saw Oscar. And not only did I see Oscar but Ken Kwapis sat us next to each other. So I was like, oh my God, I'm going to be okay. That's amazing. My buddy's here. And then Brian walked in as Kevin and I was like, here we go. We're off to the races. You guys were amazing in accounting. Thank you. Thank you so much. I'm giving you a compliment. So yeah, I was so excited to have these friends that I had performed with for years before The Office sitting in my little corner back there.\",\n",
       "  'id': 'EPISODE_1-138-144'},\n",
       " {'start_time': None,\n",
       "  'end_time': None,\n",
       "  'episode_title': 'THE PILOT',\n",
       "  'episode_number': 'EPISODE 1',\n",
       "  'text': \"You guys were amazing in accounting. Thank you. Thank you so much. I'm giving you a compliment. So yeah, I was so excited to have these friends that I had performed with for years before The Office sitting in my little corner back there. I remember meeting everybody for the first time. Do you remember your first impressions of people. I remember my first impression of Rainn Wilson. Tell me. Well, I met Rainn Wilson at a live test audition. So for all the leads of the show, they brought us in to screen test and they mixed and matched us. There were four Pams and four Dwights and four Jims and four Michaels. And we spent a whole day being mixed and matched with each other. And I remember meeting Rainn Wilson and he was in character but I couldn't really know that because I didn't know Rainn yet. And I thought he was the weirdest person I ever met in my life.\",\n",
       "  'id': 'EPISODE_1-141-147'},\n",
       " {'start_time': None,\n",
       "  'end_time': None,\n",
       "  'episode_title': 'THE PILOT',\n",
       "  'episode_number': 'EPISODE 1',\n",
       "  'text': \"So yeah, I was so excited to have these friends that I had performed with for years before The Office sitting in my little corner back there. I remember meeting everybody for the first time. Do you remember your first impressions of people. I remember my first impression of Rainn Wilson. Tell me. Well, I met Rainn Wilson at a live test audition. So for all the leads of the show, they brought us in to screen test and they mixed and matched us. There were four Pams and four Dwights and four Jims and four Michaels. And we spent a whole day being mixed and matched with each other. And I remember meeting Rainn Wilson and he was in character but I couldn't really know that because I didn't know Rainn yet. And I thought he was the weirdest person I ever met in my life. Wait, he was in character the whole time? Yeah. He just was Dwight. So method, Rainn.\",\n",
       "  'id': 'EPISODE_1-144-150'},\n",
       " {'start_time': None,\n",
       "  'end_time': None,\n",
       "  'episode_title': 'THE PILOT',\n",
       "  'episode_number': 'EPISODE 1',\n",
       "  'text': \"Well, I met Rainn Wilson at a live test audition. So for all the leads of the show, they brought us in to screen test and they mixed and matched us. There were four Pams and four Dwights and four Jims and four Michaels. And we spent a whole day being mixed and matched with each other. And I remember meeting Rainn Wilson and he was in character but I couldn't really know that because I didn't know Rainn yet. And I thought he was the weirdest person I ever met in my life. Wait, he was in character the whole time? Yeah. He just was Dwight. So method, Rainn. He had his hair like that. So method. But you know what? I kinda did the same thing. I did my Pam hairstyle. The hairstyle that I wore on the show, I sorta invented through the audition process. That sort of half up, half down scrunchie air dried curl. So I was very quiet. I didn't talk to people in the waiting room because I thought Pam was sort of not a chatter. And I didn't wanna get out of character.\",\n",
       "  'id': 'EPISODE_1-147-153'},\n",
       " {'start_time': None,\n",
       "  'end_time': None,\n",
       "  'episode_title': 'THE PILOT',\n",
       "  'episode_number': 'EPISODE 1',\n",
       "  'text': \"So method, Rainn. He had his hair like that. So method. But you know what? I kinda did the same thing. I did my Pam hairstyle. The hairstyle that I wore on the show, I sorta invented through the audition process. That sort of half up, half down scrunchie air dried curl. So I was very quiet. I didn't talk to people in the waiting room because I thought Pam was sort of not a chatter. And I didn't wanna get out of character. I remember one of the first things, this is so random but it's true. That first week of filming, Rainn's wife came to have lunch and this is the main interaction I remember from Rainn during the pilot. Okay. Rainn introduces me to his wife, she was pregnant at the time with their son. And he says, this is my wife, Holly, bearer of my seed. And I was like, what?! And she started laughing. But that was just Rainn being Rainn.\",\n",
       "  'id': 'EPISODE_1-150-156'},\n",
       " {'start_time': None,\n",
       "  'end_time': None,\n",
       "  'episode_title': 'THE PILOT',\n",
       "  'episode_number': 'EPISODE 1',\n",
       "  'text': \"But you know what? I kinda did the same thing. I did my Pam hairstyle. The hairstyle that I wore on the show, I sorta invented through the audition process. That sort of half up, half down scrunchie air dried curl. So I was very quiet. I didn't talk to people in the waiting room because I thought Pam was sort of not a chatter. And I didn't wanna get out of character. I remember one of the first things, this is so random but it's true. That first week of filming, Rainn's wife came to have lunch and this is the main interaction I remember from Rainn during the pilot. Okay. Rainn introduces me to his wife, she was pregnant at the time with their son. And he says, this is my wife, Holly, bearer of my seed. And I was like, what?! And she started laughing. But that was just Rainn being Rainn. That's Rainn. That is Rainn. But wouldn't Dwight say that? He would also say that.\",\n",
       "  'id': 'EPISODE_1-153-159'},\n",
       " {'start_time': None,\n",
       "  'end_time': None,\n",
       "  'episode_title': 'THE PILOT',\n",
       "  'episode_number': 'EPISODE 1',\n",
       "  'text': \"Rainn introduces me to his wife, she was pregnant at the time with their son. And he says, this is my wife, Holly, bearer of my seed. And I was like, what?! And she started laughing. But that was just Rainn being Rainn. That's Rainn. That is Rainn. But wouldn't Dwight say that? He would also say that. This is Angela, bearer of my seed.Â Yes. It's amazing how-- She's carrying my seed. I'm like, oh my God.Â\",\n",
       "  'id': 'EPISODE_1-156-162'},\n",
       " {'start_time': None,\n",
       "  'end_time': None,\n",
       "  'episode_title': 'THE PILOT',\n",
       "  'episode_number': 'EPISODE 1',\n",
       "  'text': \"He would also say that. This is Angela, bearer of my seed.Â Yes. It's amazing how-- She's carrying my seed. I'm like, oh my God.Â I feel like we all had little parts of our characters in us. But I don't know if that's true of you because you are so not Angela Martin. I am. I was thinking about how you were saying that you stayed in character and so did Rainn in between your auditions in the lobby. I would not have. I would've been like chitty chat chat. And then I would've turned into a bitch when I entered the room. Well you know, I didn't have any scenes with Rainn in the pilot of substance. I didn't have any one on one scenes. So for me, when we were shooting the pilot, the people that I really bonded with were Steve, John, and you because you were over the little partition. You were my closest seatmate in the office. So you and I bonded. And I remember after we finished the pilot and we all left and we didn't know if we were gonna be picked up or make anymore. Shortly after that, I turned thirty years old. It was a big milestone birthday for me. And I really wondered if I should invite any of you guys. And I didn't. I didn't invite you guys because I thought well I'm probably never gonna see them again.\",\n",
       "  'id': 'EPISODE_1-159-165'},\n",
       " {'start_time': None,\n",
       "  'end_time': None,\n",
       "  'episode_title': 'THE PILOT',\n",
       "  'episode_number': 'EPISODE 1',\n",
       "  'text': \"She's carrying my seed. I'm like, oh my God.Â I feel like we all had little parts of our characters in us. But I don't know if that's true of you because you are so not Angela Martin. I am. I was thinking about how you were saying that you stayed in character and so did Rainn in between your auditions in the lobby. I would not have. I would've been like chitty chat chat. And then I would've turned into a bitch when I entered the room. Well you know, I didn't have any scenes with Rainn in the pilot of substance. I didn't have any one on one scenes. So for me, when we were shooting the pilot, the people that I really bonded with were Steve, John, and you because you were over the little partition. You were my closest seatmate in the office. So you and I bonded. And I remember after we finished the pilot and we all left and we didn't know if we were gonna be picked up or make anymore. Shortly after that, I turned thirty years old. It was a big milestone birthday for me. And I really wondered if I should invite any of you guys. And I didn't. I didn't invite you guys because I thought well I'm probably never gonna see them again. Should I throw you another thirtieth birthday party and invite everyone? Would you? And then we could all just say Happy Thirtieth?\",\n",
       "  'id': 'EPISODE_1-162-168'},\n",
       " {'start_time': None,\n",
       "  'end_time': None,\n",
       "  'episode_title': 'THE PILOT',\n",
       "  'episode_number': 'EPISODE 1',\n",
       "  'text': \"Well you know, I didn't have any scenes with Rainn in the pilot of substance. I didn't have any one on one scenes. So for me, when we were shooting the pilot, the people that I really bonded with were Steve, John, and you because you were over the little partition. You were my closest seatmate in the office. So you and I bonded. And I remember after we finished the pilot and we all left and we didn't know if we were gonna be picked up or make anymore. Shortly after that, I turned thirty years old. It was a big milestone birthday for me. And I really wondered if I should invite any of you guys. And I didn't. I didn't invite you guys because I thought well I'm probably never gonna see them again. Should I throw you another thirtieth birthday party and invite everyone? Would you? And then we could all just say Happy Thirtieth? Will you? Okay!Â Cus now you guys are some of my closest friends and you weren't at my milestone birthday.\",\n",
       "  'id': 'EPISODE_1-165-171'},\n",
       " {'start_time': None,\n",
       "  'end_time': None,\n",
       "  'episode_title': 'THE PILOT',\n",
       "  'episode_number': 'EPISODE 1',\n",
       "  'text': \"And then we could all just say Happy Thirtieth? Will you? Okay!Â Cus now you guys are some of my closest friends and you weren't at my milestone birthday. Aw. Okay, we'll have to throw you a thirtieth birthday party. It won't be weird. Alright guys. Next up, we're gonna break down this episode. We're gonna really get into the nitty gritty. We're gonna talk about scenes and memories and stories so stick with us. Alright and we're back. We're talking about the pilot episode of The Office and I think we should talk about some of our favorite moments, Jenna.\",\n",
       "  'id': 'EPISODE_1-168-174'},\n",
       " {'start_time': None,\n",
       "  'end_time': None,\n",
       "  'episode_title': 'THE PILOT',\n",
       "  'episode_number': 'EPISODE 1',\n",
       "  'text': \"Cus now you guys are some of my closest friends and you weren't at my milestone birthday. Aw. Okay, we'll have to throw you a thirtieth birthday party. It won't be weird. Alright guys. Next up, we're gonna break down this episode. We're gonna really get into the nitty gritty. We're gonna talk about scenes and memories and stories so stick with us. Alright and we're back. We're talking about the pilot episode of The Office and I think we should talk about some of our favorite moments, Jenna. Yes. Well, one of my favorite moments is the dynamic between Pam and Michael. I mean selfishly, I guess I'm in that moment. Yeah. But I really loved working with Steve Carrell. I really loved how much he let me be silent and just look at him.\",\n",
       "  'id': 'EPISODE_1-171-177'},\n",
       " {'start_time': None,\n",
       "  'end_time': None,\n",
       "  'episode_title': 'THE PILOT',\n",
       "  'episode_number': 'EPISODE 1',\n",
       "  'text': \"Alright and we're back. We're talking about the pilot episode of The Office and I think we should talk about some of our favorite moments, Jenna. Yes. Well, one of my favorite moments is the dynamic between Pam and Michael. I mean selfishly, I guess I'm in that moment. Yeah. But I really loved working with Steve Carrell. I really loved how much he let me be silent and just look at him. And just react. Yes. I loved that. But I especially loved that whenever Melora Hardin who plays Jan Levinson Goul got in the mix. She's so commanding. Just like, Melora's presence, is like I'm scared of her.\",\n",
       "  'id': 'EPISODE_1-174-180'},\n",
       " {'start_time': None,\n",
       "  'end_time': None,\n",
       "  'episode_title': 'THE PILOT',\n",
       "  'episode_number': 'EPISODE 1',\n",
       "  'text': 'But I really loved working with Steve Carrell. I really loved how much he let me be silent and just look at him. And just react. Yes. I loved that. But I especially loved that whenever Melora Hardin who plays Jan Levinson Goul got in the mix. She\\'s so commanding. Just like, Melora\\'s presence, is like I\\'m scared of her. Yes. I get it. I get why he was a little scared of her.Â And I love the scene where Michael tries to throw Pam under the bus about why he doesn\\'t have the agenda that he\\'s supposed to have. And it\\'s because he told her to throw it in the receptacle, the trash can that is the filing cabinet for corporate memos. And I remember shooting that scene and I just remember every time that Pam said \"You told me to put it in a special filing cabinet that is the trash can\" that we would giggle. And so I remember the matter of factness of that moment. And how fun that was.',\n",
       "  'id': 'EPISODE_1-177-183'},\n",
       " {'start_time': None,\n",
       "  'end_time': None,\n",
       "  'episode_title': 'THE PILOT',\n",
       "  'episode_number': 'EPISODE 1',\n",
       "  'text': 'She\\'s so commanding. Just like, Melora\\'s presence, is like I\\'m scared of her. Yes. I get it. I get why he was a little scared of her.Â And I love the scene where Michael tries to throw Pam under the bus about why he doesn\\'t have the agenda that he\\'s supposed to have. And it\\'s because he told her to throw it in the receptacle, the trash can that is the filing cabinet for corporate memos. And I remember shooting that scene and I just remember every time that Pam said \"You told me to put it in a special filing cabinet that is the trash can\" that we would giggle. And so I remember the matter of factness of that moment. And how fun that was. Well, Pam totally stood up for herself in her own little way in that moment. Here\\'s the thing about Steve Carrell. He\\'s one of the nicest people you will ever meet. He is so nice. I know it\\'s become almost like a joke. Like, Steve Carrell\\'s the nicest person ever, but he is.Â I know and people ask me a lot, what\\'s it like to work with Steve Carrell? Are you just laughing all the time? And no, you\\'re not laughing all the time because Steve isn\\'t on all the time.Â He\\'s a real person.',\n",
       "  'id': 'EPISODE_1-180-186'},\n",
       " {'start_time': None,\n",
       "  'end_time': None,\n",
       "  'episode_title': 'THE PILOT',\n",
       "  'episode_number': 'EPISODE 1',\n",
       "  'text': 'And I love the scene where Michael tries to throw Pam under the bus about why he doesn\\'t have the agenda that he\\'s supposed to have. And it\\'s because he told her to throw it in the receptacle, the trash can that is the filing cabinet for corporate memos. And I remember shooting that scene and I just remember every time that Pam said \"You told me to put it in a special filing cabinet that is the trash can\" that we would giggle. And so I remember the matter of factness of that moment. And how fun that was. Well, Pam totally stood up for herself in her own little way in that moment. Here\\'s the thing about Steve Carrell. He\\'s one of the nicest people you will ever meet. He is so nice. I know it\\'s become almost like a joke. Like, Steve Carrell\\'s the nicest person ever, but he is.Â I know and people ask me a lot, what\\'s it like to work with Steve Carrell? Are you just laughing all the time? And no, you\\'re not laughing all the time because Steve isn\\'t on all the time.Â He\\'s a real person. He\\'s a real person and he\\'s... I\\'ve worked with comedians who are on all the time. Who walk around and they can\\'t turn off their joke making brain. They drive me crazy. It\\'s a little insane. Steve is not like that. You and Steve and I would sit and have long conversations about the best frozen yogurt in the San Fernando Valley.',\n",
       "  'id': 'EPISODE_1-183-189'},\n",
       " {'start_time': None,\n",
       "  'end_time': None,\n",
       "  'episode_title': 'THE PILOT',\n",
       "  'episode_number': 'EPISODE 1',\n",
       "  'text': \"He's a real person. He's a real person and he's... I've worked with comedians who are on all the time. Who walk around and they can't turn off their joke making brain. They drive me crazy. It's a little insane. Steve is not like that. You and Steve and I would sit and have long conversations about the best frozen yogurt in the San Fernando Valley. Oh, I will never forget the morning. On Monday mornings, Steve would come out of his office, out of Michael Scott's office between scenes, he would walk over to Jenna and I and we would talk about our weekends. And one Monday morning, he walked over and he was like, ladies, guess what I did this weekend. And we're like what? And he's like I went to Target. He would talk to use about Target. And he told us about his Target run.\",\n",
       "  'id': 'EPISODE_1-186-192'},\n",
       " {'start_time': None,\n",
       "  'end_time': None,\n",
       "  'episode_title': 'THE PILOT',\n",
       "  'episode_number': 'EPISODE 1',\n",
       "  'text': \"It's a little insane. Steve is not like that. You and Steve and I would sit and have long conversations about the best frozen yogurt in the San Fernando Valley. Oh, I will never forget the morning. On Monday mornings, Steve would come out of his office, out of Michael Scott's office between scenes, he would walk over to Jenna and I and we would talk about our weekends. And one Monday morning, he walked over and he was like, ladies, guess what I did this weekend. And we're like what? And he's like I went to Target. He would talk to use about Target. And he told us about his Target run. It was really, really sweet. You know recently, I was in a Michaels purchasing some supplies for a crafting job. And the checkout guy said, oh myÂ  gosh, now this is getting crazy. This morning, Oscar Nunez came in here. Then Steve Carrell and now you? What do you all live here? We love crafting. We love crafting.\",\n",
       "  'id': 'EPISODE_1-189-195'},\n",
       " {'start_time': None,\n",
       "  'end_time': None,\n",
       "  'episode_title': 'THE PILOT',\n",
       "  'episode_number': 'EPISODE 1',\n",
       "  'text': \"And he told us about his Target run. It was really, really sweet. You know recently, I was in a Michaels purchasing some supplies for a crafting job. And the checkout guy said, oh myÂ  gosh, now this is getting crazy. This morning, Oscar Nunez came in here. Then Steve Carrell and now you? What do you all live here? We love crafting. We love crafting. And we're all here. I guess we all live around this one Michaels crafting store. I texted Steve and I said, Steve, the checkout guy at Michael's said you were buying some crafting supplies today. And he said, oh yes, I needed some glue sticks. And he told me what he needed. And he was like, what were you there for?Â That is Steve.\",\n",
       "  'id': 'EPISODE_1-192-198'},\n",
       " {'start_time': None,\n",
       "  'end_time': None,\n",
       "  'episode_title': 'THE PILOT',\n",
       "  'episode_number': 'EPISODE 1',\n",
       "  'text': \"We love crafting. And we're all here. I guess we all live around this one Michaels crafting store. I texted Steve and I said, Steve, the checkout guy at Michael's said you were buying some crafting supplies today. And he said, oh yes, I needed some glue sticks. And he told me what he needed. And he was like, what were you there for?Â That is Steve. That is Steve. That's the kind of stuff we would talk to him about. And so to then have that man shift into this scene where he's just being awful to my character. Like throwing you under the boss in front of the big boss lady. Yes. When our real dynamic was just like so different. Like so much love. So in this scene, Jan tells Michael there's gonna be downsizing. This is big news. This is important. Michael should be paying attention. We've already established that he's thrown away the agenda for the meeting.\",\n",
       "  'id': 'EPISODE_1-195-201'},\n",
       " {'start_time': None,\n",
       "  'end_time': None,\n",
       "  'episode_title': 'THE PILOT',\n",
       "  'episode_number': 'EPISODE 1',\n",
       "  'text': \"That is Steve. That is Steve. That's the kind of stuff we would talk to him about. And so to then have that man shift into this scene where he's just being awful to my character. Like throwing you under the boss in front of the big boss lady. Yes. When our real dynamic was just like so different. Like so much love. So in this scene, Jan tells Michael there's gonna be downsizing. This is big news. This is important. Michael should be paying attention. We've already established that he's thrown away the agenda for the meeting. Yeah, he should take this seriously. But instead he takes a phone call from his friend Todd Packer. Todd Packer, his party buddy who he clearly covets. He thinks this guy is amazing.\",\n",
       "  'id': 'EPISODE_1-198-204'},\n",
       " {'start_time': None,\n",
       "  'end_time': None,\n",
       "  'episode_title': 'THE PILOT',\n",
       "  'episode_number': 'EPISODE 1',\n",
       "  'text': \"Yes. When our real dynamic was just like so different. Like so much love. So in this scene, Jan tells Michael there's gonna be downsizing. This is big news. This is important. Michael should be paying attention. We've already established that he's thrown away the agenda for the meeting. Yeah, he should take this seriously. But instead he takes a phone call from his friend Todd Packer. Todd Packer, his party buddy who he clearly covets. He thinks this guy is amazing. Another interesting fact about this scene is that the voice of Todd Packer that comes on the phone is not the voice of the real Todd Packer. What are you talking about? Dave Koechner ends up playing Todd Packer. When we meet him in season two, this role is played by Dave Koechner. But Dave was not hired when we shot the pilot.\",\n",
       "  'id': 'EPISODE_1-201-207'},\n",
       " {'start_time': None,\n",
       "  'end_time': None,\n",
       "  'episode_title': 'THE PILOT',\n",
       "  'episode_number': 'EPISODE 1',\n",
       "  'text': \"Todd Packer, his party buddy who he clearly covets. He thinks this guy is amazing. Another interesting fact about this scene is that the voice of Todd Packer that comes on the phone is not the voice of the real Todd Packer. What are you talking about? Dave Koechner ends up playing Todd Packer. When we meet him in season two, this role is played by Dave Koechner. But Dave was not hired when we shot the pilot. What? He's not, wait? So it sounds like Dave Koechner. Who is it?\",\n",
       "  'id': 'EPISODE_1-204-210'},\n",
       " {'start_time': None,\n",
       "  'end_time': None,\n",
       "  'episode_title': 'THE PILOT',\n",
       "  'episode_number': 'EPISODE 1',\n",
       "  'text': \"Dave Koechner ends up playing Todd Packer. When we meet him in season two, this role is played by Dave Koechner. But Dave was not hired when we shot the pilot. What? He's not, wait? So it sounds like Dave Koechner. Who is it? But I'm thinking it can't be Dave Koechner, right? All this time I thought it was Dave Koechner. It's not Dave.\",\n",
       "  'id': 'EPISODE_1-207-213'},\n",
       " {'start_time': None,\n",
       "  'end_time': None,\n",
       "  'episode_title': 'THE PILOT',\n",
       "  'episode_number': 'EPISODE 1',\n",
       "  'text': \"Who is it? But I'm thinking it can't be Dave Koechner, right? All this time I thought it was Dave Koechner. It's not Dave. Who is it? I texted Dave Rogers our editor, knower of all things. I mean he is knower of all Office facts.\",\n",
       "  'id': 'EPISODE_1-210-216'},\n",
       " {'start_time': None,\n",
       "  'end_time': None,\n",
       "  'episode_title': 'THE PILOT',\n",
       "  'episode_number': 'EPISODE 1',\n",
       "  'text': \"It's not Dave. Who is it? I texted Dave Rogers our editor, knower of all things. I mean he is knower of all Office facts. He is. OK, what did Dave say? Dave said that the voice was played by Toby Huss.\",\n",
       "  'id': 'EPISODE_1-213-219'},\n",
       " {'start_time': None,\n",
       "  'end_time': None,\n",
       "  'episode_title': 'THE PILOT',\n",
       "  'episode_number': 'EPISODE 1',\n",
       "  'text': \"I mean he is knower of all Office facts. He is. OK, what did Dave say? Dave said that the voice was played by Toby Huss. Toby Huss. Very famous voice actor. He was on King of the Hill for years. And friends of Greg Daniels'.\",\n",
       "  'id': 'EPISODE_1-216-222'},\n",
       " {'start_time': None,\n",
       "  'end_time': None,\n",
       "  'episode_title': 'THE PILOT',\n",
       "  'episode_number': 'EPISODE 1',\n",
       "  'text': \"Dave said that the voice was played by Toby Huss. Toby Huss. Very famous voice actor. He was on King of the Hill for years. And friends of Greg Daniels'. Yes. Toby Huss is so talented. I know.\",\n",
       "  'id': 'EPISODE_1-219-225'},\n",
       " {'start_time': None,\n",
       "  'end_time': None,\n",
       "  'episode_title': 'THE PILOT',\n",
       "  'episode_number': 'EPISODE 1',\n",
       "  'text': \"And friends of Greg Daniels'. Yes. Toby Huss is so talented. I know. How about that? That is Todd Packer's voice. In the pilot episode.\",\n",
       "  'id': 'EPISODE_1-222-228'},\n",
       " {'start_time': None,\n",
       "  'end_time': None,\n",
       "  'episode_title': 'THE PILOT',\n",
       "  'episode_number': 'EPISODE 1',\n",
       "  'text': \"I know. How about that? That is Todd Packer's voice. In the pilot episode. Yes. Well, I loved, here's one of the things I loved about the pilot. And just sort of the brilliance that was Ricky Gervais and Stephen Merchant and Greg Daniels and their collaboration in building this world out is that so many truths about the characters was established in all these subtle ways. And one of the things I loved was Michael is clearly thrilled that the camera people are there. He is so excited. He could not have signed up for this faster.Â\",\n",
       "  'id': 'EPISODE_1-225-231'},\n",
       " {'start_time': None,\n",
       "  'end_time': None,\n",
       "  'episode_title': 'THE PILOT',\n",
       "  'episode_number': 'EPISODE 1',\n",
       "  'text': \"In the pilot episode. Yes. Well, I loved, here's one of the things I loved about the pilot. And just sort of the brilliance that was Ricky Gervais and Stephen Merchant and Greg Daniels and their collaboration in building this world out is that so many truths about the characters was established in all these subtle ways. And one of the things I loved was Michael is clearly thrilled that the camera people are there. He is so excited. He could not have signed up for this faster.Â I mean, he jumped at the chance for this. And he thinks he's one of the world's best comedians in the world. He thinks he is one of the funniest people in the world. He has that amazing talking head where he talks about who his heroes are. And they are Bob Hope. Abraham Lincoln.\",\n",
       "  'id': 'EPISODE_1-228-234'},\n",
       " {'start_time': None,\n",
       "  'end_time': None,\n",
       "  'episode_title': 'THE PILOT',\n",
       "  'episode_number': 'EPISODE 1',\n",
       "  'text': \"He could not have signed up for this faster.Â I mean, he jumped at the chance for this. And he thinks he's one of the world's best comedians in the world. He thinks he is one of the funniest people in the world. He has that amazing talking head where he talks about who his heroes are. And they are Bob Hope. Abraham Lincoln. Bono. And God. Probably. He said probably. Probably God. And here's a little tidbit. Steve wrote that.\",\n",
       "  'id': 'EPISODE_1-231-237'},\n",
       " {'start_time': None,\n",
       "  'end_time': None,\n",
       "  'episode_title': 'THE PILOT',\n",
       "  'episode_number': 'EPISODE 1',\n",
       "  'text': \"Abraham Lincoln. Bono. And God. Probably. He said probably. Probably God. And here's a little tidbit. Steve wrote that. He did? Yes. Oh my God, I love that! I didn't know that.\",\n",
       "  'id': 'EPISODE_1-234-240'},\n",
       " {'start_time': None,\n",
       "  'end_time': None,\n",
       "  'episode_title': 'THE PILOT',\n",
       "  'episode_number': 'EPISODE 1',\n",
       "  'text': \"Probably God. And here's a little tidbit. Steve wrote that. He did? Yes. Oh my God, I love that! I didn't know that. Yeah, Greg asked him, would you mind writing a list of who you believe are Michael Scott's heroes. Wow, so brilliant. Bob Hope. And it made it in.\",\n",
       "  'id': 'EPISODE_1-237-243'},\n",
       " {'start_time': None,\n",
       "  'end_time': None,\n",
       "  'episode_title': 'THE PILOT',\n",
       "  'episode_number': 'EPISODE 1',\n",
       "  'text': \"Oh my God, I love that! I didn't know that. Yeah, Greg asked him, would you mind writing a list of who you believe are Michael Scott's heroes. Wow, so brilliant. Bob Hope. And it made it in. Yes. Well and every chance he gets, he's looking into the camera and doing his comedy bits. And this sort of sets up Michael's love of being liked and being appreciated. And he wants everyone to think he's like the fun boss and he thinks he's legitimately talented. Well there's that scene where he's doing the Six Million Dollar man where he's walking away from Pam's desk. Yes!\",\n",
       "  'id': 'EPISODE_1-240-246'},\n",
       " {'start_time': None,\n",
       "  'end_time': None,\n",
       "  'episode_title': 'THE PILOT',\n",
       "  'episode_number': 'EPISODE 1',\n",
       "  'text': \"And it made it in. Yes. Well and every chance he gets, he's looking into the camera and doing his comedy bits. And this sort of sets up Michael's love of being liked and being appreciated. And he wants everyone to think he's like the fun boss and he thinks he's legitimately talented. Well there's that scene where he's doing the Six Million Dollar man where he's walking away from Pam's desk. Yes! I could not get through that scene and in fact, in order to get my reaction shot they had to make Steve leave the set because I couldn't get through it. So that reaction of me was not while Steve was actually doing anything because everytime he did it, I started laughing. Well he's so giddy to do his Six Million Dollar Man. I timed it because as I watched it I went, wow, this is a long time to commit to this bit. Because he's like *Six Million Dollar Man SFX* He did it and it started at nine minutes forty seconds and it doesn't end until ten minutes two seconds. That is twenty two seconds of the slow mo bit. That's a ton when you think about the scope of an episode. For twenty two seconds, he went *Six Million Dollar Man SFX*Â I mean that's probably why I couldn't get through it. That's why they couldn't get a reaction of me because I couldn't hold it for twenty seconds. I couldn't hold a straight face that long.\",\n",
       "  'id': 'EPISODE_1-243-249'},\n",
       " {'start_time': None,\n",
       "  'end_time': None,\n",
       "  'episode_title': 'THE PILOT',\n",
       "  'episode_number': 'EPISODE 1',\n",
       "  'text': \"Yes! I could not get through that scene and in fact, in order to get my reaction shot they had to make Steve leave the set because I couldn't get through it. So that reaction of me was not while Steve was actually doing anything because everytime he did it, I started laughing. Well he's so giddy to do his Six Million Dollar Man. I timed it because as I watched it I went, wow, this is a long time to commit to this bit. Because he's like *Six Million Dollar Man SFX* He did it and it started at nine minutes forty seconds and it doesn't end until ten minutes two seconds. That is twenty two seconds of the slow mo bit. That's a ton when you think about the scope of an episode. For twenty two seconds, he went *Six Million Dollar Man SFX*Â I mean that's probably why I couldn't get through it. That's why they couldn't get a reaction of me because I couldn't hold it for twenty seconds. I couldn't hold a straight face that long. And he was so desperate for you to look at him and have some kind of reaction. Oh man. OK, what else? There's the conference room scene where Michael officially announces that there's going to be downsizing at Dunder Mifflin. This is a big theme of the pilot. This is the news that Jan gives him when she comes into the office that Dunder Mifflin can no longer support both a Scranton branch and a Stanford branch and that there gonna have to prove who is the branch that should stay. But even if Scranton gets to stay, there might be downsizing of employees. Yeah, the company's hurting and they have to make some cutbacks and they have to fire some people.\",\n",
       "  'id': 'EPISODE_1-246-252'},\n",
       " {'start_time': None,\n",
       "  'end_time': None,\n",
       "  'episode_title': 'THE PILOT',\n",
       "  'episode_number': 'EPISODE 1',\n",
       "  'text': \"I mean that's probably why I couldn't get through it. That's why they couldn't get a reaction of me because I couldn't hold it for twenty seconds. I couldn't hold a straight face that long. And he was so desperate for you to look at him and have some kind of reaction. Oh man. OK, what else? There's the conference room scene where Michael officially announces that there's going to be downsizing at Dunder Mifflin. This is a big theme of the pilot. This is the news that Jan gives him when she comes into the office that Dunder Mifflin can no longer support both a Scranton branch and a Stanford branch and that there gonna have to prove who is the branch that should stay. But even if Scranton gets to stay, there might be downsizing of employees. Yeah, the company's hurting and they have to make some cutbacks and they have to fire some people. Yes so Michael goes into the conference room and this is the first time we see Michael in the conference room and of course Dwight won't give him the space to do that. It's their first power struggle which you will see for years to come. It's the first time he refers to himself as the assistant regional manager. Which is great. And I noticed something about this conference room scene.\",\n",
       "  'id': 'EPISODE_1-249-255'},\n",
       " {'start_time': None,\n",
       "  'end_time': None,\n",
       "  'episode_title': 'THE PILOT',\n",
       "  'episode_number': 'EPISODE 1',\n",
       "  'text': \"Yeah, the company's hurting and they have to make some cutbacks and they have to fire some people. Yes so Michael goes into the conference room and this is the first time we see Michael in the conference room and of course Dwight won't give him the space to do that. It's their first power struggle which you will see for years to come. It's the first time he refers to himself as the assistant regional manager. Which is great. And I noticed something about this conference room scene. What? I bet I have it on my note cards. I bet you have it. That there are some extras in this scene that are never to be seen again. There are two women. Do you want me to refer to it? Let me just tell you what I wrote on my note card. Conference room faces, semicolon.Â\",\n",
       "  'id': 'EPISODE_1-252-258'},\n",
       " {'start_time': None,\n",
       "  'end_time': None,\n",
       "  'episode_title': 'THE PILOT',\n",
       "  'episode_number': 'EPISODE 1',\n",
       "  'text': \"It's the first time he refers to himself as the assistant regional manager. Which is great. And I noticed something about this conference room scene. What? I bet I have it on my note cards. I bet you have it. That there are some extras in this scene that are never to be seen again. There are two women. Do you want me to refer to it? Let me just tell you what I wrote on my note card. Conference room faces, semicolon.Â So in the background there are two women and they are the real production company accountants for our show.Â Yes, we needed more people to fill out the space and they pulled in our actual accountants from our production office. Yes, Ken Kwapis the director walked into the production office and asked if anyone would like to be in the background of a scene. And those two women came and sat there for that couple of hours. They were so giddy.Â\",\n",
       "  'id': 'EPISODE_1-255-261'},\n",
       " {'start_time': None,\n",
       "  'end_time': None,\n",
       "  'episode_title': 'THE PILOT',\n",
       "  'episode_number': 'EPISODE 1',\n",
       "  'text': \"Do you want me to refer to it? Let me just tell you what I wrote on my note card. Conference room faces, semicolon.Â So in the background there are two women and they are the real production company accountants for our show.Â Yes, we needed more people to fill out the space and they pulled in our actual accountants from our production office. Yes, Ken Kwapis the director walked into the production office and asked if anyone would like to be in the background of a scene. And those two women came and sat there for that couple of hours. They were so giddy.Â They loved it. And then also in the conference room, some faces that you might see sprinkled through the first season but they don't go past that season are Luann Kelly who worked in the annex. She is someone that you see a lot. I get asked a lot who is that lady in the annex?Â She was sort of over where Mindy ends up sitting by Kelly's desk. And then of course, Devon and Creed who do end up having a storyline.\",\n",
       "  'id': 'EPISODE_1-258-264'},\n",
       " {'start_time': None,\n",
       "  'end_time': None,\n",
       "  'episode_title': 'THE PILOT',\n",
       "  'episode_number': 'EPISODE 1',\n",
       "  'text': \"Yes, Ken Kwapis the director walked into the production office and asked if anyone would like to be in the background of a scene. And those two women came and sat there for that couple of hours. They were so giddy.Â They loved it. And then also in the conference room, some faces that you might see sprinkled through the first season but they don't go past that season are Luann Kelly who worked in the annex. She is someone that you see a lot. I get asked a lot who is that lady in the annex?Â She was sort of over where Mindy ends up sitting by Kelly's desk. And then of course, Devon and Creed who do end up having a storyline. That will not come until season two. That's right. So for an entire season you just see Devon and Creed in the background of scenes. They don't get any lines until the second season.\",\n",
       "  'id': 'EPISODE_1-261-267'},\n",
       " {'start_time': None,\n",
       "  'end_time': None,\n",
       "  'episode_title': 'THE PILOT',\n",
       "  'episode_number': 'EPISODE 1',\n",
       "  'text': \"And then of course, Devon and Creed who do end up having a storyline. That will not come until season two. That's right. So for an entire season you just see Devon and Creed in the background of scenes. They don't get any lines until the second season. But that is the only scene our actual accountants are in. Because they had to go back to work. They did. They had to actually go back to being accountants for the show.\",\n",
       "  'id': 'EPISODE_1-264-270'},\n",
       " {'start_time': None,\n",
       "  'end_time': None,\n",
       "  'episode_title': 'THE PILOT',\n",
       "  'episode_number': 'EPISODE 1',\n",
       "  'text': \"So for an entire season you just see Devon and Creed in the background of scenes. They don't get any lines until the second season. But that is the only scene our actual accountants are in. Because they had to go back to work. They did. They had to actually go back to being accountants for the show. I think this is an interesting tidbit. Phyllis Smith who plays Phyllis on the show, she was the casting associate for The Office. So when I auditioned for The Office, she read my audition scenes with me. Everyone. I read my scenes with Phyllis. That's who I read my scene with. Yes and Ken Kwapis the director was so taken with how she did her readings with the actors.\",\n",
       "  'id': 'EPISODE_1-267-273'},\n",
       " {'start_time': None,\n",
       "  'end_time': None,\n",
       "  'episode_title': 'THE PILOT',\n",
       "  'episode_number': 'EPISODE 1',\n",
       "  'text': \"They had to actually go back to being accountants for the show. I think this is an interesting tidbit. Phyllis Smith who plays Phyllis on the show, she was the casting associate for The Office. So when I auditioned for The Office, she read my audition scenes with me. Everyone. I read my scenes with Phyllis. That's who I read my scene with. Yes and Ken Kwapis the director was so taken with how she did her readings with the actors. She's so earnest, you guys. She is so earnest. And so real that he said to Greg Daniels, I want her on the show. Can I give her a part on the show? And so Phyllis went from being a casting associate, which she had done for years with Allison Jones the casting director to having a part in this pilot. And I think because we all thought the show was going nowhere, it was fine. And after the pilot was over, she went back to being a casting associate. She went right back to work. Phyllis has a great story that she tells that the way she found out she got Phyllis is that she got sides and they said Phyllis.\",\n",
       "  'id': 'EPISODE_1-270-276'},\n",
       " {'start_time': None,\n",
       "  'end_time': None,\n",
       "  'episode_title': 'THE PILOT',\n",
       "  'episode_number': 'EPISODE 1',\n",
       "  'text': \"Yes and Ken Kwapis the director was so taken with how she did her readings with the actors. She's so earnest, you guys. She is so earnest. And so real that he said to Greg Daniels, I want her on the show. Can I give her a part on the show? And so Phyllis went from being a casting associate, which she had done for years with Allison Jones the casting director to having a part in this pilot. And I think because we all thought the show was going nowhere, it was fine. And after the pilot was over, she went back to being a casting associate. She went right back to work. Phyllis has a great story that she tells that the way she found out she got Phyllis is that she got sides and they said Phyllis. So there was a character and they named it Phyllis. And Ken was like, that's you. You're Phyllis. And she was like what? We wrote a part for you. Based on the numerous readings with actors.\",\n",
       "  'id': 'EPISODE_1-273-279'},\n",
       " {'start_time': None,\n",
       "  'end_time': None,\n",
       "  'episode_title': 'THE PILOT',\n",
       "  'episode_number': 'EPISODE 1',\n",
       "  'text': \"She went right back to work. Phyllis has a great story that she tells that the way she found out she got Phyllis is that she got sides and they said Phyllis. So there was a character and they named it Phyllis. And Ken was like, that's you. You're Phyllis. And she was like what? We wrote a part for you. Based on the numerous readings with actors. You're now in the show, Phyllis. Which is just so cool because Phyllis had wanted to be an actress. She had been an actress, she had been a burlesque dancer.Â No one can shimmy like Phyllis. And she has a great shimmy. She has an amazing photo on her desk because Ken Kwapis wanted us to personalize our desk for the pilot episode and moving forward. So we all brought something from home. I had a photo of myself and my grandmother and a frame that said I heart grandma and my eyes are closed in the photo but my grandmother framed it anyway. And so I had that on my desk and it just kinda tickled me and made me think of my grandmother.\",\n",
       "  'id': 'EPISODE_1-276-282'},\n",
       " {'start_time': None,\n",
       "  'end_time': None,\n",
       "  'episode_title': 'THE PILOT',\n",
       "  'episode_number': 'EPISODE 1',\n",
       "  'text': \"We wrote a part for you. Based on the numerous readings with actors. You're now in the show, Phyllis. Which is just so cool because Phyllis had wanted to be an actress. She had been an actress, she had been a burlesque dancer.Â No one can shimmy like Phyllis. And she has a great shimmy. She has an amazing photo on her desk because Ken Kwapis wanted us to personalize our desk for the pilot episode and moving forward. So we all brought something from home. I had a photo of myself and my grandmother and a frame that said I heart grandma and my eyes are closed in the photo but my grandmother framed it anyway. And so I had that on my desk and it just kinda tickled me and made me think of my grandmother. I had a picture of me and my sister swimming in the lake at the Ozarks. Yes and Phyllis had a picture of herself in her full burlesque outfit with a red feather boa draped over her shoulders.Â Angela, let's take a quick break.\",\n",
       "  'id': 'EPISODE_1-279-285'},\n",
       " {'start_time': None,\n",
       "  'end_time': None,\n",
       "  'episode_title': 'THE PILOT',\n",
       "  'episode_number': 'EPISODE 1',\n",
       "  'text': \"No one can shimmy like Phyllis. And she has a great shimmy. She has an amazing photo on her desk because Ken Kwapis wanted us to personalize our desk for the pilot episode and moving forward. So we all brought something from home. I had a photo of myself and my grandmother and a frame that said I heart grandma and my eyes are closed in the photo but my grandmother framed it anyway. And so I had that on my desk and it just kinda tickled me and made me think of my grandmother. I had a picture of me and my sister swimming in the lake at the Ozarks. Yes and Phyllis had a picture of herself in her full burlesque outfit with a red feather boa draped over her shoulders.Â Angela, let's take a quick break. OK, Jenna. You gonna get a snack? Why? Because you always get a snack during the breaks. I do.\",\n",
       "  'id': 'EPISODE_1-282-288'},\n",
       " {'start_time': None,\n",
       "  'end_time': None,\n",
       "  'episode_title': 'THE PILOT',\n",
       "  'episode_number': 'EPISODE 1',\n",
       "  'text': \"Angela, let's take a quick break. OK, Jenna. You gonna get a snack? Why? Because you always get a snack during the breaks. I do. So then we get to that crazy scene where Michael is walking Ryan the temp around. So he's just been told that we need downsizing and then he hires a temp. It's the opposite of downsizing. Can I just say one thing I loved too? When Dwight has his talking head and he said, I've been talking about downsizing for years. I brought it up in my interview. Like, who does that? Who's interviewing for a job and says you should downsize? I would like this job. I suggest you get rid of three people. Um, so here's a little fun fact. It's not a Fast Fact. A fun fact is that BJ Novak was the first person cast on this show.\",\n",
       "  'id': 'EPISODE_1-285-291'},\n",
       " {'start_time': None,\n",
       "  'end_time': None,\n",
       "  'episode_title': 'THE PILOT',\n",
       "  'episode_number': 'EPISODE 1',\n",
       "  'text': \"I do. So then we get to that crazy scene where Michael is walking Ryan the temp around. So he's just been told that we need downsizing and then he hires a temp. It's the opposite of downsizing. Can I just say one thing I loved too? When Dwight has his talking head and he said, I've been talking about downsizing for years. I brought it up in my interview. Like, who does that? Who's interviewing for a job and says you should downsize? I would like this job. I suggest you get rid of three people. Um, so here's a little fun fact. It's not a Fast Fact. A fun fact is that BJ Novak was the first person cast on this show. He was? He was. Greg Daniels saw him doing standup comedy. And he thought this guy, I want this guy. So he offered BJ a role as both a writer and the role of Ryan the temp on the show. So when I came in for my audition, BJ was already cast. He was the very first person. And he was also the first example of that synergy of having people who were both performers and writers for the show. Which was so great. Something that we haven't talked about but will talk many times as the show goes is what a wonderful creative collaboration we had between the writers and actors. And that's because of Greg Daniels. He sort of set the tone that he wanted this creative collaboration, that he wanted to hear our ideas and wanted writers on the set. And I think we were so much better for it. I've been on other shows now where the writers and actors are separate and there's not a lot of collaboration.\",\n",
       "  'id': 'EPISODE_1-288-294'},\n",
       " {'start_time': None,\n",
       "  'end_time': None,\n",
       "  'episode_title': 'THE PILOT',\n",
       "  'episode_number': 'EPISODE 1',\n",
       "  'text': \"I would like this job. I suggest you get rid of three people. Um, so here's a little fun fact. It's not a Fast Fact. A fun fact is that BJ Novak was the first person cast on this show. He was? He was. Greg Daniels saw him doing standup comedy. And he thought this guy, I want this guy. So he offered BJ a role as both a writer and the role of Ryan the temp on the show. So when I came in for my audition, BJ was already cast. He was the very first person. And he was also the first example of that synergy of having people who were both performers and writers for the show. Which was so great. Something that we haven't talked about but will talk many times as the show goes is what a wonderful creative collaboration we had between the writers and actors. And that's because of Greg Daniels. He sort of set the tone that he wanted this creative collaboration, that he wanted to hear our ideas and wanted writers on the set. And I think we were so much better for it. I've been on other shows now where the writers and actors are separate and there's not a lot of collaboration. It feels weird after having experienced something else. No, Greg really trusted us to be the experts of our characters. So whenever he was trying to mull something over or justify something he would come to us and ask us. Just in the way that he went to Steve and said, hey, do you have any thoughts on who Michael Scott's heroes would be? He trusted us to have done our homework and know our characters so well that we could contribute. Yeah it was really special. So also in that scene. That is the famous stapler in jello. The staples goes in jello. I've seen so many people recreate this. How?\",\n",
       "  'id': 'EPISODE_1-291-297'},\n",
       " {'start_time': None,\n",
       "  'end_time': None,\n",
       "  'episode_title': 'THE PILOT',\n",
       "  'episode_number': 'EPISODE 1',\n",
       "  'text': \"Which was so great. Something that we haven't talked about but will talk many times as the show goes is what a wonderful creative collaboration we had between the writers and actors. And that's because of Greg Daniels. He sort of set the tone that he wanted this creative collaboration, that he wanted to hear our ideas and wanted writers on the set. And I think we were so much better for it. I've been on other shows now where the writers and actors are separate and there's not a lot of collaboration. It feels weird after having experienced something else. No, Greg really trusted us to be the experts of our characters. So whenever he was trying to mull something over or justify something he would come to us and ask us. Just in the way that he went to Steve and said, hey, do you have any thoughts on who Michael Scott's heroes would be? He trusted us to have done our homework and know our characters so well that we could contribute. Yeah it was really special. So also in that scene. That is the famous stapler in jello. The staples goes in jello. I've seen so many people recreate this. How? I am blown away everytime I see a fan tag me in a photo where they put something in jello, I am very impressed. Way to go. Something we haven't mentioned in the flirtation between Jim and Pam in this episode. And it goes on through the whole first two thirds of this episode or three quarters of this episode. Little things. What did I write on my pink notecard, Jenna?\",\n",
       "  'id': 'EPISODE_1-294-300'},\n",
       " {'start_time': None,\n",
       "  'end_time': None,\n",
       "  'episode_title': 'THE PILOT',\n",
       "  'episode_number': 'EPISODE 1',\n",
       "  'text': 'So also in that scene. That is the famous stapler in jello. The staples goes in jello. I\\'ve seen so many people recreate this. How? I am blown away everytime I see a fan tag me in a photo where they put something in jello, I am very impressed. Way to go. Something we haven\\'t mentioned in the flirtation between Jim and Pam in this episode. And it goes on through the whole first two thirds of this episode or three quarters of this episode. Little things. What did I write on my pink notecard, Jenna? Mixed berries. In quotes. \"He\\'s on to me.\" That is one of the cutest things. It\\'s so pure.Â It is.',\n",
       "  'id': 'EPISODE_1-297-303'},\n",
       " {'start_time': None,\n",
       "  'end_time': None,\n",
       "  'episode_title': 'THE PILOT',\n",
       "  'episode_number': 'EPISODE 1',\n",
       "  'text': 'What did I write on my pink notecard, Jenna? Mixed berries. In quotes. \"He\\'s on to me.\" That is one of the cutest things. It\\'s so pure.Â It is. That\\'s like flirting for them. That he knows your favorite yogurt.Â But up until the end, you are just sort of following this flirtation between the two characters and then all of a sudden, Roy walks in the door. David Denman.',\n",
       "  'id': 'EPISODE_1-300-306'},\n",
       " {'start_time': None,\n",
       "  'end_time': None,\n",
       "  'episode_title': 'THE PILOT',\n",
       "  'episode_number': 'EPISODE 1',\n",
       "  'text': \"It is. That's like flirting for them. That he knows your favorite yogurt.Â But up until the end, you are just sort of following this flirtation between the two characters and then all of a sudden, Roy walks in the door. David Denman. Carrying that weird trash bag. We never know what's in that trash bag. What is he carrying? I loved it so much when John and Jim is like, what's in the bag? And Roy's like, just tell her I'll meet her in the car. But I think it is such a... I remember watching the pilot with people and having them be like shocked. Like, oh wait.\",\n",
       "  'id': 'EPISODE_1-303-309'},\n",
       " {'start_time': None,\n",
       "  'end_time': None,\n",
       "  'episode_title': 'THE PILOT',\n",
       "  'episode_number': 'EPISODE 1',\n",
       "  'text': \"David Denman. Carrying that weird trash bag. We never know what's in that trash bag. What is he carrying? I loved it so much when John and Jim is like, what's in the bag? And Roy's like, just tell her I'll meet her in the car. But I think it is such a... I remember watching the pilot with people and having them be like shocked. Like, oh wait. Oh crap, she's been engaged for three years. Holy moly. And then Jim has that heartbreaking talking head. Do I think I'll be invited to the wedding? Oh Jim. Breaking hearts. John Krasinski breaking hearts. Right out of the gate he's breaking hearts.\",\n",
       "  'id': 'EPISODE_1-306-312'},\n",
       " {'start_time': None,\n",
       "  'end_time': None,\n",
       "  'episode_title': 'THE PILOT',\n",
       "  'episode_number': 'EPISODE 1',\n",
       "  'text': \"But I think it is such a... I remember watching the pilot with people and having them be like shocked. Like, oh wait. Oh crap, she's been engaged for three years. Holy moly. And then Jim has that heartbreaking talking head. Do I think I'll be invited to the wedding? Oh Jim. Breaking hearts. John Krasinski breaking hearts. Right out of the gate he's breaking hearts. He really is. So another really cute flirty moment between Jim and Pam. After the conference room scene where we find out there's gonna be downsizing. The camera cuts to different groups of people talking about downsizing. But when it cuts to Jim and Pam, we are not talking about downsizing. What are you guys talking about? We are talking about your cat party. Do you remember this?\",\n",
       "  'id': 'EPISODE_1-309-315'},\n",
       " {'start_time': None,\n",
       "  'end_time': None,\n",
       "  'episode_title': 'THE PILOT',\n",
       "  'episode_number': 'EPISODE 1',\n",
       "  'text': \"Right out of the gate he's breaking hearts. He really is. So another really cute flirty moment between Jim and Pam. After the conference room scene where we find out there's gonna be downsizing. The camera cuts to different groups of people talking about downsizing. But when it cuts to Jim and Pam, we are not talking about downsizing. What are you guys talking about? We are talking about your cat party. Do you remember this? I do. So this is I feel like this is really significant and kinda goes on the heels of what we were talking about with Greg wanting to collaborate with actors. So, they set up the camera and the idea there is that everybody is talking about downsizing but they wanted me and Jim to just be talking flirty or whatever. But whatever I guess they had written wasn't working. We weren't making it work. It was a little stilted.\",\n",
       "  'id': 'EPISODE_1-312-318'},\n",
       " {'start_time': None,\n",
       "  'end_time': None,\n",
       "  'episode_title': 'THE PILOT',\n",
       "  'episode_number': 'EPISODE 1',\n",
       "  'text': \"We are talking about your cat party. Do you remember this? I do. So this is I feel like this is really significant and kinda goes on the heels of what we were talking about with Greg wanting to collaborate with actors. So, they set up the camera and the idea there is that everybody is talking about downsizing but they wanted me and Jim to just be talking flirty or whatever. But whatever I guess they had written wasn't working. We weren't making it work. It was a little stilted. A little forced. So Ken said, listen, I'm just gonna roll the camera. You two just talk to each other. Don't push it. Just talk. Make each other laugh. And so here's something you should know. Earlier in the scene, Ken had asked me if I would pass out papers in the background. I only had three lines in that episode. Otherwise, I was just background basically for that pilot. So he asked me if I would pass out papers and I had just doodled out a little drawing of a cat and I said you're invited to Sprinkle's birthday party. I just sorta made up that my character had found a cat in the parking lot. I was just sort of bored and-- We all made up backstories for ourselves.\",\n",
       "  'id': 'EPISODE_1-315-321'},\n",
       " {'start_time': None,\n",
       "  'end_time': None,\n",
       "  'episode_title': 'THE PILOT',\n",
       "  'episode_number': 'EPISODE 1',\n",
       "  'text': \"It was a little stilted. A little forced. So Ken said, listen, I'm just gonna roll the camera. You two just talk to each other. Don't push it. Just talk. Make each other laugh. And so here's something you should know. Earlier in the scene, Ken had asked me if I would pass out papers in the background. I only had three lines in that episode. Otherwise, I was just background basically for that pilot. So he asked me if I would pass out papers and I had just doodled out a little drawing of a cat and I said you're invited to Sprinkle's birthday party. I just sorta made up that my character had found a cat in the parking lot. I was just sort of bored and-- We all made up backstories for ourselves. I had just made up a backstory that my character had found this cat in the parking lot. But I think that's really significant because you in your character actory prep work decided that your character was a crazy cat lady.Â I guess I did.\",\n",
       "  'id': 'EPISODE_1-318-324'},\n",
       " {'start_time': None,\n",
       "  'end_time': None,\n",
       "  'episode_title': 'THE PILOT',\n",
       "  'episode_number': 'EPISODE 1',\n",
       "  'text': \"We all made up backstories for ourselves. I had just made up a backstory that my character had found this cat in the parking lot. But I think that's really significant because you in your character actory prep work decided that your character was a crazy cat lady.Â I guess I did. Because you kinda decorated your desk with some cat stuff. Now the prop department that set my desk had a paperclip holder that was a cat laying on its side and it holds paper clips. I took it from my desk. I still have it. I might've stolen it as a memento. And so I think I was just looking at that and I was doodling and truth be told, there's only about three things I can draw in real life that look like the actual thing. And one of them is a cat. That's kind true for me too.\",\n",
       "  'id': 'EPISODE_1-321-327'},\n",
       " {'start_time': None,\n",
       "  'end_time': None,\n",
       "  'episode_title': 'THE PILOT',\n",
       "  'episode_number': 'EPISODE 1',\n",
       "  'text': \"I guess I did. Because you kinda decorated your desk with some cat stuff. Now the prop department that set my desk had a paperclip holder that was a cat laying on its side and it holds paper clips. I took it from my desk. I still have it. I might've stolen it as a memento. And so I think I was just looking at that and I was doodling and truth be told, there's only about three things I can draw in real life that look like the actual thing. And one of them is a cat. That's kind true for me too. I can draw a palm tree. I can draw a cat. And I can draw Snoopy. Hey! There you go. And I guess I had just doodled a cat. So maybe my poor skills at drawing is what also gave birth to this moment. But I drew this cat and I wrote you are invited to Sprinkle's birthday party in the parking lot.\",\n",
       "  'id': 'EPISODE_1-324-330'},\n",
       " {'start_time': None,\n",
       "  'end_time': None,\n",
       "  'episode_title': 'THE PILOT',\n",
       "  'episode_number': 'EPISODE 1',\n",
       "  'text': \"That's kind true for me too. I can draw a palm tree. I can draw a cat. And I can draw Snoopy. Hey! There you go. And I guess I had just doodled a cat. So maybe my poor skills at drawing is what also gave birth to this moment. But I drew this cat and I wrote you are invited to Sprinkle's birthday party in the parking lot. And you gave it to me. I handed it to you earlier. It was weird. I remember getting it in the background of the scene thinking, I don't know what this is. But I stuck it to my computer monitor.\",\n",
       "  'id': 'EPISODE_1-327-333'},\n",
       " {'start_time': None,\n",
       "  'end_time': None,\n",
       "  'episode_title': 'THE PILOT',\n",
       "  'episode_number': 'EPISODE 1',\n",
       "  'text': \"There you go. And I guess I had just doodled a cat. So maybe my poor skills at drawing is what also gave birth to this moment. But I drew this cat and I wrote you are invited to Sprinkle's birthday party in the parking lot. And you gave it to me. I handed it to you earlier. It was weird. I remember getting it in the background of the scene thinking, I don't know what this is. But I stuck it to my computer monitor. Yeah it was on a Post It and you stuck it to your computer. So when Ken Kwapis asked me to talk to John about anything to do this scene. Just talk to each other. I noticed this Post It note and I said, are you gonna go to Angela's cat party on Sunday? And he's like no, definitely not. And then we giggle. And that is the bit that they left in the episode. And that's the birth of sprinkles.Â\",\n",
       "  'id': 'EPISODE_1-330-336'},\n",
       " {'start_time': None,\n",
       "  'end_time': None,\n",
       "  'episode_title': 'THE PILOT',\n",
       "  'episode_number': 'EPISODE 1',\n",
       "  'text': \"It was weird. I remember getting it in the background of the scene thinking, I don't know what this is. But I stuck it to my computer monitor. Yeah it was on a Post It and you stuck it to your computer. So when Ken Kwapis asked me to talk to John about anything to do this scene. Just talk to each other. I noticed this Post It note and I said, are you gonna go to Angela's cat party on Sunday? And he's like no, definitely not. And then we giggle. And that is the bit that they left in the episode. And that's the birth of sprinkles.Â That was the birth of Sprinkles. That turned into this cat birthday party. Greg honed in on that. He was like, what is the cat birthday party? And I said, well Angela gave me this Post It note about her birthday party for her cat or something. And he loved it. And then for four seasons we discussed Sprinkles until his untimely death in the freezer. Yes, but that's another episode. Because it's one of my favorite Michael moments too. Yeah, so that was really fun how just these little elements of us in the background sorta being bored and improvising made it into the show. Yeah.\",\n",
       "  'id': 'EPISODE_1-333-339'},\n",
       " {'start_time': None,\n",
       "  'end_time': None,\n",
       "  'episode_title': 'THE PILOT',\n",
       "  'episode_number': 'EPISODE 1',\n",
       "  'text': 'And that\\'s the birth of sprinkles.Â That was the birth of Sprinkles. That turned into this cat birthday party. Greg honed in on that. He was like, what is the cat birthday party? And I said, well Angela gave me this Post It note about her birthday party for her cat or something. And he loved it. And then for four seasons we discussed Sprinkles until his untimely death in the freezer. Yes, but that\\'s another episode. Because it\\'s one of my favorite Michael moments too. Yeah, so that was really fun how just these little elements of us in the background sorta being bored and improvising made it into the show. Yeah. It\\'s so special to me. Alright so I have something that I am so curious about. And Jenna, I don\\'t even know if you know this. Fans out there, I don\\'t know if you know it. Or if we need to text Dave Rogers our editor extraordinaire. So my Dwangela fans, did you notice that in the pilot episode that Dwight is singing Little Drummer Boy as he unpacks his desk? Angela! He\\'s singing like \"Come they told me, parump pa pa pum.\"',\n",
       "  'id': 'EPISODE_1-336-342'},\n",
       " {'start_time': None,\n",
       "  'end_time': None,\n",
       "  'episode_title': 'THE PILOT',\n",
       "  'episode_number': 'EPISODE 1',\n",
       "  'text': 'Yeah. It\\'s so special to me. Alright so I have something that I am so curious about. And Jenna, I don\\'t even know if you know this. Fans out there, I don\\'t know if you know it. Or if we need to text Dave Rogers our editor extraordinaire. So my Dwangela fans, did you notice that in the pilot episode that Dwight is singing Little Drummer Boy as he unpacks his desk? Angela! He\\'s singing like \"Come they told me, parump pa pa pum.\" Yes. But then he goes *drum noise* and then in season three, I karaoke Little Drummer Boy and Dwight joins in and sings with me. Now that story is that I was very nervous to sing. I don\\'t like singing in front of people. And Rainn as Dwight just kinda jumped in and supported me so I wasn\\'t up there alone. And he kneeled down and he held the microphone for me. And I\\'m just like, oh my God. I mean, what? That\\'s weird.',\n",
       "  'id': 'EPISODE_1-339-345'},\n",
       " {'start_time': None,\n",
       "  'end_time': None,\n",
       "  'episode_title': 'THE PILOT',\n",
       "  'episode_number': 'EPISODE 1',\n",
       "  'text': 'He\\'s singing like \"Come they told me, parump pa pa pum.\" Yes. But then he goes *drum noise* and then in season three, I karaoke Little Drummer Boy and Dwight joins in and sings with me. Now that story is that I was very nervous to sing. I don\\'t like singing in front of people. And Rainn as Dwight just kinda jumped in and supported me so I wasn\\'t up there alone. And he kneeled down and he held the microphone for me. And I\\'m just like, oh my God. I mean, what? That\\'s weird. That\\'s crazy. I feel like that has to be a coincidence. I think it\\'s a coincidence but so many fans say to me what amazing synergy it is that Dwight is singing Little Drummer Boy in the pilot. And then in season three, I sing it to him. Now, did a writer remember that? Was that something that or was that in the subconscious of the show? I don\\'t know.',\n",
       "  'id': 'EPISODE_1-342-348'},\n",
       " {'start_time': None,\n",
       "  'end_time': None,\n",
       "  'episode_title': 'THE PILOT',\n",
       "  'episode_number': 'EPISODE 1',\n",
       "  'text': \"That's weird. That's crazy. I feel like that has to be a coincidence. I think it's a coincidence but so many fans say to me what amazing synergy it is that Dwight is singing Little Drummer Boy in the pilot. And then in season three, I sing it to him. Now, did a writer remember that? Was that something that or was that in the subconscious of the show? I don't know. I dunno. You know what I found? I found this article and I can't remember where. I apologize. I found an article that was all about secret messages in the pilot episode. And one of the secret messages that somebody points out is that in the scene where Roy comes in the door for the first time, the boom mic dips into frame. And someone wondered was that a nod to the boom operator Brian that we will meet in season nine. No, that was just an accident! Was it? Was it foreshadowing to let us know that there are three men in Pam's life. Jim, Roy, and Brian.\",\n",
       "  'id': 'EPISODE_1-345-351'},\n",
       " {'start_time': None,\n",
       "  'end_time': None,\n",
       "  'episode_title': 'THE PILOT',\n",
       "  'episode_number': 'EPISODE 1',\n",
       "  'text': \"I think it's a coincidence but so many fans say to me what amazing synergy it is that Dwight is singing Little Drummer Boy in the pilot. And then in season three, I sing it to him. Now, did a writer remember that? Was that something that or was that in the subconscious of the show? I don't know. I dunno. You know what I found? I found this article and I can't remember where. I apologize. I found an article that was all about secret messages in the pilot episode. And one of the secret messages that somebody points out is that in the scene where Roy comes in the door for the first time, the boom mic dips into frame. And someone wondered was that a nod to the boom operator Brian that we will meet in season nine. No, that was just an accident! Was it? Was it foreshadowing to let us know that there are three men in Pam's life. Jim, Roy, and Brian. No no, that was just a boom operator accident and they left it in because it's a documentary. Yes, we left that stuff in all the time. That was a thing that we... we coveted that. We loved it if the cameraperson fumbled or if the boom accidentally was in shot, we still used it. And we could and that was actually great. Because sometimes you're on a set and your best take is ruined because of some technical accident on set. But we were able to use all of it. We didn't have to put it on the cutting room floor.Â Okay, so yeah, so no conspiracy. But yeah, I don't know if Dwight singing Little Drummer Boy in the pilot and Angela singing it in Benihana Christmas in season three is just a crazy coincidence, but it's cool right?\",\n",
       "  'id': 'EPISODE_1-348-354'},\n",
       " {'start_time': None,\n",
       "  'end_time': None,\n",
       "  'episode_title': 'THE PILOT',\n",
       "  'episode_number': 'EPISODE 1',\n",
       "  'text': \"Was it? Was it foreshadowing to let us know that there are three men in Pam's life. Jim, Roy, and Brian. No no, that was just a boom operator accident and they left it in because it's a documentary. Yes, we left that stuff in all the time. That was a thing that we... we coveted that. We loved it if the cameraperson fumbled or if the boom accidentally was in shot, we still used it. And we could and that was actually great. Because sometimes you're on a set and your best take is ruined because of some technical accident on set. But we were able to use all of it. We didn't have to put it on the cutting room floor.Â Okay, so yeah, so no conspiracy. But yeah, I don't know if Dwight singing Little Drummer Boy in the pilot and Angela singing it in Benihana Christmas in season three is just a crazy coincidence, but it's cool right? It's a pretty cool observation. It's pretty cool. I actually love these fan theories because I like to think that these accidents or coincidences, if they are accidents, are part of a fun collective conscious thing that kinda lent itself to the magic of the show.Â\",\n",
       "  'id': 'EPISODE_1-351-357'},\n",
       " {'start_time': None,\n",
       "  'end_time': None,\n",
       "  'episode_title': 'THE PILOT',\n",
       "  'episode_number': 'EPISODE 1',\n",
       "  'text': \"Okay, so yeah, so no conspiracy. But yeah, I don't know if Dwight singing Little Drummer Boy in the pilot and Angela singing it in Benihana Christmas in season three is just a crazy coincidence, but it's cool right? It's a pretty cool observation. It's pretty cool. I actually love these fan theories because I like to think that these accidents or coincidences, if they are accidents, are part of a fun collective conscious thing that kinda lent itself to the magic of the show.Â Wow, Jenna. That was really deep. It kinda was. I got really philosophical there.Â Oh my Gosh, I felt like I just got a vision of what you were like in college. Like you sat around, you wore black turtlenecks.\",\n",
       "  'id': 'EPISODE_1-354-360'},\n",
       " {'start_time': None,\n",
       "  'end_time': None,\n",
       "  'episode_title': 'THE PILOT',\n",
       "  'episode_number': 'EPISODE 1',\n",
       "  'text': 'I actually love these fan theories because I like to think that these accidents or coincidences, if they are accidents, are part of a fun collective conscious thing that kinda lent itself to the magic of the show.Â Wow, Jenna. That was really deep. It kinda was. I got really philosophical there.Â Oh my Gosh, I felt like I just got a vision of what you were like in college. Like you sat around, you wore black turtlenecks. I was kinda like art show Pam. Art show pam. With my turtleneck. My jumper. Spilling philosophy.',\n",
       "  'id': 'EPISODE_1-357-363'},\n",
       " {'start_time': None,\n",
       "  'end_time': None,\n",
       "  'episode_title': 'THE PILOT',\n",
       "  'episode_number': 'EPISODE 1',\n",
       "  'text': \"Oh my Gosh, I felt like I just got a vision of what you were like in college. Like you sat around, you wore black turtlenecks. I was kinda like art show Pam. Art show pam. With my turtleneck. My jumper. Spilling philosophy. Well I like it. Alright, Angela. What do you got for us? I only had one speaking scene in the pilot and so did Brian. It was back in accounting when Angela and Kevin are trying to figure out who's gonna be fired for downsizing. We were really nervous about shooting the scene. It's the only time we speak. And it was at the end of the day. Ken Kwapis, who's the nicest guy, said, go ahead. And I said, somebody's gonna be fired. I bet it'll be me. And Brian as Kevin says, yeah it'll probably be you. And Ken came up to me and said, hey Angela, do it again and give it like half. Give it half. So I guess I was too big? Was I like, somebody's gonna get fired. I bet it's me! And then I was like, somebody's gonna get fired. It'll probably be me. Then he came up to me and was like, half of that. And I said, okay. So I said, somebody's gonna get fired. I bet it'll be me. And he goes, half of that. And I go, oh my God! I'm gonna get fired because I'm like a sketch and improv comedy actor and clearly I'm too broad. And so ultimately, the take they used, by the end of it I was literally like, somebody's gonna get fired. It'll probably be me. And then Brian's like, yeah it'll probably be you. And Ken was like, we got it!\",\n",
       "  'id': 'EPISODE_1-360-366'},\n",
       " {'start_time': None,\n",
       "  'end_time': None,\n",
       "  'episode_title': 'THE PILOT',\n",
       "  'episode_number': 'EPISODE 1',\n",
       "  'text': \"With my turtleneck. My jumper. Spilling philosophy. Well I like it. Alright, Angela. What do you got for us? I only had one speaking scene in the pilot and so did Brian. It was back in accounting when Angela and Kevin are trying to figure out who's gonna be fired for downsizing. We were really nervous about shooting the scene. It's the only time we speak. And it was at the end of the day. Ken Kwapis, who's the nicest guy, said, go ahead. And I said, somebody's gonna be fired. I bet it'll be me. And Brian as Kevin says, yeah it'll probably be you. And Ken came up to me and said, hey Angela, do it again and give it like half. Give it half. So I guess I was too big? Was I like, somebody's gonna get fired. I bet it's me! And then I was like, somebody's gonna get fired. It'll probably be me. Then he came up to me and was like, half of that. And I said, okay. So I said, somebody's gonna get fired. I bet it'll be me. And he goes, half of that. And I go, oh my God! I'm gonna get fired because I'm like a sketch and improv comedy actor and clearly I'm too broad. And so ultimately, the take they used, by the end of it I was literally like, somebody's gonna get fired. It'll probably be me. And then Brian's like, yeah it'll probably be you. And Ken was like, we got it! Do you wanna point out what you noticed about this scene as well? About Kevin? So here's my tidbit, guys. When I watched this, and Brian I wanna call you about it, you just sound like Brian to me. You don't sound like the Kevin voice. Can we play it? I bet it's gonna be me. Probably. It's gonna be me.\",\n",
       "  'id': 'EPISODE_1-363-369'},\n",
       " {'start_time': None,\n",
       "  'end_time': None,\n",
       "  'episode_title': 'THE PILOT',\n",
       "  'episode_number': 'EPISODE 1',\n",
       "  'text': \"I only had one speaking scene in the pilot and so did Brian. It was back in accounting when Angela and Kevin are trying to figure out who's gonna be fired for downsizing. We were really nervous about shooting the scene. It's the only time we speak. And it was at the end of the day. Ken Kwapis, who's the nicest guy, said, go ahead. And I said, somebody's gonna be fired. I bet it'll be me. And Brian as Kevin says, yeah it'll probably be you. And Ken came up to me and said, hey Angela, do it again and give it like half. Give it half. So I guess I was too big? Was I like, somebody's gonna get fired. I bet it's me! And then I was like, somebody's gonna get fired. It'll probably be me. Then he came up to me and was like, half of that. And I said, okay. So I said, somebody's gonna get fired. I bet it'll be me. And he goes, half of that. And I go, oh my God! I'm gonna get fired because I'm like a sketch and improv comedy actor and clearly I'm too broad. And so ultimately, the take they used, by the end of it I was literally like, somebody's gonna get fired. It'll probably be me. And then Brian's like, yeah it'll probably be you. And Ken was like, we got it! Do you wanna point out what you noticed about this scene as well? About Kevin? So here's my tidbit, guys. When I watched this, and Brian I wanna call you about it, you just sound like Brian to me. You don't sound like the Kevin voice. Can we play it? I bet it's gonna be me. Probably. It's gonna be me. Yeah, it'll be you. That's Brian! Oh my gosh.\",\n",
       "  'id': 'EPISODE_1-366-372'},\n",
       " {'start_time': None,\n",
       "  'end_time': None,\n",
       "  'episode_title': 'THE PILOT',\n",
       "  'episode_number': 'EPISODE 1',\n",
       "  'text': \"I bet it's gonna be me. Probably. It's gonna be me. Yeah, it'll be you. That's Brian! Oh my gosh. That's Brian. That is Brian's voice. That is not-- because Kevin would've been like, yeah it'll probably be me. That's a horrible Kevin.\",\n",
       "  'id': 'EPISODE_1-369-375'},\n",
       " {'start_time': None,\n",
       "  'end_time': None,\n",
       "  'episode_title': 'THE PILOT',\n",
       "  'episode_number': 'EPISODE 1',\n",
       "  'text': \"Oh my gosh. That's Brian. That is Brian's voice. That is not-- because Kevin would've been like, yeah it'll probably be me. That's a horrible Kevin. We just did not do that well. Oh my gosh, I wanna call Brian about it. But when I watched it I was like, wait a second. That's Brian. But I think in the pilot we were still figuring out our characters and who they were. However, I have to say, Angela, I went into the deleted scenes of the DVD season one and there is, this is something we did on the pilot. Some of it was an acting exercise where they called us each into the conference separately and they just asked us unscripted lines about our characters and about our relationship to other characters.Â\",\n",
       "  'id': 'EPISODE_1-372-378'},\n",
       " {'start_time': None,\n",
       "  'end_time': None,\n",
       "  'episode_title': 'THE PILOT',\n",
       "  'episode_number': 'EPISODE 1',\n",
       "  'text': \"That's a horrible Kevin. We just did not do that well. Oh my gosh, I wanna call Brian about it. But when I watched it I was like, wait a second. That's Brian. But I think in the pilot we were still figuring out our characters and who they were. However, I have to say, Angela, I went into the deleted scenes of the DVD season one and there is, this is something we did on the pilot. Some of it was an acting exercise where they called us each into the conference separately and they just asked us unscripted lines about our characters and about our relationship to other characters.Â It wasn't written. It was not written. We just improvised.\",\n",
       "  'id': 'EPISODE_1-375-381'},\n",
       " {'start_time': None,\n",
       "  'end_time': None,\n",
       "  'episode_title': 'THE PILOT',\n",
       "  'episode_number': 'EPISODE 1',\n",
       "  'text': \"However, I have to say, Angela, I went into the deleted scenes of the DVD season one and there is, this is something we did on the pilot. Some of it was an acting exercise where they called us each into the conference separately and they just asked us unscripted lines about our characters and about our relationship to other characters.Â It wasn't written. It was not written. We just improvised. So this was sort of an exercise that Ken wanted to do. That Greg and Ken came up with, in addition to that thing where they filmed us just working. They also filmed us being interviewed in character. And I think Greg thought this would be great, maybe I can use some of these tidbits here and there. Well, there's this series of interviews with each of the members of accounting. Oh my God. Where you guys are all trash talking each other very subtly and Angela, you have this incredible deleted scene talking head where they ask you about Oscar.Â\",\n",
       "  'id': 'EPISODE_1-378-384'},\n",
       " {'start_time': None,\n",
       "  'end_time': None,\n",
       "  'episode_title': 'THE PILOT',\n",
       "  'episode_number': 'EPISODE 1',\n",
       "  'text': \"We just improvised. So this was sort of an exercise that Ken wanted to do. That Greg and Ken came up with, in addition to that thing where they filmed us just working. They also filmed us being interviewed in character. And I think Greg thought this would be great, maybe I can use some of these tidbits here and there. Well, there's this series of interviews with each of the members of accounting. Oh my God. Where you guys are all trash talking each other very subtly and Angela, you have this incredible deleted scene talking head where they ask you about Oscar.Â Is this where I compare him to a stapler. Yes. Sam, can you pull that up so we can listen to that? Oscar, how do I describe him? He's like a stapler. Do I need a stapler? Yes. But I am still the one who has to push it down. I did, I improvised that because I was trying to think about how does Angela see Oscar? And he's just like necessary, but he ends up being more work for her.\",\n",
       "  'id': 'EPISODE_1-381-387'},\n",
       " {'start_time': None,\n",
       "  'end_time': None,\n",
       "  'episode_title': 'THE PILOT',\n",
       "  'episode_number': 'EPISODE 1',\n",
       "  'text': \"Where you guys are all trash talking each other very subtly and Angela, you have this incredible deleted scene talking head where they ask you about Oscar.Â Is this where I compare him to a stapler. Yes. Sam, can you pull that up so we can listen to that? Oscar, how do I describe him? He's like a stapler. Do I need a stapler? Yes. But I am still the one who has to push it down. I did, I improvised that because I was trying to think about how does Angela see Oscar? And he's just like necessary, but he ends up being more work for her. Yes. He's annoying.Â What was so clear to me while I was watching them was this accounting dynamic had already started.\",\n",
       "  'id': 'EPISODE_1-384-390'},\n",
       " {'start_time': None,\n",
       "  'end_time': None,\n",
       "  'episode_title': 'THE PILOT',\n",
       "  'episode_number': 'EPISODE 1',\n",
       "  'text': \"Oscar, how do I describe him? He's like a stapler. Do I need a stapler? Yes. But I am still the one who has to push it down. I did, I improvised that because I was trying to think about how does Angela see Oscar? And he's just like necessary, but he ends up being more work for her. Yes. He's annoying.Â What was so clear to me while I was watching them was this accounting dynamic had already started. Yeah. This little pod that guys formed. This little trio. It was there from the very beginning. Also, I do have to point fans, all of the deleted scenes are fantastic. Rainn Wilson has some talking heads. There is a long extended deleted scene talking head of him talking to Ken Kwapis who played the documentarian for us. He would ask us the questions, our director. All about where the boom microphone was. Rainn as Dwight was very distracted by the boom. And he was saying I really need you to move that. And Ken says we can put it in your blind spot. And he says I don't have a blind spot, I've been trained, so that's especially distracting for me. You need to understand that I'm highly trained. And it's just this little non-presentational conversation between Dwight and the documentarian about how to be micâ€™d. I just wanna say one thing. So many great things were established in the pilot that you go to see for years to come. Of course, one of the big ones is the Jim vs Dwight. Their battle and the pranks that Jim is gonna do on Dwight. And I love that it started out so simply with Dwight pushing all of Jim's papers back to his desk and then Jim making his pencil wall. It's just ridiculous.\",\n",
       "  'id': 'EPISODE_1-387-393'},\n",
       " {'start_time': None,\n",
       "  'end_time': None,\n",
       "  'episode_title': 'THE PILOT',\n",
       "  'episode_number': 'EPISODE 1',\n",
       "  'text': \"What was so clear to me while I was watching them was this accounting dynamic had already started. Yeah. This little pod that guys formed. This little trio. It was there from the very beginning. Also, I do have to point fans, all of the deleted scenes are fantastic. Rainn Wilson has some talking heads. There is a long extended deleted scene talking head of him talking to Ken Kwapis who played the documentarian for us. He would ask us the questions, our director. All about where the boom microphone was. Rainn as Dwight was very distracted by the boom. And he was saying I really need you to move that. And Ken says we can put it in your blind spot. And he says I don't have a blind spot, I've been trained, so that's especially distracting for me. You need to understand that I'm highly trained. And it's just this little non-presentational conversation between Dwight and the documentarian about how to be micâ€™d. I just wanna say one thing. So many great things were established in the pilot that you go to see for years to come. Of course, one of the big ones is the Jim vs Dwight. Their battle and the pranks that Jim is gonna do on Dwight. And I love that it started out so simply with Dwight pushing all of Jim's papers back to his desk and then Jim making his pencil wall. It's just ridiculous. Well that was borrowed from the British show. In the British show they have the same desk war but instead the Jim character piles up a bunch of boxes. He makes a box wall between the desks. And we did that when we filmed the pilot. We had Jim make a box wall and in fact, you can see it in the background of conference room scenes. You can see a bunch of boxes piled up on Jim's desk. M'lady. I'm gonna go back and look. Later when we got picked up, we reshot that scene and turned it into a little pencil thing. And you can also see that Rainn's hair is a little bit different in the pencil scene compared to the rest of the pilot.\",\n",
       "  'id': 'EPISODE_1-390-396'},\n",
       " {'start_time': None,\n",
       "  'end_time': None,\n",
       "  'episode_title': 'THE PILOT',\n",
       "  'episode_number': 'EPISODE 1',\n",
       "  'text': \"I just wanna say one thing. So many great things were established in the pilot that you go to see for years to come. Of course, one of the big ones is the Jim vs Dwight. Their battle and the pranks that Jim is gonna do on Dwight. And I love that it started out so simply with Dwight pushing all of Jim's papers back to his desk and then Jim making his pencil wall. It's just ridiculous. Well that was borrowed from the British show. In the British show they have the same desk war but instead the Jim character piles up a bunch of boxes. He makes a box wall between the desks. And we did that when we filmed the pilot. We had Jim make a box wall and in fact, you can see it in the background of conference room scenes. You can see a bunch of boxes piled up on Jim's desk. M'lady. I'm gonna go back and look. Later when we got picked up, we reshot that scene and turned it into a little pencil thing. And you can also see that Rainn's hair is a little bit different in the pencil scene compared to the rest of the pilot. It's not as poofy. That's right. Exactly. Rainn as Dwight went through poofy hair phase which looks like they used a miniature rolling hair brush to blow dry his hair. And then he went through flat parted down the middle phase.\",\n",
       "  'id': 'EPISODE_1-393-399'},\n",
       " {'start_time': None,\n",
       "  'end_time': None,\n",
       "  'episode_title': 'THE PILOT',\n",
       "  'episode_number': 'EPISODE 1',\n",
       "  'text': \"Later when we got picked up, we reshot that scene and turned it into a little pencil thing. And you can also see that Rainn's hair is a little bit different in the pencil scene compared to the rest of the pilot. It's not as poofy. That's right. Exactly. Rainn as Dwight went through poofy hair phase which looks like they used a miniature rolling hair brush to blow dry his hair. And then he went through flat parted down the middle phase. Well, Rainn created the hairstyle for Dwight and he said before that it is based on the hairstyle he wore when he was a sixteen year old boy. So he did his own hair for the pilot. That makes me laugh. I've seen those photos of Rainn. They're crazy. You wore your own clothes in the pilot.\",\n",
       "  'id': 'EPISODE_1-396-402'},\n",
       " {'start_time': None,\n",
       "  'end_time': None,\n",
       "  'episode_title': 'THE PILOT',\n",
       "  'episode_number': 'EPISODE 1',\n",
       "  'text': \"Rainn as Dwight went through poofy hair phase which looks like they used a miniature rolling hair brush to blow dry his hair. And then he went through flat parted down the middle phase. Well, Rainn created the hairstyle for Dwight and he said before that it is based on the hairstyle he wore when he was a sixteen year old boy. So he did his own hair for the pilot. That makes me laugh. I've seen those photos of Rainn. They're crazy. You wore your own clothes in the pilot. I wore my own clothes in the pilot. Alright so the last sorta thing we need to talk about is this big prank on Pam quote unquote. This scene where Michael fake fires her. Well he's so excited because Jim has just had a very successful prank and Michael just wants to be in the spotlight. He wants to be the funny guy.Â\",\n",
       "  'id': 'EPISODE_1-399-405'},\n",
       " {'start_time': None,\n",
       "  'end_time': None,\n",
       "  'episode_title': 'THE PILOT',\n",
       "  'episode_number': 'EPISODE 1',\n",
       "  'text': \"You wore your own clothes in the pilot. I wore my own clothes in the pilot. Alright so the last sorta thing we need to talk about is this big prank on Pam quote unquote. This scene where Michael fake fires her. Well he's so excited because Jim has just had a very successful prank and Michael just wants to be in the spotlight. He wants to be the funny guy.Â So he's gonna show off for Ryan the temp. He's gonna fake fire Pam. And of course it goes horribly wrong and she ends up in tears. And we shot that scene probably thirty times. Wow. And at the beginning of the scene, you can see everyone in the background getting ready to leave for the day. And all those people had to wait for hours. They would have to start in the background and we would do this whole scene.\",\n",
       "  'id': 'EPISODE_1-402-408'},\n",
       " {'start_time': None,\n",
       "  'end_time': None,\n",
       "  'episode_title': 'THE PILOT',\n",
       "  'episode_number': 'EPISODE 1',\n",
       "  'text': \"Well he's so excited because Jim has just had a very successful prank and Michael just wants to be in the spotlight. He wants to be the funny guy.Â So he's gonna show off for Ryan the temp. He's gonna fake fire Pam. And of course it goes horribly wrong and she ends up in tears. And we shot that scene probably thirty times. Wow. And at the beginning of the scene, you can see everyone in the background getting ready to leave for the day. And all those people had to wait for hours. They would have to start in the background and we would do this whole scene. Oh I know, Jenna. You know. I was there. I had to grab my jacket, my coat, my purse. Put them down. My coat and my purse. I think of any scene in the entire history of The Office, this is the one that I've done the most because we did about thirty takes of it that day but it was also my audition scene. This was one of my audition scenes so I auditioned for months for this role.Â I did that scene one time when I auditioned for the role of Pam and I didn't get it!\",\n",
       "  'id': 'EPISODE_1-405-411'},\n",
       " {'start_time': None,\n",
       "  'end_time': None,\n",
       "  'episode_title': 'THE PILOT',\n",
       "  'episode_number': 'EPISODE 1',\n",
       "  'text': \"And at the beginning of the scene, you can see everyone in the background getting ready to leave for the day. And all those people had to wait for hours. They would have to start in the background and we would do this whole scene. Oh I know, Jenna. You know. I was there. I had to grab my jacket, my coat, my purse. Put them down. My coat and my purse. I think of any scene in the entire history of The Office, this is the one that I've done the most because we did about thirty takes of it that day but it was also my audition scene. This was one of my audition scenes so I auditioned for months for this role.Â I did that scene one time when I auditioned for the role of Pam and I didn't get it! This is such a crazy bit of trivia. Your first audition for The Office was for the role of Pam. Was for the role of Pam and I wore a pink sweater. What? We both had the same instinct.\",\n",
       "  'id': 'EPISODE_1-408-414'},\n",
       " {'start_time': None,\n",
       "  'end_time': None,\n",
       "  'episode_title': 'THE PILOT',\n",
       "  'episode_number': 'EPISODE 1',\n",
       "  'text': \"I did that scene one time when I auditioned for the role of Pam and I didn't get it! This is such a crazy bit of trivia. Your first audition for The Office was for the role of Pam. Was for the role of Pam and I wore a pink sweater. What? We both had the same instinct. I wore a pink sweater and my hair down and I was told to look not too fancy, so I didn't do too much with my hair and makeup and I went in and I did the scene and it was for a room full of people. The producers. And when we got to the point where Michael fake fires you and you start to cry and you call him a jerk.Â Yeah. When I called him a jerk, everybody started to laugh. And I thought, I did something wrong. I don't think they're supposed to laugh at this moment. And of course Jenna, you were so brilliant that you brought such a vulnerability to Pam that even though this job sucked and she hates it, she needs it. She needs this crappy job.\",\n",
       "  'id': 'EPISODE_1-411-417'},\n",
       " {'start_time': None,\n",
       "  'end_time': None,\n",
       "  'episode_title': 'THE PILOT',\n",
       "  'episode_number': 'EPISODE 1',\n",
       "  'text': \"What? We both had the same instinct. I wore a pink sweater and my hair down and I was told to look not too fancy, so I didn't do too much with my hair and makeup and I went in and I did the scene and it was for a room full of people. The producers. And when we got to the point where Michael fake fires you and you start to cry and you call him a jerk.Â Yeah. When I called him a jerk, everybody started to laugh. And I thought, I did something wrong. I don't think they're supposed to laugh at this moment. And of course Jenna, you were so brilliant that you brought such a vulnerability to Pam that even though this job sucked and she hates it, she needs it. She needs this crappy job. Yeah.Â And you really felt her in that moment. My heart broke for her. And when you call him a jerk, it's just like you're really wounded and it checked Michael in his place. Like this wasn't cool. Well it's funny because this was somewhat of a controversial scene about whether or not it be included. When Ricky and Stephen were counseling Greg, I understand that they told him that he should consider cutting the scene. Because they said that it's in their pilot and they felt like they always had to fight to come back from it. That it made the boss a little too mean and so later they really leaned into his buffoonery. But Greg fought to keep it in. He thought, no we're gonna try it. We're gonna let her cry. We're gonna let Michael be mean to her. Now there was an alt line where I think that sometimes instead of saying that you're a jerk, I said that you're a sad little man. And they said that's too harsh.\",\n",
       "  'id': 'EPISODE_1-414-420'},\n",
       " {'start_time': None,\n",
       "  'end_time': None,\n",
       "  'episode_title': 'THE PILOT',\n",
       "  'episode_number': 'EPISODE 1',\n",
       "  'text': \"When I called him a jerk, everybody started to laugh. And I thought, I did something wrong. I don't think they're supposed to laugh at this moment. And of course Jenna, you were so brilliant that you brought such a vulnerability to Pam that even though this job sucked and she hates it, she needs it. She needs this crappy job. Yeah.Â And you really felt her in that moment. My heart broke for her. And when you call him a jerk, it's just like you're really wounded and it checked Michael in his place. Like this wasn't cool. Well it's funny because this was somewhat of a controversial scene about whether or not it be included. When Ricky and Stephen were counseling Greg, I understand that they told him that he should consider cutting the scene. Because they said that it's in their pilot and they felt like they always had to fight to come back from it. That it made the boss a little too mean and so later they really leaned into his buffoonery. But Greg fought to keep it in. He thought, no we're gonna try it. We're gonna let her cry. We're gonna let Michael be mean to her. Now there was an alt line where I think that sometimes instead of saying that you're a jerk, I said that you're a sad little man. And they said that's too harsh. You can't come back from that. That is harsh. So, here's a little fun tidbit, Jenna. Another tidbit, not a Fast Fact. A tidbit from Angela Kinsey. When Michael wants to prank Pam in front of Ryan the temp, Michael as Steve turns to Ryan, BJ, and says, have you ever seen prank shows? Have you ever seen Punk'd? BJ was on Punk'd.\",\n",
       "  'id': 'EPISODE_1-417-423'},\n",
       " {'start_time': None,\n",
       "  'end_time': None,\n",
       "  'episode_title': 'THE PILOT',\n",
       "  'episode_number': 'EPISODE 1',\n",
       "  'text': \"Well it's funny because this was somewhat of a controversial scene about whether or not it be included. When Ricky and Stephen were counseling Greg, I understand that they told him that he should consider cutting the scene. Because they said that it's in their pilot and they felt like they always had to fight to come back from it. That it made the boss a little too mean and so later they really leaned into his buffoonery. But Greg fought to keep it in. He thought, no we're gonna try it. We're gonna let her cry. We're gonna let Michael be mean to her. Now there was an alt line where I think that sometimes instead of saying that you're a jerk, I said that you're a sad little man. And they said that's too harsh. You can't come back from that. That is harsh. So, here's a little fun tidbit, Jenna. Another tidbit, not a Fast Fact. A tidbit from Angela Kinsey. When Michael wants to prank Pam in front of Ryan the temp, Michael as Steve turns to Ryan, BJ, and says, have you ever seen prank shows? Have you ever seen Punk'd? BJ was on Punk'd. He was on Punk'd. He was on season two of Punk'd. So I thought that was a nice little nod that he was looking at someone who was on Punk'd and said do you like Punk'd? And BJ's like, yeah, as Ryan. Anyway. That's a Kinsey tidbit for ya. So the end of this episode, Pam has been crying and Jim wants to cheer her up so he puts Michael's World's Best Boss mug in Jello. Now this was exclusive to our show.\",\n",
       "  'id': 'EPISODE_1-420-426'},\n",
       " {'start_time': None,\n",
       "  'end_time': None,\n",
       "  'episode_title': 'THE PILOT',\n",
       "  'episode_number': 'EPISODE 1',\n",
       "  'text': \"A tidbit from Angela Kinsey. When Michael wants to prank Pam in front of Ryan the temp, Michael as Steve turns to Ryan, BJ, and says, have you ever seen prank shows? Have you ever seen Punk'd? BJ was on Punk'd. He was on Punk'd. He was on season two of Punk'd. So I thought that was a nice little nod that he was looking at someone who was on Punk'd and said do you like Punk'd? And BJ's like, yeah, as Ryan. Anyway. That's a Kinsey tidbit for ya. So the end of this episode, Pam has been crying and Jim wants to cheer her up so he puts Michael's World's Best Boss mug in Jello. Now this was exclusive to our show. Yes. It's not in the BBC version. Right the mug itself is a setup in an early talking head and then this convention of ending the episode with Jim doing something sweet for Pam by putting the mug in Jello. That was all Greg Daniels' idea. And I think it's such a sweet way to end the show. Yeah.\",\n",
       "  'id': 'EPISODE_1-423-429'},\n",
       " {'start_time': None,\n",
       "  'end_time': None,\n",
       "  'episode_title': 'THE PILOT',\n",
       "  'episode_number': 'EPISODE 1',\n",
       "  'text': \"So the end of this episode, Pam has been crying and Jim wants to cheer her up so he puts Michael's World's Best Boss mug in Jello. Now this was exclusive to our show. Yes. It's not in the BBC version. Right the mug itself is a setup in an early talking head and then this convention of ending the episode with Jim doing something sweet for Pam by putting the mug in Jello. That was all Greg Daniels' idea. And I think it's such a sweet way to end the show. Yeah. Yeah. And of course the iconic World's Best Boss mug. And that was the last shot. Oh my God, Jenna! That's it.Â\",\n",
       "  'id': 'EPISODE_1-426-432'},\n",
       " {'start_time': None,\n",
       "  'end_time': None,\n",
       "  'episode_title': 'THE PILOT',\n",
       "  'episode_number': 'EPISODE 1',\n",
       "  'text': \"Yeah. Yeah. And of course the iconic World's Best Boss mug. And that was the last shot. Oh my God, Jenna! That's it.Â We just did it. We did it. We did it. We're really nervous.\",\n",
       "  'id': 'EPISODE_1-429-435'},\n",
       " {'start_time': None,\n",
       "  'end_time': None,\n",
       "  'episode_title': 'THE PILOT',\n",
       "  'episode_number': 'EPISODE 1',\n",
       "  'text': \"That's it.Â We just did it. We did it. We did it. We're really nervous. You guys. We were really nervous. Actually in the middle of doing this, I was getting so nervous that Angela made us turn off the microphones and have a dance party to loosen me up. I did. I put on Taylor Swift's Paper Rings and I made her dance around and get out of her head. I was spiraling.Â\",\n",
       "  'id': 'EPISODE_1-432-438'},\n",
       " {'start_time': None,\n",
       "  'end_time': None,\n",
       "  'episode_title': 'THE PILOT',\n",
       "  'episode_number': 'EPISODE 1',\n",
       "  'text': \"We did it. We're really nervous. You guys. We were really nervous. Actually in the middle of doing this, I was getting so nervous that Angela made us turn off the microphones and have a dance party to loosen me up. I did. I put on Taylor Swift's Paper Rings and I made her dance around and get out of her head. I was spiraling.Â You were. But here's the thing. This is why we're nervous because the show means so much to us and we are new obviously to the podcast scene and your support has been overwhelming. I literally teared up when we let you know we were doing a podcast and the immediate support from all of you out there, I got a little emotional. Me too. So I just thank you guys so much and just know how much it means to us that this show that is so special to us keeps finding an audience. It just really means the world to us.\",\n",
       "  'id': 'EPISODE_1-435-441'},\n",
       " {'start_time': None,\n",
       "  'end_time': None,\n",
       "  'episode_title': 'THE PILOT',\n",
       "  'episode_number': 'EPISODE 1',\n",
       "  'text': \"I was spiraling.Â You were. But here's the thing. This is why we're nervous because the show means so much to us and we are new obviously to the podcast scene and your support has been overwhelming. I literally teared up when we let you know we were doing a podcast and the immediate support from all of you out there, I got a little emotional. Me too. So I just thank you guys so much and just know how much it means to us that this show that is so special to us keeps finding an audience. It just really means the world to us. It's changed our lives. Forever. Yes. So thank you.\",\n",
       "  'id': 'EPISODE_1-438-444'},\n",
       " {'start_time': None,\n",
       "  'end_time': None,\n",
       "  'episode_title': 'THE PILOT',\n",
       "  'episode_number': 'EPISODE 1',\n",
       "  'text': \"So I just thank you guys so much and just know how much it means to us that this show that is so special to us keeps finding an audience. It just really means the world to us. It's changed our lives. Forever. Yes. So thank you. Thank you guys! Alright, first one. First one. Send in questions.\",\n",
       "  'id': 'EPISODE_1-441-447'},\n",
       " {'start_time': None,\n",
       "  'end_time': None,\n",
       "  'episode_title': 'THE PILOT',\n",
       "  'episode_number': 'EPISODE 1',\n",
       "  'text': 'Yes. So thank you. Thank you guys! Alright, first one. First one. Send in questions. Yeah you can send us questions at officeladies@earwolf.com If you have any questions about an episode put that episode title in the subject line and we will read them all. And then they also said that if you want to leave us a voice memo, we can actually play you asking your question in the podcast. Which would be kinda cool. You can also find us at @officeladiespod on Instagram or twitter.',\n",
       "  'id': 'EPISODE_1-444-450'},\n",
       " {'start_time': None,\n",
       "  'end_time': None,\n",
       "  'episode_title': 'THE PILOT',\n",
       "  'episode_number': 'EPISODE 1',\n",
       "  'text': \"First one. Send in questions. Yeah you can send us questions at officeladies@earwolf.com If you have any questions about an episode put that episode title in the subject line and we will read them all. And then they also said that if you want to leave us a voice memo, we can actually play you asking your question in the podcast. Which would be kinda cool. You can also find us at @officeladiespod on Instagram or twitter. We're setting those up. And we're gonna have a website called Officeladies.com and you can find out everything we're doing about the podcast. That's a lot of ways to find us. That is. Is it too many?\",\n",
       "  'id': 'EPISODE_1-447-453'},\n",
       " {'start_time': None,\n",
       "  'end_time': None,\n",
       "  'episode_title': 'THE PILOT',\n",
       "  'episode_number': 'EPISODE 1',\n",
       "  'text': \"Which would be kinda cool. You can also find us at @officeladiespod on Instagram or twitter. We're setting those up. And we're gonna have a website called Officeladies.com and you can find out everything we're doing about the podcast. That's a lot of ways to find us. That is. Is it too many? Maybe. I dunno. They're gonna be like, we get it, we get it. Next week, since we're going in order, we'll be talking about Diversity Day.Â\",\n",
       "  'id': 'EPISODE_1-450-456'},\n",
       " {'start_time': None,\n",
       "  'end_time': None,\n",
       "  'episode_title': 'THE PILOT',\n",
       "  'episode_number': 'EPISODE 1',\n",
       "  'text': \"That is. Is it too many? Maybe. I dunno. They're gonna be like, we get it, we get it. Next week, since we're going in order, we'll be talking about Diversity Day.Â So much fun. So if you wanna watch it with us, watch Diversity Day by next Wednesday and then we'll talk about it. Yes. And you hear that? That's our theme music by my neighbor, Creed Bratton. It's his song Rubber Tree.\",\n",
       "  'id': 'EPISODE_1-453-459'},\n",
       " {'start_time': None,\n",
       "  'end_time': None,\n",
       "  'episode_title': 'THE PILOT',\n",
       "  'episode_number': 'EPISODE 1',\n",
       "  'text': \"Next week, since we're going in order, we'll be talking about Diversity Day.Â So much fun. So if you wanna watch it with us, watch Diversity Day by next Wednesday and then we'll talk about it. Yes. And you hear that? That's our theme music by my neighbor, Creed Bratton. It's his song Rubber Tree.\",\n",
       "  'id': 'EPISODE_1-456-459'},\n",
       " {'start_time': None,\n",
       "  'end_time': None,\n",
       "  'episode_title': 'THE PILOT',\n",
       "  'episode_number': 'EPISODE 1',\n",
       "  'text': \"Yes. And you hear that? That's our theme music by my neighbor, Creed Bratton. It's his song Rubber Tree.\",\n",
       "  'id': 'EPISODE_1-459-459'}]"
      ]
     },
     "execution_count": 13,
     "metadata": {},
     "output_type": "execute_result"
    }
   ],
   "source": [
    "all_episodes_segments[0]"
   ]
  },
  {
   "cell_type": "code",
   "execution_count": 14,
   "metadata": {},
   "outputs": [
    {
     "data": {
      "text/plain": [
       "[{'start_time': '00:00:25',\n",
       "  'end_time': '00:00:43',\n",
       "  'episode_title': 'BROKE',\n",
       "  'episode_number': 'EPISODE 101',\n",
       "  'text': \"Good morning, everyone. I always say good morning. It's cuz we're here in the morning. Cuz we're here in the morning. Every time I do it, Jenna gives me this look like, Angela, it might be morning for everyone else. Don't stop. Don't stop saying good morning. Should we talk about the episode we're going to be breaking down today? I would love nothing more. I found this episode hilarious.\",\n",
       "  'id': 'EPISODE_101-0-6'},\n",
       " {'start_time': '00:00:37',\n",
       "  'end_time': '00:00:51',\n",
       "  'episode_title': 'BROKE',\n",
       "  'episode_number': 'EPISODE 101',\n",
       "  'text': \"Don't stop. Don't stop saying good morning. Should we talk about the episode we're going to be breaking down today? I would love nothing more. I found this episode hilarious. This snuck up on me. Yes, it was a sneaker upper. I absolutely loved it. You know, you look back and you think about The Office and all the like sort of obvious ones come to mind.\",\n",
       "  'id': 'EPISODE_101-3-9'},\n",
       " {'start_time': '00:00:43',\n",
       "  'end_time': '00:01:04',\n",
       "  'episode_title': 'BROKE',\n",
       "  'episode_number': 'EPISODE 101',\n",
       "  'text': \"I would love nothing more. I found this episode hilarious. This snuck up on me. Yes, it was a sneaker upper. I absolutely loved it. You know, you look back and you think about The Office and all the like sort of obvious ones come to mind. Right. But this is so incredibly good. It should be on all the lists. It should, and there was more to it that didn't make it in that is so delicious and I can't wait to share that.\",\n",
       "  'id': 'EPISODE_101-6-12'},\n",
       " {'start_time': '00:00:51',\n",
       "  'end_time': '00:01:23',\n",
       "  'episode_title': 'BROKE',\n",
       "  'episode_number': 'EPISODE 101',\n",
       "  'text': \"I absolutely loved it. You know, you look back and you think about The Office and all the like sort of obvious ones come to mind. Right. But this is so incredibly good. It should be on all the lists. It should, and there was more to it that didn't make it in that is so delicious and I can't wait to share that. What we're talking about is Broke. Season five, episode 25, written by Charlie Grandy and directed by our very own Steve Carell. How fun was that? That was amazing. That is my fast fact number one.\",\n",
       "  'id': 'EPISODE_101-9-15'},\n",
       " {'start_time': '00:01:04',\n",
       "  'end_time': '00:01:29',\n",
       "  'episode_title': 'BROKE',\n",
       "  'episode_number': 'EPISODE 101',\n",
       "  'text': \"It should, and there was more to it that didn't make it in that is so delicious and I can't wait to share that. What we're talking about is Broke. Season five, episode 25, written by Charlie Grandy and directed by our very own Steve Carell. How fun was that? That was amazing. That is my fast fact number one. Ooh, do it. But we should start with a summary. Oh we should.\",\n",
       "  'id': 'EPISODE_101-12-18'},\n",
       " {'start_time': '00:01:23',\n",
       "  'end_time': '00:01:30',\n",
       "  'episode_title': 'BROKE',\n",
       "  'episode_number': 'EPISODE 101',\n",
       "  'text': 'That was amazing. That is my fast fact number one. Ooh, do it. But we should start with a summary. Oh we should. I need my order. Go in order. OK.',\n",
       "  'id': 'EPISODE_101-15-21'},\n",
       " {'start_time': '00:01:29',\n",
       "  'end_time': '00:01:35',\n",
       "  'episode_title': 'BROKE',\n",
       "  'episode_number': 'EPISODE 101',\n",
       "  'text': \"Oh we should. I need my order. Go in order. OK. I need to say good morning. You need to go in order. It's who we are. It's who we are!\",\n",
       "  'id': 'EPISODE_101-18-24'},\n",
       " {'start_time': '00:01:30',\n",
       "  'end_time': '00:01:51',\n",
       "  'episode_title': 'BROKE',\n",
       "  'episode_number': 'EPISODE 101',\n",
       "  'text': \"OK. I need to say good morning. You need to go in order. It's who we are. It's who we are! All right. The summary is: exhausted from making their own deliveries, the Michael Scott Paper Company is steadily gaining clients due to their very low prices, but it turns out they're going broke in the process. Yeah. Meanwhile, Dunder Mifflin is desperate to negotiate a buyout because they have lost several important clients to Michael Scott Paper Company. But Michael has other ideas.\",\n",
       "  'id': 'EPISODE_101-21-27'},\n",
       " {'start_time': '00:01:35',\n",
       "  'end_time': '00:02:14',\n",
       "  'episode_title': 'BROKE',\n",
       "  'episode_number': 'EPISODE 101',\n",
       "  'text': \"It's who we are! All right. The summary is: exhausted from making their own deliveries, the Michael Scott Paper Company is steadily gaining clients due to their very low prices, but it turns out they're going broke in the process. Yeah. Meanwhile, Dunder Mifflin is desperate to negotiate a buyout because they have lost several important clients to Michael Scott Paper Company. But Michael has other ideas. I was so impressed and also scared by all of Michael's tactics. When he gets out of the elevator and he's like doubled over and he's like, I'm really afraid I'm going to say we're broke. I'm going to be able to do it.\",\n",
       "  'id': 'EPISODE_101-24-30'},\n",
       " {'start_time': '00:01:51',\n",
       "  'end_time': '00:02:28',\n",
       "  'episode_title': 'BROKE',\n",
       "  'episode_number': 'EPISODE 101',\n",
       "  'text': \"Meanwhile, Dunder Mifflin is desperate to negotiate a buyout because they have lost several important clients to Michael Scott Paper Company. But Michael has other ideas. I was so impressed and also scared by all of Michael's tactics. When he gets out of the elevator and he's like doubled over and he's like, I'm really afraid I'm going to say we're broke. I'm going to be able to do it. It's so funny. All right. Fast fact number one, Steve Carell directed this episode. It was his first time directing the show and his first time directing in general. He was so prepared. Oh my gosh, yes.\",\n",
       "  'id': 'EPISODE_101-27-33'},\n",
       " {'start_time': '00:02:14',\n",
       "  'end_time': '00:02:57',\n",
       "  'episode_title': 'BROKE',\n",
       "  'episode_number': 'EPISODE 101',\n",
       "  'text': \"I'm going to be able to do it. It's so funny. All right. Fast fact number one, Steve Carell directed this episode. It was his first time directing the show and his first time directing in general. He was so prepared. Oh my gosh, yes. I was so impressed with him. We talked to Randy Cordray about that, and he said Steve's work ethic was incredible, that he was totally prepared. He had great ideas, great energy. He said he was so respectful of every crew position. He wanted everyone's input to make the scenes better. He said Steve totally immersed himself in the prep of this episode. I loved him as a director. I have one little moment I'll share when we get there of a note he gave me that I was like, totally changed the scene for me.\",\n",
       "  'id': 'EPISODE_101-30-36'},\n",
       " {'start_time': '00:02:28',\n",
       "  'end_time': '00:03:22',\n",
       "  'episode_title': 'BROKE',\n",
       "  'episode_number': 'EPISODE 101',\n",
       "  'text': 'Oh my gosh, yes. I was so impressed with him. We talked to Randy Cordray about that, and he said Steve\\'s work ethic was incredible, that he was totally prepared. He had great ideas, great energy. He said he was so respectful of every crew position. He wanted everyone\\'s input to make the scenes better. He said Steve totally immersed himself in the prep of this episode. I loved him as a director. I have one little moment I\\'ll share when we get there of a note he gave me that I was like, totally changed the scene for me. Well I traded some messages with Steve about this episode. I just wanted to know, Steve, what was that like for you to direct all of us? Because he was, I believe, the first cast member to step into a directing role. Oh, I think you\\'re right. And here\\'s what Steve said. This is a quote. \"It was like being the conductor of a world class orchestra. Everyone was so good, it was pretty easy.\".',\n",
       "  'id': 'EPISODE_101-33-39'},\n",
       " {'start_time': '00:02:57',\n",
       "  'end_time': '00:03:52',\n",
       "  'episode_title': 'BROKE',\n",
       "  'episode_number': 'EPISODE 101',\n",
       "  'text': 'I loved him as a director. I have one little moment I\\'ll share when we get there of a note he gave me that I was like, totally changed the scene for me. Well I traded some messages with Steve about this episode. I just wanted to know, Steve, what was that like for you to direct all of us? Because he was, I believe, the first cast member to step into a directing role. Oh, I think you\\'re right. And here\\'s what Steve said. This is a quote. \"It was like being the conductor of a world class orchestra. Everyone was so good, it was pretty easy.\". Aww. Well, we got a fan question from Bridget R. who said, what was it like having a main cast member direct and did it present any challenges? Well, a little bit because, you know, Steve couldn\\'t watch the scene when he was performing in the scene. Right, right.',\n",
       "  'id': 'EPISODE_101-36-42'},\n",
       " {'start_time': '00:03:22',\n",
       "  'end_time': '00:04:25',\n",
       "  'episode_title': 'BROKE',\n",
       "  'episode_number': 'EPISODE 101',\n",
       "  'text': 'And here\\'s what Steve said. This is a quote. \"It was like being the conductor of a world class orchestra. Everyone was so good, it was pretty easy.\". Aww. Well, we got a fan question from Bridget R. who said, what was it like having a main cast member direct and did it present any challenges? Well, a little bit because, you know, Steve couldn\\'t watch the scene when he was performing in the scene. Right, right. And the week before you direct an episode, the director normally preps the episode, and that sort of involves meeting with each of the different department heads to make decisions about the locations, about the props, the wardrobe, camera setups. And this was a little tricky for Steve because Steve spent the prior week acting in an episode. I remember he had to sort of squeeze things in. Like he\\'d be in a scene and then he would have to, like, hop into like a van to go location scout or. Yes.',\n",
       "  'id': 'EPISODE_101-39-45'},\n",
       " {'start_time': '00:03:52',\n",
       "  'end_time': '00:04:49',\n",
       "  'episode_title': 'BROKE',\n",
       "  'episode_number': 'EPISODE 101',\n",
       "  'text': \"Right, right. And the week before you direct an episode, the director normally preps the episode, and that sort of involves meeting with each of the different department heads to make decisions about the locations, about the props, the wardrobe, camera setups. And this was a little tricky for Steve because Steve spent the prior week acting in an episode. I remember he had to sort of squeeze things in. Like he'd be in a scene and then he would have to, like, hop into like a van to go location scout or. Yes. Yeah. Randy said luckily, the Michael Scott Paper Company storyline was such that Steve generally had a couple of days off each week for when we would shoot up at Dunder Mifflin. And so he immersed himself in prep for those two days. But it's true. I would notice there would be this van waiting outside at lunch and they would go scout a location for a half hour. Yeah, and then he'd come back and jump into scenes.\",\n",
       "  'id': 'EPISODE_101-42-48'},\n",
       " {'start_time': '00:04:25',\n",
       "  'end_time': '00:05:23',\n",
       "  'episode_title': 'BROKE',\n",
       "  'episode_number': 'EPISODE 101',\n",
       "  'text': \"Yes. Yeah. Randy said luckily, the Michael Scott Paper Company storyline was such that Steve generally had a couple of days off each week for when we would shoot up at Dunder Mifflin. And so he immersed himself in prep for those two days. But it's true. I would notice there would be this van waiting outside at lunch and they would go scout a location for a half hour. Yeah, and then he'd come back and jump into scenes. Well, I also spoke with Randall Einhorn, our cinematographer, who said he remembers Steve was very focused on characters and actor performance as a director. So I guess this will come up in the note that he gave you Angela. But he said he was just so respectful. He was so devoid of any ego. And that's how I remember working with Steve. He just made you better naturally. He's just someone that makes everything better. Yeah.\",\n",
       "  'id': 'EPISODE_101-45-51'},\n",
       " {'start_time': '00:04:49',\n",
       "  'end_time': '00:05:59',\n",
       "  'episode_title': 'BROKE',\n",
       "  'episode_number': 'EPISODE 101',\n",
       "  'text': \"Yeah, and then he'd come back and jump into scenes. Well, I also spoke with Randall Einhorn, our cinematographer, who said he remembers Steve was very focused on characters and actor performance as a director. So I guess this will come up in the note that he gave you Angela. But he said he was just so respectful. He was so devoid of any ego. And that's how I remember working with Steve. He just made you better naturally. He's just someone that makes everything better. Yeah. You know, you know, those people, you're like, gosh, I feel so great whenever I'm around them. I took this leadership seminar once and they said that a great leader is a person where, like, you leave your interaction with that person and you feel more confident and better and you notice yourself more. That that is your goal if you're ever in a leadership position, not for you to show off how interesting and powerful you are, but to try to empower other people. Well, that's definitely Steve.\",\n",
       "  'id': 'EPISODE_101-48-54'},\n",
       " {'start_time': '00:05:23',\n",
       "  'end_time': '00:06:08',\n",
       "  'episode_title': 'BROKE',\n",
       "  'episode_number': 'EPISODE 101',\n",
       "  'text': \"Yeah. You know, you know, those people, you're like, gosh, I feel so great whenever I'm around them. I took this leadership seminar once and they said that a great leader is a person where, like, you leave your interaction with that person and you feel more confident and better and you notice yourself more. That that is your goal if you're ever in a leadership position, not for you to show off how interesting and powerful you are, but to try to empower other people. Well, that's definitely Steve. That's definitely Steve. Guys, yeah, I'm that person who went to leadership seminars on the weekends, okay? I wasn't going to say anything. I'm that gal. Sign me up.\",\n",
       "  'id': 'EPISODE_101-51-57'},\n",
       " {'start_time': '00:05:59',\n",
       "  'end_time': '00:07:06',\n",
       "  'episode_title': 'BROKE',\n",
       "  'episode_number': 'EPISODE 101',\n",
       "  'text': \"Well, that's definitely Steve. That's definitely Steve. Guys, yeah, I'm that person who went to leadership seminars on the weekends, okay? I wasn't going to say anything. I'm that gal. Sign me up. I wasn't gonna say anything, but as you said it, I thought, Oh, I would have just loved to have known Jenna then. I saw this thing someone post on Instagram, Jenna. It made me laugh so hard. I'm going to paraphrase it but it said something like, everyone in life deserves the person they cannot sit next to in a serious situation. And I just think about if I had taken that leadership class with you, we wouldn't have been able to sit next to each other. Listen, that leadership class was great because I had a really hard time finishing things. I would start projects all the time. Scripts, a one woman show, I don't even know what, even a home project. I was very good at having ideas and doing the first three steps, but I wasn't a finisher. And this leadership seminar was a little bit focused on finishing what you start. I tell you what, I finish what I start now. That's so good.\",\n",
       "  'id': 'EPISODE_101-54-60'},\n",
       " {'start_time': '00:06:08',\n",
       "  'end_time': '00:07:51',\n",
       "  'episode_title': 'BROKE',\n",
       "  'episode_number': 'EPISODE 101',\n",
       "  'text': \"I'm that gal. Sign me up. I wasn't gonna say anything, but as you said it, I thought, Oh, I would have just loved to have known Jenna then. I saw this thing someone post on Instagram, Jenna. It made me laugh so hard. I'm going to paraphrase it but it said something like, everyone in life deserves the person they cannot sit next to in a serious situation. And I just think about if I had taken that leadership class with you, we wouldn't have been able to sit next to each other. Listen, that leadership class was great because I had a really hard time finishing things. I would start projects all the time. Scripts, a one woman show, I don't even know what, even a home project. I was very good at having ideas and doing the first three steps, but I wasn't a finisher. And this leadership seminar was a little bit focused on finishing what you start. I tell you what, I finish what I start now. That's so good. I'm all about it. I'm like, There's got to be experts out there who can teach me skills. How was I supposed to be born knowing how to do everything? I'll go to therapy. I'll go to your leadership seminar. Sign me up. All right. Fast fact number two is called Awards, because our writer, Charlie Grandy, was nominated for a Writers Guild Award for Best Screenplay of an Episodic Comedy for this script and Steve Carell used this episode as his submission for the Emmys for Outstanding Lead Actor in a Comedy Series. Well, I know Steve didn't win, which remember I was so mad about. I think I said a profanity and there was a camera on us. Steve never won an Emmy for his portrayal of Michael Scott. How is that sentence a thing I can say?\",\n",
       "  'id': 'EPISODE_101-57-63'},\n",
       " {'start_time': '00:07:06',\n",
       "  'end_time': '00:07:59',\n",
       "  'episode_title': 'BROKE',\n",
       "  'episode_number': 'EPISODE 101',\n",
       "  'text': \"That's so good. I'm all about it. I'm like, There's got to be experts out there who can teach me skills. How was I supposed to be born knowing how to do everything? I'll go to therapy. I'll go to your leadership seminar. Sign me up. All right. Fast fact number two is called Awards, because our writer, Charlie Grandy, was nominated for a Writers Guild Award for Best Screenplay of an Episodic Comedy for this script and Steve Carell used this episode as his submission for the Emmys for Outstanding Lead Actor in a Comedy Series. Well, I know Steve didn't win, which remember I was so mad about. I think I said a profanity and there was a camera on us. Steve never won an Emmy for his portrayal of Michael Scott. How is that sentence a thing I can say? I don't know. Wait, did Charlie win? Charlie didn't win either. Well, son of a-.\",\n",
       "  'id': 'EPISODE_101-60-66'},\n",
       " {'start_time': '00:07:51',\n",
       "  'end_time': '00:08:10',\n",
       "  'episode_title': 'BROKE',\n",
       "  'episode_number': 'EPISODE 101',\n",
       "  'text': \"Steve never won an Emmy for his portrayal of Michael Scott. How is that sentence a thing I can say? I don't know. Wait, did Charlie win? Charlie didn't win either. Well, son of a-. I know. You know, it's crazy. That got me thinking about how you have to submit yourself for awards. I feel like that's something not a lot of people know. We did. Yeah, and it costs money. Sometimes the network will pay for it.\",\n",
       "  'id': 'EPISODE_101-63-69'},\n",
       " {'start_time': '00:07:59',\n",
       "  'end_time': '00:08:30',\n",
       "  'episode_title': 'BROKE',\n",
       "  'episode_number': 'EPISODE 101',\n",
       "  'text': \"Well, son of a-. I know. You know, it's crazy. That got me thinking about how you have to submit yourself for awards. I feel like that's something not a lot of people know. We did. Yeah, and it costs money. Sometimes the network will pay for it. Right. But I think as an actor, you pick one or two episodes that you think best represent your performance. You also pick your category. You can decide if you want to be submitted for lead or supporting. I know. I was very excited because season four of The Office there was an article that said I was a dark horse for a nomination for Supporting Actress in a comedy because I had that whole great arc with Sprinkles and all of that.\",\n",
       "  'id': 'EPISODE_101-66-72'},\n",
       " {'start_time': '00:08:10',\n",
       "  'end_time': '00:09:01',\n",
       "  'episode_title': 'BROKE',\n",
       "  'episode_number': 'EPISODE 101',\n",
       "  'text': 'Yeah, and it costs money. Sometimes the network will pay for it. Right. But I think as an actor, you pick one or two episodes that you think best represent your performance. You also pick your category. You can decide if you want to be submitted for lead or supporting. I know. I was very excited because season four of The Office there was an article that said I was a dark horse for a nomination for Supporting Actress in a comedy because I had that whole great arc with Sprinkles and all of that. Yes. And I was so excited. That was enough for me. I mean, I realized that like some people were able to have sort of a big machine behind them campaigning. But just the fact that this one person saw my performance, I cut out the magazine. I saved it. I totally get that, Ange. I was only nominated the one year for season two. And occasionally, though, my name would come up on those lists.',\n",
       "  'id': 'EPISODE_101-69-75'},\n",
       " {'start_time': '00:08:30',\n",
       "  'end_time': '00:09:13',\n",
       "  'episode_title': 'BROKE',\n",
       "  'episode_number': 'EPISODE 101',\n",
       "  'text': \"I know. I was very excited because season four of The Office there was an article that said I was a dark horse for a nomination for Supporting Actress in a comedy because I had that whole great arc with Sprinkles and all of that. Yes. And I was so excited. That was enough for me. I mean, I realized that like some people were able to have sort of a big machine behind them campaigning. But just the fact that this one person saw my performance, I cut out the magazine. I saved it. I totally get that, Ange. I was only nominated the one year for season two. And occasionally, though, my name would come up on those lists. Yes, it's so exciting. Yeah. What's your fast fact number three?\",\n",
       "  'id': 'EPISODE_101-72-78'},\n",
       " {'start_time': '00:09:01',\n",
       "  'end_time': '00:09:21',\n",
       "  'episode_title': 'BROKE',\n",
       "  'episode_number': 'EPISODE 101',\n",
       "  'text': \"I totally get that, Ange. I was only nominated the one year for season two. And occasionally, though, my name would come up on those lists. Yes, it's so exciting. Yeah. What's your fast fact number three? Fast fact number three is called time to make the donuts. Do I get a donut? Did you make donuts? No, I wish I had, though. I know you love a donut.\",\n",
       "  'id': 'EPISODE_101-75-81'},\n",
       " {'start_time': '00:09:13',\n",
       "  'end_time': '00:09:29',\n",
       "  'episode_title': 'BROKE',\n",
       "  'episode_number': 'EPISODE 101',\n",
       "  'text': \"What's your fast fact number three? Fast fact number three is called time to make the donuts. Do I get a donut? Did you make donuts? No, I wish I had, though. I know you love a donut. I do. I should have known. I can't say donut and not provide you with donuts. You literally said it's time to make the donuts.\",\n",
       "  'id': 'EPISODE_101-78-84'},\n",
       " {'start_time': '00:09:21',\n",
       "  'end_time': '00:09:39',\n",
       "  'episode_title': 'BROKE',\n",
       "  'episode_number': 'EPISODE 101',\n",
       "  'text': \"No, I wish I had, though. I know you love a donut. I do. I should have known. I can't say donut and not provide you with donuts. You literally said it's time to make the donuts. Oh no. This is not a scotch and Splenda. I know. You got me thinking this a scotch and Splenda moment. No, this is a little mini deep dove that I found incredibly charming based on the fact that Michael says it's time to make the donuts.\",\n",
       "  'id': 'EPISODE_101-81-87'},\n",
       " {'start_time': '00:09:29',\n",
       "  'end_time': '00:10:02',\n",
       "  'episode_title': 'BROKE',\n",
       "  'episode_number': 'EPISODE 101',\n",
       "  'text': \"You literally said it's time to make the donuts. Oh no. This is not a scotch and Splenda. I know. You got me thinking this a scotch and Splenda moment. No, this is a little mini deep dove that I found incredibly charming based on the fact that Michael says it's time to make the donuts. Oh, the expression. Yes. Do you remember that commercial? It was from the 80s. It actually ran from 1981 all the way to 1997, and it was for Dunkin Donuts. Do you remember it? Well, I was overseas until 84.\",\n",
       "  'id': 'EPISODE_101-84-90'},\n",
       " {'start_time': '00:09:39',\n",
       "  'end_time': '00:10:15',\n",
       "  'episode_title': 'BROKE',\n",
       "  'episode_number': 'EPISODE 101',\n",
       "  'text': \"No, this is a little mini deep dove that I found incredibly charming based on the fact that Michael says it's time to make the donuts. Oh, the expression. Yes. Do you remember that commercial? It was from the 80s. It actually ran from 1981 all the way to 1997, and it was for Dunkin Donuts. Do you remember it? Well, I was overseas until 84. OK? This, by the way, is the thing my husband loves to tease me about, he said Ange, you can't say you were in Indonesia for everything, OK? But there's some pop culture that's lost on you.\",\n",
       "  'id': 'EPISODE_101-87-93'},\n",
       " {'start_time': '00:10:02',\n",
       "  'end_time': '00:10:24',\n",
       "  'episode_title': 'BROKE',\n",
       "  'episode_number': 'EPISODE 101',\n",
       "  'text': \"Well, I was overseas until 84. OK? This, by the way, is the thing my husband loves to tease me about, he said Ange, you can't say you were in Indonesia for everything, OK? But there's some pop culture that's lost on you. Yes. I grew up without television, is that crazy? Until I was a teenager. Wow. I know.\",\n",
       "  'id': 'EPISODE_101-90-96'},\n",
       " {'start_time': '00:10:15',\n",
       "  'end_time': '00:10:29',\n",
       "  'episode_title': 'BROKE',\n",
       "  'episode_number': 'EPISODE 101',\n",
       "  'text': \"But there's some pop culture that's lost on you. Yes. I grew up without television, is that crazy? Until I was a teenager. Wow. I know. And then you wound up on television. And then I was obsessed with television. I bet.\",\n",
       "  'id': 'EPISODE_101-93-99'},\n",
       " {'start_time': '00:10:24',\n",
       "  'end_time': '00:10:36',\n",
       "  'episode_title': 'BROKE',\n",
       "  'episode_number': 'EPISODE 101',\n",
       "  'text': \"I know. And then you wound up on television. And then I was obsessed with television. I bet. It's like the kid that, like their parents don't let them have any sweets. And then they come to your house and they raid your pantry. Yeah. I became like, obsessed with television.\",\n",
       "  'id': 'EPISODE_101-96-102'},\n",
       " {'start_time': '00:10:29',\n",
       "  'end_time': '00:10:41',\n",
       "  'episode_title': 'BROKE',\n",
       "  'episode_number': 'EPISODE 101',\n",
       "  'text': 'I bet. It\\'s like the kid that, like their parents don\\'t let them have any sweets. And then they come to your house and they raid your pantry. Yeah. I became like, obsessed with television. Well, let me bring you up to speed. OK. Fred the baker was a character played by actor Michael Vale in these Dunkin Donuts commercials, and he was known for his catchphrase \"Time to make the donuts.\" So it would just be him, like all day coming in and out of his door, saying time to make the donuts. I actually have an audio clip of it.',\n",
       "  'id': 'EPISODE_101-99-105'},\n",
       " {'start_time': '00:10:36',\n",
       "  'end_time': '00:11:05',\n",
       "  'episode_title': 'BROKE',\n",
       "  'episode_number': 'EPISODE 101',\n",
       "  'text': 'I became like, obsessed with television. Well, let me bring you up to speed. OK. Fred the baker was a character played by actor Michael Vale in these Dunkin Donuts commercials, and he was known for his catchphrase \"Time to make the donuts.\" So it would just be him, like all day coming in and out of his door, saying time to make the donuts. I actually have an audio clip of it. Oh, I need to hear it. Time to make the donuts. Dunkin Donuts are always fresh.',\n",
       "  'id': 'EPISODE_101-102-108'},\n",
       " {'start_time': '00:10:41',\n",
       "  'end_time': '00:11:12',\n",
       "  'episode_title': 'BROKE',\n",
       "  'episode_number': 'EPISODE 101',\n",
       "  'text': 'Fred the baker was a character played by actor Michael Vale in these Dunkin Donuts commercials, and he was known for his catchphrase \"Time to make the donuts.\" So it would just be him, like all day coming in and out of his door, saying time to make the donuts. I actually have an audio clip of it. Oh, I need to hear it. Time to make the donuts. Dunkin Donuts are always fresh. I made the donuts. We make them at least twice every day. Time to make the donuts.',\n",
       "  'id': 'EPISODE_101-105-111'},\n",
       " {'start_time': '00:11:05',\n",
       "  'end_time': '00:11:12',\n",
       "  'episode_title': 'BROKE',\n",
       "  'episode_number': 'EPISODE 101',\n",
       "  'text': 'Dunkin Donuts are always fresh. I made the donuts. We make them at least twice every day. Time to make the donuts. Not a few kinds like supermarkets. Time to make the donuts. But up to 52 varieties.',\n",
       "  'id': 'EPISODE_101-108-114'},\n",
       " {'start_time': '00:11:12',\n",
       "  'end_time': '00:11:33',\n",
       "  'episode_title': 'BROKE',\n",
       "  'episode_number': 'EPISODE 101',\n",
       "  'text': 'Time to make the donuts. Not a few kinds like supermarkets. Time to make the donuts. But up to 52 varieties. Time to make the donuts. I made the donuts. Dunkin Donuts. Up to 52 varieties fresh day and night. No supermarket can say that. So Fred the baker had to make all those donuts, lady.',\n",
       "  'id': 'EPISODE_101-111-117'},\n",
       " {'start_time': '00:11:12',\n",
       "  'end_time': '00:11:43',\n",
       "  'episode_title': 'BROKE',\n",
       "  'episode_number': 'EPISODE 101',\n",
       "  'text': \"But up to 52 varieties. Time to make the donuts. I made the donuts. Dunkin Donuts. Up to 52 varieties fresh day and night. No supermarket can say that. So Fred the baker had to make all those donuts, lady. I have so many questions because I could only hear it and not see it. It sounds like he's getting really tired. He's tired, he's making donuts in the rain. Time to make the donuts.\",\n",
       "  'id': 'EPISODE_101-114-120'},\n",
       " {'start_time': '00:11:33',\n",
       "  'end_time': '00:12:35',\n",
       "  'episode_title': 'BROKE',\n",
       "  'episode_number': 'EPISODE 101',\n",
       "  'text': \"So Fred the baker had to make all those donuts, lady. I have so many questions because I could only hear it and not see it. It sounds like he's getting really tired. He's tired, he's making donuts in the rain. Time to make the donuts. Because he's always making the donuts. Well, this commercial was named one of the five best commercials of the 80s by the Television Bureau of Advertising. Fred the baker was so popular that when Dunkin Donuts decided to finally retire this character, they surveyed customers to see how they might react. Well, customers said they would let Fred retire, but only if, like, Fred, the character, was treated like an honored friend and employee. So Dunkin Donuts created an official retirement celebration for them, which included a parade in Boston and a free donut day. They served over six million customers. It was September 22nd, 1997. Wow. But listen to this. After the actor who played Fred, the baker, after Michael Vale died in December of 2005, Dunkin Donuts ran a commercial celebrating him that included like an in memory of. And today, the catchphrase Time to make the donuts is printed on the side of all Dunkin Donut boxes in memory of Michael and his character of Fred the baker.\",\n",
       "  'id': 'EPISODE_101-117-123'},\n",
       " {'start_time': '00:11:43',\n",
       "  'end_time': '00:13:07',\n",
       "  'episode_title': 'BROKE',\n",
       "  'episode_number': 'EPISODE 101',\n",
       "  'text': \"Time to make the donuts. Because he's always making the donuts. Well, this commercial was named one of the five best commercials of the 80s by the Television Bureau of Advertising. Fred the baker was so popular that when Dunkin Donuts decided to finally retire this character, they surveyed customers to see how they might react. Well, customers said they would let Fred retire, but only if, like, Fred, the character, was treated like an honored friend and employee. So Dunkin Donuts created an official retirement celebration for them, which included a parade in Boston and a free donut day. They served over six million customers. It was September 22nd, 1997. Wow. But listen to this. After the actor who played Fred, the baker, after Michael Vale died in December of 2005, Dunkin Donuts ran a commercial celebrating him that included like an in memory of. And today, the catchphrase Time to make the donuts is printed on the side of all Dunkin Donut boxes in memory of Michael and his character of Fred the baker. Awe. So if you get a box of Dunkin Donuts and you see that on the side, that's why. That's so sweet. You know, I think Dunkin Donuts was more of an East Coast chain for a long time because I know whenever I flew to New York, I got very excited because there was a Dunkin Donuts by baggage claim and I would always go get a donut while I waited for my suitcase.\",\n",
       "  'id': 'EPISODE_101-120-126'},\n",
       " {'start_time': '00:12:35',\n",
       "  'end_time': '00:13:32',\n",
       "  'episode_title': 'BROKE',\n",
       "  'episode_number': 'EPISODE 101',\n",
       "  'text': \"But listen to this. After the actor who played Fred, the baker, after Michael Vale died in December of 2005, Dunkin Donuts ran a commercial celebrating him that included like an in memory of. And today, the catchphrase Time to make the donuts is printed on the side of all Dunkin Donut boxes in memory of Michael and his character of Fred the baker. Awe. So if you get a box of Dunkin Donuts and you see that on the side, that's why. That's so sweet. You know, I think Dunkin Donuts was more of an East Coast chain for a long time because I know whenever I flew to New York, I got very excited because there was a Dunkin Donuts by baggage claim and I would always go get a donut while I waited for my suitcase. Yeah, we had Dunkin Donuts in St. Louis growing up and my dad would go every Sunday and I always wanted the strawberry iced. I love that one. That was my favorite.\",\n",
       "  'id': 'EPISODE_101-123-129'},\n",
       " {'start_time': '00:13:07',\n",
       "  'end_time': '00:13:49',\n",
       "  'episode_title': 'BROKE',\n",
       "  'episode_number': 'EPISODE 101',\n",
       "  'text': \"That's so sweet. You know, I think Dunkin Donuts was more of an East Coast chain for a long time because I know whenever I flew to New York, I got very excited because there was a Dunkin Donuts by baggage claim and I would always go get a donut while I waited for my suitcase. Yeah, we had Dunkin Donuts in St. Louis growing up and my dad would go every Sunday and I always wanted the strawberry iced. I love that one. That was my favorite. I love that one, too. Mm-hmm. Now, during The Office, there was no Dunkin Donuts on the West Coast, and John Krasinski had this idea that he wanted to open up the first Dunkin Donuts in L.A.. Did he really?\",\n",
       "  'id': 'EPISODE_101-126-132'},\n",
       " {'start_time': '00:13:32',\n",
       "  'end_time': '00:13:56',\n",
       "  'episode_title': 'BROKE',\n",
       "  'episode_number': 'EPISODE 101',\n",
       "  'text': \"That was my favorite. I love that one, too. Mm-hmm. Now, during The Office, there was no Dunkin Donuts on the West Coast, and John Krasinski had this idea that he wanted to open up the first Dunkin Donuts in L.A.. Did he really? Yes. He was really into this for a while, and he tried to get Conan O'Brien to go in on it with him. Oh my God. This was a whole thing.\",\n",
       "  'id': 'EPISODE_101-129-135'},\n",
       " {'start_time': '00:13:49',\n",
       "  'end_time': '00:14:23',\n",
       "  'episode_title': 'BROKE',\n",
       "  'episode_number': 'EPISODE 101',\n",
       "  'text': \"Did he really? Yes. He was really into this for a while, and he tried to get Conan O'Brien to go in on it with him. Oh my God. This was a whole thing. Could you Imagine of Conan and John owned a Dunkin Donuts? That was the plan. And I don't know why it fell apart or if this was just like a daydream, but he talked about it all the time. He wanted to open a Dunkin Donuts franchise in L.A. And you know what? Now they're here. And whenever I pass by them, I wonder, is John like super pissed? Because he had that idea. That was John Krasinski's idea. To bring it to the West Coast.\",\n",
       "  'id': 'EPISODE_101-132-138'},\n",
       " {'start_time': '00:13:56',\n",
       "  'end_time': '00:14:31',\n",
       "  'episode_title': 'BROKE',\n",
       "  'episode_number': 'EPISODE 101',\n",
       "  'text': \"This was a whole thing. Could you Imagine of Conan and John owned a Dunkin Donuts? That was the plan. And I don't know why it fell apart or if this was just like a daydream, but he talked about it all the time. He wanted to open a Dunkin Donuts franchise in L.A. And you know what? Now they're here. And whenever I pass by them, I wonder, is John like super pissed? Because he had that idea. That was John Krasinski's idea. To bring it to the West Coast. Yes. Well, that's all I got for fast facts, lady. Well, I found them delightful. And now I want a donut. Sorry, I really should have brought some Dunkin Donuts in. Clearly. What was I thinking?\",\n",
       "  'id': 'EPISODE_101-135-141'},\n",
       " {'start_time': '00:14:23',\n",
       "  'end_time': '00:14:57',\n",
       "  'episode_title': 'BROKE',\n",
       "  'episode_number': 'EPISODE 101',\n",
       "  'text': \"To bring it to the West Coast. Yes. Well, that's all I got for fast facts, lady. Well, I found them delightful. And now I want a donut. Sorry, I really should have brought some Dunkin Donuts in. Clearly. What was I thinking? I think we should go to break and we'll come back and get into this episode. I love it. All right, we're back. This episode opens with Pam, Michael and Ryan making paper deliveries. And incidentally, I found out the working title for this episode was Delivery Day. Yes, thank you, Randy with those nuggets. Well, you know what? Michael starts the day at 4:30 in the morning with a prank. He pulls up to get Ryan, and then as Ryan gets in he pulls up forward, he pulls forward and Ryan's just like ugh. Jenna, that would drive me crazy.\",\n",
       "  'id': 'EPISODE_101-138-144'},\n",
       " {'start_time': '00:14:31',\n",
       "  'end_time': '00:15:17',\n",
       "  'episode_title': 'BROKE',\n",
       "  'episode_number': 'EPISODE 101',\n",
       "  'text': \"Sorry, I really should have brought some Dunkin Donuts in. Clearly. What was I thinking? I think we should go to break and we'll come back and get into this episode. I love it. All right, we're back. This episode opens with Pam, Michael and Ryan making paper deliveries. And incidentally, I found out the working title for this episode was Delivery Day. Yes, thank you, Randy with those nuggets. Well, you know what? Michael starts the day at 4:30 in the morning with a prank. He pulls up to get Ryan, and then as Ryan gets in he pulls up forward, he pulls forward and Ryan's just like ugh. Jenna, that would drive me crazy. Yeah. I don't need people that peppy that early. No.\",\n",
       "  'id': 'EPISODE_101-141-147'},\n",
       " {'start_time': '00:14:57',\n",
       "  'end_time': '00:15:38',\n",
       "  'episode_title': 'BROKE',\n",
       "  'episode_number': 'EPISODE 101',\n",
       "  'text': 'Yes, thank you, Randy with those nuggets. Well, you know what? Michael starts the day at 4:30 in the morning with a prank. He pulls up to get Ryan, and then as Ryan gets in he pulls up forward, he pulls forward and Ryan\\'s just like ugh. Jenna, that would drive me crazy. Yeah. I don\\'t need people that peppy that early. No. It\\'s too peppy. We got a fan question from Tyler B, who said this. My friend and I have watched the opening scene with Michael inching the delivery van forward while Ryan tries to get in over and over. At forty 46 seconds, we cannot figure out if Michael says \"I lied\" or \"denied\" to Ryan. It\\'s denied.',\n",
       "  'id': 'EPISODE_101-144-150'},\n",
       " {'start_time': '00:15:17',\n",
       "  'end_time': '00:15:51',\n",
       "  'episode_title': 'BROKE',\n",
       "  'episode_number': 'EPISODE 101',\n",
       "  'text': 'No. It\\'s too peppy. We got a fan question from Tyler B, who said this. My friend and I have watched the opening scene with Michael inching the delivery van forward while Ryan tries to get in over and over. At forty 46 seconds, we cannot figure out if Michael says \"I lied\" or \"denied\" to Ryan. It\\'s denied. He says the captions say denied, but I\\'m not convinced because it almost sounds like de lied. Do you know? Well, we have the script. What does it say? It was not a scripted moment.',\n",
       "  'id': 'EPISODE_101-147-153'},\n",
       " {'start_time': '00:15:38',\n",
       "  'end_time': '00:16:06',\n",
       "  'episode_title': 'BROKE',\n",
       "  'episode_number': 'EPISODE 101',\n",
       "  'text': \"It's denied. He says the captions say denied, but I'm not convinced because it almost sounds like de lied. Do you know? Well, we have the script. What does it say? It was not a scripted moment. Oh, of course not. Of course, they were playing around a little bit. I hear I lied. But I hear Steve's- Steve has this funny delivery he does sometimes where he like laughs at the beginning of a line and he'll hold out a vowel.\",\n",
       "  'id': 'EPISODE_101-150-156'},\n",
       " {'start_time': '00:15:51',\n",
       "  'end_time': '00:16:21',\n",
       "  'episode_title': 'BROKE',\n",
       "  'episode_number': 'EPISODE 101',\n",
       "  'text': \"It was not a scripted moment. Oh, of course not. Of course, they were playing around a little bit. I hear I lied. But I hear Steve's- Steve has this funny delivery he does sometimes where he like laughs at the beginning of a line and he'll hold out a vowel. So I hear d' I lied. Meaning like the duh is like part of his laugh. Well, gosh, I just think I need to hear it. I need to hear it. And then I'm going to decide what I hear. I think we should put a poll in our Office Ladies Pod stories. I agree.\",\n",
       "  'id': 'EPISODE_101-153-159'},\n",
       " {'start_time': '00:16:06',\n",
       "  'end_time': '00:16:32',\n",
       "  'episode_title': 'BROKE',\n",
       "  'episode_number': 'EPISODE 101',\n",
       "  'text': \"and he'll hold out a vowel. So I hear d' I lied. Meaning like the duh is like part of his laugh. Well, gosh, I just think I need to hear it. I need to hear it. And then I'm going to decide what I hear. I think we should put a poll in our Office Ladies Pod stories. I agree. I lied. It's I lied. He's like, I lied. I gotta hear it again. I got to hear it again.\",\n",
       "  'id': 'EPISODE_101-156-162'},\n",
       " {'start_time': '00:16:21',\n",
       "  'end_time': '00:16:44',\n",
       "  'episode_title': 'BROKE',\n",
       "  'episode_number': 'EPISODE 101',\n",
       "  'text': \"I agree. I lied. It's I lied. He's like, I lied. I gotta hear it again. I got to hear it again. I lied. Oh my gosh, it's definitely I lied because he's saying I won't do it again. Yes.\",\n",
       "  'id': 'EPISODE_101-159-165'},\n",
       " {'start_time': '00:16:32',\n",
       "  'end_time': '00:16:53',\n",
       "  'episode_title': 'BROKE',\n",
       "  'episode_number': 'EPISODE 101',\n",
       "  'text': \"I gotta hear it again. I got to hear it again. I lied. Oh my gosh, it's definitely I lied because he's saying I won't do it again. Yes. And he's laughing. It's I lied. It's not denied. The subtitles are wrong. Completely. It's definitely not denied. But it is like d' I lied. Yeah. Yeah.\",\n",
       "  'id': 'EPISODE_101-162-168'},\n",
       " {'start_time': '00:16:44',\n",
       "  'end_time': '00:16:59',\n",
       "  'episode_title': 'BROKE',\n",
       "  'episode_number': 'EPISODE 101',\n",
       "  'text': \"Yes. And he's laughing. It's I lied. It's not denied. The subtitles are wrong. Completely. It's definitely not denied. But it is like d' I lied. Yeah. Yeah. It's a little laugh. It's a catch at the top. It's a little bit of a d'lied. Tyler. I hope that that has helped you guys. We took that on and we-\",\n",
       "  'id': 'EPISODE_101-165-171'},\n",
       " {'start_time': '00:16:53',\n",
       "  'end_time': '00:17:07',\n",
       "  'episode_title': 'BROKE',\n",
       "  'episode_number': 'EPISODE 101',\n",
       "  'text': \"Yeah. Yeah. It's a little laugh. It's a catch at the top. It's a little bit of a d'lied. Tyler. I hope that that has helped you guys. We took that on and we- We took it very seriously. We did. We did. Well, then Michael's got to go get Pam. He pulls outside and lays on the horn. Did you ever have a friend like that? I carpooled with a friend in high school who would lay on the horn, and my dad was like, All right, you got to tell her.\",\n",
       "  'id': 'EPISODE_101-168-174'},\n",
       " {'start_time': '00:16:59',\n",
       "  'end_time': '00:17:22',\n",
       "  'episode_title': 'BROKE',\n",
       "  'episode_number': 'EPISODE 101',\n",
       "  'text': \"Tyler. I hope that that has helped you guys. We took that on and we- We took it very seriously. We did. We did. Well, then Michael's got to go get Pam. He pulls outside and lays on the horn. Did you ever have a friend like that? I carpooled with a friend in high school who would lay on the horn, and my dad was like, All right, you got to tell her. Yes. None of that. It's early. Yes, that was our carpool. You would go in the person's driveway and you want to just give it like a boop boop.\",\n",
       "  'id': 'EPISODE_101-171-177'},\n",
       " {'start_time': '00:17:07',\n",
       "  'end_time': '00:18:19',\n",
       "  'episode_title': 'BROKE',\n",
       "  'episode_number': 'EPISODE 101',\n",
       "  'text': \"Well, then Michael's got to go get Pam. He pulls outside and lays on the horn. Did you ever have a friend like that? I carpooled with a friend in high school who would lay on the horn, and my dad was like, All right, you got to tell her. Yes. None of that. It's early. Yes, that was our carpool. You would go in the person's driveway and you want to just give it like a boop boop. Yeah. Not a bahh bahhh. Exactly. We got a lot of fan mail about these pick up scenes. One person said, When Michael beeps the horn of the van, you can see the top right corner of the neighbor's light turning on. They really like that detail. People also wanted to know, were these scenes really recorded at 4:30 and 5:00 in the morning? No, we shot these at night. What we would do is we would shoot all day at the studio and then we would pack up and drive out to these locations to do, like the early morning shots. So it was actually just evening. I checked in with Randy to refresh my memory. He said we had to do this over two days because we never wanted to shoot too late into the evening because then we'd have to start later the next morning because you have to give the crew and the cast their turn around. And then you guys, that becomes a domino effect. Then every day starts later and later, and then you get into one of those what we call a frighter day situation.\",\n",
       "  'id': 'EPISODE_101-174-180'},\n",
       " {'start_time': '00:17:22',\n",
       "  'end_time': '00:18:29',\n",
       "  'episode_title': 'BROKE',\n",
       "  'episode_number': 'EPISODE 101',\n",
       "  'text': \"Yes, that was our carpool. You would go in the person's driveway and you want to just give it like a boop boop. Yeah. Not a bahh bahhh. Exactly. We got a lot of fan mail about these pick up scenes. One person said, When Michael beeps the horn of the van, you can see the top right corner of the neighbor's light turning on. They really like that detail. People also wanted to know, were these scenes really recorded at 4:30 and 5:00 in the morning? No, we shot these at night. What we would do is we would shoot all day at the studio and then we would pack up and drive out to these locations to do, like the early morning shots. So it was actually just evening. I checked in with Randy to refresh my memory. He said we had to do this over two days because we never wanted to shoot too late into the evening because then we'd have to start later the next morning because you have to give the crew and the cast their turn around. And then you guys, that becomes a domino effect. Then every day starts later and later, and then you get into one of those what we call a frighter day situation. Fraturday. Frighterday. Frat.\",\n",
       "  'id': 'EPISODE_101-177-183'},\n",
       " {'start_time': '00:18:19',\n",
       "  'end_time': '00:18:29',\n",
       "  'episode_title': 'BROKE',\n",
       "  'episode_number': 'EPISODE 101',\n",
       "  'text': 'And then you guys, that becomes a domino effect. Then every day starts later and later, and then you get into one of those what we call a frighter day situation. Fraturday. Frighterday. Frat. Frighter? Frat. Frat?',\n",
       "  'id': 'EPISODE_101-180-186'},\n",
       " {'start_time': '00:18:29',\n",
       "  'end_time': '00:18:44',\n",
       "  'episode_title': 'BROKE',\n",
       "  'episode_number': 'EPISODE 101',\n",
       "  'text': \"Frat. Frighter? Frat. Frat? Like sat-turday but fr- from Friday. So Fraturday. Well, I've always called it Frighterday because you go F-R-I-D and then you go into Saturday. You- I believe would be the only one who's saying Fridurday.\",\n",
       "  'id': 'EPISODE_101-183-189'},\n",
       " {'start_time': '00:18:29',\n",
       "  'end_time': '00:18:53',\n",
       "  'episode_title': 'BROKE',\n",
       "  'episode_number': 'EPISODE 101',\n",
       "  'text': \"Frat? Like sat-turday but fr- from Friday. So Fraturday. Well, I've always called it Frighterday because you go F-R-I-D and then you go into Saturday. You- I believe would be the only one who's saying Fridurday. Everyone else is saying Fraturday? Mm-hmm. In the biz. Well, guys, is it any surprise that I've been saying it wrong?\",\n",
       "  'id': 'EPISODE_101-186-192'},\n",
       " {'start_time': '00:18:44',\n",
       "  'end_time': '00:19:16',\n",
       "  'episode_title': 'BROKE',\n",
       "  'episode_number': 'EPISODE 101',\n",
       "  'text': \"You- I believe would be the only one who's saying Fridurday. Everyone else is saying Fraturday? Mm-hmm. In the biz. Well, guys, is it any surprise that I've been saying it wrong? I guess I could stand corrected, but I feel pretty confident. I will be texting a few of our friends when we wrap. All right. Why don't you tell us more about how you shot this scenes? You obviously did one day was the Ryan pick up, and then the next day was like the Pam pick up. No.\",\n",
       "  'id': 'EPISODE_101-189-195'},\n",
       " {'start_time': '00:18:53',\n",
       "  'end_time': '00:19:19',\n",
       "  'episode_title': 'BROKE',\n",
       "  'episode_number': 'EPISODE 101',\n",
       "  'text': \"Well, guys, is it any surprise that I've been saying it wrong? I guess I could stand corrected, but I feel pretty confident. I will be texting a few of our friends when we wrap. All right. Why don't you tell us more about how you shot this scenes? You obviously did one day was the Ryan pick up, and then the next day was like the Pam pick up. No. What? One day was at Michael's condo. OK.\",\n",
       "  'id': 'EPISODE_101-192-198'},\n",
       " {'start_time': '00:19:16',\n",
       "  'end_time': '00:19:22',\n",
       "  'episode_title': 'BROKE',\n",
       "  'episode_number': 'EPISODE 101',\n",
       "  'text': \"No. What? One day was at Michael's condo. OK. You know, at the opening shot. The beginning, right? The other night we did both Ryan's house and Jim and Pam's house because the location for Ryan's house was just a few houses down the block from Jim and Pam's house on Calvert Street in Van Nuys. And the people who lived next to the house that we used for Jim and Pam's house let us put a PA up in their bedroom to-\",\n",
       "  'id': 'EPISODE_101-195-201'},\n",
       " {'start_time': '00:19:19',\n",
       "  'end_time': '00:20:19',\n",
       "  'episode_title': 'BROKE',\n",
       "  'episode_number': 'EPISODE 101',\n",
       "  'text': \"OK. You know, at the opening shot. The beginning, right? The other night we did both Ryan's house and Jim and Pam's house because the location for Ryan's house was just a few houses down the block from Jim and Pam's house on Calvert Street in Van Nuys. And the people who lived next to the house that we used for Jim and Pam's house let us put a PA up in their bedroom to- To flip on the lightswitch. To flip on the light. They were very good sports, Randy said. And that's not all, Angela. I also got a ton of fan questions about the van because Pam has that talking head where she says they got it at a used car lot and they think that it says Alleluia Church of Scranton in Korean on the side of the van. People wanted to know what did it really say? It said Alleluia Church of Scranton in Korean. Our graphics artist, Michael Marcus, designed the logo and they had it made into a large like stick on decal that they put on the side of the van. So it really did say that. I love that because I love our show's attention to detail. I have a question for you, Jenna.\",\n",
       "  'id': 'EPISODE_101-198-204'},\n",
       " {'start_time': '00:19:22',\n",
       "  'end_time': '00:20:40',\n",
       "  'episode_title': 'BROKE',\n",
       "  'episode_number': 'EPISODE 101',\n",
       "  'text': \"The other night we did both Ryan's house and Jim and Pam's house because the location for Ryan's house was just a few houses down the block from Jim and Pam's house on Calvert Street in Van Nuys. And the people who lived next to the house that we used for Jim and Pam's house let us put a PA up in their bedroom to- To flip on the lightswitch. To flip on the light. They were very good sports, Randy said. And that's not all, Angela. I also got a ton of fan questions about the van because Pam has that talking head where she says they got it at a used car lot and they think that it says Alleluia Church of Scranton in Korean on the side of the van. People wanted to know what did it really say? It said Alleluia Church of Scranton in Korean. Our graphics artist, Michael Marcus, designed the logo and they had it made into a large like stick on decal that they put on the side of the van. So it really did say that. I love that because I love our show's attention to detail. I have a question for you, Jenna. Yes. In the next beat of this cold open, you're like, Gosh, I could really use some coffee and Michael's like milk and sugar? And you're like, Yes, thank you. And you take a big ol swig and it's actually milk and sugar. And Michael says he drinks it every morning. Yeah.\",\n",
       "  'id': 'EPISODE_101-201-207'},\n",
       " {'start_time': '00:20:19',\n",
       "  'end_time': '00:20:44',\n",
       "  'episode_title': 'BROKE',\n",
       "  'episode_number': 'EPISODE 101',\n",
       "  'text': \"I love that because I love our show's attention to detail. I have a question for you, Jenna. Yes. In the next beat of this cold open, you're like, Gosh, I could really use some coffee and Michael's like milk and sugar? And you're like, Yes, thank you. And you take a big ol swig and it's actually milk and sugar. And Michael says he drinks it every morning. Yeah. What'd you really drink? Was it just water? Please say it was just water. It was water. Oh, thank goodness.\",\n",
       "  'id': 'EPISODE_101-204-210'},\n",
       " {'start_time': '00:20:40',\n",
       "  'end_time': '00:20:47',\n",
       "  'episode_title': 'BROKE',\n",
       "  'episode_number': 'EPISODE 101',\n",
       "  'text': \"Yeah. What'd you really drink? Was it just water? Please say it was just water. It was water. Oh, thank goodness. But I really sold it. You did. When I was rewatching this episode, I watched that moment and I was like, That's good acting. I did a good job. I should put that on my Emmy submission.\",\n",
       "  'id': 'EPISODE_101-207-213'},\n",
       " {'start_time': '00:20:44',\n",
       "  'end_time': '00:21:05',\n",
       "  'episode_title': 'BROKE',\n",
       "  'episode_number': 'EPISODE 101',\n",
       "  'text': \"Oh, thank goodness. But I really sold it. You did. When I was rewatching this episode, I watched that moment and I was like, That's good acting. I did a good job. I should put that on my Emmy submission. You should, because when I watched it, I thought, I wonder if Jenna was like, You can put milk and sugar so I react honestly or something. If you got kind of method, but you did what I did about running. Yeah, I was like. You just faked it.\",\n",
       "  'id': 'EPISODE_101-210-216'},\n",
       " {'start_time': '00:20:47',\n",
       "  'end_time': '00:21:08',\n",
       "  'episode_title': 'BROKE',\n",
       "  'episode_number': 'EPISODE 101',\n",
       "  'text': \"When I was rewatching this episode, I watched that moment and I was like, That's good acting. I did a good job. I should put that on my Emmy submission. You should, because when I watched it, I thought, I wonder if Jenna was like, You can put milk and sugar so I react honestly or something. If you got kind of method, but you did what I did about running. Yeah, I was like. You just faked it. I'll just fake it. Fake it. I'm an actor. I can do it.\",\n",
       "  'id': 'EPISODE_101-213-219'},\n",
       " {'start_time': '00:21:05',\n",
       "  'end_time': '00:21:10',\n",
       "  'episode_title': 'BROKE',\n",
       "  'episode_number': 'EPISODE 101',\n",
       "  'text': \"You just faked it. I'll just fake it. Fake it. I'm an actor. I can do it. You can do it. And I did. And you sold it.\",\n",
       "  'id': 'EPISODE_101-216-222'},\n",
       " {'start_time': '00:21:08',\n",
       "  'end_time': '00:21:25',\n",
       "  'episode_title': 'BROKE',\n",
       "  'episode_number': 'EPISODE 101',\n",
       "  'text': \"I'm an actor. I can do it. You can do it. And I did. And you sold it. So now Pam and Ryan are going to be unloading the paper, and I want to say a few things. Did you notice that I'm wearing a pencil skirt? I did. Did you see what the boys are wearing?\",\n",
       "  'id': 'EPISODE_101-219-225'},\n",
       " {'start_time': '00:21:10',\n",
       "  'end_time': '00:21:34',\n",
       "  'episode_title': 'BROKE',\n",
       "  'episode_number': 'EPISODE 101',\n",
       "  'text': \"And you sold it. So now Pam and Ryan are going to be unloading the paper, and I want to say a few things. Did you notice that I'm wearing a pencil skirt? I did. Did you see what the boys are wearing? I did. Pam is wearing a hoodie and sneakers, but a pencil skirt. And I think with pantyhose at 4:30 in the morning.\",\n",
       "  'id': 'EPISODE_101-222-228'},\n",
       " {'start_time': '00:21:25',\n",
       "  'end_time': '00:21:41',\n",
       "  'episode_title': 'BROKE',\n",
       "  'episode_number': 'EPISODE 101',\n",
       "  'text': 'Did you see what the boys are wearing? I did. Pam is wearing a hoodie and sneakers, but a pencil skirt. And I think with pantyhose at 4:30 in the morning. Yes. To unload paper out of a van. Yes.',\n",
       "  'id': 'EPISODE_101-225-231'},\n",
       " {'start_time': '00:21:34',\n",
       "  'end_time': '00:21:43',\n",
       "  'episode_title': 'BROKE',\n",
       "  'episode_number': 'EPISODE 101',\n",
       "  'text': 'And I think with pantyhose at 4:30 in the morning. Yes. To unload paper out of a van. Yes. Pam. Hmm. Our NBC executives.',\n",
       "  'id': 'EPISODE_101-228-234'},\n",
       " {'start_time': '00:21:41',\n",
       "  'end_time': '00:22:17',\n",
       "  'episode_title': 'BROKE',\n",
       "  'episode_number': 'EPISODE 101',\n",
       "  'text': 'Yes. Pam. Hmm. Our NBC executives. Correct. I guess that note about Pam being in a pencil skirt. Wow, that really carries. Oh, I want to tell you, also in this scene, a woman tries to get on the van. And the woman who gets on the bus was played by Clara Sooyoung and the person who played the warehouse supervisor who was with Michael was played by Isabelle Hubman. And I remember both of them were super awesome because we actually shot this really early in the morning. This one you did do early. We did. We got there, oh my gosh, we were shooting by 6:45.',\n",
       "  'id': 'EPISODE_101-231-237'},\n",
       " {'start_time': '00:21:43',\n",
       "  'end_time': '00:22:32',\n",
       "  'episode_title': 'BROKE',\n",
       "  'episode_number': 'EPISODE 101',\n",
       "  'text': 'Our NBC executives. Correct. I guess that note about Pam being in a pencil skirt. Wow, that really carries. Oh, I want to tell you, also in this scene, a woman tries to get on the van. And the woman who gets on the bus was played by Clara Sooyoung and the person who played the warehouse supervisor who was with Michael was played by Isabelle Hubman. And I remember both of them were super awesome because we actually shot this really early in the morning. This one you did do early. We did. We got there, oh my gosh, we were shooting by 6:45. Wow. And so I remember, like, we were all legitimately tired, but we also got finished really quickly. So it was fun. Well, you know, Jenna, this was not the original cold open for the episode?',\n",
       "  'id': 'EPISODE_101-234-240'},\n",
       " {'start_time': '00:22:17',\n",
       "  'end_time': '00:22:38',\n",
       "  'episode_title': 'BROKE',\n",
       "  'episode_number': 'EPISODE 101',\n",
       "  'text': 'We did. We got there, oh my gosh, we were shooting by 6:45. Wow. And so I remember, like, we were all legitimately tired, but we also got finished really quickly. So it was fun. Well, you know, Jenna, this was not the original cold open for the episode? Really? Truly. Tell me more.',\n",
       "  'id': 'EPISODE_101-237-243'},\n",
       " {'start_time': '00:22:32',\n",
       "  'end_time': '00:23:46',\n",
       "  'episode_title': 'BROKE',\n",
       "  'episode_number': 'EPISODE 101',\n",
       "  'text': \"Well, you know, Jenna, this was not the original cold open for the episode? Really? Truly. Tell me more. I will. Here was the original cold open. This is how the cold open was in the shooting draft. It is the Dunder Mifflin office parking lot. Early morning, we hear a screech in the parking lot. The camera pushes in to find Michael with wet hair, frantically parking and sort of running in, and he says, I'm late, I'm late, I'm late. Barges into the Dunder Mifflin bullpen. Goes right into his office and he's like, Sorry, sorry, sorry everyone, I'm overslept. Totally unexcusable. And he goes in his office and shuts the door. Erin and the rest of the office are very confused. Jim looks to camera, and he says, This is a surprise. Michael's almost never late, and he hasn't worked here in four weeks. And then there's this brief scene between Jim and Michael where Jim says, Hey, what are you doing here? And Michael's like, Oh, I owe everyone a huge apology. Did anyone notice I was late? And Jim says, I think they're just surprised you came at all. And then this plays out with Charles coming in and Erin going, that's him, like he's some intruder. Right. And then Michael realizes he's really embarrassed and he leaves and Erin's like, was I supposed to stop him? He seemed so confident. And then there's this last little moment where Michael goes downstairs to the Michael Scott paper company and he's like, I'm sorry, I'm late. But only Pam is there. But Ryan is late.\",\n",
       "  'id': 'EPISODE_101-240-246'},\n",
       " {'start_time': '00:22:38',\n",
       "  'end_time': '00:24:22',\n",
       "  'episode_title': 'BROKE',\n",
       "  'episode_number': 'EPISODE 101',\n",
       "  'text': \"Tell me more. I will. Here was the original cold open. This is how the cold open was in the shooting draft. It is the Dunder Mifflin office parking lot. Early morning, we hear a screech in the parking lot. The camera pushes in to find Michael with wet hair, frantically parking and sort of running in, and he says, I'm late, I'm late, I'm late. Barges into the Dunder Mifflin bullpen. Goes right into his office and he's like, Sorry, sorry, sorry everyone, I'm overslept. Totally unexcusable. And he goes in his office and shuts the door. Erin and the rest of the office are very confused. Jim looks to camera, and he says, This is a surprise. Michael's almost never late, and he hasn't worked here in four weeks. And then there's this brief scene between Jim and Michael where Jim says, Hey, what are you doing here? And Michael's like, Oh, I owe everyone a huge apology. Did anyone notice I was late? And Jim says, I think they're just surprised you came at all. And then this plays out with Charles coming in and Erin going, that's him, like he's some intruder. Right. And then Michael realizes he's really embarrassed and he leaves and Erin's like, was I supposed to stop him? He seemed so confident. And then there's this last little moment where Michael goes downstairs to the Michael Scott paper company and he's like, I'm sorry, I'm late. But only Pam is there. But Ryan is late. It's so funny. Randy told us that there were a ton of deleted scenes from this episode, and I bet what they did was they cut this cold open and they made what would have been the top of this episode a cold open. Yes. Because this is not a standalone cold open. This relates to the rest of the episode. It's, you know, deliveries and Michael Scott Paper Company. And so that's really interesting. They must have had to do that for time to squeeze more stuff in.\",\n",
       "  'id': 'EPISODE_101-243-249'},\n",
       " {'start_time': '00:23:46',\n",
       "  'end_time': '00:24:52',\n",
       "  'episode_title': 'BROKE',\n",
       "  'episode_number': 'EPISODE 101',\n",
       "  'text': \"And then Michael realizes he's really embarrassed and he leaves and Erin's like, was I supposed to stop him? He seemed so confident. And then there's this last little moment where Michael goes downstairs to the Michael Scott paper company and he's like, I'm sorry, I'm late. But only Pam is there. But Ryan is late. It's so funny. Randy told us that there were a ton of deleted scenes from this episode, and I bet what they did was they cut this cold open and they made what would have been the top of this episode a cold open. Yes. Because this is not a standalone cold open. This relates to the rest of the episode. It's, you know, deliveries and Michael Scott Paper Company. And so that's really interesting. They must have had to do that for time to squeeze more stuff in. There was a lot in the shooting draft that did not make it in. Wow. So as this episode opens, Charles Miner is going to walk into the Dunder Mifflin bullpen and announce that they have now lost 10 clients to Michael Scott Paper Company. Yeah, that's a huge dent in their business.\",\n",
       "  'id': 'EPISODE_101-246-252'},\n",
       " {'start_time': '00:24:22',\n",
       "  'end_time': '00:25:24',\n",
       "  'episode_title': 'BROKE',\n",
       "  'episode_number': 'EPISODE 101',\n",
       "  'text': \"Because this is not a standalone cold open. This relates to the rest of the episode. It's, you know, deliveries and Michael Scott Paper Company. And so that's really interesting. They must have had to do that for time to squeeze more stuff in. There was a lot in the shooting draft that did not make it in. Wow. So as this episode opens, Charles Miner is going to walk into the Dunder Mifflin bullpen and announce that they have now lost 10 clients to Michael Scott Paper Company. Yeah, that's a huge dent in their business. It really is. Charles is going to have a talking head where he says he does not know what to do to inspire people. And the camera's going to pull back. You're going to see Dwight hovering over his shoulder. I just want to point out that Dwight is still wearing his long sleeve white shirts with the sleeves that are too short because you can see his full watch. It is exposed on his wrist. His sleeves are too short. It's official. Jenna. We agree with you. Jenna, we agree. His sleeves are too short. OK, thank you. But before this talking head ends, Angela is going to enter the room to talk about these expense reports.\",\n",
       "  'id': 'EPISODE_101-249-255'},\n",
       " {'start_time': '00:24:52',\n",
       "  'end_time': '00:25:57',\n",
       "  'episode_title': 'BROKE',\n",
       "  'episode_number': 'EPISODE 101',\n",
       "  'text': \"Yeah, that's a huge dent in their business. It really is. Charles is going to have a talking head where he says he does not know what to do to inspire people. And the camera's going to pull back. You're going to see Dwight hovering over his shoulder. I just want to point out that Dwight is still wearing his long sleeve white shirts with the sleeves that are too short because you can see his full watch. It is exposed on his wrist. His sleeves are too short. It's official. Jenna. We agree with you. Jenna, we agree. His sleeves are too short. OK, thank you. But before this talking head ends, Angela is going to enter the room to talk about these expense reports. Yes, and all right. This is the scene I was talking about earlier where Steve gave me a note that changed how I delivered this line, and it was so fun for me to rewatch and remember. Angela comes in and she goes, Charles, I got your memo about the expense reports. Thank you. And Steve was like, What if almost in Angela's mind, this was like a personal memo to her. Like he sees her, right? Yeah. He understands how much these expense reports have meant to her over the years and how Michael just never cared about them.\",\n",
       "  'id': 'EPISODE_101-252-258'},\n",
       " {'start_time': '00:25:24',\n",
       "  'end_time': '00:26:35',\n",
       "  'episode_title': 'BROKE',\n",
       "  'episode_number': 'EPISODE 101',\n",
       "  'text': \"OK, thank you. But before this talking head ends, Angela is going to enter the room to talk about these expense reports. Yes, and all right. This is the scene I was talking about earlier where Steve gave me a note that changed how I delivered this line, and it was so fun for me to rewatch and remember. Angela comes in and she goes, Charles, I got your memo about the expense reports. Thank you. And Steve was like, What if almost in Angela's mind, this was like a personal memo to her. Like he sees her, right? Yeah. He understands how much these expense reports have meant to her over the years and how Michael just never cared about them. Great note. Great note. He was like, Angela, what if this is like personal? So that's why I walked in. I was like, Charles, I got your memo about the expense reports. Thank you. And I sort of touched my chest. Like thank you for seeing me. This starts an amazing runner, Jenna, about the expense reports. The whole entire thing got deleted for time, and I'm going to share about it. Before I play the first one, I want you to know when Angela leaves the room and Dwight says to Charles, Been there, done that. That was not in the script. Oh, Rainn improvised that?\",\n",
       "  'id': 'EPISODE_101-255-261'},\n",
       " {'start_time': '00:25:57',\n",
       "  'end_time': '00:26:54',\n",
       "  'episode_title': 'BROKE',\n",
       "  'episode_number': 'EPISODE 101',\n",
       "  'text': \"He understands how much these expense reports have meant to her over the years and how Michael just never cared about them. Great note. Great note. He was like, Angela, what if this is like personal? So that's why I walked in. I was like, Charles, I got your memo about the expense reports. Thank you. And I sort of touched my chest. Like thank you for seeing me. This starts an amazing runner, Jenna, about the expense reports. The whole entire thing got deleted for time, and I'm going to share about it. Before I play the first one, I want you to know when Angela leaves the room and Dwight says to Charles, Been there, done that. That was not in the script. Oh, Rainn improvised that? Rainn improvised that. And then immediately after the scene would have started this expense reports runner. Angela is delighted to be policing people. Here is clip number one. Stanley... Andrew. Rejected?\",\n",
       "  'id': 'EPISODE_101-258-264'},\n",
       " {'start_time': '00:26:35',\n",
       "  'end_time': '00:27:09',\n",
       "  'episode_title': 'BROKE',\n",
       "  'episode_number': 'EPISODE 101',\n",
       "  'text': \"Oh, Rainn improvised that? Rainn improvised that. And then immediately after the scene would have started this expense reports runner. Angela is delighted to be policing people. Here is clip number one. Stanley... Andrew. Rejected? You never had a problem with me expensing cigars before. Yes, I did. I just didn't have the power to enforce it. Phyllis, this client you take out to Alfredo's every Saturday night wouldn't happen to be a refrigeration company, would it? Michael never cared. He said it was a perk of the job.\",\n",
       "  'id': 'EPISODE_101-261-267'},\n",
       " {'start_time': '00:26:54',\n",
       "  'end_time': '00:27:49',\n",
       "  'episode_title': 'BROKE',\n",
       "  'episode_number': 'EPISODE 101',\n",
       "  'text': \"Rejected? You never had a problem with me expensing cigars before. Yes, I did. I just didn't have the power to enforce it. Phyllis, this client you take out to Alfredo's every Saturday night wouldn't happen to be a refrigeration company, would it? Michael never cared. He said it was a perk of the job. Hmm. I'm sorry. I get no joy from this. All right. So on that line, on that line, I get no joy from this, I turn around and I walk away beaming with the biggest smile. And so I took a screengrab of it. It's hilarious. I'm going to put it in stories. And then right after this, there would have been back to back Phyllis and Angela talking heads. And this is what Angela said in her talking head. She holds up a rejected stamp and says, I bought it for myself for my birthday. I've been waiting for a chance to use it. It came with an approved stamp, which I can't seem to find. Amazing.\",\n",
       "  'id': 'EPISODE_101-264-270'},\n",
       " {'start_time': '00:27:09',\n",
       "  'end_time': '00:28:06',\n",
       "  'episode_title': 'BROKE',\n",
       "  'episode_number': 'EPISODE 101',\n",
       "  'text': \"Michael never cared. He said it was a perk of the job. Hmm. I'm sorry. I get no joy from this. All right. So on that line, on that line, I get no joy from this, I turn around and I walk away beaming with the biggest smile. And so I took a screengrab of it. It's hilarious. I'm going to put it in stories. And then right after this, there would have been back to back Phyllis and Angela talking heads. And this is what Angela said in her talking head. She holds up a rejected stamp and says, I bought it for myself for my birthday. I've been waiting for a chance to use it. It came with an approved stamp, which I can't seem to find. Amazing. And then Phyllis would have had a talking head immediately after that said, That little bitch. Get with the program. A free dinner here. A bottle of wine there. Everybody's happy. You take away my perks? See you later, alligator. Ooh, Phyllis sass. What is that? What's see you later, alligator?\",\n",
       "  'id': 'EPISODE_101-267-273'},\n",
       " {'start_time': '00:27:49',\n",
       "  'end_time': '00:28:19',\n",
       "  'episode_title': 'BROKE',\n",
       "  'episode_number': 'EPISODE 101',\n",
       "  'text': \"Amazing. And then Phyllis would have had a talking head immediately after that said, That little bitch. Get with the program. A free dinner here. A bottle of wine there. Everybody's happy. You take away my perks? See you later, alligator. Ooh, Phyllis sass. What is that? What's see you later, alligator? I'm not sure. I don't. I don't know if you want to find out. I know. So there was all this hullabaloo with Angela rejecting everyone's expense reports, and it keeps playing out. I'll share more later. Well, next up, we're going to go down to the Michael Scott paper company where everyone is so tired.\",\n",
       "  'id': 'EPISODE_101-270-276'},\n",
       " {'start_time': '00:28:06',\n",
       "  'end_time': '00:28:34',\n",
       "  'episode_title': 'BROKE',\n",
       "  'episode_number': 'EPISODE 101',\n",
       "  'text': \"What is that? What's see you later, alligator? I'm not sure. I don't. I don't know if you want to find out. I know. So there was all this hullabaloo with Angela rejecting everyone's expense reports, and it keeps playing out. I'll share more later. Well, next up, we're going to go down to the Michael Scott paper company where everyone is so tired. Well, they've been getting up at 4:30 in the morning every day. Ryan thinks they should get a delivery guy. Michael thinks they should just maybe build a loft for Pam in particular. Yeah, just bunk up there, Pam.\",\n",
       "  'id': 'EPISODE_101-273-279'},\n",
       " {'start_time': '00:28:19',\n",
       "  'end_time': '00:28:47',\n",
       "  'episode_title': 'BROKE',\n",
       "  'episode_number': 'EPISODE 101',\n",
       "  'text': \"Well, next up, we're going to go down to the Michael Scott paper company where everyone is so tired. Well, they've been getting up at 4:30 in the morning every day. Ryan thinks they should get a delivery guy. Michael thinks they should just maybe build a loft for Pam in particular. Yeah, just bunk up there, Pam. Michael's like, yeah, dorm rooms have lofts and Ryan's like, No, they don't, Michael. But did you have a loft in your dorm? Because I did. No, I had two twin beds in my dorm room. My dad built me a loft and I put my bed up high and I put my desk underneath it. Just like Michael said,.\",\n",
       "  'id': 'EPISODE_101-276-282'},\n",
       " {'start_time': '00:28:34',\n",
       "  'end_time': '00:29:02',\n",
       "  'episode_title': 'BROKE',\n",
       "  'episode_number': 'EPISODE 101',\n",
       "  'text': \"Yeah, just bunk up there, Pam. Michael's like, yeah, dorm rooms have lofts and Ryan's like, No, they don't, Michael. But did you have a loft in your dorm? Because I did. No, I had two twin beds in my dorm room. My dad built me a loft and I put my bed up high and I put my desk underneath it. Just like Michael said,. Well, I had friends that had that in their bedrooms growing up, but at my college you had a roommate. Did you not have a roommate? I did have a roommate. And though. Your dad built a loft on your side of the- I had a one room dorm room with two twin beds and a little sink in the corner.\",\n",
       "  'id': 'EPISODE_101-279-285'},\n",
       " {'start_time': '00:28:47',\n",
       "  'end_time': '00:29:17',\n",
       "  'episode_title': 'BROKE',\n",
       "  'episode_number': 'EPISODE 101',\n",
       "  'text': 'My dad built me a loft and I put my bed up high and I put my desk underneath it. Just like Michael said,. Well, I had friends that had that in their bedrooms growing up, but at my college you had a roommate. Did you not have a roommate? I did have a roommate. And though. Your dad built a loft on your side of the- I had a one room dorm room with two twin beds and a little sink in the corner. Us too. Yeah. So we had like a Jack and Jill bathroom situation, so. Oh I had to go down the hall. I had a little shower caddy. Ohh.',\n",
       "  'id': 'EPISODE_101-282-288'},\n",
       " {'start_time': '00:29:02',\n",
       "  'end_time': '00:29:27',\n",
       "  'episode_title': 'BROKE',\n",
       "  'episode_number': 'EPISODE 101',\n",
       "  'text': \"Your dad built a loft on your side of the- I had a one room dorm room with two twin beds and a little sink in the corner. Us too. Yeah. So we had like a Jack and Jill bathroom situation, so. Oh I had to go down the hall. I had a little shower caddy. Ohh. And I had a walk to a like community shower. I mean, it was a girls dorm, but you know. I'm not going to lie. I kind of picked my college because- Of the bathrooms?\",\n",
       "  'id': 'EPISODE_101-285-291'},\n",
       " {'start_time': '00:29:17',\n",
       "  'end_time': '00:29:51',\n",
       "  'episode_title': 'BROKE',\n",
       "  'episode_number': 'EPISODE 101',\n",
       "  'text': \"Ohh. And I had a walk to a like community shower. I mean, it was a girls dorm, but you know. I'm not going to lie. I kind of picked my college because- Of the bathrooms? Because of the dorm room situation, like slightly. I loved my school. I went to Truman State in rural Missouri. It was amazing. I loved it there. But the dorms at the time, this was a little rare, you had like two bedrooms separated by a bathroom, so it would be four girls sharing one bathroom. But guess what? What? The dorm room on the other side of our bathroom had an issue. It was like really smelly. Like maybe it smelled like maybe an animal died in the wall.\",\n",
       "  'id': 'EPISODE_101-288-294'},\n",
       " {'start_time': '00:29:27',\n",
       "  'end_time': '00:30:25',\n",
       "  'episode_title': 'BROKE',\n",
       "  'episode_number': 'EPISODE 101',\n",
       "  'text': \"Of the bathrooms? Because of the dorm room situation, like slightly. I loved my school. I went to Truman State in rural Missouri. It was amazing. I loved it there. But the dorms at the time, this was a little rare, you had like two bedrooms separated by a bathroom, so it would be four girls sharing one bathroom. But guess what? What? The dorm room on the other side of our bathroom had an issue. It was like really smelly. Like maybe it smelled like maybe an animal died in the wall. Ew, gross. It was so gross. So they didn't put anyone in there. So we were just two girls with one bathroom. So it was only two of us. You know, me and my roommate shared. And at first, my roommate and I were like, What if we open the window and air it out? We could just make that like a living room. We were all excited. OK we tried. We could not get rid of that smell. Did you report it?\",\n",
       "  'id': 'EPISODE_101-291-297'},\n",
       " {'start_time': '00:29:51',\n",
       "  'end_time': '00:30:45',\n",
       "  'episode_title': 'BROKE',\n",
       "  'episode_number': 'EPISODE 101',\n",
       "  'text': \"The dorm room on the other side of our bathroom had an issue. It was like really smelly. Like maybe it smelled like maybe an animal died in the wall. Ew, gross. It was so gross. So they didn't put anyone in there. So we were just two girls with one bathroom. So it was only two of us. You know, me and my roommate shared. And at first, my roommate and I were like, What if we open the window and air it out? We could just make that like a living room. We were all excited. OK we tried. We could not get rid of that smell. Did you report it? Yeah, and they could never get rid of the smell. It just stayed empty. Luckily, if you kept the bathroom door shut to that room, it didn't come our way. I don't know what happened in there, but as a result, we got a pretty private bathroom. That's amazing. Yeah.\",\n",
       "  'id': 'EPISODE_101-294-300'},\n",
       " {'start_time': '00:30:25',\n",
       "  'end_time': '00:30:57',\n",
       "  'episode_title': 'BROKE',\n",
       "  'episode_number': 'EPISODE 101',\n",
       "  'text': \"Did you report it? Yeah, and they could never get rid of the smell. It just stayed empty. Luckily, if you kept the bathroom door shut to that room, it didn't come our way. I don't know what happened in there, but as a result, we got a pretty private bathroom. That's amazing. Yeah. I went to Baylor University. I loved my dorm room, Collins, my Collins girls out there. But I shared one room. We had the shower down the hall and my roommate's name was also Angela. Oh! So everyone in college called me Kinsey. And I still, to this day, know anyone who knew me in college because all my messages like on voicemail, like my husband can always tell because they're like, Kinsey, what's up? No one knew my name was Angela. I think a lot of people just thought my name was Kinsey.\",\n",
       "  'id': 'EPISODE_101-297-303'},\n",
       " {'start_time': '00:30:45',\n",
       "  'end_time': '00:31:31',\n",
       "  'episode_title': 'BROKE',\n",
       "  'episode_number': 'EPISODE 101',\n",
       "  'text': \"Yeah. I went to Baylor University. I loved my dorm room, Collins, my Collins girls out there. But I shared one room. We had the shower down the hall and my roommate's name was also Angela. Oh! So everyone in college called me Kinsey. And I still, to this day, know anyone who knew me in college because all my messages like on voicemail, like my husband can always tell because they're like, Kinsey, what's up? No one knew my name was Angela. I think a lot of people just thought my name was Kinsey. My roommate. I loved her. Her name was T.J. And she came from such a small town in Iowa that you could just write her name and then the city and state and zip code. You did not have to write her house number or her street. That's my hometown, Jenna. And she would get mail. I found that so cool that I would write her letters on break and then we'd come back and I'd be like, Did you get it? She'd be like, Oh yeah. And I went home with her once to like, you know, visit. And it was amazing. Like, she was the coolest.\",\n",
       "  'id': 'EPISODE_101-300-306'},\n",
       " {'start_time': '00:30:57',\n",
       "  'end_time': '00:31:53',\n",
       "  'episode_title': 'BROKE',\n",
       "  'episode_number': 'EPISODE 101',\n",
       "  'text': \"So everyone in college called me Kinsey. And I still, to this day, know anyone who knew me in college because all my messages like on voicemail, like my husband can always tell because they're like, Kinsey, what's up? No one knew my name was Angela. I think a lot of people just thought my name was Kinsey. My roommate. I loved her. Her name was T.J. And she came from such a small town in Iowa that you could just write her name and then the city and state and zip code. You did not have to write her house number or her street. That's my hometown, Jenna. And she would get mail. I found that so cool that I would write her letters on break and then we'd come back and I'd be like, Did you get it? She'd be like, Oh yeah. And I went home with her once to like, you know, visit. And it was amazing. Like, she was the coolest. That was my hometown. I mean, we didn't have to dial a full phone number, just four digits and you could get anyone in town. Wow. I know.\",\n",
       "  'id': 'EPISODE_101-303-309'},\n",
       " {'start_time': '00:31:31',\n",
       "  'end_time': '00:32:00',\n",
       "  'episode_title': 'BROKE',\n",
       "  'episode_number': 'EPISODE 101',\n",
       "  'text': \"And she would get mail. I found that so cool that I would write her letters on break and then we'd come back and I'd be like, Did you get it? She'd be like, Oh yeah. And I went home with her once to like, you know, visit. And it was amazing. Like, she was the coolest. That was my hometown. I mean, we didn't have to dial a full phone number, just four digits and you could get anyone in town. Wow. I know. Crazy times. But I guess to wrap that up, I'll just say I had a loft. You had a loft. So Michael had a point. He did. I want to point out in this scene, at three minutes, 55 seconds, you can see the latest fish in the fish bowl. It's an all black goldfish. This is going to be the last fish of Michael Scott Paper Company.\",\n",
       "  'id': 'EPISODE_101-306-312'},\n",
       " {'start_time': '00:31:53',\n",
       "  'end_time': '00:32:21',\n",
       "  'episode_title': 'BROKE',\n",
       "  'episode_number': 'EPISODE 101',\n",
       "  'text': \"I know. Crazy times. But I guess to wrap that up, I'll just say I had a loft. You had a loft. So Michael had a point. He did. I want to point out in this scene, at three minutes, 55 seconds, you can see the latest fish in the fish bowl. It's an all black goldfish. This is going to be the last fish of Michael Scott Paper Company. Why didn't Michael bring the fish to his office? I don't know. That's a really good point, Angela. What happened to it? Yeah.\",\n",
       "  'id': 'EPISODE_101-309-315'},\n",
       " {'start_time': '00:32:00',\n",
       "  'end_time': '00:32:45',\n",
       "  'episode_title': 'BROKE',\n",
       "  'episode_number': 'EPISODE 101',\n",
       "  'text': \"He did. I want to point out in this scene, at three minutes, 55 seconds, you can see the latest fish in the fish bowl. It's an all black goldfish. This is going to be the last fish of Michael Scott Paper Company. Why didn't Michael bring the fish to his office? I don't know. That's a really good point, Angela. What happened to it? Yeah. Well, Randy told us in real life, this fish went to his assistant Jackie, and it lived on her desk for two years. He said the fish kept getting bigger and bigger, and they had to get bigger fish bowls to accommodate it. But she took very, very good care of it. Well, I have appreciated your documentation of the fish every week. I feel like it was your plant. Thank you. It was my plant at reception. It was. Well, it's over. That's your last fish breakdown.\",\n",
       "  'id': 'EPISODE_101-312-318'},\n",
       " {'start_time': '00:32:21',\n",
       "  'end_time': '00:33:09',\n",
       "  'episode_title': 'BROKE',\n",
       "  'episode_number': 'EPISODE 101',\n",
       "  'text': \"Yeah. Well, Randy told us in real life, this fish went to his assistant Jackie, and it lived on her desk for two years. He said the fish kept getting bigger and bigger, and they had to get bigger fish bowls to accommodate it. But she took very, very good care of it. Well, I have appreciated your documentation of the fish every week. I feel like it was your plant. Thank you. It was my plant at reception. It was. Well, it's over. That's your last fish breakdown. OK. Back upstairs in Dunder-Mifflin, special guests coming in, David Wallace, to check in on things because they keep losing clients. And Charles seems very enamored with David Wallace. Wants to impress him. Yeah, we had a fan catch in this, which delighted me. OK?\",\n",
       "  'id': 'EPISODE_101-315-321'},\n",
       " {'start_time': '00:32:45',\n",
       "  'end_time': '00:33:23',\n",
       "  'episode_title': 'BROKE',\n",
       "  'episode_number': 'EPISODE 101',\n",
       "  'text': \"Thank you. It was my plant at reception. It was. Well, it's over. That's your last fish breakdown. OK. Back upstairs in Dunder-Mifflin, special guests coming in, David Wallace, to check in on things because they keep losing clients. And Charles seems very enamored with David Wallace. Wants to impress him. Yeah, we had a fan catch in this, which delighted me. OK? Many people wrote in to say, Does Idris Elba break character at five minutes, 25 seconds when Kevin says hi to David Wallace? I totally saw that, too. And he does. He does!\",\n",
       "  'id': 'EPISODE_101-318-324'},\n",
       " {'start_time': '00:33:09',\n",
       "  'end_time': '00:33:34',\n",
       "  'episode_title': 'BROKE',\n",
       "  'episode_number': 'EPISODE 101',\n",
       "  'text': 'OK? Many people wrote in to say, Does Idris Elba break character at five minutes, 25 seconds when Kevin says hi to David Wallace? I totally saw that, too. And he does. He does! He does. Totally. I wondered if that was like an addition, because everyone, you know, David is trying to get things going, but people keep interrupting just to say Hi. Yeah.',\n",
       "  'id': 'EPISODE_101-321-327'},\n",
       " {'start_time': '00:33:23',\n",
       "  'end_time': '00:33:41',\n",
       "  'episode_title': 'BROKE',\n",
       "  'episode_number': 'EPISODE 101',\n",
       "  'text': 'He does! He does. Totally. I wondered if that was like an addition, because everyone, you know, David is trying to get things going, but people keep interrupting just to say Hi. Yeah. And Kevin has this late breaking hello. Very funny. Idris totally broke character. 100 percent. If you want to see just a glimmer of the charming man that Idris Elba is, you can see it at five minutes, 24 seconds because he gets a little smiley twinkle in his eye.',\n",
       "  'id': 'EPISODE_101-324-330'},\n",
       " {'start_time': '00:33:34',\n",
       "  'end_time': '00:34:21',\n",
       "  'episode_title': 'BROKE',\n",
       "  'episode_number': 'EPISODE 101',\n",
       "  'text': \"Yeah. And Kevin has this late breaking hello. Very funny. Idris totally broke character. 100 percent. If you want to see just a glimmer of the charming man that Idris Elba is, you can see it at five minutes, 24 seconds because he gets a little smiley twinkle in his eye. After Charles greets David Wallace, Jim just watches this whole thing play out. And then there is a cutaway to him in the break room, and he's just doing kissing noises. Right? Well, that was not in the script. That must have happened on the day. In the script it's a talking head, and this was Jim's scripted line. So, O-M-G. Turns out Charles Miner is a huge kiss ass. Mmm. But I kind of liked that it was just the kissing noise.\",\n",
       "  'id': 'EPISODE_101-327-333'},\n",
       " {'start_time': '00:33:41',\n",
       "  'end_time': '00:34:27',\n",
       "  'episode_title': 'BROKE',\n",
       "  'episode_number': 'EPISODE 101',\n",
       "  'text': \"If you want to see just a glimmer of the charming man that Idris Elba is, you can see it at five minutes, 24 seconds because he gets a little smiley twinkle in his eye. After Charles greets David Wallace, Jim just watches this whole thing play out. And then there is a cutaway to him in the break room, and he's just doing kissing noises. Right? Well, that was not in the script. That must have happened on the day. In the script it's a talking head, and this was Jim's scripted line. So, O-M-G. Turns out Charles Miner is a huge kiss ass. Mmm. But I kind of liked that it was just the kissing noise. I did too. Right? He just is like, we know what's happening here. Well, David is telling everyone that although Michael Scott Paper Company has stolen some clients, he believes it's just a temporary setback. But this brings on some real Phyllis sass.\",\n",
       "  'id': 'EPISODE_101-330-336'},\n",
       " {'start_time': '00:34:21',\n",
       "  'end_time': '00:34:47',\n",
       "  'episode_title': 'BROKE',\n",
       "  'episode_number': 'EPISODE 101',\n",
       "  'text': \"But I kind of liked that it was just the kissing noise. I did too. Right? He just is like, we know what's happening here. Well, David is telling everyone that although Michael Scott Paper Company has stolen some clients, he believes it's just a temporary setback. But this brings on some real Phyllis sass. Yeah. She's like, perhaps if you had returned Michael's phone calls, this would have never happened. What you need to know about Phyllis is that she's already pissed off because of the expense reports. So she is not mincing her words.\",\n",
       "  'id': 'EPISODE_101-333-339'},\n",
       " {'start_time': '00:34:27',\n",
       "  'end_time': '00:35:11',\n",
       "  'episode_title': 'BROKE',\n",
       "  'episode_number': 'EPISODE 101',\n",
       "  'text': \"Well, David is telling everyone that although Michael Scott Paper Company has stolen some clients, he believes it's just a temporary setback. But this brings on some real Phyllis sass. Yeah. She's like, perhaps if you had returned Michael's phone calls, this would have never happened. What you need to know about Phyllis is that she's already pissed off because of the expense reports. So she is not mincing her words. And then David is going to invite Jim to join him and Charles in the conference room. And Charles is like, Hold up. Dwight's been my guy. Jim, not living up to his potential. And David's like, I am surprised by that. Oh my gosh, it's so amazing.\",\n",
       "  'id': 'EPISODE_101-336-342'},\n",
       " {'start_time': '00:34:47',\n",
       "  'end_time': '00:35:19',\n",
       "  'episode_title': 'BROKE',\n",
       "  'episode_number': 'EPISODE 101',\n",
       "  'text': \"What you need to know about Phyllis is that she's already pissed off because of the expense reports. So she is not mincing her words. And then David is going to invite Jim to join him and Charles in the conference room. And Charles is like, Hold up. Dwight's been my guy. Jim, not living up to his potential. And David's like, I am surprised by that. Oh my gosh, it's so amazing. So good. And it plays out so well because David says, let's invite them both. Mm hmm.\",\n",
       "  'id': 'EPISODE_101-339-345'},\n",
       " {'start_time': '00:35:11',\n",
       "  'end_time': '00:35:28',\n",
       "  'episode_title': 'BROKE',\n",
       "  'episode_number': 'EPISODE 101',\n",
       "  'text': \"Oh my gosh, it's so amazing. So good. And it plays out so well because David says, let's invite them both. Mm hmm. Mm hmm. I think we should take a break because when we come back, I mean, there's some serious accounting issues over at Michael Scott Paper Company. Oh my gosh, it made me laugh out loud. All right, we will take a break.\",\n",
       "  'id': 'EPISODE_101-342-348'},\n",
       " {'start_time': '00:35:19',\n",
       "  'end_time': '00:35:56',\n",
       "  'episode_title': 'BROKE',\n",
       "  'episode_number': 'EPISODE 101',\n",
       "  'text': \"Mm hmm. Mm hmm. I think we should take a break because when we come back, I mean, there's some serious accounting issues over at Michael Scott Paper Company. Oh my gosh, it made me laugh out loud. All right, we will take a break. We'll be back. Well, we are back and the Michael Scott Paper Company has decided to go speak to an accountant to see if they can hire a delivery guy. But they can't. Not only can they not afford a delivery guy, they are bleeding money. Their prices are putting them out of business. It's not looking good for Michael Scott Paper Company. It's not. It's also not looking great for Ryan because he had calculated all this.\",\n",
       "  'id': 'EPISODE_101-345-351'},\n",
       " {'start_time': '00:35:28',\n",
       "  'end_time': '00:36:11',\n",
       "  'episode_title': 'BROKE',\n",
       "  'episode_number': 'EPISODE 101',\n",
       "  'text': \"Oh my gosh, it made me laugh out loud. All right, we will take a break. We'll be back. Well, we are back and the Michael Scott Paper Company has decided to go speak to an accountant to see if they can hire a delivery guy. But they can't. Not only can they not afford a delivery guy, they are bleeding money. Their prices are putting them out of business. It's not looking good for Michael Scott Paper Company. It's not. It's also not looking great for Ryan because he had calculated all this. Yes, but he used a fixed cost formula. And he should have used a variable cost formula. He seems a little confused by those terms. Yeah. I looked it up. I wrote up a whole thing about it, and I still don't understand it.  So.\",\n",
       "  'id': 'EPISODE_101-348-354'},\n",
       " {'start_time': '00:35:56',\n",
       "  'end_time': '00:36:23',\n",
       "  'episode_title': 'BROKE',\n",
       "  'episode_number': 'EPISODE 101',\n",
       "  'text': \"It's not. It's also not looking great for Ryan because he had calculated all this. Yes, but he used a fixed cost formula. And he should have used a variable cost formula. He seems a little confused by those terms. Yeah. I looked it up. I wrote up a whole thing about it, and I still don't understand it.  So. Oh my gosh. I mean, I think if I think really, really hard, I can get there. OK? Are we going to have to think hard right now?\",\n",
       "  'id': 'EPISODE_101-351-357'},\n",
       " {'start_time': '00:36:11',\n",
       "  'end_time': '00:36:30',\n",
       "  'episode_title': 'BROKE',\n",
       "  'episode_number': 'EPISODE 101',\n",
       "  'text': \"I looked it up. I wrote up a whole thing about it, and I still don't understand it.  So. Oh my gosh. I mean, I think if I think really, really hard, I can get there. OK? Are we going to have to think hard right now? I don't know. I mean, I can just skip it. Do we want to think hard or no? Well, let's give it a try. All right.\",\n",
       "  'id': 'EPISODE_101-354-360'},\n",
       " {'start_time': '00:36:23',\n",
       "  'end_time': '00:36:39',\n",
       "  'episode_title': 'BROKE',\n",
       "  'episode_number': 'EPISODE 101',\n",
       "  'text': \"OK? Are we going to have to think hard right now? I don't know. I mean, I can just skip it. Do we want to think hard or no? Well, let's give it a try. All right. All right, everybody. Ready? Variable and fixed costs are the two main types of costs that a company incurs. OK.\",\n",
       "  'id': 'EPISODE_101-357-363'},\n",
       " {'start_time': '00:36:30',\n",
       "  'end_time': '00:37:19',\n",
       "  'episode_title': 'BROKE',\n",
       "  'episode_number': 'EPISODE 101',\n",
       "  'text': \"All right. All right, everybody. Ready? Variable and fixed costs are the two main types of costs that a company incurs. OK. Variable costs are volume related. They vary with the amount of products you're making. While fixed costs are time related, they stay consistent. It doesn't matter how much stuff you make. Just to keep the lights on, these are fixed costs. So, for example, your rent on your office space. That isn't going to change month to month. If you make five widgets or 500 widgets, your rent is the same. Right. But what if you have an employee that gets injured and now you have to file workman's comp and you're paying all this extra stuff? Well, that would go under your variable costs.\",\n",
       "  'id': 'EPISODE_101-360-366'},\n",
       " {'start_time': '00:36:39',\n",
       "  'end_time': '00:37:34',\n",
       "  'episode_title': 'BROKE',\n",
       "  'episode_number': 'EPISODE 101',\n",
       "  'text': \"OK. Variable costs are volume related. They vary with the amount of products you're making. While fixed costs are time related, they stay consistent. It doesn't matter how much stuff you make. Just to keep the lights on, these are fixed costs. So, for example, your rent on your office space. That isn't going to change month to month. If you make five widgets or 500 widgets, your rent is the same. Right. But what if you have an employee that gets injured and now you have to file workman's comp and you're paying all this extra stuff? Well, that would go under your variable costs. I'm with you. Oh my gosh, our brains are working! We're doing it. So the more fixed costs you have, the more revenue your company needs in order to break even. So. So that makes sense. The more overhead you have, the more you have to make. I mean, Ryan went to business school. He was the vice president of the Northeast region or whatever.\",\n",
       "  'id': 'EPISODE_101-363-369'},\n",
       " {'start_time': '00:37:19',\n",
       "  'end_time': '00:38:03',\n",
       "  'episode_title': 'BROKE',\n",
       "  'episode_number': 'EPISODE 101',\n",
       "  'text': \"Well, that would go under your variable costs. I'm with you. Oh my gosh, our brains are working! We're doing it. So the more fixed costs you have, the more revenue your company needs in order to break even. So. So that makes sense. The more overhead you have, the more you have to make. I mean, Ryan went to business school. He was the vice president of the Northeast region or whatever. I know. Now if you produce 500 widgets, that's going to really offset your fixed cost. Right? But if you produce your 500 widgets for not enough money, you're never going to cover your fixed costs. Got it. And then your variable costs are going to put you out of business as well.\",\n",
       "  'id': 'EPISODE_101-366-372'},\n",
       " {'start_time': '00:37:34',\n",
       "  'end_time': '00:38:16',\n",
       "  'episode_title': 'BROKE',\n",
       "  'episode_number': 'EPISODE 101',\n",
       "  'text': \"So that makes sense. The more overhead you have, the more you have to make. I mean, Ryan went to business school. He was the vice president of the Northeast region or whatever. I know. Now if you produce 500 widgets, that's going to really offset your fixed cost. Right? But if you produce your 500 widgets for not enough money, you're never going to cover your fixed costs. Got it. And then your variable costs are going to put you out of business as well. I don't know. I think we got it. Kind of. The point is, they cannot afford a delivery driver. The point is, Ryan's accounting was horrible and they are going out of business because their prices are too low.\",\n",
       "  'id': 'EPISODE_101-369-375'},\n",
       " {'start_time': '00:38:03',\n",
       "  'end_time': '00:38:50',\n",
       "  'episode_title': 'BROKE',\n",
       "  'episode_number': 'EPISODE 101',\n",
       "  'text': \"And then your variable costs are going to put you out of business as well. I don't know. I think we got it. Kind of. The point is, they cannot afford a delivery driver. The point is, Ryan's accounting was horrible and they are going out of business because their prices are too low. Yes. And all of this information was delivered by a delightful guest star playing the accountant Ty Platt. And that person is Kurt Scholler. He is a seasoned improvizational performer. He's done a ton of television. Angela, I believe you knew him from your improv days. I did. Kurt and I were both at IO West. He is so smart and quick and funny. Really talented guy. Again, we were so lucky to get such great guest stars on our show. Well, you know, on his computer, when Michael is, like, crunch those numbers again?\",\n",
       "  'id': 'EPISODE_101-372-378'},\n",
       " {'start_time': '00:38:16',\n",
       "  'end_time': '00:38:56',\n",
       "  'episode_title': 'BROKE',\n",
       "  'episode_number': 'EPISODE 101',\n",
       "  'text': \"The point is, Ryan's accounting was horrible and they are going out of business because their prices are too low. Yes. And all of this information was delivered by a delightful guest star playing the accountant Ty Platt. And that person is Kurt Scholler. He is a seasoned improvizational performer. He's done a ton of television. Angela, I believe you knew him from your improv days. I did. Kurt and I were both at IO West. He is so smart and quick and funny. Really talented guy. Again, we were so lucky to get such great guest stars on our show. Well, you know, on his computer, when Michael is, like, crunch those numbers again? Yeah. And he hits a number. Just one button.\",\n",
       "  'id': 'EPISODE_101-375-381'},\n",
       " {'start_time': '00:38:50',\n",
       "  'end_time': '00:39:26',\n",
       "  'episode_title': 'BROKE',\n",
       "  'episode_number': 'EPISODE 101',\n",
       "  'text': \"Well, you know, on his computer, when Michael is, like, crunch those numbers again? Yeah. And he hits a number. Just one button. And nothing changes. Well, nothing could ever change because that was a fakey spreadsheet. On the computer. It was made by our graphics designer, Michael Marcus. You know, I said earlier that Michael also made the decals for the side of the van. And it just got me thinking, if you are a graphics designer, you can work for a TV show. TV shows have a graphics designer on their team. Yeah. That's so cool.\",\n",
       "  'id': 'EPISODE_101-378-384'},\n",
       " {'start_time': '00:38:56',\n",
       "  'end_time': '00:39:34',\n",
       "  'episode_title': 'BROKE',\n",
       "  'episode_number': 'EPISODE 101',\n",
       "  'text': \"Just one button. And nothing changes. Well, nothing could ever change because that was a fakey spreadsheet. On the computer. It was made by our graphics designer, Michael Marcus. You know, I said earlier that Michael also made the decals for the side of the van. And it just got me thinking, if you are a graphics designer, you can work for a TV show. TV shows have a graphics designer on their team. Yeah. That's so cool. I know. He would make logos and all kinds of things for us when we needed fakey signs and props and things. We needed things like that almost weekly.\",\n",
       "  'id': 'EPISODE_101-381-387'},\n",
       " {'start_time': '00:39:26',\n",
       "  'end_time': '00:40:24',\n",
       "  'episode_title': 'BROKE',\n",
       "  'episode_number': 'EPISODE 101',\n",
       "  'text': \"That's so cool. I know. He would make logos and all kinds of things for us when we needed fakey signs and props and things. We needed things like that almost weekly. Yes. So he would work with Phil Shea to design these things. And with Michael Gallenberg, our production designer. I have to share with you guys, after this scene, Ryan was going to have a complete meltdown. It's in the deleted scenes. It is so crazy. But it's like Ryan is faced with the fact that A) this new business that he was I guess optimistic about is going out of business, but also the fact that he crunched the numbers and he was wrong and he is actually not very good at being a businessman. And he loses it, Jenna. It's in the deleted scenes on the DVD. He throws those cheese balls, he opens it up and he just starts throwing them everywhere. I am talking everywhere. He dumps the entire container and is yelling, and Michael's just watching it all happen. Is Pam there?\",\n",
       "  'id': 'EPISODE_101-384-390'},\n",
       " {'start_time': '00:39:34',\n",
       "  'end_time': '00:40:29',\n",
       "  'episode_title': 'BROKE',\n",
       "  'episode_number': 'EPISODE 101',\n",
       "  'text': \"We needed things like that almost weekly. Yes. So he would work with Phil Shea to design these things. And with Michael Gallenberg, our production designer. I have to share with you guys, after this scene, Ryan was going to have a complete meltdown. It's in the deleted scenes. It is so crazy. But it's like Ryan is faced with the fact that A) this new business that he was I guess optimistic about is going out of business, but also the fact that he crunched the numbers and he was wrong and he is actually not very good at being a businessman. And he loses it, Jenna. It's in the deleted scenes on the DVD. He throws those cheese balls, he opens it up and he just starts throwing them everywhere. I am talking everywhere. He dumps the entire container and is yelling, and Michael's just watching it all happen. Is Pam there? Pam leaves. When he starts throwing things, she leaves. I don't remember this. Yeah, isn't that crazy?\",\n",
       "  'id': 'EPISODE_101-387-393'},\n",
       " {'start_time': '00:40:24',\n",
       "  'end_time': '00:40:47',\n",
       "  'episode_title': 'BROKE',\n",
       "  'episode_number': 'EPISODE 101',\n",
       "  'text': \"Is Pam there? Pam leaves. When he starts throwing things, she leaves. I don't remember this. Yeah, isn't that crazy? Yes. I totally get why this one didn't make it in because it was kind of over the top. Like Ryan trashes their office. Well, what actually made it in the episode is that they just returned, they're very just down in the dumps, and Michael starts calling clients and saying, You know what, actually, we need you to give us more money. Could you imagine?\",\n",
       "  'id': 'EPISODE_101-390-396'},\n",
       " {'start_time': '00:40:29',\n",
       "  'end_time': '00:40:58',\n",
       "  'episode_title': 'BROKE',\n",
       "  'episode_number': 'EPISODE 101',\n",
       "  'text': \"Yeah, isn't that crazy? Yes. I totally get why this one didn't make it in because it was kind of over the top. Like Ryan trashes their office. Well, what actually made it in the episode is that they just returned, they're very just down in the dumps, and Michael starts calling clients and saying, You know what, actually, we need you to give us more money. Could you imagine? No. Could you imagine if you bought something from a company and then they called you later in the day and said, Will you pay me more for that because I'm actually going out of business? Yeah.\",\n",
       "  'id': 'EPISODE_101-393-399'},\n",
       " {'start_time': '00:40:47',\n",
       "  'end_time': '00:41:03',\n",
       "  'episode_title': 'BROKE',\n",
       "  'episode_number': 'EPISODE 101',\n",
       "  'text': \"Could you imagine? No. Could you imagine if you bought something from a company and then they called you later in the day and said, Will you pay me more for that because I'm actually going out of business? Yeah. That is such a weird phone call. I know. And Pam has that great talking head. She does, she says, When a child gets behind the wheel of a car and crashes into a tree, you don't blame the kid. You blame the 30 year old woman in the passenger seat who trusted the kid and said, Go ahead, drive, kid. Or something like that, I'm paraphrasing.\",\n",
       "  'id': 'EPISODE_101-396-402'},\n",
       " {'start_time': '00:40:58',\n",
       "  'end_time': '00:41:29',\n",
       "  'episode_title': 'BROKE',\n",
       "  'episode_number': 'EPISODE 101',\n",
       "  'text': \"Yeah. That is such a weird phone call. I know. And Pam has that great talking head. She does, she says, When a child gets behind the wheel of a car and crashes into a tree, you don't blame the kid. You blame the 30 year old woman in the passenger seat who trusted the kid and said, Go ahead, drive, kid. Or something like that, I'm paraphrasing. Yeah, she like, you got this. You got this, kid. Yeah. Lady, should we go back up to the conference room for a scene that I couldn't get enough of? I enjoyed this scene so much. You guys know that Jenna and I watch these episodes two to four times before we record. This was a highlight every single time. One of my absolute favorite moments in the entire episode is when Dwight suggests, you know, getting all of his bees and putting the bees in the office. Watch Idris as Charles turn and just look at Dwight as he's giving his bee speech. Everything going across Idris' face of like, holy crap.\",\n",
       "  'id': 'EPISODE_101-399-405'},\n",
       " {'start_time': '00:41:03',\n",
       "  'end_time': '00:42:05',\n",
       "  'episode_title': 'BROKE',\n",
       "  'episode_number': 'EPISODE 101',\n",
       "  'text': \"She does, she says, When a child gets behind the wheel of a car and crashes into a tree, you don't blame the kid. You blame the 30 year old woman in the passenger seat who trusted the kid and said, Go ahead, drive, kid. Or something like that, I'm paraphrasing. Yeah, she like, you got this. You got this, kid. Yeah. Lady, should we go back up to the conference room for a scene that I couldn't get enough of? I enjoyed this scene so much. You guys know that Jenna and I watch these episodes two to four times before we record. This was a highlight every single time. One of my absolute favorite moments in the entire episode is when Dwight suggests, you know, getting all of his bees and putting the bees in the office. Watch Idris as Charles turn and just look at Dwight as he's giving his bee speech. Everything going across Idris' face of like, holy crap. Yes. Who have I attached myself to in front of David Wallace? I also love the attention to detail in this scene visually. I don't know if you noticed, but Jim and David Wallace are both wearing blue shirts with kind of blue ties. And on the other side of the table, Dwight and Charles both have on kind of like a white or a light yellow canary yellow. Brilliant. So cool. It's almost like teams. They have on their team colors.\",\n",
       "  'id': 'EPISODE_101-402-408'},\n",
       " {'start_time': '00:41:29',\n",
       "  'end_time': '00:42:42',\n",
       "  'episode_title': 'BROKE',\n",
       "  'episode_number': 'EPISODE 101',\n",
       "  'text': \"I enjoyed this scene so much. You guys know that Jenna and I watch these episodes two to four times before we record. This was a highlight every single time. One of my absolute favorite moments in the entire episode is when Dwight suggests, you know, getting all of his bees and putting the bees in the office. Watch Idris as Charles turn and just look at Dwight as he's giving his bee speech. Everything going across Idris' face of like, holy crap. Yes. Who have I attached myself to in front of David Wallace? I also love the attention to detail in this scene visually. I don't know if you noticed, but Jim and David Wallace are both wearing blue shirts with kind of blue ties. And on the other side of the table, Dwight and Charles both have on kind of like a white or a light yellow canary yellow. Brilliant. So cool. It's almost like teams. They have on their team colors. Yes. Also, I noticed in this scene at eight minutes, 56 seconds, a Fiji water bottle. I saw that too, and I thought-.\",\n",
       "  'id': 'EPISODE_101-405-411'},\n",
       " {'start_time': '00:42:05',\n",
       "  'end_time': '00:42:48',\n",
       "  'episode_title': 'BROKE',\n",
       "  'episode_number': 'EPISODE 101',\n",
       "  'text': \"I also love the attention to detail in this scene visually. I don't know if you noticed, but Jim and David Wallace are both wearing blue shirts with kind of blue ties. And on the other side of the table, Dwight and Charles both have on kind of like a white or a light yellow canary yellow. Brilliant. So cool. It's almost like teams. They have on their team colors. Yes. Also, I noticed in this scene at eight minutes, 56 seconds, a Fiji water bottle. I saw that too, and I thought-. Once again with the label turned away from camera. I was like-. What is this?\",\n",
       "  'id': 'EPISODE_101-408-414'},\n",
       " {'start_time': '00:42:42',\n",
       "  'end_time': '00:42:56',\n",
       "  'episode_title': 'BROKE',\n",
       "  'episode_number': 'EPISODE 101',\n",
       "  'text': \"I saw that too, and I thought-. Once again with the label turned away from camera. I was like-. What is this? What is that? Because it showed up back in Wallace's office, he had a water bottle. Remember my son did the whole water bottle breakdown? Yeah, yeah. Fancy water bottle for David Wallace.\",\n",
       "  'id': 'EPISODE_101-411-417'},\n",
       " {'start_time': '00:42:48',\n",
       "  'end_time': '00:43:06',\n",
       "  'episode_title': 'BROKE',\n",
       "  'episode_number': 'EPISODE 101',\n",
       "  'text': \"What is this? What is that? Because it showed up back in Wallace's office, he had a water bottle. Remember my son did the whole water bottle breakdown? Yeah, yeah. Fancy water bottle for David Wallace. I'm gonna ask Randy about it. What? Why the Fiji water showing up in scenes all the time? Were they giving us money? No, the label is not facing camera.\",\n",
       "  'id': 'EPISODE_101-414-420'},\n",
       " {'start_time': '00:42:56',\n",
       "  'end_time': '00:43:13',\n",
       "  'episode_title': 'BROKE',\n",
       "  'episode_number': 'EPISODE 101',\n",
       "  'text': \"Yeah, yeah. Fancy water bottle for David Wallace. I'm gonna ask Randy about it. What? Why the Fiji water showing up in scenes all the time? Were they giving us money? No, the label is not facing camera. I know, but everybody knows it's Fiji because they're the square bottle. I'm going to get to the bottom of it. Get to the bottom of it. We haven't seen a lot of Jim and Pam together in this episode.\",\n",
       "  'id': 'EPISODE_101-417-423'},\n",
       " {'start_time': '00:43:06',\n",
       "  'end_time': '00:43:21',\n",
       "  'episode_title': 'BROKE',\n",
       "  'episode_number': 'EPISODE 101',\n",
       "  'text': \"No, the label is not facing camera. I know, but everybody knows it's Fiji because they're the square bottle. I'm going to get to the bottom of it. Get to the bottom of it. We haven't seen a lot of Jim and Pam together in this episode. Or in any of these episodes. I know. Yeah.\",\n",
       "  'id': 'EPISODE_101-420-426'},\n",
       " {'start_time': '00:43:13',\n",
       "  'end_time': '00:43:25',\n",
       "  'episode_title': 'BROKE',\n",
       "  'episode_number': 'EPISODE 101',\n",
       "  'text': \"Get to the bottom of it. We haven't seen a lot of Jim and Pam together in this episode. Or in any of these episodes. I know. Yeah. Well, they're working at rival paper companies. I guess so. They do have this great scene in the hallway where Pam tells Jim that they have about a month before they're going to go out of business. And he tells her not to worry, but then his phone starts ringing.\",\n",
       "  'id': 'EPISODE_101-423-429'},\n",
       " {'start_time': '00:43:21',\n",
       "  'end_time': '00:43:41',\n",
       "  'episode_title': 'BROKE',\n",
       "  'episode_number': 'EPISODE 101',\n",
       "  'text': \"Yeah. Well, they're working at rival paper companies. I guess so. They do have this great scene in the hallway where Pam tells Jim that they have about a month before they're going to go out of business. And he tells her not to worry, but then his phone starts ringing. Yes, I have an audio clip of it. Idiot, idiot, idiot. That's Jim's ringtone.\",\n",
       "  'id': 'EPISODE_101-426-432'},\n",
       " {'start_time': '00:43:25',\n",
       "  'end_time': '00:44:27',\n",
       "  'episode_title': 'BROKE',\n",
       "  'episode_number': 'EPISODE 101',\n",
       "  'text': \"They do have this great scene in the hallway where Pam tells Jim that they have about a month before they're going to go out of business. And he tells her not to worry, but then his phone starts ringing. Yes, I have an audio clip of it. Idiot, idiot, idiot. That's Jim's ringtone. Yes. Now, to create the ringtone, they recorded Rainn saying idiot, and then our post-production supervisor, Jake Goss, put it on a loop and then our sound engineer actually put a speaker on the set next to us. It was not actually coming from the phone. In post-production, they put a filter on the sound to make it sound like it was coming from the phone, but that was like a whole fakey ringtone thing we had to set up. So nowadays, obviously, you can get customized ringtones for your phones and you can actually get this ringtone over on officetally.com. No way. Yeah.\",\n",
       "  'id': 'EPISODE_101-429-435'},\n",
       " {'start_time': '00:43:41',\n",
       "  'end_time': '00:45:05',\n",
       "  'episode_title': 'BROKE',\n",
       "  'episode_number': 'EPISODE 101',\n",
       "  'text': \"That's Jim's ringtone. Yes. Now, to create the ringtone, they recorded Rainn saying idiot, and then our post-production supervisor, Jake Goss, put it on a loop and then our sound engineer actually put a speaker on the set next to us. It was not actually coming from the phone. In post-production, they put a filter on the sound to make it sound like it was coming from the phone, but that was like a whole fakey ringtone thing we had to set up. So nowadays, obviously, you can get customized ringtones for your phones and you can actually get this ringtone over on officetally.com. No way. Yeah. I love that. Well, when I watched this moment, I started laughing so hard because I remembered years later into the show Kenneth Paul, who did my makeup, who also did Rainn Wilson's makeup, had Rainn do like a voice memo, and he made that his ringtone. So Kenneth Paul's ringtone was Rainn Wilson doing this: (MAKES PHONE RING NOISE). It was so annoying, and whenever KP's phone would ring, I'd be like, Oh my god, Kenneth Paul! Have you ever had a personalized ringtone? I haven't.\",\n",
       "  'id': 'EPISODE_101-432-438'},\n",
       " {'start_time': '00:44:27',\n",
       "  'end_time': '00:45:08',\n",
       "  'episode_title': 'BROKE',\n",
       "  'episode_number': 'EPISODE 101',\n",
       "  'text': \"Yeah. I love that. Well, when I watched this moment, I started laughing so hard because I remembered years later into the show Kenneth Paul, who did my makeup, who also did Rainn Wilson's makeup, had Rainn do like a voice memo, and he made that his ringtone. So Kenneth Paul's ringtone was Rainn Wilson doing this: (MAKES PHONE RING NOISE). It was so annoying, and whenever KP's phone would ring, I'd be like, Oh my god, Kenneth Paul! Have you ever had a personalized ringtone? I haven't. Me either. Maybe we should. Should we make it the Office Ladies theme as our ringtone? Or is that too narcissistic?\",\n",
       "  'id': 'EPISODE_101-435-441'},\n",
       " {'start_time': '00:45:05',\n",
       "  'end_time': '00:45:23',\n",
       "  'episode_title': 'BROKE',\n",
       "  'episode_number': 'EPISODE 101',\n",
       "  'text': \"I haven't. Me either. Maybe we should. Should we make it the Office Ladies theme as our ringtone? Or is that too narcissistic? Maybe. I was going to just have Keanu Reeves maybe be my ringtone. Like, You know what? What if-. I'm fainting with excitement over this idea. What if my ringtone is just, surf's up, brah? Or or my ringtone could be, I know kung fu.\",\n",
       "  'id': 'EPISODE_101-438-444'},\n",
       " {'start_time': '00:45:08',\n",
       "  'end_time': '00:45:42',\n",
       "  'episode_title': 'BROKE',\n",
       "  'episode_number': 'EPISODE 101',\n",
       "  'text': \"Should we make it the Office Ladies theme as our ringtone? Or is that too narcissistic? Maybe. I was going to just have Keanu Reeves maybe be my ringtone. Like, You know what? What if-. I'm fainting with excitement over this idea. What if my ringtone is just, surf's up, brah? Or or my ringtone could be, I know kung fu. All I know for certain is that when we're finished recording today I will be looking up Keanu ringtones. This I know for sure. Yes! OK, where are we? We are back down in Michael Scott Paper Company, and Michael is on the floor.\",\n",
       "  'id': 'EPISODE_101-441-447'},\n",
       " {'start_time': '00:45:23',\n",
       "  'end_time': '00:46:01',\n",
       "  'episode_title': 'BROKE',\n",
       "  'episode_number': 'EPISODE 101',\n",
       "  'text': \"What if my ringtone is just, surf's up, brah? Or or my ringtone could be, I know kung fu. All I know for certain is that when we're finished recording today I will be looking up Keanu ringtones. This I know for sure. Yes! OK, where are we? We are back down in Michael Scott Paper Company, and Michael is on the floor. They are so mopey. They're so mopey. Michael says he always thought that the day Steve Martin died would be the worst day of his life, but he was wrong because it's this. Pam's like, you know, Steve Martin's not dead.\",\n",
       "  'id': 'EPISODE_101-444-450'},\n",
       " {'start_time': '00:45:42',\n",
       "  'end_time': '00:46:07',\n",
       "  'episode_title': 'BROKE',\n",
       "  'episode_number': 'EPISODE 101',\n",
       "  'text': \"We are back down in Michael Scott Paper Company, and Michael is on the floor. They are so mopey. They're so mopey. Michael says he always thought that the day Steve Martin died would be the worst day of his life, but he was wrong because it's this. Pam's like, you know, Steve Martin's not dead. And he's like, I know. I have to say something. Yeah? Have you watched Steve Martin's new show on Hulu, Only Murders in the Building?\",\n",
       "  'id': 'EPISODE_101-447-453'},\n",
       " {'start_time': '00:46:01',\n",
       "  'end_time': '00:46:43',\n",
       "  'episode_title': 'BROKE',\n",
       "  'episode_number': 'EPISODE 101',\n",
       "  'text': \"Pam's like, you know, Steve Martin's not dead. And he's like, I know. I have to say something. Yeah? Have you watched Steve Martin's new show on Hulu, Only Murders in the Building? I haven't, and so many people are telling me to watch it. I know you love it. OK. Absolutely loved it. Amy Ryan is on it. She even talked about it on our podcast. She's so good. You know, the premise of the show is that this guy in their building named Tim Cono, has been murdered, and these three residents come together to try to solve the crime while doing a podcast about it. In episode two of Only Murders in the building, this show that Steve Martin is in that he created, I want you to hear what they say. OK?\",\n",
       "  'id': 'EPISODE_101-450-456'},\n",
       " {'start_time': '00:46:07',\n",
       "  'end_time': '00:46:59',\n",
       "  'episode_title': 'BROKE',\n",
       "  'episode_number': 'EPISODE 101',\n",
       "  'text': \"Have you watched Steve Martin's new show on Hulu, Only Murders in the Building? I haven't, and so many people are telling me to watch it. I know you love it. OK. Absolutely loved it. Amy Ryan is on it. She even talked about it on our podcast. She's so good. You know, the premise of the show is that this guy in their building named Tim Cono, has been murdered, and these three residents come together to try to solve the crime while doing a podcast about it. In episode two of Only Murders in the building, this show that Steve Martin is in that he created, I want you to hear what they say. OK? What if Tim was a dick? It's a definite angle. I mean, I wouldn't want him to be dickier than Steve Carell in The Office. I'd still care if Steve Carell in The Office got murdered. Or would I? Thinking, thinking, visualizing this. We need to find someone who knew him.\",\n",
       "  'id': 'EPISODE_101-453-459'},\n",
       " {'start_time': '00:46:43',\n",
       "  'end_time': '00:47:04',\n",
       "  'episode_title': 'BROKE',\n",
       "  'episode_number': 'EPISODE 101',\n",
       "  'text': \"OK? What if Tim was a dick? It's a definite angle. I mean, I wouldn't want him to be dickier than Steve Carell in The Office. I'd still care if Steve Carell in The Office got murdered. Or would I? Thinking, thinking, visualizing this. We need to find someone who knew him. How about that for full circle? Yeah. Pretty amazing.\",\n",
       "  'id': 'EPISODE_101-456-462'},\n",
       " {'start_time': '00:46:59',\n",
       "  'end_time': '00:47:11',\n",
       "  'episode_title': 'BROKE',\n",
       "  'episode_number': 'EPISODE 101',\n",
       "  'text': \"We need to find someone who knew him. How about that for full circle? Yeah. Pretty amazing. So Steve Carell references Steve Martin and then on Steve Martin's show, they reference Steve Carell. Yes. Oh my gah. I think there's we need to discuss there some big revelations that happen in this scene.\",\n",
       "  'id': 'EPISODE_101-459-465'},\n",
       " {'start_time': '00:47:04',\n",
       "  'end_time': '00:47:30',\n",
       "  'episode_title': 'BROKE',\n",
       "  'episode_number': 'EPISODE 101',\n",
       "  'text': \"Pretty amazing. So Steve Carell references Steve Martin and then on Steve Martin's show, they reference Steve Carell. Yes. Oh my gah. I think there's we need to discuss there some big revelations that happen in this scene. I was going to say. Pam says that she's applied for a job at Target, Old Navy and Wal-Mart, and none of them even called her in for an interview. Ryan confesses that he didn't even go to Thailand. No, just Fort Lauderdale.\",\n",
       "  'id': 'EPISODE_101-462-468'},\n",
       " {'start_time': '00:47:11',\n",
       "  'end_time': '00:47:50',\n",
       "  'episode_title': 'BROKE',\n",
       "  'episode_number': 'EPISODE 101',\n",
       "  'text': \"Oh my gah. I think there's we need to discuss there some big revelations that happen in this scene. I was going to say. Pam says that she's applied for a job at Target, Old Navy and Wal-Mart, and none of them even called her in for an interview. Ryan confesses that he didn't even go to Thailand. No, just Fort Lauderdale. That is so perfect. I thought that was so brilliant. Of course Ryan lied about going to Thailand, of course. And this is when Michael pretends that he loves Pad Thai because Ryan said there was a great Pad Thai place in Fort Lauderdale. But then Ryan's like, you've never had Pad Thai. Michael's like, I haven't done a lot of things.\",\n",
       "  'id': 'EPISODE_101-465-471'},\n",
       " {'start_time': '00:47:30',\n",
       "  'end_time': '00:47:58',\n",
       "  'episode_title': 'BROKE',\n",
       "  'episode_number': 'EPISODE 101',\n",
       "  'text': \"No, just Fort Lauderdale. That is so perfect. I thought that was so brilliant. Of course Ryan lied about going to Thailand, of course. And this is when Michael pretends that he loves Pad Thai because Ryan said there was a great Pad Thai place in Fort Lauderdale. But then Ryan's like, you've never had Pad Thai. Michael's like, I haven't done a lot of things. This was a fan catch by Ella W and Abby W. The W's. What did you catch? What did you catch? They said in Diversity Day, Michael wishes aloud that he had some Pad Thai because he loves Pad Thai.\",\n",
       "  'id': 'EPISODE_101-468-474'},\n",
       " {'start_time': '00:47:50',\n",
       "  'end_time': '00:48:16',\n",
       "  'episode_title': 'BROKE',\n",
       "  'episode_number': 'EPISODE 101',\n",
       "  'text': \"Michael's like, I haven't done a lot of things. This was a fan catch by Ella W and Abby W. The W's. What did you catch? What did you catch? They said in Diversity Day, Michael wishes aloud that he had some Pad Thai because he loves Pad Thai. Oh my gosh. Great catch. So they wondered, has Michael been telling people that he loves Pad Thai for years and he's still never tried it? It's possible. That's also- it's also believable that he thinks that maybe it makes him seem well-traveled or something. Right? Jenna. After this scene, the expense report deleted runner would have continued. Andy is determined to get an extension on his expense reports and goes to talk to Angela.\",\n",
       "  'id': 'EPISODE_101-471-477'},\n",
       " {'start_time': '00:47:58',\n",
       "  'end_time': '00:48:40',\n",
       "  'episode_title': 'BROKE',\n",
       "  'episode_number': 'EPISODE 101',\n",
       "  'text': \"They said in Diversity Day, Michael wishes aloud that he had some Pad Thai because he loves Pad Thai. Oh my gosh. Great catch. So they wondered, has Michael been telling people that he loves Pad Thai for years and he's still never tried it? It's possible. That's also- it's also believable that he thinks that maybe it makes him seem well-traveled or something. Right? Jenna. After this scene, the expense report deleted runner would have continued. Andy is determined to get an extension on his expense reports and goes to talk to Angela. These expenses are legitimate. Which I denied. Right. Would you please respectfully reconsider these?\",\n",
       "  'id': 'EPISODE_101-474-480'},\n",
       " {'start_time': '00:48:16',\n",
       "  'end_time': '00:48:52',\n",
       "  'episode_title': 'BROKE',\n",
       "  'episode_number': 'EPISODE 101',\n",
       "  'text': \"That's also- it's also believable that he thinks that maybe it makes him seem well-traveled or something. Right? Jenna. After this scene, the expense report deleted runner would have continued. Andy is determined to get an extension on his expense reports and goes to talk to Angela. These expenses are legitimate. Which I denied. Right. Would you please respectfully reconsider these? Why would I do that? Because of our history, both romantic and thrice sexual? Twice. Resubmit with proof of business. Names of who you were with, what you talked about, phone numbers I can call to verify. You get a two hour extension based on our history.\",\n",
       "  'id': 'EPISODE_101-477-483'},\n",
       " {'start_time': '00:48:40',\n",
       "  'end_time': '00:49:08',\n",
       "  'episode_title': 'BROKE',\n",
       "  'episode_number': 'EPISODE 101',\n",
       "  'text': \"Right. Would you please respectfully reconsider these? Why would I do that? Because of our history, both romantic and thrice sexual? Twice. Resubmit with proof of business. Names of who you were with, what you talked about, phone numbers I can call to verify. You get a two hour extension based on our history. Right-o. Then we're even. Yeah.\",\n",
       "  'id': 'EPISODE_101-480-486'},\n",
       " {'start_time': '00:48:52',\n",
       "  'end_time': '00:49:23',\n",
       "  'episode_title': 'BROKE',\n",
       "  'episode_number': 'EPISODE 101',\n",
       "  'text': \"Twice. Resubmit with proof of business. Names of who you were with, what you talked about, phone numbers I can call to verify. You get a two hour extension based on our history. Right-o. Then we're even. Yeah. Oh, wow. I know. Scandalous, scandalous exchange. So, yes, Angela is going to give Andy a two hour extension. What is he going to do with that?\",\n",
       "  'id': 'EPISODE_101-483-489'},\n",
       " {'start_time': '00:49:08',\n",
       "  'end_time': '00:49:34',\n",
       "  'episode_title': 'BROKE',\n",
       "  'episode_number': 'EPISODE 101',\n",
       "  'text': \"Yeah. Oh, wow. I know. Scandalous, scandalous exchange. So, yes, Angela is going to give Andy a two hour extension. What is he going to do with that? You'll see. I have the clip. Oh I'm so glad. I'm glad that pays off. Oh, I'm very sad this runner was deleted. I know it was really fun.\",\n",
       "  'id': 'EPISODE_101-486-492'},\n",
       " {'start_time': '00:49:23',\n",
       "  'end_time': '00:49:43',\n",
       "  'episode_title': 'BROKE',\n",
       "  'episode_number': 'EPISODE 101',\n",
       "  'text': \"What is he going to do with that? You'll see. I have the clip. Oh I'm so glad. I'm glad that pays off. Oh, I'm very sad this runner was deleted. I know it was really fun. Now we're going to find out that Dunder Mifflin is going to offer Michael Scott Paper Company a buyout. Yes. So Jim is going to go into Michael Scott Paper Company and give them this news. And Michael is like, what? Why would they want to do that? We're totally broke.\",\n",
       "  'id': 'EPISODE_101-489-495'},\n",
       " {'start_time': '00:49:34',\n",
       "  'end_time': '00:50:17',\n",
       "  'episode_title': 'BROKE',\n",
       "  'episode_number': 'EPISODE 101',\n",
       "  'text': \"I know it was really fun. Now we're going to find out that Dunder Mifflin is going to offer Michael Scott Paper Company a buyout. Yes. So Jim is going to go into Michael Scott Paper Company and give them this news. And Michael is like, what? Why would they want to do that? We're totally broke. And Jim's like, don't- once I hear it, I can't unhear it. So don't say it. And so Michael gets it. Steve has another one of those amazing moments where he comes to a realization very slowly. The three of them are going to go upstairs now to meet, and Ryan and Pam are like, Michael, you cannot say that we are broke. You cannot do it. Are we clear? We are not going to mention that we are broke. And he's like, I got it. I got it. They get in the elevator, the doors open on the next floor and he's like, I don't got it. I, I'm not. I can't do it.\",\n",
       "  'id': 'EPISODE_101-492-498'},\n",
       " {'start_time': '00:49:43',\n",
       "  'end_time': '00:51:13',\n",
       "  'episode_title': 'BROKE',\n",
       "  'episode_number': 'EPISODE 101',\n",
       "  'text': \"So Jim is going to go into Michael Scott Paper Company and give them this news. And Michael is like, what? Why would they want to do that? We're totally broke. And Jim's like, don't- once I hear it, I can't unhear it. So don't say it. And so Michael gets it. Steve has another one of those amazing moments where he comes to a realization very slowly. The three of them are going to go upstairs now to meet, and Ryan and Pam are like, Michael, you cannot say that we are broke. You cannot do it. Are we clear? We are not going to mention that we are broke. And he's like, I got it. I got it. They get in the elevator, the doors open on the next floor and he's like, I don't got it. I, I'm not. I can't do it. I loved it so much. It made me laugh out loud. That's a whole fakey elevator, as everyone knows. We got in the elevator. The guy with the pulleys pulled the rope, pulled the doors, and then we relocated to a completely different building, to the Dunder Mifflin elevator. And we got out, and it is seamless. It looks so good. Oh, that was funny. And then we walk in and Michael has his line that I have seen quoted so many times where he says, Well, well, well, how the turntables... OK, I had to know how that was scripted. So I went to the shooting draft and that line is not in the script. Oh my gosh, we got a fan question about that.\",\n",
       "  'id': 'EPISODE_101-495-501'},\n",
       " {'start_time': '00:50:17',\n",
       "  'end_time': '00:51:32',\n",
       "  'episode_title': 'BROKE',\n",
       "  'episode_number': 'EPISODE 101',\n",
       "  'text': \"Are we clear? We are not going to mention that we are broke. And he's like, I got it. I got it. They get in the elevator, the doors open on the next floor and he's like, I don't got it. I, I'm not. I can't do it. I loved it so much. It made me laugh out loud. That's a whole fakey elevator, as everyone knows. We got in the elevator. The guy with the pulleys pulled the rope, pulled the doors, and then we relocated to a completely different building, to the Dunder Mifflin elevator. And we got out, and it is seamless. It looks so good. Oh, that was funny. And then we walk in and Michael has his line that I have seen quoted so many times where he says, Well, well, well, how the turntables... OK, I had to know how that was scripted. So I went to the shooting draft and that line is not in the script. Oh my gosh, we got a fan question about that. Yeah, I don't know if it was pitched on the fly. You know how sometimes writers would have some pitches? Or have Steve improvised it? I don't know. But in the script, this is what it said. Well, well, well. Oh, how the meteor's fallen. Hmm. And I love the turntables so much better.\",\n",
       "  'id': 'EPISODE_101-498-504'},\n",
       " {'start_time': '00:51:13',\n",
       "  'end_time': '00:51:46',\n",
       "  'episode_title': 'BROKE',\n",
       "  'episode_number': 'EPISODE 101',\n",
       "  'text': \"Oh my gosh, we got a fan question about that. Yeah, I don't know if it was pitched on the fly. You know how sometimes writers would have some pitches? Or have Steve improvised it? I don't know. But in the script, this is what it said. Well, well, well. Oh, how the meteor's fallen. Hmm. And I love the turntables so much better. Turntables is so funny. I know because Michael gets all of his phrases slightly off. And Michael, you know what? I can relate to that. And you still sell-. Frighterday.\",\n",
       "  'id': 'EPISODE_101-501-507'},\n",
       " {'start_time': '00:51:32',\n",
       "  'end_time': '00:52:01',\n",
       "  'episode_title': 'BROKE',\n",
       "  'episode_number': 'EPISODE 101',\n",
       "  'text': \"And I love the turntables so much better. Turntables is so funny. I know because Michael gets all of his phrases slightly off. And Michael, you know what? I can relate to that. And you still sell-. Frighterday. Frighterday. For years I've been saying Frighterday. I've been saying lots of things. I love that when they get into the conference room, Michael immediately rejects their first offer, and he says, Just give me your second offer. Yeah.\",\n",
       "  'id': 'EPISODE_101-504-510'},\n",
       " {'start_time': '00:51:46',\n",
       "  'end_time': '00:52:14',\n",
       "  'episode_title': 'BROKE',\n",
       "  'episode_number': 'EPISODE 101',\n",
       "  'text': \"Frighterday. Frighterday. For years I've been saying Frighterday. I've been saying lots of things. I love that when they get into the conference room, Michael immediately rejects their first offer, and he says, Just give me your second offer. Yeah. And their second offer is a buyout of $12000. Kelly and Angela are trying to eavesdrop. And Kelly has her ear to the door with like a coffee mug. Mindy and I kept laughing. That was so funny.\",\n",
       "  'id': 'EPISODE_101-507-513'},\n",
       " {'start_time': '00:52:01',\n",
       "  'end_time': '00:52:39',\n",
       "  'episode_title': 'BROKE',\n",
       "  'episode_number': 'EPISODE 101',\n",
       "  'text': \"Yeah. And their second offer is a buyout of $12000. Kelly and Angela are trying to eavesdrop. And Kelly has her ear to the door with like a coffee mug. Mindy and I kept laughing. That was so funny. It was so ridiculous. We're so invested in what Charles is doing. We have to be eavesdropping. And you know, I remember Mindy tried a few different things. In the script I asked Kelly, What do you hear? And she actually responds and says, the ocean. But in the episode, we have this. Wah wah wah wah wah wah wah wah wah wah wah. She was so good at it. She was doing Charlie Brown's teacher, right?\",\n",
       "  'id': 'EPISODE_101-510-516'},\n",
       " {'start_time': '00:52:14',\n",
       "  'end_time': '00:52:43',\n",
       "  'episode_title': 'BROKE',\n",
       "  'episode_number': 'EPISODE 101',\n",
       "  'text': \"That was so funny. It was so ridiculous. We're so invested in what Charles is doing. We have to be eavesdropping. And you know, I remember Mindy tried a few different things. In the script I asked Kelly, What do you hear? And she actually responds and says, the ocean. But in the episode, we have this. Wah wah wah wah wah wah wah wah wah wah wah. She was so good at it. She was doing Charlie Brown's teacher, right? It was so funny. We were tickled. Well, Michael is going to reject this offer of $12000. And this is when he is a brilliant negotiator.\",\n",
       "  'id': 'EPISODE_101-513-519'},\n",
       " {'start_time': '00:52:39',\n",
       "  'end_time': '00:52:55',\n",
       "  'episode_title': 'BROKE',\n",
       "  'episode_number': 'EPISODE 101',\n",
       "  'text': \"She was doing Charlie Brown's teacher, right? It was so funny. We were tickled. Well, Michael is going to reject this offer of $12000. And this is when he is a brilliant negotiator. I could not believe it. Do you see the look on Pam's face? I do. Pam is all of us in this moment.\",\n",
       "  'id': 'EPISODE_101-516-522'},\n",
       " {'start_time': '00:52:43',\n",
       "  'end_time': '00:53:18',\n",
       "  'episode_title': 'BROKE',\n",
       "  'episode_number': 'EPISODE 101',\n",
       "  'text': \"Well, Michael is going to reject this offer of $12000. And this is when he is a brilliant negotiator. I could not believe it. Do you see the look on Pam's face? I do. Pam is all of us in this moment. Exactly. So he gets David to give them an offer of $60000. Yes. He's like, Listen, here's how I see it. You're up for approval by the board. And they're probably not going to be too happy that you are losing customers to Michael Scott Paper Company. So you actually need me. Yes. So they say, we'll give you a moment to discuss it. And now we're going to have a scene out at Dwight and Jim's desks. But did you notice behind them? No one is in the conference room and the door is open. It's a total continuity catch. Ryan, Michael and Pam should have been in the background there, and they're not.\",\n",
       "  'id': 'EPISODE_101-519-525'},\n",
       " {'start_time': '00:52:55',\n",
       "  'end_time': '00:53:57',\n",
       "  'episode_title': 'BROKE',\n",
       "  'episode_number': 'EPISODE 101',\n",
       "  'text': \"I do. Pam is all of us in this moment. Exactly. So he gets David to give them an offer of $60000. Yes. He's like, Listen, here's how I see it. You're up for approval by the board. And they're probably not going to be too happy that you are losing customers to Michael Scott Paper Company. So you actually need me. Yes. So they say, we'll give you a moment to discuss it. And now we're going to have a scene out at Dwight and Jim's desks. But did you notice behind them? No one is in the conference room and the door is open. It's a total continuity catch. Ryan, Michael and Pam should have been in the background there, and they're not. Oh, good catch. Yeah. But Dwight gets this phone call from a client saying that Michael Scott Paper Company called them and asked them for more money and they'd like to come back to Dunder Mifflin, and Dwight is going to run into the kitchen and tattle. He's going to tell Charles Michael Scott Paper Company is going broke. And normally Charles would take that information from Dwight and go right into action. But Dwight's been acting so strange to Charles all day, and then Jim capitalizes on that.\",\n",
       "  'id': 'EPISODE_101-522-528'},\n",
       " {'start_time': '00:53:18',\n",
       "  'end_time': '00:54:23',\n",
       "  'episode_title': 'BROKE',\n",
       "  'episode_number': 'EPISODE 101',\n",
       "  'text': \"Yes. So they say, we'll give you a moment to discuss it. And now we're going to have a scene out at Dwight and Jim's desks. But did you notice behind them? No one is in the conference room and the door is open. It's a total continuity catch. Ryan, Michael and Pam should have been in the background there, and they're not. Oh, good catch. Yeah. But Dwight gets this phone call from a client saying that Michael Scott Paper Company called them and asked them for more money and they'd like to come back to Dunder Mifflin, and Dwight is going to run into the kitchen and tattle. He's going to tell Charles Michael Scott Paper Company is going broke. And normally Charles would take that information from Dwight and go right into action. But Dwight's been acting so strange to Charles all day, and then Jim capitalizes on that. Yeah, he kind of baits Dwight into bringing out his full weirdo by sort of heckling him about his ability to solve cases. And Charles is like, You're both morons. Don't go anywhere near the conference room. Here's what I need to bring up about this scene on a practical level. Did you notice where Charles is standing in this scene?\",\n",
       "  'id': 'EPISODE_101-525-531'},\n",
       " {'start_time': '00:53:57',\n",
       "  'end_time': '00:55:23',\n",
       "  'episode_title': 'BROKE',\n",
       "  'episode_number': 'EPISODE 101',\n",
       "  'text': \"And normally Charles would take that information from Dwight and go right into action. But Dwight's been acting so strange to Charles all day, and then Jim capitalizes on that. Yeah, he kind of baits Dwight into bringing out his full weirdo by sort of heckling him about his ability to solve cases. And Charles is like, You're both morons. Don't go anywhere near the conference room. Here's what I need to bring up about this scene on a practical level. Did you notice where Charles is standing in this scene? By the counter? Yes, but very close to the fridge. And through the entire scene, he's got his Saticoy Steel coffee mug and he's got a full coffee pot. Each hand is holding one of these items. Why did he walk so far away from the coffee maker to put his coffee in his mug? Because the coffee maker is over by the door that leads to the office. So this man is saddled with these two coffee items, and I'm just like, Why did he drift? In my mind as an actor I'm having to make up a reason why this happened, so I'm imagining he got the coffee pot and he's starting to pour and he notices something on the fridge. He wants to get a closer look. And then Dwight comes in and he's now stuck with his two coffees. I don't know. It was an odd staging for me and I became distracted. I love it. I love that like this moment pulled you out for a minute. Like as an actor process, you're like, That makes no sense.\",\n",
       "  'id': 'EPISODE_101-528-534'},\n",
       " {'start_time': '00:54:23',\n",
       "  'end_time': '00:55:38',\n",
       "  'episode_title': 'BROKE',\n",
       "  'episode_number': 'EPISODE 101',\n",
       "  'text': \"Here's what I need to bring up about this scene on a practical level. Did you notice where Charles is standing in this scene? By the counter? Yes, but very close to the fridge. And through the entire scene, he's got his Saticoy Steel coffee mug and he's got a full coffee pot. Each hand is holding one of these items. Why did he walk so far away from the coffee maker to put his coffee in his mug? Because the coffee maker is over by the door that leads to the office. So this man is saddled with these two coffee items, and I'm just like, Why did he drift? In my mind as an actor I'm having to make up a reason why this happened, so I'm imagining he got the coffee pot and he's starting to pour and he notices something on the fridge. He wants to get a closer look. And then Dwight comes in and he's now stuck with his two coffees. I don't know. It was an odd staging for me and I became distracted. I love it. I love that like this moment pulled you out for a minute. Like as an actor process, you're like, That makes no sense. I'm like, I need a reason. I need a motivation. Back in the conference room, Michael says no to this very lucrative offer. Yeah. And Pam is like, Can we have another minute? And this is when Michael again makes perfect sense and he says, what we need are jobs. We don't need a buyout. That money's not going to last forever. We need employment. And everyone agrees.\",\n",
       "  'id': 'EPISODE_101-531-537'},\n",
       " {'start_time': '00:55:23',\n",
       "  'end_time': '00:55:56',\n",
       "  'episode_title': 'BROKE',\n",
       "  'episode_number': 'EPISODE 101',\n",
       "  'text': \"I love it. I love that like this moment pulled you out for a minute. Like as an actor process, you're like, That makes no sense. I'm like, I need a reason. I need a motivation. Back in the conference room, Michael says no to this very lucrative offer. Yeah. And Pam is like, Can we have another minute? And this is when Michael again makes perfect sense and he says, what we need are jobs. We don't need a buyout. That money's not going to last forever. We need employment. And everyone agrees. Yes, this is his teach a man to fish moment. Yes. Right?\",\n",
       "  'id': 'EPISODE_101-534-540'},\n",
       " {'start_time': '00:55:38',\n",
       "  'end_time': '00:56:08',\n",
       "  'episode_title': 'BROKE',\n",
       "  'episode_number': 'EPISODE 101',\n",
       "  'text': \"Yeah. And Pam is like, Can we have another minute? And this is when Michael again makes perfect sense and he says, what we need are jobs. We don't need a buyout. That money's not going to last forever. We need employment. And everyone agrees. Yes, this is his teach a man to fish moment. Yes. Right? So when they come back in, that's what Michael is going to say. You have to hire all of us back. And also, in addition to jobs, Michael wants to Sebring again. And his old parking space. But Charles says they don't make Sebrings anymore. Is that true?\",\n",
       "  'id': 'EPISODE_101-537-543'},\n",
       " {'start_time': '00:55:56',\n",
       "  'end_time': '00:56:20',\n",
       "  'episode_title': 'BROKE',\n",
       "  'episode_number': 'EPISODE 101',\n",
       "  'text': \"Right? So when they come back in, that's what Michael is going to say. You have to hire all of us back. And also, in addition to jobs, Michael wants to Sebring again. And his old parking space. But Charles says they don't make Sebrings anymore. Is that true? Lady, you know I had to know. Oh, I'm so glad you looked this up because I didn't look it up and it has been bothering me. All right. Charles is wrong. They are still making the Sebring. This episode aired April of 2009, according to the internet they made the Chrysler Sebring from 1995 to 2010. And in looking up this fact, I ended up watching several Sebring commercials over the years.\",\n",
       "  'id': 'EPISODE_101-540-546'},\n",
       " {'start_time': '00:56:08',\n",
       "  'end_time': '00:57:04',\n",
       "  'episode_title': 'BROKE',\n",
       "  'episode_number': 'EPISODE 101',\n",
       "  'text': \"But Charles says they don't make Sebrings anymore. Is that true? Lady, you know I had to know. Oh, I'm so glad you looked this up because I didn't look it up and it has been bothering me. All right. Charles is wrong. They are still making the Sebring. This episode aired April of 2009, according to the internet they made the Chrysler Sebring from 1995 to 2010. And in looking up this fact, I ended up watching several Sebring commercials over the years. Oh, you really were invested. I think I watched half an hour worth of commercials. Oh my gosh, they made some really interesting choices in their commercials. But there was one I really needed you to hear. It is from 1995. It's the year the car debuted. Can we please play that Sebring commercial? The new Chrysler Sebring was built upon something called the Goldilocks principle. It occurred to us that while most luxury cars were too big, most sport coupes were too small. We wanted the Sebring to be, well, just right. It not only has a sporty 24 valve engine and a race inspired suspension, but it also gives you the luxury of an actual back seat, which means there's enough room for Goldilocks and three or four of her friends.\",\n",
       "  'id': 'EPISODE_101-543-549'},\n",
       " {'start_time': '00:56:20',\n",
       "  'end_time': '00:58:01',\n",
       "  'episode_title': 'BROKE',\n",
       "  'episode_number': 'EPISODE 101',\n",
       "  'text': \"All right. Charles is wrong. They are still making the Sebring. This episode aired April of 2009, according to the internet they made the Chrysler Sebring from 1995 to 2010. And in looking up this fact, I ended up watching several Sebring commercials over the years. Oh, you really were invested. I think I watched half an hour worth of commercials. Oh my gosh, they made some really interesting choices in their commercials. But there was one I really needed you to hear. It is from 1995. It's the year the car debuted. Can we please play that Sebring commercial? The new Chrysler Sebring was built upon something called the Goldilocks principle. It occurred to us that while most luxury cars were too big, most sport coupes were too small. We wanted the Sebring to be, well, just right. It not only has a sporty 24 valve engine and a race inspired suspension, but it also gives you the luxury of an actual back seat, which means there's enough room for Goldilocks and three or four of her friends. OK, I have to say, ok, so Sam is not with us this week. He's on vacation. Jordan is filling in and is like laughing. I can see her laughing at that commercial. Thank you, guys. When watching my half an hour of Chrysler commercials for the Sebring, I'd had a glass of wine. And when we got to this one, I literally did a spit take. I was like, What? And the whole time the car is driving through the woods. OK? Oh, because of Goldilocks.\",\n",
       "  'id': 'EPISODE_101-546-552'},\n",
       " {'start_time': '00:57:04',\n",
       "  'end_time': '00:58:11',\n",
       "  'episode_title': 'BROKE',\n",
       "  'episode_number': 'EPISODE 101',\n",
       "  'text': \"The new Chrysler Sebring was built upon something called the Goldilocks principle. It occurred to us that while most luxury cars were too big, most sport coupes were too small. We wanted the Sebring to be, well, just right. It not only has a sporty 24 valve engine and a race inspired suspension, but it also gives you the luxury of an actual back seat, which means there's enough room for Goldilocks and three or four of her friends. OK, I have to say, ok, so Sam is not with us this week. He's on vacation. Jordan is filling in and is like laughing. I can see her laughing at that commercial. Thank you, guys. When watching my half an hour of Chrysler commercials for the Sebring, I'd had a glass of wine. And when we got to this one, I literally did a spit take. I was like, What? And the whole time the car is driving through the woods. OK? Oh, because of Goldilocks. And the three bears. But when they were like, to fit a few of her friends, I was just like who are these people? That's when Jordan doubled over. Oh my gosh, I had to share that. So yes, they still had the Sebring. They could have given Michael a Sebring in April of 2009.\",\n",
       "  'id': 'EPISODE_101-549-555'},\n",
       " {'start_time': '00:58:01',\n",
       "  'end_time': '00:58:25',\n",
       "  'episode_title': 'BROKE',\n",
       "  'episode_number': 'EPISODE 101',\n",
       "  'text': \"OK? Oh, because of Goldilocks. And the three bears. But when they were like, to fit a few of her friends, I was just like who are these people? That's when Jordan doubled over. Oh my gosh, I had to share that. So yes, they still had the Sebring. They could have given Michael a Sebring in April of 2009. By the way, I want to say, you know, my friend Stacy, who I invented the tan baster with? Yes. She drove a Sebring.\",\n",
       "  'id': 'EPISODE_101-552-558'},\n",
       " {'start_time': '00:58:11',\n",
       "  'end_time': '00:58:38',\n",
       "  'episode_title': 'BROKE',\n",
       "  'episode_number': 'EPISODE 101',\n",
       "  'text': \"Oh my gosh, I had to share that. So yes, they still had the Sebring. They could have given Michael a Sebring in April of 2009. By the way, I want to say, you know, my friend Stacy, who I invented the tan baster with? Yes. She drove a Sebring. Oh. And it was a lovely car. I have to say it was kind of like, they're, right. It was a really nice combination of a sporty coupe, but also roomy. But with a comfortable back seat.\",\n",
       "  'id': 'EPISODE_101-555-561'},\n",
       " {'start_time': '00:58:25',\n",
       "  'end_time': '00:58:43',\n",
       "  'episode_title': 'BROKE',\n",
       "  'episode_number': 'EPISODE 101',\n",
       "  'text': \"She drove a Sebring. Oh. And it was a lovely car. I have to say it was kind of like, they're, right. It was a really nice combination of a sporty coupe, but also roomy. But with a comfortable back seat. I don't know. I never sat in the back seat. Well, Goldilocks would have been happy with it. She could have sat back there. Also, since we brought up Jordan, Jordan did our song parody Total Eclipse of the Fart.\",\n",
       "  'id': 'EPISODE_101-558-564'},\n",
       " {'start_time': '00:58:38',\n",
       "  'end_time': '00:58:56',\n",
       "  'episode_title': 'BROKE',\n",
       "  'episode_number': 'EPISODE 101',\n",
       "  'text': \"But with a comfortable back seat. I don't know. I never sat in the back seat. Well, Goldilocks would have been happy with it. She could have sat back there. Also, since we brought up Jordan, Jordan did our song parody Total Eclipse of the Fart. Yes, that was Jordan who sang that. We're very happy to have you. Thank you for filling in for Sam today. Yes, Sam, I brought cake today. So you missed out on that. I also got it on my sweater as I walked in.\",\n",
       "  'id': 'EPISODE_101-561-567'},\n",
       " {'start_time': '00:58:43',\n",
       "  'end_time': '00:59:10',\n",
       "  'episode_title': 'BROKE',\n",
       "  'episode_number': 'EPISODE 101',\n",
       "  'text': \"She could have sat back there. Also, since we brought up Jordan, Jordan did our song parody Total Eclipse of the Fart. Yes, that was Jordan who sang that. We're very happy to have you. Thank you for filling in for Sam today. Yes, Sam, I brought cake today. So you missed out on that. I also got it on my sweater as I walked in. Yeah, I noticed it right away when you walked in and I thought, I don't know, it's ketchup or something. You thought I had a messy breakfast. I guess I did.\",\n",
       "  'id': 'EPISODE_101-564-570'},\n",
       " {'start_time': '00:58:56',\n",
       "  'end_time': '00:59:15',\n",
       "  'episode_title': 'BROKE',\n",
       "  'episode_number': 'EPISODE 101',\n",
       "  'text': \"Yes, Sam, I brought cake today. So you missed out on that. I also got it on my sweater as I walked in. Yeah, I noticed it right away when you walked in and I thought, I don't know, it's ketchup or something. You thought I had a messy breakfast. I guess I did. I guess I did. I guess I did. I thought it was leftover, maybe from the last time you wore it. Jenna!\",\n",
       "  'id': 'EPISODE_101-567-573'},\n",
       " {'start_time': '00:59:10',\n",
       "  'end_time': '00:59:21',\n",
       "  'episode_title': 'BROKE',\n",
       "  'episode_number': 'EPISODE 101',\n",
       "  'text': \"I guess I did. I guess I did. I guess I did. I thought it was leftover, maybe from the last time you wore it. Jenna! What? I wouldn't leave food on my hoodie and hang it back up. If you didn't notice, you might. Have you never not noticed?\",\n",
       "  'id': 'EPISODE_101-570-576'},\n",
       " {'start_time': '00:59:15',\n",
       "  'end_time': '00:59:39',\n",
       "  'episode_title': 'BROKE',\n",
       "  'episode_number': 'EPISODE 101',\n",
       "  'text': \"Jenna! What? I wouldn't leave food on my hoodie and hang it back up. If you didn't notice, you might. Have you never not noticed? It's a pretty big mark right on my boob. I love that my husband, though, didn't say a word as I walked out. Josh, come on. All right. So back to this episode, would you like to hear how the expense report finished? Yes, please. Because in the script, this is where it would have wrapped up. Angela and Andy, their final scene about the expense report.\",\n",
       "  'id': 'EPISODE_101-573-579'},\n",
       " {'start_time': '00:59:21',\n",
       "  'end_time': '00:59:55',\n",
       "  'episode_title': 'BROKE',\n",
       "  'episode_number': 'EPISODE 101',\n",
       "  'text': \"If you didn't notice, you might. Have you never not noticed? It's a pretty big mark right on my boob. I love that my husband, though, didn't say a word as I walked out. Josh, come on. All right. So back to this episode, would you like to hear how the expense report finished? Yes, please. Because in the script, this is where it would have wrapped up. Angela and Andy, their final scene about the expense report. And now, with no further riddit-dit-ado, my revised expense report-. The deadline's past. What? When?\",\n",
       "  'id': 'EPISODE_101-576-582'},\n",
       " {'start_time': '00:59:39',\n",
       "  'end_time': '01:00:01',\n",
       "  'episode_title': 'BROKE',\n",
       "  'episode_number': 'EPISODE 101',\n",
       "  'text': \"Because in the script, this is where it would have wrapped up. Angela and Andy, their final scene about the expense report. And now, with no further riddit-dit-ado, my revised expense report-. The deadline's past. What? When? When you were saying riddit-dit-do. It's riddit-dit-ado. I know. I've always been such a fan of it.\",\n",
       "  'id': 'EPISODE_101-579-585'},\n",
       " {'start_time': '00:59:55',\n",
       "  'end_time': '01:00:11',\n",
       "  'episode_title': 'BROKE',\n",
       "  'episode_number': 'EPISODE 101',\n",
       "  'text': \"What? When? When you were saying riddit-dit-do. It's riddit-dit-ado. I know. I've always been such a fan of it. Oh, wow! Isn't that so delicious? I'm really sad that got cut.\",\n",
       "  'id': 'EPISODE_101-582-588'},\n",
       " {'start_time': '01:00:01',\n",
       "  'end_time': '01:00:32',\n",
       "  'episode_title': 'BROKE',\n",
       "  'episode_number': 'EPISODE 101',\n",
       "  'text': \"I know. I've always been such a fan of it. Oh, wow! Isn't that so delicious? I'm really sad that got cut. Me too. Oh, and as soon as he was like, ugh, I just turn around and I don't look at him anymore and he has to walk away. Well, I have some news for Angela. This power that she's had is going to go away because Michael, Pam and Ryan get their jobs back. Yep.\",\n",
       "  'id': 'EPISODE_101-585-591'},\n",
       " {'start_time': '01:00:11',\n",
       "  'end_time': '01:00:44',\n",
       "  'episode_title': 'BROKE',\n",
       "  'episode_number': 'EPISODE 101',\n",
       "  'text': \"I'm really sad that got cut. Me too. Oh, and as soon as he was like, ugh, I just turn around and I don't look at him anymore and he has to walk away. Well, I have some news for Angela. This power that she's had is going to go away because Michael, Pam and Ryan get their jobs back. Yep. That's the buyout. The buyout is that they are all now reemployed by Dunder Mifflin. And I guess, is Charles fired? That was never clear to me. No, I don't think he was fired. He's going to show up in company picnic again.\",\n",
       "  'id': 'EPISODE_101-588-594'},\n",
       " {'start_time': '01:00:32',\n",
       "  'end_time': '01:01:02',\n",
       "  'episode_title': 'BROKE',\n",
       "  'episode_number': 'EPISODE 101',\n",
       "  'text': \"Yep. That's the buyout. The buyout is that they are all now reemployed by Dunder Mifflin. And I guess, is Charles fired? That was never clear to me. No, I don't think he was fired. He's going to show up in company picnic again. Yeah, no. My understanding and I reread the script so sort of what I inferred is that he's just getting reassigned. Well, he's going to be out of Scranton, obviously. But originally, Michael says, I want him fired and David's like, I'm not going to do that, Michael. Yeah, no, he's a good employee. He's maybe not a good fit right here in the Scranton branch, but he's going to still have his other branches.\",\n",
       "  'id': 'EPISODE_101-591-597'},\n",
       " {'start_time': '01:00:44',\n",
       "  'end_time': '01:01:12',\n",
       "  'episode_title': 'BROKE',\n",
       "  'episode_number': 'EPISODE 101',\n",
       "  'text': \"He's going to show up in company picnic again. Yeah, no. My understanding and I reread the script so sort of what I inferred is that he's just getting reassigned. Well, he's going to be out of Scranton, obviously. But originally, Michael says, I want him fired and David's like, I'm not going to do that, Michael. Yeah, no, he's a good employee. He's maybe not a good fit right here in the Scranton branch, but he's going to still have his other branches. To manage. To oversee. To manage. That's right. That's how I saw it. OK. Because the whole thing kind of ends with Charles trying to say goodbye. But Michael says, No, no, you're done. And that's the same line that Charles said to Michael in Two Weeks. So this is some good Michael sass.\",\n",
       "  'id': 'EPISODE_101-594-600'},\n",
       " {'start_time': '01:01:02',\n",
       "  'end_time': '01:01:48',\n",
       "  'episode_title': 'BROKE',\n",
       "  'episode_number': 'EPISODE 101',\n",
       "  'text': \"Yeah, no, he's a good employee. He's maybe not a good fit right here in the Scranton branch, but he's going to still have his other branches. To manage. To oversee. To manage. That's right. That's how I saw it. OK. Because the whole thing kind of ends with Charles trying to say goodbye. But Michael says, No, no, you're done. And that's the same line that Charles said to Michael in Two Weeks. So this is some good Michael sass. Yeah. Michael held on to that. He really did. And then there's this talking head by Michael that kind of ends the episode where he's just sort of wrapping up this whole storyline of having had this paper company. And Randy shared with us that this was added later. It was not in the original script. They even shot it about two weeks after we shot the rest of this episode. Do you want to know what was in the original shooting draft?\",\n",
       "  'id': 'EPISODE_101-597-603'},\n",
       " {'start_time': '01:01:12',\n",
       "  'end_time': '01:02:00',\n",
       "  'episode_title': 'BROKE',\n",
       "  'episode_number': 'EPISODE 101',\n",
       "  'text': \"OK. Because the whole thing kind of ends with Charles trying to say goodbye. But Michael says, No, no, you're done. And that's the same line that Charles said to Michael in Two Weeks. So this is some good Michael sass. Yeah. Michael held on to that. He really did. And then there's this talking head by Michael that kind of ends the episode where he's just sort of wrapping up this whole storyline of having had this paper company. And Randy shared with us that this was added later. It was not in the original script. They even shot it about two weeks after we shot the rest of this episode. Do you want to know what was in the original shooting draft? Yes, please. Well, there were two final goodbyes to Charles that got cut. Any guesses who would want to make sure they said goodbye to Charles, Jenna? I'm imagining it was the ladies who had their ear to the door.\",\n",
       "  'id': 'EPISODE_101-600-606'},\n",
       " {'start_time': '01:01:48',\n",
       "  'end_time': '01:02:28',\n",
       "  'episode_title': 'BROKE',\n",
       "  'episode_number': 'EPISODE 101',\n",
       "  'text': \"Do you want to know what was in the original shooting draft? Yes, please. Well, there were two final goodbyes to Charles that got cut. Any guesses who would want to make sure they said goodbye to Charles, Jenna? I'm imagining it was the ladies who had their ear to the door. Who fought over a scarf in the rain? Yes, Angela and Kelly. So in the script, there was this tag. As Charles is leaving, Angela approaches him and she says, it was an honor. And Charles says, OK then. And he leaves. Dwight looks out the window as Kelly waits for Charles, sitting on the hood of his car sexily. Oh my gosh. As Charles approaches, we see Kelly is sitting on the wrong car. She runs over to Charles but doesn't get there in time. She bangs on the window as he drives off. Charles talking head. Never sleep with coworkers, man.\",\n",
       "  'id': 'EPISODE_101-603-609'},\n",
       " {'start_time': '01:02:00',\n",
       "  'end_time': '01:02:46',\n",
       "  'episode_title': 'BROKE',\n",
       "  'episode_number': 'EPISODE 101',\n",
       "  'text': \"I'm imagining it was the ladies who had their ear to the door. Who fought over a scarf in the rain? Yes, Angela and Kelly. So in the script, there was this tag. As Charles is leaving, Angela approaches him and she says, it was an honor. And Charles says, OK then. And he leaves. Dwight looks out the window as Kelly waits for Charles, sitting on the hood of his car sexily. Oh my gosh. As Charles approaches, we see Kelly is sitting on the wrong car. She runs over to Charles but doesn't get there in time. She bangs on the window as he drives off. Charles talking head. Never sleep with coworkers, man. What? Wait, what? That's what it ended with. Wait. Coworkers?\",\n",
       "  'id': 'EPISODE_101-606-612'},\n",
       " {'start_time': '01:02:28',\n",
       "  'end_time': '01:02:54',\n",
       "  'episode_title': 'BROKE',\n",
       "  'episode_number': 'EPISODE 101',\n",
       "  'text': \"As Charles approaches, we see Kelly is sitting on the wrong car. She runs over to Charles but doesn't get there in time. She bangs on the window as he drives off. Charles talking head. Never sleep with coworkers, man. What? Wait, what? That's what it ended with. Wait. Coworkers? That's what it said. Never sleep with coworkers, man. OK. What the heck? That was the ending to this episode. Angela walks up to him, says it was an honor. Kelly tries to sit on his car before he leaves. I don't know.\",\n",
       "  'id': 'EPISODE_101-609-615'},\n",
       " {'start_time': '01:02:46',\n",
       "  'end_time': '01:03:12',\n",
       "  'episode_title': 'BROKE',\n",
       "  'episode_number': 'EPISODE 101',\n",
       "  'text': \"Wait. Coworkers? That's what it said. Never sleep with coworkers, man. OK. What the heck? That was the ending to this episode. Angela walks up to him, says it was an honor. Kelly tries to sit on his car before he leaves. I don't know. Wow. I know. I was like, I have to share that. OK, well, listen, I'll have you know that in a very early draft, like one of the earliest outlines for this episode, there was another tag. Now, this one didn't even make it into the shooting draft.\",\n",
       "  'id': 'EPISODE_101-612-618'},\n",
       " {'start_time': '01:02:54',\n",
       "  'end_time': '01:03:25',\n",
       "  'episode_title': 'BROKE',\n",
       "  'episode_number': 'EPISODE 101',\n",
       "  'text': \"What the heck? That was the ending to this episode. Angela walks up to him, says it was an honor. Kelly tries to sit on his car before he leaves. I don't know. Wow. I know. I was like, I have to share that. OK, well, listen, I'll have you know that in a very early draft, like one of the earliest outlines for this episode, there was another tag. Now, this one didn't even make it into the shooting draft. OK, because I don't know about this one. Listen to this. Milady. Where did you find this?\",\n",
       "  'id': 'EPISODE_101-615-621'},\n",
       " {'start_time': '01:03:12',\n",
       "  'end_time': '01:03:29',\n",
       "  'episode_title': 'BROKE',\n",
       "  'episode_number': 'EPISODE 101',\n",
       "  'text': \"OK, well, listen, I'll have you know that in a very early draft, like one of the earliest outlines for this episode, there was another tag. Now, this one didn't even make it into the shooting draft. OK, because I don't know about this one. Listen to this. Milady. Where did you find this? Randy Cordray, Oh, Randy. Here's what it would have been. And I am so bummed that we did not get to do this. You were going to see Pam, Michael and Ryan packing up Michael Scott Paper Company. And before they go, Michael is going to give them each a Scotty, which is the Michael Scott Paper Company version of a Dundee.\",\n",
       "  'id': 'EPISODE_101-618-624'},\n",
       " {'start_time': '01:03:25',\n",
       "  'end_time': '01:03:54',\n",
       "  'episode_title': 'BROKE',\n",
       "  'episode_number': 'EPISODE 101',\n",
       "  'text': \"Milady. Where did you find this? Randy Cordray, Oh, Randy. Here's what it would have been. And I am so bummed that we did not get to do this. You were going to see Pam, Michael and Ryan packing up Michael Scott Paper Company. And before they go, Michael is going to give them each a Scotty, which is the Michael Scott Paper Company version of a Dundee. Oh, with a little Scottie dog? No, no. Because Michael Scott. Oh. I thought I thought instead of the man with the briefcase who was a little Scottie dog.\",\n",
       "  'id': 'EPISODE_101-621-627'},\n",
       " {'start_time': '01:03:29',\n",
       "  'end_time': '01:04:07',\n",
       "  'episode_title': 'BROKE',\n",
       "  'episode_number': 'EPISODE 101',\n",
       "  'text': \"Here's what it would have been. And I am so bummed that we did not get to do this. You were going to see Pam, Michael and Ryan packing up Michael Scott Paper Company. And before they go, Michael is going to give them each a Scotty, which is the Michael Scott Paper Company version of a Dundee. Oh, with a little Scottie dog? No, no. Because Michael Scott. Oh. I thought I thought instead of the man with the briefcase who was a little Scottie dog. No. I got really excited. It didn't get far enough to know what the statue would be, but they were going to be called Scottie's.\",\n",
       "  'id': 'EPISODE_101-624-630'},\n",
       " {'start_time': '01:03:54',\n",
       "  'end_time': '01:04:21',\n",
       "  'episode_title': 'BROKE',\n",
       "  'episode_number': 'EPISODE 101',\n",
       "  'text': \"Oh. I thought I thought instead of the man with the briefcase who was a little Scottie dog. No. I got really excited. It didn't get far enough to know what the statue would be, but they were going to be called Scottie's. Instead of Dundee's. Instead of Dundee's. And Ryan was going to win one that said great style. And Pam's said boobs. Oh Michael.\",\n",
       "  'id': 'EPISODE_101-627-633'},\n",
       " {'start_time': '01:04:07',\n",
       "  'end_time': '01:04:27',\n",
       "  'episode_title': 'BROKE',\n",
       "  'episode_number': 'EPISODE 101',\n",
       "  'text': \"It didn't get far enough to know what the statue would be, but they were going to be called Scottie's. Instead of Dundee's. Instead of Dundee's. And Ryan was going to win one that said great style. And Pam's said boobs. Oh Michael. So good. Pam got a Scotty. Man, I have my Dundee's both, my whitest sneakers and my longest engagement. And I so wish I had a Scotty that said boobs.\",\n",
       "  'id': 'EPISODE_101-630-636'},\n",
       " {'start_time': '01:04:21',\n",
       "  'end_time': '01:04:40',\n",
       "  'episode_title': 'BROKE',\n",
       "  'episode_number': 'EPISODE 101',\n",
       "  'text': \"Oh Michael. So good. Pam got a Scotty. Man, I have my Dundee's both, my whitest sneakers and my longest engagement. And I so wish I had a Scotty that said boobs. Me too! I have my Dundee's right next to my Emmy and my SAG Awards. I'm so jealous. You have a real Emmy. I know.\",\n",
       "  'id': 'EPISODE_101-633-639'},\n",
       " {'start_time': '01:04:27',\n",
       "  'end_time': '01:04:59',\n",
       "  'episode_title': 'BROKE',\n",
       "  'episode_number': 'EPISODE 101',\n",
       "  'text': \"Man, I have my Dundee's both, my whitest sneakers and my longest engagement. And I so wish I had a Scotty that said boobs. Me too! I have my Dundee's right next to my Emmy and my SAG Awards. I'm so jealous. You have a real Emmy. I know. Angela won an Emmy for the webisodes. The accountants. Me and Brian and Oscar won an Emmy, you guys. It was really amazing. But what sits right next to my Emmy that more people want to point out when they come to my house are my two Dundee's. Tightest ass and she's kind of a bitch. I've said this before. I am really bummed that I did not win an Emmy for Pam for Pam. I wanted our gal Pam to win that award. I'll tell you what award Jenna wants to win.\",\n",
       "  'id': 'EPISODE_101-636-642'},\n",
       " {'start_time': '01:04:40',\n",
       "  'end_time': '01:05:28',\n",
       "  'episode_title': 'BROKE',\n",
       "  'episode_number': 'EPISODE 101',\n",
       "  'text': \"I know. Angela won an Emmy for the webisodes. The accountants. Me and Brian and Oscar won an Emmy, you guys. It was really amazing. But what sits right next to my Emmy that more people want to point out when they come to my house are my two Dundee's. Tightest ass and she's kind of a bitch. I've said this before. I am really bummed that I did not win an Emmy for Pam for Pam. I wanted our gal Pam to win that award. I'll tell you what award Jenna wants to win. What? A Tony Award. So my plan after my kids are grown I am going to retire in New York City, and I am going to work hard to get myself in a great Broadway show. I'm going to give the performance of my life. I will vote for you even though I'm not a registered Tony voter.\",\n",
       "  'id': 'EPISODE_101-639-645'},\n",
       " {'start_time': '01:04:59',\n",
       "  'end_time': '01:05:41',\n",
       "  'episode_title': 'BROKE',\n",
       "  'episode_number': 'EPISODE 101',\n",
       "  'text': \"I've said this before. I am really bummed that I did not win an Emmy for Pam for Pam. I wanted our gal Pam to win that award. I'll tell you what award Jenna wants to win. What? A Tony Award. So my plan after my kids are grown I am going to retire in New York City, and I am going to work hard to get myself in a great Broadway show. I'm going to give the performance of my life. I will vote for you even though I'm not a registered Tony voter. Thank you! And I want to win a Tony. That's the award I want on myself more than any other award. I want that for you so desperately. I hope it can happen.\",\n",
       "  'id': 'EPISODE_101-642-648'},\n",
       " {'start_time': '01:05:28',\n",
       "  'end_time': '01:05:46',\n",
       "  'episode_title': 'BROKE',\n",
       "  'episode_number': 'EPISODE 101',\n",
       "  'text': \"I will vote for you even though I'm not a registered Tony voter. Thank you! And I want to win a Tony. That's the award I want on myself more than any other award. I want that for you so desperately. I hope it can happen. I want a Grammy. Ooh, you aren't a singer? I know.\",\n",
       "  'id': 'EPISODE_101-645-651'},\n",
       " {'start_time': '01:05:41',\n",
       "  'end_time': '01:06:06',\n",
       "  'episode_title': 'BROKE',\n",
       "  'episode_number': 'EPISODE 101',\n",
       "  'text': \"I hope it can happen. I want a Grammy. Ooh, you aren't a singer? I know. Oh, I know. I want a Grammy because guys, Jenna and I recently found out that with our book, we'll be doing an audio book. We're very excited about doing the audio book, and we found out if you really, really crush it, you can get nominated for a Grammy for your audiobook. Amy Poehler got nominated for a Grammy for her audiobook Yes Please.\",\n",
       "  'id': 'EPISODE_101-648-654'},\n",
       " {'start_time': '01:05:46',\n",
       "  'end_time': '01:06:15',\n",
       "  'episode_title': 'BROKE',\n",
       "  'episode_number': 'EPISODE 101',\n",
       "  'text': \"I know. Oh, I know. I want a Grammy because guys, Jenna and I recently found out that with our book, we'll be doing an audio book. We're very excited about doing the audio book, and we found out if you really, really crush it, you can get nominated for a Grammy for your audiobook. Amy Poehler got nominated for a Grammy for her audiobook Yes Please. That's right. Yes, that's right. I want a Grammy. All right. Let's get that effin Grammy. Let's get the Grammy and then get you your Tony.\",\n",
       "  'id': 'EPISODE_101-651-657'},\n",
       " {'start_time': '01:06:06',\n",
       "  'end_time': '01:06:24',\n",
       "  'episode_title': 'BROKE',\n",
       "  'episode_number': 'EPISODE 101',\n",
       "  'text': \"Amy Poehler got nominated for a Grammy for her audiobook Yes Please. That's right. Yes, that's right. I want a Grammy. All right. Let's get that effin Grammy. Let's get the Grammy and then get you your Tony. We're going to get those awards this year. You get an award and you guys get an award because you're bad asses and you get an award and you get an award. Awards all around.\",\n",
       "  'id': 'EPISODE_101-654-660'},\n",
       " {'start_time': '01:06:15',\n",
       "  'end_time': '01:06:29',\n",
       "  'episode_title': 'BROKE',\n",
       "  'episode_number': 'EPISODE 101',\n",
       "  'text': \"Let's get the Grammy and then get you your Tony. We're going to get those awards this year. You get an award and you guys get an award because you're bad asses and you get an award and you get an award. Awards all around. Awards everywhere. This was a great episode. I'm going to make you a Scotty.\",\n",
       "  'id': 'EPISODE_101-657-663'},\n",
       " {'start_time': '01:06:24',\n",
       "  'end_time': '01:06:44',\n",
       "  'episode_title': 'BROKE',\n",
       "  'episode_number': 'EPISODE 101',\n",
       "  'text': \"Awards all around. Awards everywhere. This was a great episode. I'm going to make you a Scotty. Oh, Will you? Is it going to be a Scotty dog? What's it going to be? It will be my interpretation of what a Scotty would be, and I'm going to make it myself. So get ready for a second grade skillset of art and crafting coming your way. I will treasure it.\",\n",
       "  'id': 'EPISODE_101-660-666'},\n",
       " {'start_time': '01:06:29',\n",
       "  'end_time': '01:06:55',\n",
       "  'episode_title': 'BROKE',\n",
       "  'episode_number': 'EPISODE 101',\n",
       "  'text': \"I'm going to make you a Scotty. Oh, Will you? Is it going to be a Scotty dog? What's it going to be? It will be my interpretation of what a Scotty would be, and I'm going to make it myself. So get ready for a second grade skillset of art and crafting coming your way. I will treasure it. I'm going to get out my glue gun. I'm not kidding. I'm going to make this myself. If we gave out awards for our business of Office Ladies, which is actually-. I know it would be called!\",\n",
       "  'id': 'EPISODE_101-663-669'},\n",
       " {'start_time': '01:06:44',\n",
       "  'end_time': '01:06:59',\n",
       "  'episode_title': 'BROKE',\n",
       "  'episode_number': 'EPISODE 101',\n",
       "  'text': \"I will treasure it. I'm going to get out my glue gun. I'm not kidding. I'm going to make this myself. If we gave out awards for our business of Office Ladies, which is actually-. I know it would be called! Rambly's? Oh, I was gonna say-. For our company, Ramble?\",\n",
       "  'id': 'EPISODE_101-666-672'},\n",
       " {'start_time': '01:06:55',\n",
       "  'end_time': '01:07:01',\n",
       "  'episode_title': 'BROKE',\n",
       "  'episode_number': 'EPISODE 101',\n",
       "  'text': \"I know it would be called! Rambly's? Oh, I was gonna say-. For our company, Ramble? A lady. Oh, you get a lady. You get a lady.\",\n",
       "  'id': 'EPISODE_101-669-675'},\n",
       " {'start_time': '01:06:59',\n",
       "  'end_time': '01:07:05',\n",
       "  'episode_title': 'BROKE',\n",
       "  'episode_number': 'EPISODE 101',\n",
       "  'text': \"For our company, Ramble? A lady. Oh, you get a lady. You get a lady. Should we give out ladies? We could give out ladies. OK. Cassi and Jordan are nodding yes. We'll give out some ladies.\",\n",
       "  'id': 'EPISODE_101-672-678'},\n",
       " {'start_time': '01:07:01',\n",
       "  'end_time': '01:07:11',\n",
       "  'episode_title': 'BROKE',\n",
       "  'episode_number': 'EPISODE 101',\n",
       "  'text': \"You get a lady. Should we give out ladies? We could give out ladies. OK. Cassi and Jordan are nodding yes. We'll give out some ladies. Oh, let's do it! All right. All right, you guys. Thank you so much for listening. We just love you all, and thank you for sending in your comments and your questions and being here every week with us. We hope you have a great day.\",\n",
       "  'id': 'EPISODE_101-675-681'},\n",
       " {'start_time': '01:07:05',\n",
       "  'end_time': '01:07:11',\n",
       "  'episode_title': 'BROKE',\n",
       "  'episode_number': 'EPISODE 101',\n",
       "  'text': \"OK. Cassi and Jordan are nodding yes. We'll give out some ladies. Oh, let's do it! All right. All right, you guys. Thank you so much for listening. We just love you all, and thank you for sending in your comments and your questions and being here every week with us. We hope you have a great day.\",\n",
       "  'id': 'EPISODE_101-678-681'},\n",
       " {'start_time': '01:07:11',\n",
       "  'end_time': '01:07:11',\n",
       "  'episode_title': 'BROKE',\n",
       "  'episode_number': 'EPISODE 101',\n",
       "  'text': 'All right, you guys. Thank you so much for listening. We just love you all, and thank you for sending in your comments and your questions and being here every week with us. We hope you have a great day.',\n",
       "  'id': 'EPISODE_101-681-681'}]"
      ]
     },
     "execution_count": 14,
     "metadata": {},
     "output_type": "execute_result"
    }
   ],
   "source": [
    "all_episodes_segments[100]"
   ]
  },
  {
   "cell_type": "code",
   "execution_count": 15,
   "metadata": {},
   "outputs": [],
   "source": [
    "from sentence_transformers import SentenceTransformer"
   ]
  },
  {
   "cell_type": "code",
   "execution_count": 16,
   "metadata": {},
   "outputs": [],
   "source": [
    "model_id = \"multi-qa-MiniLM-L6-cos-v1\"\n",
    "sentence_transformer_model = SentenceTransformer(model_id)"
   ]
  },
  {
   "cell_type": "code",
   "execution_count": 17,
   "metadata": {},
   "outputs": [
    {
     "data": {
      "text/plain": [
       "384"
      ]
     },
     "execution_count": 17,
     "metadata": {},
     "output_type": "execute_result"
    }
   ],
   "source": [
    "sentence_transformer_model.get_sentence_embedding_dimension()"
   ]
  },
  {
   "cell_type": "code",
   "execution_count": 18,
   "metadata": {},
   "outputs": [],
   "source": [
    "batch_text = [segment['text'] for segment in all_episodes_segments[0]]"
   ]
  },
  {
   "cell_type": "code",
   "execution_count": 19,
   "metadata": {},
   "outputs": [
    {
     "data": {
      "text/plain": [
       "154"
      ]
     },
     "execution_count": 19,
     "metadata": {},
     "output_type": "execute_result"
    }
   ],
   "source": [
    "len(batch_text)"
   ]
  },
  {
   "cell_type": "code",
   "execution_count": 20,
   "metadata": {},
   "outputs": [
    {
     "data": {
      "text/plain": [
       "\"Hi, this is Angela Kinsey. And this is our very first Office Ladies podcast. I am so excited, Jenna! I am so excited. I'm a little bit freaking out. I'm freaking out. We hope you guys like it. We have been working really hard. This is a dream we've had for years of getting to work together again. Yes.\""
      ]
     },
     "execution_count": 20,
     "metadata": {},
     "output_type": "execute_result"
    }
   ],
   "source": [
    "batch_text[0]"
   ]
  },
  {
   "cell_type": "code",
   "execution_count": 21,
   "metadata": {},
   "outputs": [
    {
     "data": {
      "application/vnd.jupyter.widget-view+json": {
       "model_id": "ac7507c76a67400990d7eb787ec8d44d",
       "version_major": 2,
       "version_minor": 0
      },
      "text/plain": [
       "Batches:   0%|          | 0/5 [00:00<?, ?it/s]"
      ]
     },
     "metadata": {},
     "output_type": "display_data"
    }
   ],
   "source": [
    "batch_embeddings = sentence_transformer_model.encode(batch_text, show_progress_bar=True).tolist()"
   ]
  },
  {
   "cell_type": "code",
   "execution_count": 22,
   "metadata": {},
   "outputs": [
    {
     "data": {
      "text/plain": [
       "154"
      ]
     },
     "execution_count": 22,
     "metadata": {},
     "output_type": "execute_result"
    }
   ],
   "source": [
    "len(batch_embeddings)"
   ]
  },
  {
   "cell_type": "code",
   "execution_count": 23,
   "metadata": {},
   "outputs": [
    {
     "data": {
      "text/plain": [
       "384"
      ]
     },
     "execution_count": 23,
     "metadata": {},
     "output_type": "execute_result"
    }
   ],
   "source": [
    "len(batch_embeddings[0])"
   ]
  }
 ],
 "metadata": {
  "kernelspec": {
   "display_name": "office-ladies-podcast-search",
   "language": "python",
   "name": "python3"
  },
  "language_info": {
   "codemirror_mode": {
    "name": "ipython",
    "version": 3
   },
   "file_extension": ".py",
   "mimetype": "text/x-python",
   "name": "python",
   "nbconvert_exporter": "python",
   "pygments_lexer": "ipython3",
   "version": "3.10.10"
  },
  "orig_nbformat": 4
 },
 "nbformat": 4,
 "nbformat_minor": 2
}
