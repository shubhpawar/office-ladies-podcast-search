{
 "cells": [
  {
   "cell_type": "code",
   "execution_count": 2,
   "metadata": {},
   "outputs": [],
   "source": [
    "from tqdm.autonotebook import tqdm\n",
    "from getpass import getpass\n",
    "\n",
    "PINECONE_API_KEY = getpass('Enter PINECONE_API_KEY')"
   ]
  },
  {
   "cell_type": "code",
   "execution_count": 3,
   "metadata": {},
   "outputs": [],
   "source": [
    "import pinecone\n",
    "\n",
    "pinecone.init(\n",
    "    api_key=PINECONE_API_KEY,\n",
    "    environment=\"us-west4-gcp\"\n",
    ")"
   ]
  },
  {
   "attachments": {},
   "cell_type": "markdown",
   "metadata": {},
   "source": [
    "## Pinecone Index Creation"
   ]
  },
  {
   "cell_type": "code",
   "execution_count": 4,
   "metadata": {},
   "outputs": [],
   "source": [
    "index_name = \"shubhams-index\"\n",
    "\n",
    "if index_name not in pinecone.list_indexes():\n",
    "    pinecone.create_index(\n",
    "        name=index_name,\n",
    "        dimension=384,\n",
    "        metric=\"cosine\",\n",
    "        pods=1,\n",
    "        pod_type=\"s1.x1\",\n",
    "        metadata_config={\"indexed\": [\"episode_title\"]}\n",
    "    )"
   ]
  },
  {
   "cell_type": "code",
   "execution_count": 8,
   "metadata": {},
   "outputs": [
    {
     "data": {
      "text/plain": [
       "{'dimension': 384,\n",
       " 'index_fullness': 0.0,\n",
       " 'namespaces': {'': {'vector_count': 30987}},\n",
       " 'total_vector_count': 30987}"
      ]
     },
     "execution_count": 8,
     "metadata": {},
     "output_type": "execute_result"
    }
   ],
   "source": [
    "index = pinecone.Index(index_name)\n",
    "index.describe_index_stats()"
   ]
  },
  {
   "attachments": {},
   "cell_type": "markdown",
   "metadata": {},
   "source": [
    "## Querying"
   ]
  },
  {
   "cell_type": "code",
   "execution_count": 6,
   "metadata": {},
   "outputs": [],
   "source": [
    "from sentence_transformers import SentenceTransformer\n",
    "\n",
    "MODEL_NAME = \"multi-qa-MiniLM-L6-cos-v1\"\n",
    "sentence_transformer_model = SentenceTransformer(MODEL_NAME)"
   ]
  },
  {
   "cell_type": "code",
   "execution_count": 22,
   "metadata": {},
   "outputs": [],
   "source": [
    "def query_index(index_name, query, episode_title=None, num_results=5):\n",
    "    index = pinecone.Index(index_name)\n",
    "\n",
    "    # Embed the query\n",
    "    print(f\"Query: {query}\")\n",
    "    query_embedding = sentence_transformer_model.encode(query, show_progress_bar=False).tolist()\n",
    "\n",
    "    metadata_filter = {\"episode_title\": {\"$eq\": episode_title}} if episode_title else None\n",
    "\n",
    "    results = index.query(query_embedding, top_k=num_results, include_metadata=True, filter=metadata_filter)\n",
    "    return results"
   ]
  },
  {
   "cell_type": "code",
   "execution_count": 23,
   "metadata": {},
   "outputs": [
    {
     "name": "stdout",
     "output_type": "stream",
     "text": [
      "Query: How many episodes of The Office did Mindy Kaling write?\n"
     ]
    },
    {
     "data": {
      "text/plain": [
       "{'matches': [{'id': 'EPISODE_6-12-18',\n",
       "              'metadata': {'end_time': datetime.datetime(2023, 3, 28, 0, 1, 47),\n",
       "                           'episode_number': 'EPISODE 6',\n",
       "                           'episode_title': 'HOT GIRL',\n",
       "                           'start_time': datetime.datetime(2023, 3, 28, 0, 1, 20),\n",
       "                           'text': 'I know you want to. You know my fast fact '\n",
       "                                   'number one, this is the first episode '\n",
       "                                   'written by Mindy Kaling. Yes. Mindy '\n",
       "                                   'Kaling. So smart, so funny. And she was '\n",
       "                                   'one of our most prolific writers on The '\n",
       "                                   'Office. She wrote a total of twenty two '\n",
       "                                   \"episodes. Wow. I know. That's like, she \"\n",
       "                                   'wrote an entire season of The Office of '\n",
       "                                   \"our nine because the season's usually \"\n",
       "                                   'about 22, 24 episodes. I have a fan '\n",
       "                                   'question about Mindy. This is from Bear. '\n",
       "                                   'Hi, Bear.'},\n",
       "              'score': 0.841626644,\n",
       "              'values': []},\n",
       "             {'id': 'EPISODE_6-15-21',\n",
       "              'metadata': {'end_time': datetime.datetime(2023, 3, 28, 0, 1, 56),\n",
       "                           'episode_number': 'EPISODE 6',\n",
       "                           'episode_title': 'HOT GIRL',\n",
       "                           'start_time': datetime.datetime(2023, 3, 28, 0, 1, 35),\n",
       "                           'text': \"Wow. I know. That's like, she wrote an \"\n",
       "                                   'entire season of The Office of our nine '\n",
       "                                   \"because the season's usually about 22, 24 \"\n",
       "                                   'episodes. I have a fan question about '\n",
       "                                   'Mindy. This is from Bear. Hi, Bear. Yes, '\n",
       "                                   'Bear asked: This episode was written by '\n",
       "                                   'Mindy Kaling. What was it like to work '\n",
       "                                   'with her as a writer versus an actor? Oh, '\n",
       "                                   'Bear, good question. I know. You know '\n",
       "                                   'what? I loved when Mindy was the writer of '\n",
       "                                   'the episode. Because the writer of the '\n",
       "                                   'episode on our show would stay on set all '\n",
       "                                   'week and produce their episode with the '\n",
       "                                   'director. So they kind of worked very side '\n",
       "                                   'by side with the director.'},\n",
       "              'score': 0.697619557,\n",
       "              'values': []},\n",
       "             {'id': 'EPISODE_6-9-15',\n",
       "              'metadata': {'end_time': datetime.datetime(2023, 3, 28, 0, 1, 35),\n",
       "                           'episode_number': 'EPISODE 6',\n",
       "                           'episode_title': 'HOT GIRL',\n",
       "                           'start_time': datetime.datetime(2023, 3, 28, 0, 1, 12),\n",
       "                           'text': 'And yet so loaded. This was really a big '\n",
       "                                   'Pam episode. It really was. So shall we '\n",
       "                                   'start with some fast facts then? I know '\n",
       "                                   'you want to. You know my fast fact number '\n",
       "                                   'one, this is the first episode written by '\n",
       "                                   'Mindy Kaling. Yes. Mindy Kaling. So smart, '\n",
       "                                   'so funny. And she was one of our most '\n",
       "                                   'prolific writers on The Office. She wrote '\n",
       "                                   'a total of twenty two episodes. Wow.'},\n",
       "              'score': 0.693496287,\n",
       "              'values': []},\n",
       "             {'id': 'EPISODE_50-9-15',\n",
       "              'metadata': {'end_time': datetime.datetime(2023, 3, 28, 0, 1, 34),\n",
       "                           'episode_number': 'EPISODE 50',\n",
       "                           'episode_title': 'PRODUCT RECALL',\n",
       "                           'start_time': datetime.datetime(2023, 3, 28, 0, 1, 6),\n",
       "                           'text': 'Did you know that Randall directed the '\n",
       "                                   'most episodes of \"The Office\"? No, I did '\n",
       "                                   'not. Crazy, right? I think he did 15. That '\n",
       "                                   'is so wild. Well, I love that even more. '\n",
       "                                   'Well, I am ready for a summary, Angela. '\n",
       "                                   \"But I've got a little special something. \"\n",
       "                                   'Sam?  That is so adorable.'},\n",
       "              'score': 0.594688416,\n",
       "              'values': []},\n",
       "             {'id': 'EPISODE_90-63-69',\n",
       "              'metadata': {'end_time': datetime.datetime(2023, 3, 28, 0, 5, 7),\n",
       "                           'episode_number': 'EPISODE 90',\n",
       "                           'episode_title': 'STRESS RELIEF',\n",
       "                           'start_time': datetime.datetime(2023, 3, 28, 0, 4, 44),\n",
       "                           'text': 'That is a big number. But it was. Twenty '\n",
       "                                   'two point nine million people. No way! '\n",
       "                                   'Holy smokes! yeah, so it is definitely the '\n",
       "                                   'most watched episode of The Office and '\n",
       "                                   \"it's also the only episode of The Office \"\n",
       "                                   'to ever reach over 20 million viewers. '\n",
       "                                   'Wow. But now I have another question for '\n",
       "                                   'you. Oh, no. Is it more guessing number '\n",
       "                                   \"stuff? It's more guessing.\"},\n",
       "              'score': 0.56839478,\n",
       "              'values': []}],\n",
       " 'namespace': ''}"
      ]
     },
     "execution_count": 23,
     "metadata": {},
     "output_type": "execute_result"
    }
   ],
   "source": [
    "query_index(index_name, \"How many episodes of The Office did Mindy Kaling write?\")"
   ]
  },
  {
   "cell_type": "code",
   "execution_count": 24,
   "metadata": {},
   "outputs": [
    {
     "name": "stdout",
     "output_type": "stream",
     "text": [
      "Query: What was the most expensive scene to film?\n"
     ]
    },
    {
     "data": {
      "text/plain": [
       "{'matches': [{'id': 'Episode_151-459-465',\n",
       "              'metadata': {'end_time': datetime.datetime(2023, 3, 28, 1, 12, 6),\n",
       "                           'episode_number': 'Episode 151',\n",
       "                           'episode_title': 'Threat Level Midnight with B.J. '\n",
       "                                            'Novak',\n",
       "                           'start_time': datetime.datetime(2023, 3, 28, 1, 11, 13),\n",
       "                           'text': 'I know. They had to build a whole entire '\n",
       "                                   \"gas station in a freeway. Yes, you're \"\n",
       "                                   'right, Angela. The Jim Pam proposal scene. '\n",
       "                                   'Randi told us it cost $177,000 for 40 '\n",
       "                                   'seconds of screen time, 40 seconds. He '\n",
       "                                   'said the second most expensive would '\n",
       "                                   'probably go to filming on the boat in '\n",
       "                                   'Niagara Falls, especially if you include '\n",
       "                                   'all the travel and location expenses to '\n",
       "                                   'get there. And Anna, as far as the most '\n",
       "                                   'expensive scene in the episode on the '\n",
       "                                   'commentary, B.J. said definitely he '\n",
       "                                   'thought it was the Toby explosion. But '\n",
       "                                   \"Randy said that's not accurate. Oh, \"\n",
       "                                   'really? Really. Randy thinks the sequence '\n",
       "                                   'of scenes at the Funky Cat Bar were more '\n",
       "                                   'expensive because included all of these '\n",
       "                                   'elements the music, the choreography, the '\n",
       "                                   'extras, the costumes, the set dressing, '\n",
       "                                   'all the signage, the locations and the '\n",
       "                                   'guest stars. Oh, yeah, that makes sense. '\n",
       "                                   \"Mm hmm. So, funky cat Wen's most expensive \"\n",
       "                                   'scene.'},\n",
       "              'score': 0.554675,\n",
       "              'values': []},\n",
       "             {'id': 'Episode_151-453-459',\n",
       "              'metadata': {'end_time': datetime.datetime(2023, 3, 28, 1, 11, 13),\n",
       "                           'episode_number': 'Episode 151',\n",
       "                           'episode_title': 'Threat Level Midnight with B.J. '\n",
       "                                            'Novak',\n",
       "                           'start_time': datetime.datetime(2023, 3, 28, 1, 10, 27),\n",
       "                           'text': 'Back at the stadium. Our hostage, Sandra, '\n",
       "                                   'played by Pam. Yes. Is going to beg golden '\n",
       "                                   \"face to let them all go. But it doesn't. \"\n",
       "                                   'Work. No. In fact, he decides to take out '\n",
       "                                   'a hostage. Toby? Yeah. He needs to show '\n",
       "                                   'how serious he is. We had a fan question '\n",
       "                                   'from Amity in Peoria, Illinois. In this '\n",
       "                                   'episode, Michael says that the scene with '\n",
       "                                   \"Toby's head explosion was the most \"\n",
       "                                   'expensive among all the scenes in the '\n",
       "                                   \"movie. And I'm wondering which scene was \"\n",
       "                                   'the most expensive that you shot in the '\n",
       "                                   'whole series of the office? And which one '\n",
       "                                   'was the most expensive for this episode? '\n",
       "                                   'Well, as far as being the most expensive '\n",
       "                                   'in the whole series, I. Have a guess. Yes. '\n",
       "                                   'I know. They had to build a whole entire '\n",
       "                                   'gas station in a freeway.'},\n",
       "              'score': 0.529037118,\n",
       "              'values': []},\n",
       "             {'id': 'EPISODE_81-480-486',\n",
       "              'metadata': {'end_time': datetime.datetime(2023, 3, 28, 0, 57, 23),\n",
       "                           'episode_number': 'EPISODE 81',\n",
       "                           'episode_title': 'CRIME AID',\n",
       "                           'start_time': datetime.datetime(2023, 3, 28, 0, 56, 54),\n",
       "                           'text': 'I certainly learned a lot this episode. '\n",
       "                                   'For example, Groupon doing crazy surveys. '\n",
       "                                   'Yeah, very crazy surveys. And we know the '\n",
       "                                   'most expensive used tissue ever sold at '\n",
       "                                   'auction that I could find. Mm hmm. There '\n",
       "                                   'could be more. There could be more. But as '\n",
       "                                   'far as I could find, that record goes to '\n",
       "                                   'Scarlett Johansson. Congratulations, '\n",
       "                                   'Scarlett. And in Crime Aid, the most '\n",
       "                                   'expensive item sold goes to Phyllis. Way '\n",
       "                                   'to go Phyllis.'},\n",
       "              'score': 0.483573318,\n",
       "              'values': []},\n",
       "             {'id': 'EPISODE_81-384-390',\n",
       "              'metadata': {'end_time': datetime.datetime(2023, 3, 28, 0, 45, 35),\n",
       "                           'episode_number': 'EPISODE 81',\n",
       "                           'episode_title': 'CRIME AID',\n",
       "                           'start_time': datetime.datetime(2023, 3, 28, 0, 45, 9),\n",
       "                           'text': 'Jeff Koons actually has two of the top '\n",
       "                                   'five items that were most expensive for a '\n",
       "                                   'living artist. Also, his dog sculpture, '\n",
       "                                   'his like balloon dog. Wow. The most '\n",
       "                                   'expensive dress ever sold at an auction. '\n",
       "                                   'Ooh can, I guess? Yes. Was it either '\n",
       "                                   'Audrey Hepburn or like Princess Diana? '\n",
       "                                   \"It's Marilyn Monroe.\"},\n",
       "              'score': 0.482785612,\n",
       "              'values': []},\n",
       "             {'id': 'Episode_151-456-462',\n",
       "              'metadata': {'end_time': datetime.datetime(2023, 3, 28, 1, 11, 48),\n",
       "                           'episode_number': 'Episode 151',\n",
       "                           'episode_title': 'Threat Level Midnight with B.J. '\n",
       "                                            'Novak',\n",
       "                           'start_time': datetime.datetime(2023, 3, 28, 1, 10, 41),\n",
       "                           'text': 'Yeah. He needs to show how serious he is. '\n",
       "                                   'We had a fan question from Amity in '\n",
       "                                   'Peoria, Illinois. In this episode, Michael '\n",
       "                                   \"says that the scene with Toby's head \"\n",
       "                                   'explosion was the most expensive among all '\n",
       "                                   \"the scenes in the movie. And I'm wondering \"\n",
       "                                   'which scene was the most expensive that '\n",
       "                                   'you shot in the whole series of the '\n",
       "                                   'office? And which one was the most '\n",
       "                                   'expensive for this episode? Well, as far '\n",
       "                                   'as being the most expensive in the whole '\n",
       "                                   'series, I. Have a guess. Yes. I know. They '\n",
       "                                   'had to build a whole entire gas station in '\n",
       "                                   \"a freeway. Yes, you're right, Angela. The \"\n",
       "                                   'Jim Pam proposal scene. Randi told us it '\n",
       "                                   'cost $177,000 for 40 seconds of screen '\n",
       "                                   'time, 40 seconds. He said the second most '\n",
       "                                   'expensive would probably go to filming on '\n",
       "                                   'the boat in Niagara Falls, especially if '\n",
       "                                   'you include all the travel and location '\n",
       "                                   'expenses to get there. And Anna, as far as '\n",
       "                                   'the most expensive scene in the episode on '\n",
       "                                   'the commentary, B.J. said definitely he '\n",
       "                                   'thought it was the Toby explosion. But '\n",
       "                                   \"Randy said that's not accurate. Oh, \"\n",
       "                                   'really?'},\n",
       "              'score': 0.454568416,\n",
       "              'values': []}],\n",
       " 'namespace': ''}"
      ]
     },
     "execution_count": 24,
     "metadata": {},
     "output_type": "execute_result"
    }
   ],
   "source": [
    "query_index(index_name, \"What was the most expensive scene to film?\")"
   ]
  }
 ],
 "metadata": {
  "kernelspec": {
   "display_name": "office-ladies-podcast-search",
   "language": "python",
   "name": "python3"
  },
  "language_info": {
   "codemirror_mode": {
    "name": "ipython",
    "version": 3
   },
   "file_extension": ".py",
   "mimetype": "text/x-python",
   "name": "python",
   "nbconvert_exporter": "python",
   "pygments_lexer": "ipython3",
   "version": "3.10.10"
  },
  "orig_nbformat": 4
 },
 "nbformat": 4,
 "nbformat_minor": 2
}
